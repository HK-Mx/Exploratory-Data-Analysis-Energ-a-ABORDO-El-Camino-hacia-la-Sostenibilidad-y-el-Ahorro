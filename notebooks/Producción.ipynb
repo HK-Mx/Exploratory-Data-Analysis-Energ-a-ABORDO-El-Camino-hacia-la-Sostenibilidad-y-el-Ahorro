{
 "cells": [
  {
   "cell_type": "markdown",
   "id": "54dcac7f",
   "metadata": {},
   "source": [
    "# Análisis Exploratorio de Datos (EDA) para Grupo ABORDO\n",
    "\n",
    "## Optimización de Beneficios y Reducción de Costes Energéticos\n",
    "\n",
    "**Objetivo:** Este análisis busca identificar las familias y productos más rentables dentro del Grupo ABORDO para maximizar los beneficios. Además, se exploran estrategias para reducir los gastos operativos, con un enfoque particular en el ***consumo eléctrico de los congeladores industriales*** en el almacén central de Paiporta, dada la expectativa de un aumento en el precio de la luz."
   ]
  },
  {
   "cell_type": "markdown",
   "id": "130dc195",
   "metadata": {},
   "source": [
    "### El [archivo](https://docs.google.com/spreadsheets/d/14GbC2OLXKUkejRVIfvkAKwYINALSF7pO/edit?usp=sharing&ouid=106728123074278087798&rtpof=true&sd=true) contiene información organizada en 2040 registros con las siguientes variables:\n",
    "\n",
    "\n",
    "* __Familia:__ Código numérico que agrupa productos en grandes categorías, como \"VERDURAS\". \n",
    "\n",
    "* __Grupo Exp.:__\tCódigo del grupo de productos, probablemente con fines comerciales o logísticos.\n",
    "\n",
    "* __(Descripción del Grupo):__\tNombre del grupo, que describe el tipo o formato del producto (e.g., \"MONOPRODUCTO - Formato Horeca\").\n",
    "\n",
    "* __Artículo:__\tCódigo numérico del producto específico.\n",
    "\n",
    "* __Descripción del Artículo:__\tNombre detallado del producto (e.g., \"CEBOLLA TROC. 10x10 B/1KG\").\n",
    "\n",
    "* __Tipo Venta:__\tUnidad de venta del producto (por ejemplo, \"UND\" para unidad)."
   ]
  },
  {
   "cell_type": "markdown",
   "id": "700efaf0",
   "metadata": {},
   "source": [
    "### Importar librerias necesarias:"
   ]
  },
  {
   "cell_type": "code",
   "execution_count": 2,
   "id": "56cdbf4b",
   "metadata": {},
   "outputs": [],
   "source": [
    "import pandas as pd \n",
    "import numpy as np \n",
    "from pathlib import Path \n",
    "import plotly.express as px \n",
    "import plotly.graph_objects as go \n",
    "import matplotlib.pyplot as plt\n",
    "import seaborn as sns"
   ]
  },
  {
   "cell_type": "markdown",
   "id": "19cec001",
   "metadata": {},
   "source": [
    "### Limpieza y preparación del DataFrame:\n",
    "\n",
    "\n"
   ]
  },
  {
   "cell_type": "code",
   "execution_count": 3,
   "id": "9ff62e9f",
   "metadata": {},
   "outputs": [
    {
     "data": {
      "text/html": [
       "<div>\n",
       "<style scoped>\n",
       "    .dataframe tbody tr th:only-of-type {\n",
       "        vertical-align: middle;\n",
       "    }\n",
       "\n",
       "    .dataframe tbody tr th {\n",
       "        vertical-align: top;\n",
       "    }\n",
       "\n",
       "    .dataframe thead th {\n",
       "        text-align: right;\n",
       "    }\n",
       "</style>\n",
       "<table border=\"1\" class=\"dataframe\">\n",
       "  <thead>\n",
       "    <tr style=\"text-align: right;\">\n",
       "      <th></th>\n",
       "      <th>Familia</th>\n",
       "      <th>Grupo</th>\n",
       "      <th>ID</th>\n",
       "      <th>Producto</th>\n",
       "      <th>Formato_Venta</th>\n",
       "      <th>Coste (€)</th>\n",
       "      <th>Precio de venta (€)</th>\n",
       "    </tr>\n",
       "  </thead>\n",
       "  <tbody>\n",
       "    <tr>\n",
       "      <th>1</th>\n",
       "      <td>VERDURAS</td>\n",
       "      <td>MEZCLAS 400 gr (Formato pequeño tienda)</td>\n",
       "      <td>309</td>\n",
       "      <td>CN-ENSALADILLA RUSA B/400GR (LG)</td>\n",
       "      <td>UND</td>\n",
       "      <td>2.60</td>\n",
       "      <td>24.40</td>\n",
       "    </tr>\n",
       "    <tr>\n",
       "      <th>2</th>\n",
       "      <td>VERDURAS</td>\n",
       "      <td>MEZCLAS 400 gr (Formato pequeño tienda)</td>\n",
       "      <td>810</td>\n",
       "      <td>VERDURA PAELLA B/400GR</td>\n",
       "      <td>UND</td>\n",
       "      <td>10.81</td>\n",
       "      <td>28.62</td>\n",
       "    </tr>\n",
       "    <tr>\n",
       "      <th>3</th>\n",
       "      <td>VERDURAS</td>\n",
       "      <td>MONOPRODUCTO - Formato Horeca</td>\n",
       "      <td>8051</td>\n",
       "      <td>CEBOLLA TROC. 10x10 B/1KG</td>\n",
       "      <td>UND</td>\n",
       "      <td>13.20</td>\n",
       "      <td>16.70</td>\n",
       "    </tr>\n",
       "    <tr>\n",
       "      <th>4</th>\n",
       "      <td>VERDURAS</td>\n",
       "      <td>MONOPRODUCTO - Formato Horeca</td>\n",
       "      <td>8057</td>\n",
       "      <td>CN-MEZCLA SOFRITO 1KG</td>\n",
       "      <td>UND</td>\n",
       "      <td>11.68</td>\n",
       "      <td>60.72</td>\n",
       "    </tr>\n",
       "    <tr>\n",
       "      <th>5</th>\n",
       "      <td>VERDURAS</td>\n",
       "      <td>MONOPRODUCTO - Formato Horeca</td>\n",
       "      <td>8019</td>\n",
       "      <td>GUISANTES EXTRA FINOS 1 KG</td>\n",
       "      <td>UND</td>\n",
       "      <td>3.71</td>\n",
       "      <td>21.63</td>\n",
       "    </tr>\n",
       "    <tr>\n",
       "      <th>6</th>\n",
       "      <td>VERDURAS</td>\n",
       "      <td>MONOPRODUCTO - Formato Horeca</td>\n",
       "      <td>8020</td>\n",
       "      <td>GARROFON PRECOCIDO 1 KG</td>\n",
       "      <td>UND</td>\n",
       "      <td>0.76</td>\n",
       "      <td>12.78</td>\n",
       "    </tr>\n",
       "    <tr>\n",
       "      <th>7</th>\n",
       "      <td>VERDURAS</td>\n",
       "      <td>MONOPRODUCTO - Formato Horeca</td>\n",
       "      <td>8022</td>\n",
       "      <td>HABAS BABY B/1 KG-(NCNAL)</td>\n",
       "      <td>UND</td>\n",
       "      <td>14.35</td>\n",
       "      <td>35.70</td>\n",
       "    </tr>\n",
       "    <tr>\n",
       "      <th>8</th>\n",
       "      <td>VERDURAS</td>\n",
       "      <td>MONOPRODUCTO - Formato Horeca</td>\n",
       "      <td>8024</td>\n",
       "      <td>JUDIA-VERDE PLANA 1 KG</td>\n",
       "      <td>UND</td>\n",
       "      <td>0.98</td>\n",
       "      <td>17.92</td>\n",
       "    </tr>\n",
       "    <tr>\n",
       "      <th>9</th>\n",
       "      <td>VERDURAS</td>\n",
       "      <td>MONOPRODUCTO - Formato Horeca</td>\n",
       "      <td>8025</td>\n",
       "      <td>JUDIA VERDE RED-TROCEADA 1 KG</td>\n",
       "      <td>UND</td>\n",
       "      <td>12.65</td>\n",
       "      <td>48.45</td>\n",
       "    </tr>\n",
       "    <tr>\n",
       "      <th>10</th>\n",
       "      <td>VERDURAS</td>\n",
       "      <td>MONOPRODUCTO - Formato Horeca</td>\n",
       "      <td>8026</td>\n",
       "      <td>JUDIA MUY FINA ENTERA  B/1KG</td>\n",
       "      <td>UND</td>\n",
       "      <td>12.02</td>\n",
       "      <td>62.08</td>\n",
       "    </tr>\n",
       "  </tbody>\n",
       "</table>\n",
       "</div>"
      ],
      "text/plain": [
       "     Familia                                    Grupo    ID  \\\n",
       "1   VERDURAS  MEZCLAS 400 gr (Formato pequeño tienda)   309   \n",
       "2   VERDURAS  MEZCLAS 400 gr (Formato pequeño tienda)   810   \n",
       "3   VERDURAS            MONOPRODUCTO - Formato Horeca  8051   \n",
       "4   VERDURAS            MONOPRODUCTO - Formato Horeca  8057   \n",
       "5   VERDURAS            MONOPRODUCTO - Formato Horeca  8019   \n",
       "6   VERDURAS            MONOPRODUCTO - Formato Horeca  8020   \n",
       "7   VERDURAS            MONOPRODUCTO - Formato Horeca  8022   \n",
       "8   VERDURAS            MONOPRODUCTO - Formato Horeca  8024   \n",
       "9   VERDURAS            MONOPRODUCTO - Formato Horeca  8025   \n",
       "10  VERDURAS            MONOPRODUCTO - Formato Horeca  8026   \n",
       "\n",
       "                            Producto Formato_Venta  Coste (€)  \\\n",
       "1   CN-ENSALADILLA RUSA B/400GR (LG)           UND       2.60   \n",
       "2             VERDURA PAELLA B/400GR           UND      10.81   \n",
       "3          CEBOLLA TROC. 10x10 B/1KG           UND      13.20   \n",
       "4              CN-MEZCLA SOFRITO 1KG           UND      11.68   \n",
       "5         GUISANTES EXTRA FINOS 1 KG           UND       3.71   \n",
       "6            GARROFON PRECOCIDO 1 KG           UND       0.76   \n",
       "7          HABAS BABY B/1 KG-(NCNAL)           UND      14.35   \n",
       "8             JUDIA-VERDE PLANA 1 KG           UND       0.98   \n",
       "9      JUDIA VERDE RED-TROCEADA 1 KG           UND      12.65   \n",
       "10      JUDIA MUY FINA ENTERA  B/1KG           UND      12.02   \n",
       "\n",
       "    Precio de venta (€)  \n",
       "1                 24.40  \n",
       "2                 28.62  \n",
       "3                 16.70  \n",
       "4                 60.72  \n",
       "5                 21.63  \n",
       "6                 12.78  \n",
       "7                 35.70  \n",
       "8                 17.92  \n",
       "9                 48.45  \n",
       "10                62.08  "
      ]
     },
     "execution_count": 3,
     "metadata": {},
     "output_type": "execute_result"
    }
   ],
   "source": [
    "abordo = pd.read_excel(\"../data/raw/ABORDO.xlsx\")\n",
    "nuevas_columnas = abordo.iloc[0].tolist()\n",
    "abordo = abordo[1:]\n",
    "abordo.columns = nuevas_columnas\n",
    "abordo = abordo.iloc[:,1:]\n",
    "\n",
    "\n",
    "# Renombrar las columnas para mayor claridad\n",
    "abordo.columns = ['Num_Familia', 'Familia', 'Num_Grupo', 'Grupo', 'ID', 'Producto', 'Formato_Venta']\n",
    "\n",
    "# Añadir columnas de coste y precio de venta con valores simulados para demostración\n",
    "import numpy as np\n",
    "\n",
    "# Supongamos que el coste es un valor aleatorio entre 0.5 y 15 euros\n",
    "np.random.seed(287)\n",
    "\n",
    "abordo['Coste (€)'] = np.round(np.random.uniform(0.5, 15.0, size=len(abordo)), 2)\n",
    "\n",
    "# El precio base es el coste más el margen mínimo\n",
    "margen_minimo = 3.5\n",
    "precio_base = abordo['Coste (€)'] + margen_minimo\n",
    "\n",
    "abordo['Precio de venta (€)'] = np.round(precio_base * np.random.randint(1.1,5.0, size=len(abordo)), 2)\n",
    "\n",
    "# Eliminamos la columna Num_Familia y Num_Grupo\n",
    "abordo = abordo.iloc[:,1:]\n",
    "del abordo['Num_Grupo']\n",
    "\n",
    "\n",
    "\n",
    "abordo.head(10)"
   ]
  },
  {
   "cell_type": "markdown",
   "id": "1c01412e",
   "metadata": {},
   "source": [
    "#### Tipos de Datos:\n",
    "Asegurarse de que Costo (€) y Precio de venta (€) sean numéricos (float/int).\n",
    "Convertir Formato_Venta a tipo categórico si tiene pocos valores únicos."
   ]
  },
  {
   "cell_type": "code",
   "execution_count": 4,
   "id": "5badc594",
   "metadata": {},
   "outputs": [
    {
     "data": {
      "text/html": [
       "<div>\n",
       "<style scoped>\n",
       "    .dataframe tbody tr th:only-of-type {\n",
       "        vertical-align: middle;\n",
       "    }\n",
       "\n",
       "    .dataframe tbody tr th {\n",
       "        vertical-align: top;\n",
       "    }\n",
       "\n",
       "    .dataframe thead th {\n",
       "        text-align: right;\n",
       "    }\n",
       "</style>\n",
       "<table border=\"1\" class=\"dataframe\">\n",
       "  <thead>\n",
       "    <tr style=\"text-align: right;\">\n",
       "      <th></th>\n",
       "      <th>Coste (€)</th>\n",
       "      <th>Precio de venta (€)</th>\n",
       "    </tr>\n",
       "  </thead>\n",
       "  <tbody>\n",
       "    <tr>\n",
       "      <th>count</th>\n",
       "      <td>2039.000000</td>\n",
       "      <td>2039.000000</td>\n",
       "    </tr>\n",
       "    <tr>\n",
       "      <th>mean</th>\n",
       "      <td>7.844169</td>\n",
       "      <td>28.770574</td>\n",
       "    </tr>\n",
       "    <tr>\n",
       "      <th>std</th>\n",
       "      <td>4.132797</td>\n",
       "      <td>17.131456</td>\n",
       "    </tr>\n",
       "    <tr>\n",
       "      <th>min</th>\n",
       "      <td>0.500000</td>\n",
       "      <td>4.010000</td>\n",
       "    </tr>\n",
       "    <tr>\n",
       "      <th>25%</th>\n",
       "      <td>4.220000</td>\n",
       "      <td>14.735000</td>\n",
       "    </tr>\n",
       "    <tr>\n",
       "      <th>50%</th>\n",
       "      <td>8.000000</td>\n",
       "      <td>25.000000</td>\n",
       "    </tr>\n",
       "    <tr>\n",
       "      <th>75%</th>\n",
       "      <td>11.405000</td>\n",
       "      <td>39.525000</td>\n",
       "    </tr>\n",
       "    <tr>\n",
       "      <th>max</th>\n",
       "      <td>14.990000</td>\n",
       "      <td>73.560000</td>\n",
       "    </tr>\n",
       "  </tbody>\n",
       "</table>\n",
       "</div>"
      ],
      "text/plain": [
       "         Coste (€)  Precio de venta (€)\n",
       "count  2039.000000          2039.000000\n",
       "mean      7.844169            28.770574\n",
       "std       4.132797            17.131456\n",
       "min       0.500000             4.010000\n",
       "25%       4.220000            14.735000\n",
       "50%       8.000000            25.000000\n",
       "75%      11.405000            39.525000\n",
       "max      14.990000            73.560000"
      ]
     },
     "execution_count": 4,
     "metadata": {},
     "output_type": "execute_result"
    }
   ],
   "source": [
    "abordo.describe()"
   ]
  },
  {
   "cell_type": "markdown",
   "id": "da1c5fe8",
   "metadata": {},
   "source": [
    "\n",
    "#### Duplicados:\n",
    "Identificar y manejar filas duplicadas.\n"
   ]
  },
  {
   "cell_type": "code",
   "execution_count": 5,
   "id": "a6bce9e7",
   "metadata": {},
   "outputs": [
    {
     "data": {
      "text/html": [
       "<div>\n",
       "<style scoped>\n",
       "    .dataframe tbody tr th:only-of-type {\n",
       "        vertical-align: middle;\n",
       "    }\n",
       "\n",
       "    .dataframe tbody tr th {\n",
       "        vertical-align: top;\n",
       "    }\n",
       "\n",
       "    .dataframe thead th {\n",
       "        text-align: right;\n",
       "    }\n",
       "</style>\n",
       "<table border=\"1\" class=\"dataframe\">\n",
       "  <thead>\n",
       "    <tr style=\"text-align: right;\">\n",
       "      <th></th>\n",
       "      <th>Familia</th>\n",
       "      <th>Grupo</th>\n",
       "      <th>ID</th>\n",
       "      <th>Producto</th>\n",
       "      <th>Formato_Venta</th>\n",
       "      <th>Coste (€)</th>\n",
       "      <th>Precio de venta (€)</th>\n",
       "    </tr>\n",
       "  </thead>\n",
       "  <tbody>\n",
       "    <tr>\n",
       "      <th>1</th>\n",
       "      <td>VERDURAS</td>\n",
       "      <td>MEZCLAS 400 gr (Formato pequeño tienda)</td>\n",
       "      <td>309</td>\n",
       "      <td>CN-ENSALADILLA RUSA B/400GR (LG)</td>\n",
       "      <td>UND</td>\n",
       "      <td>2.60</td>\n",
       "      <td>24.40</td>\n",
       "    </tr>\n",
       "    <tr>\n",
       "      <th>2</th>\n",
       "      <td>VERDURAS</td>\n",
       "      <td>MEZCLAS 400 gr (Formato pequeño tienda)</td>\n",
       "      <td>810</td>\n",
       "      <td>VERDURA PAELLA B/400GR</td>\n",
       "      <td>UND</td>\n",
       "      <td>10.81</td>\n",
       "      <td>28.62</td>\n",
       "    </tr>\n",
       "    <tr>\n",
       "      <th>3</th>\n",
       "      <td>VERDURAS</td>\n",
       "      <td>MONOPRODUCTO - Formato Horeca</td>\n",
       "      <td>8051</td>\n",
       "      <td>CEBOLLA TROC. 10x10 B/1KG</td>\n",
       "      <td>UND</td>\n",
       "      <td>13.20</td>\n",
       "      <td>16.70</td>\n",
       "    </tr>\n",
       "    <tr>\n",
       "      <th>4</th>\n",
       "      <td>VERDURAS</td>\n",
       "      <td>MONOPRODUCTO - Formato Horeca</td>\n",
       "      <td>8057</td>\n",
       "      <td>CN-MEZCLA SOFRITO 1KG</td>\n",
       "      <td>UND</td>\n",
       "      <td>11.68</td>\n",
       "      <td>60.72</td>\n",
       "    </tr>\n",
       "    <tr>\n",
       "      <th>5</th>\n",
       "      <td>VERDURAS</td>\n",
       "      <td>MONOPRODUCTO - Formato Horeca</td>\n",
       "      <td>8019</td>\n",
       "      <td>GUISANTES EXTRA FINOS 1 KG</td>\n",
       "      <td>UND</td>\n",
       "      <td>3.71</td>\n",
       "      <td>21.63</td>\n",
       "    </tr>\n",
       "    <tr>\n",
       "      <th>...</th>\n",
       "      <td>...</td>\n",
       "      <td>...</td>\n",
       "      <td>...</td>\n",
       "      <td>...</td>\n",
       "      <td>...</td>\n",
       "      <td>...</td>\n",
       "      <td>...</td>\n",
       "    </tr>\n",
       "    <tr>\n",
       "      <th>2035</th>\n",
       "      <td>POSTRES</td>\n",
       "      <td>Repostería</td>\n",
       "      <td>841</td>\n",
       "      <td>PSTR-TARTA QUESO ESTILO VASCO 1600GR 14P</td>\n",
       "      <td>UND</td>\n",
       "      <td>6.66</td>\n",
       "      <td>10.16</td>\n",
       "    </tr>\n",
       "    <tr>\n",
       "      <th>2036</th>\n",
       "      <td>POSTRES</td>\n",
       "      <td>Churros y Porras</td>\n",
       "      <td>319</td>\n",
       "      <td>BLL-CHURROS LAZO- B/500GR</td>\n",
       "      <td>UND</td>\n",
       "      <td>8.78</td>\n",
       "      <td>24.56</td>\n",
       "    </tr>\n",
       "    <tr>\n",
       "      <th>2037</th>\n",
       "      <td>POSTRES</td>\n",
       "      <td>Churros y Porras</td>\n",
       "      <td>318</td>\n",
       "      <td>BLL-CHURROS LAZO-B/400GR</td>\n",
       "      <td>UND</td>\n",
       "      <td>11.23</td>\n",
       "      <td>44.19</td>\n",
       "    </tr>\n",
       "    <tr>\n",
       "      <th>2038</th>\n",
       "      <td>POSTRES</td>\n",
       "      <td>Churros y Porras</td>\n",
       "      <td>310</td>\n",
       "      <td>BLL-CHURROS AZUCARADOS GOURMET(GRANEL)</td>\n",
       "      <td>KG</td>\n",
       "      <td>10.84</td>\n",
       "      <td>43.02</td>\n",
       "    </tr>\n",
       "    <tr>\n",
       "      <th>2039</th>\n",
       "      <td>POSTRES</td>\n",
       "      <td>Pan Tostado y Bollería Industrial</td>\n",
       "      <td>2155</td>\n",
       "      <td>PSTR-TARTA-DE-MANZANA 1100 GR</td>\n",
       "      <td>UND</td>\n",
       "      <td>14.51</td>\n",
       "      <td>18.01</td>\n",
       "    </tr>\n",
       "  </tbody>\n",
       "</table>\n",
       "<p>2039 rows × 7 columns</p>\n",
       "</div>"
      ],
      "text/plain": [
       "       Familia                                    Grupo    ID  \\\n",
       "1     VERDURAS  MEZCLAS 400 gr (Formato pequeño tienda)   309   \n",
       "2     VERDURAS  MEZCLAS 400 gr (Formato pequeño tienda)   810   \n",
       "3     VERDURAS            MONOPRODUCTO - Formato Horeca  8051   \n",
       "4     VERDURAS            MONOPRODUCTO - Formato Horeca  8057   \n",
       "5     VERDURAS            MONOPRODUCTO - Formato Horeca  8019   \n",
       "...        ...                                      ...   ...   \n",
       "2035   POSTRES                               Repostería   841   \n",
       "2036   POSTRES                         Churros y Porras   319   \n",
       "2037   POSTRES                         Churros y Porras   318   \n",
       "2038   POSTRES                         Churros y Porras   310   \n",
       "2039   POSTRES        Pan Tostado y Bollería Industrial  2155   \n",
       "\n",
       "                                      Producto Formato_Venta  Coste (€)  \\\n",
       "1             CN-ENSALADILLA RUSA B/400GR (LG)           UND       2.60   \n",
       "2                       VERDURA PAELLA B/400GR           UND      10.81   \n",
       "3                    CEBOLLA TROC. 10x10 B/1KG           UND      13.20   \n",
       "4                        CN-MEZCLA SOFRITO 1KG           UND      11.68   \n",
       "5                   GUISANTES EXTRA FINOS 1 KG           UND       3.71   \n",
       "...                                        ...           ...        ...   \n",
       "2035  PSTR-TARTA QUESO ESTILO VASCO 1600GR 14P           UND       6.66   \n",
       "2036                 BLL-CHURROS LAZO- B/500GR           UND       8.78   \n",
       "2037                  BLL-CHURROS LAZO-B/400GR           UND      11.23   \n",
       "2038    BLL-CHURROS AZUCARADOS GOURMET(GRANEL)            KG      10.84   \n",
       "2039             PSTR-TARTA-DE-MANZANA 1100 GR           UND      14.51   \n",
       "\n",
       "      Precio de venta (€)  \n",
       "1                   24.40  \n",
       "2                   28.62  \n",
       "3                   16.70  \n",
       "4                   60.72  \n",
       "5                   21.63  \n",
       "...                   ...  \n",
       "2035                10.16  \n",
       "2036                24.56  \n",
       "2037                44.19  \n",
       "2038                43.02  \n",
       "2039                18.01  \n",
       "\n",
       "[2039 rows x 7 columns]"
      ]
     },
     "execution_count": 5,
     "metadata": {},
     "output_type": "execute_result"
    }
   ],
   "source": [
    "abordo.duplicated().sum()\n",
    "abordo.drop_duplicates()"
   ]
  },
  {
   "cell_type": "markdown",
   "id": "172f89eb",
   "metadata": {},
   "source": [
    "### Análisis Descriptivo Univariado:\n",
    "\n",
    "#### Variables Categóricas (Familia, Grupo, Formato_Venta):\n",
    "\n"
   ]
  },
  {
   "cell_type": "code",
   "execution_count": 6,
   "id": "900ea9dd",
   "metadata": {},
   "outputs": [
    {
     "name": "stdout",
     "output_type": "stream",
     "text": [
      "Familia\n",
      "PRODUCTOS AMBIENTE                    861\n",
      "PESCADOS ULTRACONGELADOS              264\n",
      "REFRIGERADOS                          184\n",
      "MARISCOS                              146\n",
      "HORNO BOLLERÍA Y PANADERÍA             95\n",
      "CARNES Y EMBUTIDOS ULTRACONGELADOS     94\n",
      "PRECOCINADOS                           93\n",
      "HELADOS                                74\n",
      "VERDURAS                               70\n",
      "PLATOS PREPARADOS                      40\n",
      "PIZZAS Y PASTAS                        36\n",
      "MOLUSCOS                               29\n",
      "POSTRES                                25\n",
      "ENTRANTES Y PRIMEROS                   24\n",
      "SALAZONES                               4\n",
      "Name: count, dtype: int64\n"
     ]
    },
    {
     "data": {
      "application/vnd.plotly.v1+json": {
       "config": {
        "plotlyServerURL": "https://plot.ly"
       },
       "data": [
        {
         "bingroup": "y",
         "histfunc": "sum",
         "hovertemplate": "sum of Cantidad=%{x}<br>Familia=%{y}<extra></extra>",
         "legendgroup": "",
         "marker": {
          "color": "#636efa",
          "pattern": {
           "shape": ""
          }
         },
         "name": "",
         "nbinsy": 15,
         "orientation": "h",
         "showlegend": false,
         "type": "histogram",
         "x": {
          "bdata": "BAAYABkAHQAkACgARgBKAF0AXgBfAJIAuAAIAV0D",
          "dtype": "i2"
         },
         "xaxis": "x",
         "y": [
          "SALAZONES",
          "ENTRANTES Y PRIMEROS",
          "POSTRES",
          "MOLUSCOS",
          "PIZZAS Y PASTAS",
          "PLATOS PREPARADOS",
          "VERDURAS",
          "HELADOS",
          "PRECOCINADOS",
          "CARNES Y EMBUTIDOS ULTRACONGELADOS",
          "HORNO BOLLERÍA Y PANADERÍA",
          "MARISCOS",
          "REFRIGERADOS",
          "PESCADOS ULTRACONGELADOS",
          "PRODUCTOS AMBIENTE"
         ],
         "yaxis": "y"
        }
       ],
       "layout": {
        "barmode": "relative",
        "legend": {
         "tracegroupgap": 0
        },
        "template": {
         "data": {
          "bar": [
           {
            "error_x": {
             "color": "#2a3f5f"
            },
            "error_y": {
             "color": "#2a3f5f"
            },
            "marker": {
             "line": {
              "color": "#E5ECF6",
              "width": 0.5
             },
             "pattern": {
              "fillmode": "overlay",
              "size": 10,
              "solidity": 0.2
             }
            },
            "type": "bar"
           }
          ],
          "barpolar": [
           {
            "marker": {
             "line": {
              "color": "#E5ECF6",
              "width": 0.5
             },
             "pattern": {
              "fillmode": "overlay",
              "size": 10,
              "solidity": 0.2
             }
            },
            "type": "barpolar"
           }
          ],
          "carpet": [
           {
            "aaxis": {
             "endlinecolor": "#2a3f5f",
             "gridcolor": "white",
             "linecolor": "white",
             "minorgridcolor": "white",
             "startlinecolor": "#2a3f5f"
            },
            "baxis": {
             "endlinecolor": "#2a3f5f",
             "gridcolor": "white",
             "linecolor": "white",
             "minorgridcolor": "white",
             "startlinecolor": "#2a3f5f"
            },
            "type": "carpet"
           }
          ],
          "choropleth": [
           {
            "colorbar": {
             "outlinewidth": 0,
             "ticks": ""
            },
            "type": "choropleth"
           }
          ],
          "contour": [
           {
            "colorbar": {
             "outlinewidth": 0,
             "ticks": ""
            },
            "colorscale": [
             [
              0,
              "#0d0887"
             ],
             [
              0.1111111111111111,
              "#46039f"
             ],
             [
              0.2222222222222222,
              "#7201a8"
             ],
             [
              0.3333333333333333,
              "#9c179e"
             ],
             [
              0.4444444444444444,
              "#bd3786"
             ],
             [
              0.5555555555555556,
              "#d8576b"
             ],
             [
              0.6666666666666666,
              "#ed7953"
             ],
             [
              0.7777777777777778,
              "#fb9f3a"
             ],
             [
              0.8888888888888888,
              "#fdca26"
             ],
             [
              1,
              "#f0f921"
             ]
            ],
            "type": "contour"
           }
          ],
          "contourcarpet": [
           {
            "colorbar": {
             "outlinewidth": 0,
             "ticks": ""
            },
            "type": "contourcarpet"
           }
          ],
          "heatmap": [
           {
            "colorbar": {
             "outlinewidth": 0,
             "ticks": ""
            },
            "colorscale": [
             [
              0,
              "#0d0887"
             ],
             [
              0.1111111111111111,
              "#46039f"
             ],
             [
              0.2222222222222222,
              "#7201a8"
             ],
             [
              0.3333333333333333,
              "#9c179e"
             ],
             [
              0.4444444444444444,
              "#bd3786"
             ],
             [
              0.5555555555555556,
              "#d8576b"
             ],
             [
              0.6666666666666666,
              "#ed7953"
             ],
             [
              0.7777777777777778,
              "#fb9f3a"
             ],
             [
              0.8888888888888888,
              "#fdca26"
             ],
             [
              1,
              "#f0f921"
             ]
            ],
            "type": "heatmap"
           }
          ],
          "histogram": [
           {
            "marker": {
             "pattern": {
              "fillmode": "overlay",
              "size": 10,
              "solidity": 0.2
             }
            },
            "type": "histogram"
           }
          ],
          "histogram2d": [
           {
            "colorbar": {
             "outlinewidth": 0,
             "ticks": ""
            },
            "colorscale": [
             [
              0,
              "#0d0887"
             ],
             [
              0.1111111111111111,
              "#46039f"
             ],
             [
              0.2222222222222222,
              "#7201a8"
             ],
             [
              0.3333333333333333,
              "#9c179e"
             ],
             [
              0.4444444444444444,
              "#bd3786"
             ],
             [
              0.5555555555555556,
              "#d8576b"
             ],
             [
              0.6666666666666666,
              "#ed7953"
             ],
             [
              0.7777777777777778,
              "#fb9f3a"
             ],
             [
              0.8888888888888888,
              "#fdca26"
             ],
             [
              1,
              "#f0f921"
             ]
            ],
            "type": "histogram2d"
           }
          ],
          "histogram2dcontour": [
           {
            "colorbar": {
             "outlinewidth": 0,
             "ticks": ""
            },
            "colorscale": [
             [
              0,
              "#0d0887"
             ],
             [
              0.1111111111111111,
              "#46039f"
             ],
             [
              0.2222222222222222,
              "#7201a8"
             ],
             [
              0.3333333333333333,
              "#9c179e"
             ],
             [
              0.4444444444444444,
              "#bd3786"
             ],
             [
              0.5555555555555556,
              "#d8576b"
             ],
             [
              0.6666666666666666,
              "#ed7953"
             ],
             [
              0.7777777777777778,
              "#fb9f3a"
             ],
             [
              0.8888888888888888,
              "#fdca26"
             ],
             [
              1,
              "#f0f921"
             ]
            ],
            "type": "histogram2dcontour"
           }
          ],
          "mesh3d": [
           {
            "colorbar": {
             "outlinewidth": 0,
             "ticks": ""
            },
            "type": "mesh3d"
           }
          ],
          "parcoords": [
           {
            "line": {
             "colorbar": {
              "outlinewidth": 0,
              "ticks": ""
             }
            },
            "type": "parcoords"
           }
          ],
          "pie": [
           {
            "automargin": true,
            "type": "pie"
           }
          ],
          "scatter": [
           {
            "fillpattern": {
             "fillmode": "overlay",
             "size": 10,
             "solidity": 0.2
            },
            "type": "scatter"
           }
          ],
          "scatter3d": [
           {
            "line": {
             "colorbar": {
              "outlinewidth": 0,
              "ticks": ""
             }
            },
            "marker": {
             "colorbar": {
              "outlinewidth": 0,
              "ticks": ""
             }
            },
            "type": "scatter3d"
           }
          ],
          "scattercarpet": [
           {
            "marker": {
             "colorbar": {
              "outlinewidth": 0,
              "ticks": ""
             }
            },
            "type": "scattercarpet"
           }
          ],
          "scattergeo": [
           {
            "marker": {
             "colorbar": {
              "outlinewidth": 0,
              "ticks": ""
             }
            },
            "type": "scattergeo"
           }
          ],
          "scattergl": [
           {
            "marker": {
             "colorbar": {
              "outlinewidth": 0,
              "ticks": ""
             }
            },
            "type": "scattergl"
           }
          ],
          "scattermap": [
           {
            "marker": {
             "colorbar": {
              "outlinewidth": 0,
              "ticks": ""
             }
            },
            "type": "scattermap"
           }
          ],
          "scattermapbox": [
           {
            "marker": {
             "colorbar": {
              "outlinewidth": 0,
              "ticks": ""
             }
            },
            "type": "scattermapbox"
           }
          ],
          "scatterpolar": [
           {
            "marker": {
             "colorbar": {
              "outlinewidth": 0,
              "ticks": ""
             }
            },
            "type": "scatterpolar"
           }
          ],
          "scatterpolargl": [
           {
            "marker": {
             "colorbar": {
              "outlinewidth": 0,
              "ticks": ""
             }
            },
            "type": "scatterpolargl"
           }
          ],
          "scatterternary": [
           {
            "marker": {
             "colorbar": {
              "outlinewidth": 0,
              "ticks": ""
             }
            },
            "type": "scatterternary"
           }
          ],
          "surface": [
           {
            "colorbar": {
             "outlinewidth": 0,
             "ticks": ""
            },
            "colorscale": [
             [
              0,
              "#0d0887"
             ],
             [
              0.1111111111111111,
              "#46039f"
             ],
             [
              0.2222222222222222,
              "#7201a8"
             ],
             [
              0.3333333333333333,
              "#9c179e"
             ],
             [
              0.4444444444444444,
              "#bd3786"
             ],
             [
              0.5555555555555556,
              "#d8576b"
             ],
             [
              0.6666666666666666,
              "#ed7953"
             ],
             [
              0.7777777777777778,
              "#fb9f3a"
             ],
             [
              0.8888888888888888,
              "#fdca26"
             ],
             [
              1,
              "#f0f921"
             ]
            ],
            "type": "surface"
           }
          ],
          "table": [
           {
            "cells": {
             "fill": {
              "color": "#EBF0F8"
             },
             "line": {
              "color": "white"
             }
            },
            "header": {
             "fill": {
              "color": "#C8D4E3"
             },
             "line": {
              "color": "white"
             }
            },
            "type": "table"
           }
          ]
         },
         "layout": {
          "annotationdefaults": {
           "arrowcolor": "#2a3f5f",
           "arrowhead": 0,
           "arrowwidth": 1
          },
          "autotypenumbers": "strict",
          "coloraxis": {
           "colorbar": {
            "outlinewidth": 0,
            "ticks": ""
           }
          },
          "colorscale": {
           "diverging": [
            [
             0,
             "#8e0152"
            ],
            [
             0.1,
             "#c51b7d"
            ],
            [
             0.2,
             "#de77ae"
            ],
            [
             0.3,
             "#f1b6da"
            ],
            [
             0.4,
             "#fde0ef"
            ],
            [
             0.5,
             "#f7f7f7"
            ],
            [
             0.6,
             "#e6f5d0"
            ],
            [
             0.7,
             "#b8e186"
            ],
            [
             0.8,
             "#7fbc41"
            ],
            [
             0.9,
             "#4d9221"
            ],
            [
             1,
             "#276419"
            ]
           ],
           "sequential": [
            [
             0,
             "#0d0887"
            ],
            [
             0.1111111111111111,
             "#46039f"
            ],
            [
             0.2222222222222222,
             "#7201a8"
            ],
            [
             0.3333333333333333,
             "#9c179e"
            ],
            [
             0.4444444444444444,
             "#bd3786"
            ],
            [
             0.5555555555555556,
             "#d8576b"
            ],
            [
             0.6666666666666666,
             "#ed7953"
            ],
            [
             0.7777777777777778,
             "#fb9f3a"
            ],
            [
             0.8888888888888888,
             "#fdca26"
            ],
            [
             1,
             "#f0f921"
            ]
           ],
           "sequentialminus": [
            [
             0,
             "#0d0887"
            ],
            [
             0.1111111111111111,
             "#46039f"
            ],
            [
             0.2222222222222222,
             "#7201a8"
            ],
            [
             0.3333333333333333,
             "#9c179e"
            ],
            [
             0.4444444444444444,
             "#bd3786"
            ],
            [
             0.5555555555555556,
             "#d8576b"
            ],
            [
             0.6666666666666666,
             "#ed7953"
            ],
            [
             0.7777777777777778,
             "#fb9f3a"
            ],
            [
             0.8888888888888888,
             "#fdca26"
            ],
            [
             1,
             "#f0f921"
            ]
           ]
          },
          "colorway": [
           "#636efa",
           "#EF553B",
           "#00cc96",
           "#ab63fa",
           "#FFA15A",
           "#19d3f3",
           "#FF6692",
           "#B6E880",
           "#FF97FF",
           "#FECB52"
          ],
          "font": {
           "color": "#2a3f5f"
          },
          "geo": {
           "bgcolor": "white",
           "lakecolor": "white",
           "landcolor": "#E5ECF6",
           "showlakes": true,
           "showland": true,
           "subunitcolor": "white"
          },
          "hoverlabel": {
           "align": "left"
          },
          "hovermode": "closest",
          "mapbox": {
           "style": "light"
          },
          "paper_bgcolor": "white",
          "plot_bgcolor": "#E5ECF6",
          "polar": {
           "angularaxis": {
            "gridcolor": "white",
            "linecolor": "white",
            "ticks": ""
           },
           "bgcolor": "#E5ECF6",
           "radialaxis": {
            "gridcolor": "white",
            "linecolor": "white",
            "ticks": ""
           }
          },
          "scene": {
           "xaxis": {
            "backgroundcolor": "#E5ECF6",
            "gridcolor": "white",
            "gridwidth": 2,
            "linecolor": "white",
            "showbackground": true,
            "ticks": "",
            "zerolinecolor": "white"
           },
           "yaxis": {
            "backgroundcolor": "#E5ECF6",
            "gridcolor": "white",
            "gridwidth": 2,
            "linecolor": "white",
            "showbackground": true,
            "ticks": "",
            "zerolinecolor": "white"
           },
           "zaxis": {
            "backgroundcolor": "#E5ECF6",
            "gridcolor": "white",
            "gridwidth": 2,
            "linecolor": "white",
            "showbackground": true,
            "ticks": "",
            "zerolinecolor": "white"
           }
          },
          "shapedefaults": {
           "line": {
            "color": "#2a3f5f"
           }
          },
          "ternary": {
           "aaxis": {
            "gridcolor": "white",
            "linecolor": "white",
            "ticks": ""
           },
           "baxis": {
            "gridcolor": "white",
            "linecolor": "white",
            "ticks": ""
           },
           "bgcolor": "#E5ECF6",
           "caxis": {
            "gridcolor": "white",
            "linecolor": "white",
            "ticks": ""
           }
          },
          "title": {
           "x": 0.05
          },
          "xaxis": {
           "automargin": true,
           "gridcolor": "white",
           "linecolor": "white",
           "ticks": "",
           "title": {
            "standoff": 15
           },
           "zerolinecolor": "white",
           "zerolinewidth": 2
          },
          "yaxis": {
           "automargin": true,
           "gridcolor": "white",
           "linecolor": "white",
           "ticks": "",
           "title": {
            "standoff": 15
           },
           "zerolinecolor": "white",
           "zerolinewidth": 2
          }
         }
        },
        "title": {
         "text": "Familias"
        },
        "xaxis": {
         "anchor": "y",
         "domain": [
          0,
          1
         ],
         "title": {
          "text": "sum of Cantidad"
         }
        },
        "yaxis": {
         "anchor": "x",
         "domain": [
          0,
          1
         ],
         "title": {
          "text": "Familia"
         }
        }
       }
      }
     },
     "metadata": {},
     "output_type": "display_data"
    }
   ],
   "source": [
    "print(abordo.loc[:,\"Familia\"].value_counts())\n",
    "conteo_familias = abordo['Familia'].value_counts().reset_index()\n",
    "conteo_familias.columns = ['Familia', 'count'] \n",
    "conteo_familias_ordenado = conteo_familias.sort_values(by='count', ascending=True) \n",
    "\n",
    "hist1 = px.histogram(conteo_familias_ordenado,\n",
    "                        x=\"count\",\n",
    "                        y=\"Familia\",\n",
    "                        nbins=15,  \n",
    "                        title=\"Familias\",\n",
    "                        width=None,\n",
    "                        height=None,\n",
    "                        orientation='h',\n",
    "                        labels={'Familia': 'Familia', 'count': 'Cantidad'}\n",
    "                        )\n",
    "\n",
    "\n",
    "hist1.show()"
   ]
  },
  {
   "cell_type": "code",
   "execution_count": 7,
   "id": "0f96caee",
   "metadata": {},
   "outputs": [
    {
     "name": "stdout",
     "output_type": "stream",
     "text": [
      "Grupo\n",
      "A - Condiment - ESP- Carmencita          72\n",
      "A - BLL - Bollería Industrial            51\n",
      "Salazones                                44\n",
      "Bollería - Pasteles Horno Artesano       35\n",
      "Carnes - Cerdo y mixtas                  30\n",
      "                                         ..\n",
      "Cafés, Infusiones y Preparado Postres     1\n",
      "A - Aceites - ACT - Girasol/Semillas      1\n",
      "A - Galletas - Helado                     1\n",
      "B - RF- Coca cola botella                 1\n",
      "B - Refrescos - RF- Té                    1\n",
      "Name: count, Length: 233, dtype: int64\n"
     ]
    },
    {
     "data": {
      "application/vnd.plotly.v1+json": {
       "config": {
        "plotlyServerURL": "https://plot.ly"
       },
       "data": [
        {
         "bingroup": "y",
         "hovertemplate": "count=%{x}<br>Grupo=%{y}<extra></extra>",
         "legendgroup": "",
         "marker": {
          "color": "#636efa",
          "pattern": {
           "shape": ""
          }
         },
         "name": "",
         "nbinsy": 15,
         "orientation": "h",
         "showlegend": false,
         "type": "histogram",
         "xaxis": "x",
         "y": [
          "MEZCLAS 400 gr (Formato pequeño tienda)",
          "MEZCLAS 400 gr (Formato pequeño tienda)",
          "MONOPRODUCTO - Formato Horeca",
          "MONOPRODUCTO - Formato Horeca",
          "MONOPRODUCTO - Formato Horeca",
          "MONOPRODUCTO - Formato Horeca",
          "MONOPRODUCTO - Formato Horeca",
          "MONOPRODUCTO - Formato Horeca",
          "MONOPRODUCTO - Formato Horeca",
          "MONOPRODUCTO - Formato Horeca",
          "MONOPRODUCTO - Formato Horeca",
          "MONOPRODUCTO - Formato Horeca",
          "MONOPRODUCTO - Formato Horeca",
          "MONOPRODUCTO - Formato Horeca",
          "MONOPRODUCTO - Formato Horeca",
          "MONOPRODUCTO - Formato Horeca",
          "MONOPRODUCTO - Formato Horeca",
          "MONOPRODUCTO - Formato Horeca",
          "MONOPRODUCTO - Formato Horeca",
          "MONOPRODUCTO - Formato Horeca",
          "MONOPRODUCTO - Formato Horeca",
          "MONOPRODUCTO - Formato Horeca",
          "MONOPRODUCTO - Formato Horeca",
          "MONOPRODUCTO - Formato Horeca",
          "MONOPRODUCTO - Formato Horeca",
          "MONOPRODUCTO - Formato Horeca",
          "MONOPRODUCTO - Formato Horeca",
          "MONOPRODUCTO - Formato Horeca",
          "MONOPRODUCTO - Formato Horeca",
          "MONOPRODUCTO - Formato Horeca",
          "MONOPRODUCTO - Formato Horeca",
          "MONOPRODUCTO - Formato Horeca",
          "MEZCLAS 1000 gr (Formato grande tienda)",
          "MEZCLAS 1000 gr (Formato grande tienda)",
          "MEZCLAS 1000 gr (Formato grande tienda)",
          "MEZCLAS 1000 gr (Formato grande tienda)",
          "MEZCLAS 1000 gr (Formato grande tienda)",
          "MEZCLAS 1000 gr (Formato grande tienda)",
          "MEZCLAS 1000 gr (Formato grande tienda)",
          "MEZCLAS 1000 gr (Formato grande tienda)",
          "MEZCLAS 1000 gr (Formato grande tienda)",
          "MONOPRODUCTO 400 gr (Formato pequeño tienda)",
          "MONOPRODUCTO 400 gr (Formato pequeño tienda)",
          "MONOPRODUCTO 400 gr (Formato pequeño tienda)",
          "MONOPRODUCTO 400 gr (Formato pequeño tienda)",
          "MONOPRODUCTO 400 gr (Formato pequeño tienda)",
          "MONOPRODUCTO 400 gr (Formato pequeño tienda)",
          "MONOPRODUCTO 400 gr (Formato pequeño tienda)",
          "MONOPRODUCTO 400 gr (Formato pequeño tienda)",
          "MONOPRODUCTO 400 gr (Formato pequeño tienda)",
          "MONOPRODUCTO 400 gr (Formato pequeño tienda)",
          "MONOPRODUCTO 400 gr (Formato pequeño tienda)",
          "MONOPRODUCTO 400 gr (Formato pequeño tienda)",
          "MONOPRODUCTO 400 gr (Formato pequeño tienda)",
          "MONOPRODUCTO 400 gr (Formato pequeño tienda)",
          "MONOPRODUCTO 400 gr (Formato pequeño tienda)",
          "MONOPRODUCTO 400 gr (Formato pequeño tienda)",
          "MONOPRODUCTO 400 gr (Formato pequeño tienda)",
          "MONOPRODUCTO 400 gr (Formato pequeño tienda)",
          "MONOPRODUCTO 400 gr (Formato pequeño tienda)",
          "MONOPRODUCTO 400 gr (Formato pequeño tienda)",
          "MONOPRODUCTO 1000 gr (Formato grande tienda)",
          "MEZCLAS - FORMATO HORECA",
          "MEZCLAS - FORMATO HORECA",
          "MEZCLAS - FORMATO HORECA",
          "MEZCLAS - FORMATO HORECA",
          "MEZCLAS - FORMATO HORECA",
          "MEZCLAS - FORMATO HORECA",
          "MEZCLAS - FORMATO HORECA",
          "MONOPRODUCTO GRANEL COLES, ZANAHORIA, MENESTRA, ALCACHOFAS",
          "Pescados - Azules",
          "Pescados - Azules",
          "Pescados - Azules",
          "Pescados - Azules",
          "Pescados - Azules",
          "Pescados - Azules",
          "Pescados - Azules",
          "Pescados - Azules",
          "Pescados - Azules",
          "Pescados - Azules",
          "Pescados - Azules",
          "Pescados - Azules",
          "Pescados - Azules",
          "Pescados - Azules",
          "Pescados - Azules",
          "Pescados - Azules",
          "Pescados - Azules",
          "Pescados - Azules",
          "Pescados - Azules",
          "Pescados - Azules",
          "Pescados - Azules",
          "Pescados - Azules",
          "Pescados - Azules",
          "Pescados - Azules",
          "Pescados - Azules",
          "Pescados - Azules (HRC)",
          "Pescados - Azules (HRC)",
          "Pescados - Azules (HRC)",
          "Pescados - Azules (HRC)",
          "Pescados - Azules (HRC)",
          "Pescados - Azules (HRC)",
          "Pescados - Azules (HRC)",
          "Pescados - Azules (HRC)",
          "Pescados - Azules (HRC)",
          "Bacalao",
          "Bacalao",
          "Bacalao",
          "Bacalao",
          "Bacalao",
          "Bacalao",
          "Bacalao",
          "Bacalao",
          "Bacalao",
          "Bacalao",
          "Bacalao",
          "Bacalao",
          "Bacalao",
          "Bacalao",
          "Bacalao",
          "Bacalao",
          "Bacalao",
          "Bacalao",
          "Bacalao",
          "Bacalao",
          "Bacalao",
          "Bacalao",
          "Bacalao",
          "Bacalao",
          "Pescados (IWP)",
          "Pescados (IWP)",
          "Pescados (IWP)",
          "Pescados (IWP)",
          "Pescados (IWP)",
          "Pescados - Hogar",
          "Pescados - Hogar",
          "Pescados - Hogar",
          "Pescados - Hogar",
          "Pescados - Hogar",
          "Pescados - Hogar",
          "Pescados - Hogar",
          "Pescados - Hogar",
          "Calamares - Pota Limpia",
          "Calamares - Pota Limpia",
          "Calamares - Pota Limpia",
          "Calamares - Pota Limpia",
          "Calamares - Pota Limpia",
          "Calamares - Pota Limpia",
          "Calamares - Pota Limpia",
          "Calamares - Pota Limpia",
          "Calamares - Pota Limpia",
          "Calamares - Pota Limpia",
          "Calamares - Pota Limpia",
          "Calamares - Pota Limpia",
          "Calamares - Pota Limpia",
          "Calamares - Pota Limpia",
          "Calamares - Loligo",
          "Calamares - Loligo",
          "Calamares - Loligo",
          "Calamares - Loligo",
          "Calamares - Loligo",
          "Calamares - Loligo",
          "Calamares - Loligo",
          "Calamares - Loligo",
          "Calamares - Loligo",
          "Calamares - Loligo",
          "Calamares - Loligo",
          "Calamares - Loligo",
          "Calamares - Loligo",
          "Calamares - Loligo",
          "Calamares - Loligo",
          "Calamares - Loligo",
          "Calamares - Loligo",
          "Calamares - Loligo",
          "Calamares - Loligo",
          "Calamares - Voladores Potas",
          "Calamares - Voladores Potas",
          "Calamares - Voladores Potas",
          "Calamares - Voladores Potas",
          "Calamares - Voladores Potas",
          "Calamares - Puntillas",
          "Calamares - Puntillas",
          "Calamares - Puntillas",
          "Calamares - Puntillas",
          "Calamares - Puntillas",
          "Calamares - Puntillas",
          "Calamares - Puntillas",
          "Calamares - Puntillas",
          "Calamares - Chipirones",
          "Calamares - Chipirones",
          "Calamares - Chipirones",
          "Calamares - Chipirones",
          "Calamares - Chipirones",
          "Calamares - Chipirones",
          "Calamares - Chipirones",
          "Calamares - Chipirones",
          "Calamares - Chipirones",
          "Calamares - Chipirones",
          "Calamares - Chipirones",
          "Calamares - Chipirones/Troceados",
          "Calamares - Playa",
          "Pescados - De Cuero",
          "Pescados - De Cuero",
          "Pescados - De Cuero",
          "Pescados - De Cuero (HRC)",
          "Pescados - De Cuero (HRC)",
          "Pescados - Filetes Varios - Importación",
          "Pescados - Filetes Varios - Importación",
          "Pescados - Filetes Varios - Importación",
          "Pescados - Filetes Varios - Importación",
          "Pescados - Filetes Varios - Importación",
          "Pescados - Filetes Varios - Importación",
          "Pescados - Filetes Varios - Importación",
          "Pescados - Filetes Varios - Importación",
          "Pescados - Filetes Varios - Importación",
          "Pescados - Filetes Varios - Importación",
          "Pescados - Filetes Varios - Importación",
          "Pescados - Filetes Varios - Importación",
          "Pescados - Filetes Varios - Importación",
          "Pescados - Filetes Varios - Importación",
          "Pescados - Filetes Varios - Importación",
          "Pescados - Filetes Varios - Importación",
          "Lomos de pescado",
          "Lomos de pescado",
          "Pescados - Filetes Varios - Nacional",
          "Pescados - Filetes Varios - Nacional",
          "Pescados - Filetes Varios - Nacional",
          "Pescados - Filetes Varios - Nacional",
          "Pescados - Filetes Varios - Nacional",
          "Pescados - Filetes Varios - Nacional",
          "Pescados - Filetes Varios - Nacional",
          "Pescados - Filetes Varios - Nacional",
          "Pescados - Filetes Varios - Nacional",
          "Pescados - Filetes Varios - Nacional",
          "Pescados - Filetes Varios - Nacional",
          "Lenguados enteros y limpios",
          "Lenguados enteros y limpios",
          "Lenguados enteros y limpios",
          "Lenguados enteros y limpios",
          "Lenguados enteros y limpios",
          "Lenguados enteros y limpios",
          "Lenguados enteros y limpios",
          "Lenguados enteros y limpios",
          "Pescados - Filetes Rodajas y Lomos (HRC)",
          "Pescados - Filetes Rodajas y Lomos (HRC)",
          "Pescados - Filetes Rodajas y Lomos (HRC)",
          "Pescados - Enteros y HG",
          "Pescados - Enteros y HG",
          "Pescados - Enteros y HG",
          "Pescados - Enteros y HG",
          "Pescados - Enteros y HG",
          "Pescados - Enteros y HG",
          "Pescados - Enteros y HG",
          "Preparados / Frituras / Paellas / Sopas",
          "Preparados / Frituras / Paellas / Sopas",
          "Preparados / Frituras / Paellas / Sopas",
          "Preparados / Frituras / Paellas / Sopas",
          "Preparados / Frituras / Paellas / Sopas",
          "Preparados / Frituras / Paellas / Sopas",
          "Preparados / Frituras / Paellas / Sopas",
          "Pulpos Crudos / Cocidos / Troceados",
          "Pulpos Crudos / Cocidos / Troceados",
          "Pulpos Crudos / Cocidos / Troceados",
          "Pulpos Crudos / Cocidos / Troceados",
          "Pulpos Crudos / Cocidos / Troceados",
          "Pulpos Crudos / Cocidos / Troceados",
          "Pulpos Crudos / Cocidos / Troceados",
          "Pulpos Crudos / Cocidos / Troceados",
          "Pulpos Crudos / Cocidos / Troceados",
          "Pulpos Crudos / Cocidos / Troceados",
          "Pulpos Crudos / Cocidos / Troceados",
          "Pulpos Crudos / Cocidos / Troceados",
          "Pulpos Crudos / Cocidos / Troceados",
          "Pulpos Crudos / Cocidos / Troceados",
          "Pulpos Crudos / Cocidos / Troceados",
          "Pulpos Crudos / Cocidos / Troceados",
          "Pulpos Crudos / Cocidos / Troceados",
          "Pulpos Crudos / Cocidos / Troceados",
          "Pulpos Crudos / Cocidos / Troceados",
          "Rape limpio - HG - y Bolsa",
          "Rape limpio - HG - y Bolsa",
          "Rape limpio - HG - y Bolsa",
          "Rape limpio - HG - y Bolsa",
          "Rape limpio - HG - y Bolsa",
          "Rape limpio - HG - y Bolsa",
          "Rape limpio - HG - y Bolsa",
          "Rape limpio - HG - y Bolsa",
          "Rape limpio - HG - y Bolsa",
          "Rape limpio - HG - y Bolsa",
          "Rape limpio - HG - y Bolsa",
          "Pescados - Enteros, Higienizados y Limpios (HRC)",
          "Pescados - Enteros, Higienizados y Limpios (HRC)",
          "Pescados - Rodajas y Medallón",
          "Pescados - Rodajas y Medallón",
          "Pescados - Rodajas y Medallón",
          "Pescados - Rodajas y Medallón",
          "Pescados - Envase Ahorro",
          "Pescados - Envase Ahorro",
          "Sepias - Enteras / Limpias / Derivados",
          "Sepias - Enteras / Limpias / Derivados",
          "Sepias - Enteras / Limpias / Derivados",
          "Sepias - Enteras / Limpias / Derivados",
          "Sepias - Enteras / Limpias / Derivados",
          "Sepias - Enteras / Limpias / Derivados",
          "Sepias - Enteras / Limpias / Derivados",
          "Sepias - Enteras / Limpias / Derivados",
          "Sepias - Enteras / Limpias / Derivados",
          "Sepias - Enteras / Limpias / Derivados",
          "Sepias - Enteras / Limpias / Derivados",
          "Sepias - Enteras / Limpias / Derivados",
          "Sepias - Enteras / Limpias / Derivados",
          "Sepias - Enteras / Limpias / Derivados",
          "Sepias - Enteras / Limpias / Derivados",
          "Sepias - Enteras / Limpias / Derivados",
          "Sepias - Enteras / Limpias / Derivados",
          "Sepias - Enteras / Limpias / Derivados",
          "Sepias - Enteras / Limpias / Derivados",
          "Sepias - Enteras / Limpias / Derivados",
          "Sepias - Enteras / Limpias / Derivados",
          "Sepias - Enteras / Limpias / Derivados",
          "Sepias - Enteras / Limpias / Derivados",
          "Sepias - Enteras / Limpias / Derivados",
          "Sepias - Enteras / Limpias / Derivados",
          "Sepias - Enteras / Limpias / Derivados",
          "Sepias - Enteras / Limpias / Derivados",
          "Sepias - Enteras / Limpias / Derivados",
          "Sepias - Limpias Granel",
          "Sepias - Limpias Granel",
          "Sepias - Limpias Granel",
          "Sepias - Limpias Granel",
          "Sepias - Limpias Granel",
          "Sepias - Enteras Sucias",
          "Sepias - Enteras Sucias",
          "Albóndigas y Croquetas",
          "D - Varios",
          "Bacalao",
          "Albóndigas y Croquetas",
          "Albóndigas y Croquetas",
          "Albóndigas y Croquetas",
          "Albóndigas y Croquetas",
          "Albóndigas y Croquetas",
          "Albóndigas y Croquetas",
          "Albóndigas y Croquetas",
          "Albóndigas y Croquetas",
          "Albóndigas y Croquetas",
          "Albóndigas y Croquetas",
          "Albóndigas y Croquetas",
          "Albóndigas y Croquetas",
          "Albóndigas y Croquetas",
          "Albóndigas y Croquetas",
          "Albóndigas y Croquetas",
          "Albóndigas y Croquetas",
          "Albóndigas y Croquetas",
          "Albóndigas y Croquetas",
          "Albóndigas y Croquetas",
          "Bocaditos",
          "Quesos Empanados",
          "Quesos Empanados",
          "Quesos Empanados",
          "Quesos Empanados",
          "Quesos Empanados",
          "Quesos Empanados",
          "Precocinados - Pescados y Mariscos",
          "Precocinados - Pescados y Mariscos",
          "Precocinados - Pescados y Mariscos",
          "Precocinados - Pescados y Mariscos",
          "Precocinados - Pescados y Mariscos",
          "Precocinados - Pescados y Mariscos",
          "Precocinados - Pescados y Mariscos",
          "Precocinados - Pescados y Mariscos",
          "Precocinados - Pescados y Mariscos",
          "Precocinados - Pescados y Mariscos",
          "Precocinados - Pescados y Mariscos",
          "Precocinados - Pescados y Mariscos",
          "Precocinados - Pescados y Mariscos",
          "Precocinados - Pescados y Mariscos",
          "Precocinados - Pescados y Mariscos",
          "Precocinados - Pescados y Mariscos",
          "Precocinados - Pescados y Mariscos",
          "Precocinados - Pescados y Mariscos",
          "Precocinados - Pescados y Mariscos",
          "Precocinados - Pescados y Mariscos",
          "Precocinados - Pescados y Mariscos",
          "Precocinados - Pescados y Mariscos",
          "Precocinados - Carnes",
          "Precocinados - Carnes",
          "Precocinados - Carnes",
          "Precocinados - Carnes",
          "Precocinados - Carnes",
          "Precocinados - Carnes",
          "Precocinados - Carnes",
          "Precocinados - Carnes",
          "Precocinados - Carnes",
          "Precocinados -HRC",
          "Precocinados -HRC",
          "Precocinados -HRC",
          "Precocinados -HRC",
          "Precocinados -HRC",
          "Precocinados -HRC",
          "Precocinados -HRC",
          "Precocinados -HRC",
          "Precocinados - Verduras Preparadas",
          "Precocinados - Verduras Preparadas",
          "Precocinados del Mundo",
          "Precocinados del Mundo",
          "Precocinados del Mundo",
          "Precocinados del Mundo",
          "Precocinados del Mundo",
          "Precocinados del Mundo",
          "Precocinados del Mundo",
          "Precocinados del Mundo",
          "Precocinados del Mundo",
          "Precocinados del Mundo",
          "Surimis, Muslitos y Palitos de cangrejo",
          "Surimis, Muslitos y Palitos de cangrejo",
          "Surimis, Muslitos y Palitos de cangrejo",
          "Surimis, Muslitos y Palitos de cangrejo",
          "Surimis, Muslitos y Palitos de cangrejo",
          "Surimis, Muslitos y Palitos de cangrejo",
          "Precocinados - Patatas",
          "Precocinados - Patatas",
          "Precocinados - Patatas",
          "Precocinados - Patatas",
          "Precocinados - Patatas",
          "Precocinados - Patatas",
          "Precocinados - Patatas",
          "Precocinados - Patatas",
          "Precocinados - Patatas",
          "Pescados Refrigerados",
          "Platos Preparados - Carnes",
          "Platos Preparados - Carnes",
          "Platos Preparados - Carnes",
          "Platos Preparados - Carnes",
          "Carnes y Embutidos (HRC)",
          "Carnes y Embutidos (HRC)",
          "Carnes y Embutidos (HRC)",
          "Carnes y Embutidos (HRC)",
          "Carnes y Embutidos (HRC)",
          "Carnes - Cordero y Cabrito",
          "Carnes - Cordero y Cabrito",
          "Carnes - Cordero y Cabrito",
          "Carnes - Cordero y Cabrito",
          "Embutidos y semi preparados",
          "Embutidos y semi preparados",
          "Embutidos y semi preparados",
          "Carnes - Ternera",
          "Carnes - Ternera",
          "Carnes - Ternera",
          "Carnes - Ternera",
          "Carnes - Ternera",
          "Carnes - Ternera",
          "Carnes - Ternera",
          "Carnes - Ternera",
          "Carnes - Ternera",
          "Carnes - Ternera",
          "Carnes - Ternera",
          "Carnes - Ternera",
          "Carnes - Ternera",
          "Carnes - Ave y Conejo",
          "Carnes - Ave y Conejo",
          "Carnes - Ave y Conejo",
          "Carnes - Ave y Conejo",
          "Carnes - Ave y Conejo",
          "Carnes - Ave y Conejo",
          "Carnes - Ave y Conejo",
          "Carnes - Ave y Conejo",
          "Carnes - Ave y Conejo",
          "Carnes - Ave y Conejo",
          "Carnes - Ave y Conejo",
          "Carnes - Ave y Conejo",
          "Carnes - Ave y Conejo",
          "Carnes - Ave y Conejo",
          "Carnes - Ave y Conejo",
          "Carnes - Ave y Conejo",
          "Carnes - Ave y Conejo",
          "Carnes - Ave y Conejo",
          "Carnes - Ave y Conejo",
          "Carnes - Ave y Conejo",
          "Carnes - Ave y Conejo",
          "Carnes - Ave y Conejo",
          "Carnes - Ave y Conejo",
          "Carnes - Hamburguesas",
          "Carnes - Hamburguesas",
          "Carnes - Hamburguesas",
          "Carnes - Hamburguesas",
          "Carnes - Hamburguesas",
          "Carnes - Hamburguesas",
          "Carnes - Hamburguesas",
          "Carnes - Hamburguesas",
          "Carnes - Cerdo y mixtas",
          "Carnes - Cerdo y mixtas",
          "Carnes - Cerdo y mixtas",
          "Carnes - Cerdo y mixtas",
          "Carnes - Cerdo y mixtas",
          "Carnes - Cerdo y mixtas",
          "Carnes - Cerdo y mixtas",
          "Carnes - Cerdo y mixtas",
          "Carnes - Cerdo y mixtas",
          "Carnes - Cerdo y mixtas",
          "Carnes - Cerdo y mixtas",
          "Carnes - Cerdo y mixtas",
          "Carnes - Cerdo y mixtas",
          "Carnes - Cerdo y mixtas",
          "Carnes - Cerdo y mixtas",
          "Carnes - Cerdo y mixtas",
          "Carnes - Cerdo y mixtas",
          "Carnes - Cerdo y mixtas",
          "Carnes - Cerdo y mixtas",
          "Carnes - Cerdo y mixtas",
          "Carnes - Cerdo y mixtas",
          "Carnes - Cerdo y mixtas",
          "Carnes - Cerdo y mixtas",
          "Carnes - Cerdo y mixtas",
          "Carnes - Cerdo y mixtas",
          "Carnes - Cerdo y mixtas",
          "Carnes - Cerdo y mixtas",
          "Carnes - Cerdo y mixtas",
          "Carnes - Cerdo y mixtas",
          "Cerdo",
          "Cordero",
          "Embutidos",
          "Refrigerados (HRC) - Embutido Fresco",
          "Calamares - Chipirones",
          "Carnes - Ave y Conejo",
          "Bogavantes y Langostas",
          "Bogavantes y Langostas",
          "Bogavantes y Langostas",
          "Bogavantes y Langostas",
          "Bogavantes y Langostas",
          "Bogavantes y Langostas",
          "Bogavantes y Langostas",
          "Bogavantes y Langostas",
          "Bogavantes y Langostas",
          "Bogavantes y Langostas",
          "Bogavantes y Langostas",
          "Bogavantes y Langostas",
          "Bogavantes y Langostas",
          "Bogavantes y Langostas",
          "Bogavantes y Langostas",
          "Mariscos Crudos - Bocas y cuerpos",
          "Mariscos Crudos - Bocas y cuerpos",
          "Mariscos Crudos - Bocas y cuerpos",
          "Mariscos Crudos - Bocas y cuerpos",
          "Mariscos Crudos - Bocas y cuerpos",
          "Mariscos Crudos - Bocas y cuerpos",
          "Mariscos Crudos - Bocas y cuerpos",
          "Mariscos Crudos - Bocas y cuerpos",
          "Mariscos Crudos - Bocas y cuerpos",
          "Mariscos Crudos - Bocas y cuerpos",
          "Mariscos Crudos - Bocas y cuerpos",
          "Mariscos Crudos - Camarón, Gambas Blancas y Similares",
          "Mariscos Crudos - Camarón, Gambas Blancas y Similares",
          "Mariscos Crudos - Camarón, Gambas Blancas y Similares",
          "Mariscos Crudos - Camarón, Gambas Blancas y Similares",
          "Mariscos Crudos - Camarón, Gambas Blancas y Similares",
          "Mariscos Crudos - Camarón, Gambas Blancas y Similares",
          "Mariscos Crudos - Cigalas y similares",
          "Mariscos Crudos - Cigalas y similares",
          "Mariscos Crudos - Cigalas y similares",
          "Mariscos Crudos - Cigalas y similares",
          "Mariscos Crudos - Cigalas y similares",
          "Mariscos Crudos - Cigalas y similares",
          "Mariscos Crudos - Cigalas y similares",
          "Mariscos Crudos - Cigalas y similares",
          "Mariscos Crudos - Cigalas y similares",
          "Mariscos Crudos - Cigalas y similares",
          "Mariscos Crudos - Cigalas y similares",
          "Mariscos Crudos - Cigalas y similares",
          "Mariscos Crudos - Cigalas y similares",
          "Mariscos Crudos - Cigalas y similares",
          "Mariscos Crudos - Cigalas y similares",
          "Mariscos Crudos - Cigalas y similares",
          "Mariscos Crudos - Cigalas y similares",
          "Mariscos Crudos - Cigalas y similares",
          "Mariscos Crudos - Cigalas y similares",
          "Mariscos Crudos - Cigalas y similares",
          "Mariscos Crudos - Cigalas y similares",
          "Mariscos Crudos - Cigalas y similares",
          "Mariscos Crudos - Cigalas y similares",
          "Mariscos Crudos - Cigalas y similares",
          "Mariscos Crudos - Cigalas y similares",
          "Mariscos Crudos - Cuerpos y Patas",
          "Mariscos Crudos - Cuerpos y Patas",
          "Mariscos Crudos - Gambas Rayadas",
          "Mariscos Crudos - Gambas Rayadas",
          "Mariscos Crudos - Gambas Rayadas",
          "Mariscos Crudos - Gambas Rayadas",
          "Mariscos Crudos - Gambas Rayadas",
          "Mariscos Crudos - Gambas Rayadas",
          "Mariscos Crudos - Gambas Rayadas",
          "Mariscos Crudos - Gambas Rayadas",
          "Mariscos Crudos - Gambas Rayadas",
          "Mariscos Crudos - Gambas Rayadas",
          "Mariscos Crudos - Gambas Rayadas",
          "Mariscos Crudos - Gambas Rayadas",
          "Mariscos Crudos - Gambas Rayadas",
          "Mariscos Crudos - Gambas Rayadas",
          "Mariscos Crudos - Gambas Rayadas",
          "Mariscos Crudos - Gambas Rayadas",
          "Mariscos Crudos - Gambas Rayadas",
          "Mariscos Crudos - Gambas Rayadas",
          "Mariscos Crudos - Gambón",
          "Mariscos Crudos - Gambón",
          "Mariscos Crudos - Gambón",
          "Mariscos Crudos - Gambón",
          "Mariscos Crudos - Gambón",
          "Mariscos Crudos - Gambón",
          "Mariscos Crudos - Gambón",
          "Mariscos Crudos - Gambón",
          "Mariscos Crudos - Gambón",
          "Mariscos Crudos - Langostinos",
          "Mariscos Crudos - Langostinos",
          "Mariscos Crudos - Langostinos",
          "Mariscos Crudos - Langostinos",
          "Mariscos Crudos - Langostinos",
          "Mariscos Crudos - Langostinos",
          "Mariscos Crudos - Langostinos",
          "Mariscos Crudos - Langostinos",
          "Mariscos Crudos - Langostinos",
          "Mariscos Crudos - Langostinos",
          "Mariscos Crudos - Langostinos",
          "Mariscos Crudos - Langostinos",
          "Mariscos Crudos - Langostinos",
          "Mariscos Crudos - Rojos Brillantes y Morunos",
          "Mariscos Crudos - Rojos Brillantes y Morunos",
          "Mariscos Crudos - Rojos Brillantes y Morunos",
          "Mariscos Crudos - Rojos Brillantes y Morunos",
          "Mariscos Crudos - Rojos Brillantes y Morunos",
          "Mariscos Crudos - Rojos Brillantes y Morunos",
          "Mariscos Crudos - Rojos Brillantes y Morunos",
          "Mariscos Crudos - Rojos Brillantes y Morunos",
          "Mariscos Crudos - Rojos Brillantes y Morunos",
          "Mariscos Crudos - Rojos Brillantes y Morunos",
          "Mariscos Crudos - Rojos Brillantes y Morunos",
          "Platos Preparados - Mariscos Cocidos",
          "Platos Preparados - Mariscos Cocidos",
          "Platos Preparados - Mariscos Cocidos",
          "Platos Preparados - Mariscos Cocidos",
          "Platos Preparados - Mariscos Cocidos",
          "Platos Preparados - Mariscos Cocidos",
          "Platos Preparados - Mariscos Cocidos",
          "Platos Preparados - Mariscos Cocidos",
          "Platos Preparados - Mariscos Cocidos",
          "Platos Preparados - Mariscos Cocidos",
          "Platos Preparados - Mariscos Cocidos",
          "Platos Preparados - Mariscos Cocidos",
          "Mariscos Crudos - Colas Peladas y con piel",
          "Mariscos Crudos - Colas Peladas y con piel",
          "Mariscos Crudos - Colas Peladas y con piel",
          "Mariscos Crudos - Colas Peladas y con piel",
          "Mariscos Crudos - Colas Peladas y con piel",
          "Mariscos Crudos - Colas Peladas y con piel",
          "Mariscos Crudos - Colas Peladas y con piel",
          "Mariscos Crudos - Colas Peladas y con piel",
          "Mariscos Crudos - Colas Peladas y con piel",
          "Mariscos Crudos - Colas Peladas y con piel",
          "Mariscos Crudos - Colas Peladas y con piel",
          "Mariscos Crudos - Colas Peladas y con piel",
          "Mariscos Crudos - Colas Peladas y con piel",
          "Mariscos Crudos - Colas Peladas y con piel",
          "Mariscos Crudos - Colas Peladas y con piel",
          "Mariscos Crudos - Colas Peladas y con piel",
          "Mariscos Crudos - Colas Peladas y con piel",
          "Mariscos Crudos - Colas Peladas y con piel",
          "Mariscos Crudos - Colas Peladas y con piel",
          "Mariscos Crudos - Colas Peladas y con piel",
          "Refrigerados - Pescados",
          "Refrigerados - Pescados",
          "Helados - Tartas",
          "Helados - Tartas",
          "Helados (HRC)",
          "Helados (HRC)",
          "Helados (HRC)",
          "Helados (HRC)",
          "Helados (HRC)",
          "Helados (HRC)",
          "Helados (HRC)",
          "Helados (HRC)",
          "Helados (HRC)",
          "Helados (HRC)",
          "Helados (HRC)",
          "Helados (HRC)",
          "Helados (HRC)",
          "Helados (HRC)",
          "Helados (HRC)",
          "Helados - Tarrinas y Vasitos",
          "Helados - Tarrinas y Vasitos",
          "Helados - Tarrinas y Vasitos",
          "Helados - Tarrinas y Vasitos",
          "Helados - Tarrinas y Vasitos",
          "Helados - Tarrinas y Vasitos",
          "Helados - Tarrinas y Vasitos",
          "Helados - Tarrinas y Vasitos",
          "Helados - Tarrinas y Vasitos",
          "Helados - Tarrinas y Vasitos",
          "Helados - Tarrinas y Vasitos",
          "Helados - Tarrinas y Vasitos",
          "Helados - Tarrinas y Vasitos",
          "Helados - Tarrinas y Vasitos",
          "Helados - Tarrinas y Vasitos",
          "Helados - Tarrinas y Vasitos",
          "Helados - Tarrinas y Vasitos",
          "Helados - Tarrinas y Vasitos",
          "Helados - Conos y Sándwiches",
          "Helados - Conos y Sándwiches",
          "Helados - Conos y Sándwiches",
          "Helados - Conos y Sándwiches",
          "Helados - Conos y Sándwiches",
          "Helados - Barras",
          "Helados - Barras",
          "Helados - Granizados y Hielo",
          "Helados - Granizados y Hielo",
          "Helados - Granizados y Hielo",
          "Helados - Granizados y Hielo",
          "Helados - Granizados y Hielo",
          "Helados - Granizados y Hielo",
          "Helados - Bombones y Castañas",
          "Helados - Bombones y Castañas",
          "Helados - Bombones y Castañas",
          "Helados - Bombones y Castañas",
          "Helados - Bombones y Castañas",
          "Helados - Bombones y Castañas",
          "Helados - Bombones y Castañas",
          "Helados - Surtidos",
          "Helados - Surtidos",
          "Helados - Surtidos",
          "Helados - Surtidos",
          "A - Helados - HI - Infantiles y Polos",
          "A - Helados - HI - Infantiles y Polos",
          "A - Helados - HI - Infantiles y Polos",
          "A - Helados - HI - Infantiles y Polos",
          "A - Helados - HI - Infantiles y Polos",
          "A - Helados - HI - Infantiles y Polos",
          "A - Helados - HI - Infantiles y Polos",
          "A - Helados - HI - Infantiles y Polos",
          "A - Helados - HI - Infantiles y Polos",
          "Helados - sand",
          "Helados - sand",
          "Helados - Sin Azúcar",
          "Helados - Sin Azúcar",
          "Helados - Sin Azúcar",
          "Helados - Sin Azúcar",
          "Libre servicio-Elaborados",
          "Libre servicio-Elaborados",
          "Libre servicio-Elaborados",
          "Libre servicio-Elaborados",
          "Libre servicio-Elaborados",
          "Libre servicio-Elaborados",
          "Libre servicio-Elaborados",
          "Libre servicio-Elaborados",
          "Libre servicio-Elaborados",
          "Libre servicio-Elaborados",
          "Libre servicio-Elaborados",
          "Libre servicio-Elaborados",
          "Libre servicio-Elaborados",
          "Libre servicio-Elaborados",
          "Libre servicio-Elaborados",
          "Libre servicio-Elaborados",
          "Libre servicio-Elaborados",
          "Libre servicio-Elaborados",
          "Libre servicio-Elaborados",
          "Libre servicio-Elaborados",
          "Libre servicio-Elaborados",
          "Libre servicio-Elaborados",
          "Precocinados del Mundo",
          "Refrigerados (HRC) - Lacteos",
          "Refrigerados (HRC) - Lacteos",
          "Refrigerados (HRC) - Lacteos",
          "Refrigerados (HRC) - Lacteos",
          "Refrigerados (HRC) - Salsas",
          "Refrigerados (HRC) - Salsas",
          "Refrigerados (HRC) - Curados, Cocidos y Adobados",
          "Refrigerados (HRC) - Curados, Cocidos y Adobados",
          "Refrigerados (HRC) - Curados, Cocidos y Adobados",
          "Refrigerados (HRC) - Curados, Cocidos y Adobados",
          "Refrigerados (HRC) - Curados, Cocidos y Adobados",
          "Refrigerados (HRC) - Curados, Cocidos y Adobados",
          "Refrigerados (HRC) - Curados, Cocidos y Adobados",
          "Refrigerados (HRC) - Curados, Cocidos y Adobados",
          "Refrigerados (HRC) - Curados, Cocidos y Adobados",
          "Refrigerados (HRC) - Curados, Cocidos y Adobados",
          "Refrigerados (HRC) - Curados, Cocidos y Adobados",
          "Refrigerados (HRC) - Carnes de Ternera",
          "Refrigerados RFR - Mantequilla-Levadura",
          "Salazones",
          "Salazones",
          "Salazones",
          "Salazones",
          "Salazones",
          "Salazones",
          "Salazones",
          "Salazones",
          "Salazones",
          "Salazones",
          "Salazones",
          "Salazones",
          "Salazones",
          "Salazones",
          "Salazones",
          "Salazones",
          "Salazones",
          "Salazones",
          "Salazones",
          "Salazones",
          "Salazones",
          "Salazones",
          "Salazones",
          "Salazones",
          "Salazones",
          "Salazones",
          "Salazones",
          "Salazones",
          "Salazones",
          "Salazones",
          "Salazones",
          "Salazones",
          "Salazones",
          "Salazones",
          "Salazones",
          "Salazones",
          "Salazones",
          "Salazones",
          "Salazones",
          "Salazones",
          "Salazones",
          "Salazones",
          "Salazones",
          "Salazones",
          "Refrigerados (HRC) - Pescados",
          "Refrigerados (HRC) - Pescados",
          "Refrigerados (HRC) - Pescados",
          "Refrigerados (HRC) - Pescados",
          "Refrigerados (HRC) - Pescados",
          "Refrigerados (HRC) - Pescados",
          "Refrigerados (HRC) - Pescados",
          "Refrigerados (HRC) - Pescados",
          "Refrigerados (HRC) - Pescados",
          "Refrigerados (HRC) - Pescados",
          "Refrigerados (HRC) - Pescados",
          "Refrigerados (HRC) - Pescados",
          "Refrigerados - Pescados",
          "Refrigerados - Pescados",
          "Ternera",
          "Elaborados",
          "Elaborados",
          "Elaborados",
          "Elaborados",
          "Elaborados",
          "Elaborados",
          "Elaborados",
          "Elaborados",
          "Elaborados",
          "Elaborados",
          "Elaborados",
          "Curados",
          "Curados",
          "Curados",
          "Curados",
          "Curados",
          "Curados",
          "Curados",
          "Curados",
          "Curados",
          "Curados",
          "Curados",
          "Curados",
          "Curados",
          "Curados",
          "Cocidos",
          "Cocidos",
          "Cocidos",
          "Cocidos",
          "Cocidos",
          "Cocidos",
          "Cocidos",
          "Cocidos",
          "Cocidos",
          "Cocidos",
          "Cocidos",
          "Cocidos",
          "Cocidos",
          "Jamones",
          "Jamones",
          "Jamones",
          "Jamones",
          "Jamones",
          "Jamones",
          "Jamones",
          "Quesos",
          "Quesos",
          "Quesos",
          "Quesos",
          "Quesos",
          "Quesos",
          "Quesos",
          "Quesos",
          "Quesos",
          "Quesos",
          "Quesos",
          "Quesos",
          "Quesos",
          "Quesos",
          "Quesos",
          "Quesos",
          "Quesos",
          "A - Conservas - SLS- Salsas",
          "RFR-ENSALADAS Y ENSALADILLAS",
          "RFR-ENSALADAS Y ENSALADILLAS",
          "RFR-ENSALADAS Y ENSALADILLAS",
          "RFR-ENSALADAS Y ENSALADILLAS",
          "RFR-ENSALADAS Y ENSALADILLAS",
          "RFR-ENSALADAS Y ENSALADILLAS",
          "RFR-ENSALADAS Y ENSALADILLAS",
          "Refrigerados RFR - Platos Preparados",
          "Refrigerados RFR - Salsas",
          "Refrigerados RFR - Salsas",
          "Refrigerados RFR - Salsas",
          "Refrigerados C - Cocidos - Salchichas",
          "Refrigerados C - Cocidos - Salchichas",
          "Refrigerados C - Cocidos - Salchichas",
          "Refrigerados C - Cocidos - Salchichas",
          "Refrigerados C - Cocidos - Piezas",
          "Refrigerados C - Curados - Loncheados",
          "Refrigerados C - Cocidos - Bacon",
          "Refrigerados C - Cocidos - Bacon",
          "Refrigerados C - Cocidos - Bacon",
          "Pan Tostado y Bollería Industrial",
          "Pan Tostado y Bollería Industrial",
          "Pan Tostado y Bollería Industrial",
          "Pan Tostado y Bollería Industrial",
          "Pan Tostado y Bollería Industrial",
          "Pan Tostado y Bollería Industrial",
          "Pan Tostado y Bollería Industrial",
          "Pan Tostado y Bollería Industrial",
          "Pan Tostado y Bollería Industrial",
          "Pan Tostado y Bollería Industrial",
          "Pan Tostado y Bollería Industrial",
          "Pan Tostado y Bollería Industrial",
          "Pan Tostado y Bollería Industrial",
          "Pan Tostado y Bollería Industrial",
          "Pan Tostado y Bollería Industrial",
          "Pan Tostado y Bollería Industrial",
          "Pan Tostado y Bollería Industrial",
          "Pan Tostado y Bollería Industrial",
          "Pan Tostado y Bollería Industrial",
          "Pan Tostado y Bollería Industrial",
          "Pan Tostado y Bollería Industrial",
          "Pan Horno Artesano",
          "Pan Horno Artesano",
          "Pan Horno Artesano",
          "Pan Horno Artesano",
          "Pan Horno Artesano",
          "Pan Horno Artesano",
          "Pan Horno Artesano",
          "Pan Horno Artesano",
          "Pan Horno Artesano",
          "Pan Horno Artesano",
          "Pan Horno Artesano",
          "Pan Horno Artesano",
          "Pan Horno Artesano",
          "Pan Horno Artesano",
          "Pan Horno Artesano",
          "Pan Horno Artesano",
          "Pan Horno Artesano",
          "Pan Horno Artesano",
          "Pan Horno Artesano",
          "Pan Horno Artesano",
          "Pan Horno Artesano",
          "Pan Horno Artesano",
          "Surtido salado Horno Artesano",
          "Surtido salado Horno Artesano",
          "Surtido salado Horno Artesano",
          "Surtido salado Horno Artesano",
          "Surtido salado Horno Artesano",
          "Surtido salado Horno Artesano",
          "Surtido salado Horno Artesano",
          "Surtido salado Horno Artesano",
          "Surtido salado Horno Artesano",
          "Surtido salado Horno Artesano",
          "Surtido salado Horno Artesano",
          "Surtido salado Horno Artesano",
          "Surtido salado Horno Artesano",
          "Surtido salado Horno Artesano",
          "Surtido salado Horno Artesano",
          "Surtido salado Horno Artesano",
          "Surtido salado Horno Artesano",
          "Bollería - Pasteles Horno Artesano",
          "Bollería - Pasteles Horno Artesano",
          "Bollería - Pasteles Horno Artesano",
          "Bollería - Pasteles Horno Artesano",
          "Bollería - Pasteles Horno Artesano",
          "Bollería - Pasteles Horno Artesano",
          "Bollería - Pasteles Horno Artesano",
          "Bollería - Pasteles Horno Artesano",
          "Bollería - Pasteles Horno Artesano",
          "Bollería - Pasteles Horno Artesano",
          "Bollería - Pasteles Horno Artesano",
          "Bollería - Pasteles Horno Artesano",
          "Bollería - Pasteles Horno Artesano",
          "Bollería - Pasteles Horno Artesano",
          "Bollería - Pasteles Horno Artesano",
          "Bollería - Pasteles Horno Artesano",
          "Bollería - Pasteles Horno Artesano",
          "Bollería - Pasteles Horno Artesano",
          "Bollería - Pasteles Horno Artesano",
          "Bollería - Pasteles Horno Artesano",
          "Bollería - Pasteles Horno Artesano",
          "Bollería - Pasteles Horno Artesano",
          "Bollería - Pasteles Horno Artesano",
          "Bollería - Pasteles Horno Artesano",
          "Bollería - Pasteles Horno Artesano",
          "Bollería - Pasteles Horno Artesano",
          "Bollería - Pasteles Horno Artesano",
          "Bollería - Pasteles Horno Artesano",
          "Bollería - Pasteles Horno Artesano",
          "Bollería - Pasteles Horno Artesano",
          "Bollería - Pasteles Horno Artesano",
          "Bollería - Pasteles Horno Artesano",
          "Bollería - Pasteles Horno Artesano",
          "Bollería - Pasteles Horno Artesano",
          "Bollería - Pasteles Horno Artesano",
          "Angulas y Ahumados",
          "Angulas y Ahumados",
          "Angulas y Ahumados",
          "Angulas y Ahumados",
          "Precocinados - Patatas",
          "Precocinados - Patatas",
          "Precocinados - Patatas",
          "Platos Preparados - Carnes",
          "Platos Preparados - Carnes",
          "Platos Preparados - Carnes",
          "Platos Preparados - Carnes",
          "Platos Preparados - Carnes",
          "Platos Preparados - Carnes",
          "Platos Preparados - Carnes",
          "Platos Preparados - Carnes",
          "Platos Preparados - Carnes",
          "Platos Preparados - Carnes",
          "Platos Preparados - Carnes",
          "Platos Preparados - Carnes",
          "Platos Preparados - Carnes",
          "Platos Preparados - Carnes",
          "Platos Preparados - Carnes",
          "Platos Preparados - Carnes",
          "Platos Preparados - Carnes",
          "Platos Preparados - Carnes",
          "Platos Preparados - Carnes",
          "Platos Preparados - Carnes",
          "Platos Preparados - Carnes",
          "Platos Preparados - Carnes",
          "Platos Preparados - Carnes",
          "Platos Preparados - Carnes",
          "Carnes - Cerdo y mixtas",
          "Platos Preparados - Arroces y Sopas",
          "Platos Preparados - Arroces y Sopas",
          "Platos Preparados - Arroces y Sopas",
          "Platos Preparados - Pastas y Carnes",
          "Platos Preparados - Varios",
          "Platos Preparados - Varios",
          "Platos Preparados - Varios",
          "Platos Preparados - Varios",
          "Platos Preparados - Varios",
          "Platos Preparados - Varios",
          "Platos Preparados - Varios",
          "Platos Preparados - Varios",
          "Precocinados del Mundo",
          "Pan Tostado y Bollería Industrial",
          "Pan Tostado y Bollería Industrial",
          "Pan Tostado y Bollería Industrial",
          "Pan Tostado y Bollería Industrial",
          "Pan Tostado y Bollería Industrial",
          "Pan Tostado y Bollería Industrial",
          "Pan Tostado y Bollería Industrial",
          "Huevos",
          "Huevos",
          "Huevos",
          "Huevos",
          "Huevos",
          "Huevos",
          "Huevos",
          "Aperitivos, Snacks",
          "Aperitivos, Snacks",
          "Aperitivos, Snacks",
          "Aperitivos, Snacks",
          "A - Aperitivos - APF- Frutos Secos",
          "A - Aperitivos - APF- Frutos Secos",
          "A - Aperitivos - APF- Frutos Secos",
          "A - Aperitivos - APF- Frutos Secos",
          "A - Aperitivos - APF- Frutos Secos",
          "A - Aperitivos - APF- Frutos Secos",
          "A - Aperitivos - APF- Frutos Secos",
          "A - Aperitivos - APF- Frutos Secos",
          "A - Aperitivos - APF- Frutos Secos",
          "A - Aperitivos - APF- Frutos Secos",
          "A - Aperitivos - APF- Frutos Secos",
          "A - Aperitivos - APF- Frutos Secos",
          "A - Aperitivos - APF- Frutos Secos",
          "A - Aperitivos - APF- Frutos Secos",
          "A - Aperitivos - APF- Frutos Secos",
          "A - Aperitivos - APF- Frutos Secos",
          "A - Aperitivos - APF- Frutos Secos",
          "A - Aperitivos - APF- Frutos Secos",
          "A - Aperitivos - APF- Frutos Secos",
          "A - Aperitivos - APF- Frutos Secos",
          "A - Aperitivos - APF- Frutos Secos",
          "A - Aperitivos - APF- Frutos Secos",
          "A - Aperitivos - APF- FS Temporada",
          "A - Aperitivos - APF- FS Temporada",
          "A - Aperitivos - APF- FS Temporada",
          "A - Aperitivos - APF- FS Temporada",
          "A - Cafés - CF - Cafés bebibles",
          "A - Cafés - CF - Cafés bebibles",
          "A - Cafés - CF - Cafés bebibles",
          "A - Cafés - CF - Cafés bebibles",
          "A - Conservas - Platos preparados",
          "A - Conservas - Platos preparados",
          "A - Conservas - Platos preparados",
          "A - Conservas - Platos preparados",
          "A - Conservas - Platos preparados",
          "A - Conservas - Platos preparados",
          "A - Conservas - Platos preparados",
          "A - Conservas - Platos preparados",
          "A - Conservas - Platos preparados",
          "A - Conservas - Platos preparados",
          "A - Conservas - Platos preparados",
          "A - Conservas - Platos preparados",
          "Conservas Vegetales",
          "Conservas Vegetales",
          "Conservas Vegetales",
          "Conservas Vegetales",
          "Conservas Vegetales",
          "Conservas Vegetales",
          "Conservas Vegetales",
          "A - Pastas",
          "A - Pastas",
          "A - Pastas",
          "A - Pastas",
          "A - Pastas",
          "A - Pastas",
          "A - Pastas",
          "A - Pastas",
          "A - Pastas",
          "A - Pastas",
          "A - Pastas",
          "A - Pastas",
          "A - Pastas",
          "A - Pastas",
          "A - Pastas",
          "A - Pastas",
          "A - Pastas",
          "A - Pastas",
          "A - Conservas - Confituras",
          "A - Conservas - Confituras",
          "A - Conservas - Confituras",
          "A - Conservas - Confituras",
          "A - Conservas - Confituras",
          "A - Conservas - Confituras",
          "A - Conservas - Confituras",
          "A - Conservas - SLS- Salsas",
          "A - Conservas - SLS- Salsas",
          "A - Conservas - SLS- Salsas",
          "A - Conservas - SLS- Salsas",
          "A - Conservas - SLS- Salsas",
          "A - Conservas - SLS- Salsas",
          "A - Conservas - SLS- Salsas",
          "A - Conservas - SLS- Salsas",
          "A - Conservas - SLS- Salsas",
          "A - Conservas - SLS- Salsas",
          "A - Conservas - SLS- Salsas",
          "A - Conservas - SLS- Salsas",
          "A - Conservas - SLS- Salsas",
          "A - Conservas - SLS- Salsas",
          "A - Conservas - SLS- Salsas",
          "A - Conservas - SLS- Salsas",
          "A - Conservas - SLS- Salsas",
          "A - Conservas - SLS- Salsas",
          "A - Conservas - SLS- Salsas",
          "A - Conservas - SLS- Salsas",
          "A - Conservas - SLS- Salsas",
          "A - Conservas - SLS- Salsas",
          "A - Conservas - SLS- Salsas",
          "A - Conservas - SLS- Salsas",
          "A - Conservas - SLS- Salsas",
          "A - Conservas - SLS- Salsas",
          "A - Conservas - SLS- Salsas",
          "A - Condiment - ESP- Carmencita",
          "A - Condiment - ESP- Carmencita",
          "A - Condiment - ESP- Carmencita",
          "A - Condiment - ESP- Carmencita",
          "A - Condiment - ESP- Carmencita",
          "A - Condiment - ESP- Carmencita",
          "A - Condiment - ESP- Carmencita",
          "A - Condiment - ESP- Carmencita",
          "A - Condiment - ESP- Carmencita",
          "A - Condiment - ESP- Carmencita",
          "A - Condiment - ESP- Carmencita",
          "A - Condiment - ESP- Carmencita",
          "A - Condiment - ESP- Carmencita",
          "A - Condiment - ESP- Carmencita",
          "A - Condiment - ESP- Carmencita",
          "A - Condiment - ESP- Carmencita",
          "A - Condiment - ESP- Carmencita",
          "A - Condiment - ESP- Carmencita",
          "A - Condiment - ESP- Carmencita",
          "A - Condiment - ESP- Carmencita",
          "A - Condiment - ESP- Carmencita",
          "A - Condiment - ESP- Carmencita",
          "A - Condiment - ESP- Carmencita",
          "A - Condiment - ESP- Carmencita",
          "A - Condiment - ESP- Carmencita",
          "A - Condiment - ESP- Carmencita",
          "A - Condiment - ESP- Carmencita",
          "A - Condiment - ESP- Carmencita",
          "A - Condiment - ESP- Carmencita",
          "A - Condiment - ESP- Carmencita",
          "A - Condiment - ESP- Carmencita",
          "A - Condiment - ESP- Carmencita",
          "A - Condiment - ESP- Carmencita",
          "A - Condiment - ESP- Carmencita",
          "A - Condiment - ESP- Carmencita",
          "A - Condiment - ESP- Carmencita",
          "A - Condiment - ESP- Carmencita",
          "A - Condiment - ESP- Carmencita",
          "A - Condiment - ESP- Carmencita",
          "A - Condiment - ESP- Carmencita",
          "A - Condiment - ESP- Carmencita",
          "A - Condiment - ESP- Carmencita",
          "A - Condiment - ESP- Carmencita",
          "A - Condiment - ESP- Carmencita",
          "A - Condiment - ESP- Carmencita",
          "A - Condiment - ESP- Carmencita",
          "A - Condiment - ESP- Carmencita",
          "A - Condiment - ESP- Carmencita",
          "A - Condiment - ESP- Carmencita",
          "A - Condiment - ESP- Carmencita",
          "A - Condiment - ESP- Carmencita",
          "A - Condiment - ESP- Carmencita",
          "A - Condiment - ESP- Carmencita",
          "A - Condiment - ESP- Carmencita",
          "A - Condiment - ESP- Carmencita",
          "A - Condiment - ESP- Carmencita",
          "A - Condiment - ESP- Carmencita",
          "A - Condiment - ESP- Carmencita",
          "A - Condiment - ESP- Carmencita",
          "A - Condiment - ESP- Carmencita",
          "A - Condiment - ESP- Carmencita",
          "A - Condiment - ESP- Carmencita",
          "A - Condiment - ESP- Carmencita",
          "A - Condiment - ESP- Carmencita",
          "A - Condiment - ESP- Carmencita",
          "A - Condiment - ESP- Carmencita",
          "A - Condiment - ESP- Carmencita",
          "A - Condiment - ESP- Carmencita",
          "A - Condiment - ESP- Carmencita",
          "A - Condiment - ESP- Carmencita",
          "A - Condiment - ESP- Carmencita",
          "A - Condiment - ESP- Carmencita",
          "A - Condimentos - ESP- La barraca",
          "A - Condimentos - ESP- La barraca",
          "A - Condimentos - ESP- La barraca",
          "A - Condimentos - ESP- La barraca",
          "A - Condimentos - ESP- La barraca",
          "A - Condimentos - ESP- La barraca",
          "A - Condimentos - ESP- La barraca",
          "A - Condimentos - ESP- La barraca",
          "A - Condimentos - ESP- La barraca",
          "A - Condimentos - ESP- La barraca",
          "A - Condimentos - ESP- La barraca",
          "A - Condimentos - ESP- La barraca",
          "A - Condimentos - ESP- La barraca",
          "A - Condimentos - ESP- La barraca",
          "A - Condimentos - ESP- La barraca",
          "A - Condimentos - ESP- La barraca",
          "A - Condimentos - ESP- La barraca",
          "A - Condimentos - ESP- La barraca",
          "A - Condimentos - ESP- La barraca",
          "Cereales y Pasta Seca",
          "Cereales y Pasta Seca",
          "Cereales y Pasta Seca",
          "Cereales y Pasta Seca",
          "Cereales y Pasta Seca",
          "Cereales y Pasta Seca",
          "Cereales y Pasta Seca",
          "Cereales y Pasta Seca",
          "Cereales y Pasta Seca",
          "B - V - Vinos - Tinto Crianza",
          "B - V - Vinos - Tinto Crianza",
          "B - V - Vinos - Tinto Crianza",
          "B - Bebidas alcoholicas y Licores - BA - Vermouth",
          "B - Bebidas alcoholicas y Licores - BA - Vermouth",
          "B - V - Vinos - Tinto Reserva",
          "B - V - Vinos - Tinto Reserva",
          "B - V - Vinos - Tinto Reserva",
          "B - V - Vinos - Blanco",
          "B - V - Vinos - Blanco",
          "B - V - Vinos - Blanco",
          "B - V - Vinos - Blanco",
          "B - V - Vinos - Blanco",
          "B - V - Vinos - Blanco",
          "B - V - Vinos - Blanco",
          "B - V - Vinos - Blanco",
          "B - V - Vinos - Blanco",
          "B - V - Vinos - Blanco",
          "B - V - Vinos - Blanco",
          "B - V - Vinos - Blanco",
          "B - V - Vinos - Blanco",
          "Aguas",
          "Aguas",
          "Aguas",
          "Aguas",
          "Aguas",
          "Aguas",
          "Aguas",
          "Aguas",
          "Aguas",
          "Aguas",
          "Aguas",
          "B - Agua - AG - Con Gas",
          "A - Aperitivos - AP - Snacks",
          "A - Aperitivos - AP - Snacks",
          "A - Aperitivos - AP - Snacks",
          "A - Aperitivos - AP - Snacks",
          "A - Aperitivos - AP - Snacks",
          "A - Aperitivos - AP - Snacks",
          "A - Aperitivos - AP - Snacks",
          "A - Aperitivos - AP - Snacks",
          "A - Aperitivos - AP - Snacks",
          "A - Aperitivos - AP - Snacks",
          "A - Aperitivos - AP - Snacks",
          "A - Aperitivos - AP - Snacks",
          "A - Aperitivos - AP - Snacks",
          "A - Aperitivos - AP - Snacks",
          "A - Aperitivos - AP - Snacks",
          "A - Aperitivos - AP - Snacks",
          "A - Legumbres  - LGC- Cocidas",
          "A - Legumbres  - LGC- Cocidas",
          "A - Legumbres  - LGC- Cocidas",
          "A - Legumbres  - LGC- Cocidas",
          "A - Legumbres  - LGC- Cocidas",
          "A - Legumbres  - LGC- Cocidas",
          "B - V - Vinos - Rosado",
          "B - V - Vinos - Rosado",
          "B - V - Vinos - Rosado",
          "B - V - Vinos - Rosado",
          "B - V - Vinos - Rosado",
          "B - V - Vinos - Aromatico",
          "Vinos/Cavas",
          "Vinos/Cavas",
          "Vinos/Cavas",
          "Conservas Pescado,Moluscos y Mariscos",
          "Conservas Pescado,Moluscos y Mariscos",
          "Conservas Pescado,Moluscos y Mariscos",
          "Conservas Pescado,Moluscos y Mariscos",
          "Conservas Pescado,Moluscos y Mariscos",
          "Conservas Pescado,Moluscos y Mariscos",
          "Conservas Pescado,Moluscos y Mariscos",
          "A - Conservas Pescado- Moluscos y Mariscos",
          "A - Conservas Pescado- Moluscos y Mariscos",
          "A - Conservas Pescado- Moluscos y Mariscos",
          "A - Conservas Pescado- Moluscos y Mariscos",
          "A - Conservas Pescado- Moluscos y Mariscos",
          "A - Conservas Pescado- Moluscos y Mariscos",
          "A - Conservas Pescado- Moluscos y Mariscos",
          "A - Conservas Pescado- Moluscos y Mariscos",
          "A - Conservas Pescado- Moluscos y Mariscos",
          "A - Conservas Pescado- Moluscos y Mariscos",
          "A - Conservas Pescado- Moluscos y Mariscos",
          "A - Conservas Pescado- Moluscos y Mariscos",
          "A - Conservas Pescado- Moluscos y Mariscos",
          "A - Conservas Pescado- Moluscos y Mariscos",
          "A - Conservas Pescado- Moluscos y Mariscos",
          "A - Conservas Pescado- Caballa",
          "A - Conservas Pescado- Caballa",
          "A - Conservas Pescado- Caballa",
          "A - Conservas Pescado- Caballa",
          "Aceites y Vinagres",
          "A - Pan de molde",
          "A - Pan de molde",
          "A - Pan de molde",
          "A - Pan de molde",
          "A - Pan de molde",
          "A - Pan de molde",
          "A - Pan de molde",
          "A - Pan de molde",
          "A - Pan de molde",
          "A - Pan de molde",
          "A - Pan de molde",
          "A - Pan de molde",
          "A - Pan de molde",
          "Galletas y Cereales",
          "Galletas y Cereales",
          "A - Aceites - ACT - Sansa",
          "A - Aceites - ACT - Sansa",
          "A - Aceites - ACT - Girasol/Semillas",
          "A - Aceitunas - AC - Aceitunas Rellenas",
          "A - Aceitunas - AC - Aceitunas Rellenas",
          "A - Aceitunas - AC - Aceitunas Rellenas",
          "A - Aceitunas - AC - Aceitunas Rellenas",
          "A - Aceitunas - AC - Aceitunas Rellenas",
          "A - Aceitunas - AC - Aceitunas Rellenas",
          "A - Aceitunas - AC - Aceitunas Rellenas",
          "A - Aceitunas - AC - Aceitunas Rellenas",
          "A - Aceitunas - AC - Aceitunas Rellenas",
          "A - Aceitunas - AC - Aceitunas Rellenas",
          "A - Aceitunas - AC - Aceitunas Rellenas",
          "A - Aceitunas - AC - Aceitunas Rellenas",
          "A - Aceitunas - AC - Aceitunas Rellenas",
          "A - Aceitunas - AC - Aceitunas Rellenas",
          "A - Aceitunas - AC - Aceitunas Rellenas",
          "A - Aceitunas - AC - Aceitunas Rellenas",
          "A - Aceitunas - AC - Aceitunas Rellenas",
          "A - Aceitunas - AC - Aceitunas Rellenas",
          "A - Aceitunas - AC - Aceitunas Rellenas",
          "A - Conservas - CSV-Verduras",
          "A - Conservas - CSV-Verduras",
          "A - Conservas - CSV-Verduras",
          "A - Conservas - CSV-Verduras",
          "A - Conservas - CSV-Verduras",
          "A - Conservas - CSV-Verduras",
          "A - Conservas - CSV-Verduras",
          "A - Conservas - CSV-Verduras",
          "A - Conservas - CSV-Verduras",
          "A - Conservas - CSV-Verduras",
          "A - Conservas - CSV-Verduras",
          "A - Conservas - CSV-Verduras",
          "A - Conservas - CSV-Verduras",
          "A - Conservas - CSV-Verduras",
          "A - Legumbres Secas",
          "A - Legumbres Secas",
          "A - Legumbres Secas",
          "A - Legumbres Secas",
          "Cafés, Infusiones y Preparado Postres",
          "A - Cafés - CF - Molidos",
          "A - Cafés - CF - Molidos",
          "A - Cafés - CF - Molidos",
          "A - Cafés - CF - Molidos",
          "A - Cafés - CF - Molidos",
          "A - Cafés - CF - Molidos",
          "A - Cafés - CF - Soluble",
          "A - Cafés - CF - Soluble",
          "A - Cafés - CF - Soluble",
          "A - Infusiones - INF - Infusiones",
          "A - Infusiones - INF - Infusiones",
          "A - Infusiones - INF - Infusiones",
          "A - Infusiones - INF - Infusiones",
          "A - Infusiones - INF - Infusiones",
          "A - Infusiones - INF - Infusiones",
          "A - Infusiones - INF - Infusiones",
          "A - Infusiones - INF - Infusiones",
          "A - Infusiones - INF - Infusiones",
          "A - Infusiones - INF - Infusiones",
          "B - Cerveza - CVZ - Sin Alcohol",
          "B - Cerveza - CVZ - Sin Alcohol",
          "B - Cerveza - CVZ - Sin Alcohol",
          "B - Refrescos - Coca cola bote",
          "B - Refrescos - Coca cola bote",
          "B - Refrescos - Coca cola bote",
          "B - Refrescos - Coca cola bote",
          "B - Refrescos - Coca cola bote",
          "B - Refrescos - Coca cola bote",
          "B - Refrescos - Coca cola bote",
          "B - Refrescos - RF- Naranja/Limón",
          "B - Refrescos - RF- Naranja/Limón",
          "B - Refrescos - RF- Naranja/Limón",
          "B - Refrescos - RF- Naranja/Limón",
          "B - Refrescos - RF- Sin Gas",
          "B - Refrescos - RF- Sin Gas",
          "B - Refrescos - RF- Sin Gas",
          "B - Refrescos - RF- Sin Gas",
          "B - Refrescos - RF- Sin Gas",
          "B - Refrescos - RF- Tónicas",
          "B - Refrescos - RF- Tónicas",
          "B - Refrescos - RF- Tónicas",
          "B - Refrescos - RF- Energéticas",
          "B - Refrescos - RF- Energéticas",
          "B - Refrescos - RF- Isotónicas",
          "B - Refrescos - RF- Isotónicas",
          "B - Refrescos - RF- Isotónicas",
          "B - Refrescos - RF- Isotónicas",
          "B - V - Tinto Verano/Sangria",
          "B - V - Tinto Verano/Sangria",
          "B - V - Tinto Verano/Sangria",
          "B - V - Tinto Verano/Sangria",
          "B - V - Tinto Verano/Sangria",
          "B - V - Tinto Verano/Sangria",
          "B - V - Tinto Verano/Sangria",
          "B - V - Tinto Verano/Sangria",
          "B - V - Tinto Verano/Sangria",
          "A - Conservas - CSV- Gazpachos",
          "A - Conservas Pescado- Atún",
          "A - Conservas Pescado- Atún",
          "A - Conservas Pescado- Atún",
          "A - Conservas Pescado- Atún",
          "A - Conservas Pescado- Atún",
          "A - Conservas Pescado- Atún",
          "A - Conservas Pescado- Atún",
          "A - Conservas Pescado- Atún",
          "A - Conservas Pescado- Atún",
          "A - Chocolate - CHR - Tabletas",
          "A - Chocolate - CHR - Tabletas",
          "A - Chocolate - CHR - Tabletas",
          "A - Chocolate - CHR - Tabletas",
          "A - Chocolate - CHR - Tabletas",
          "A - Chocolate - CHR - Tabletas",
          "A - Chocolate - CHR - Tabletas",
          "B - V - Vinos - Sidra",
          "A - Conservas - CSV-V - Tomate",
          "A - Conservas - CSV-V - Tomate",
          "A - Conservas - CSV-V - Tomate",
          "A - Conservas - CSV-V - Tomate",
          "A - Conservas - CSV-V - Tomate",
          "A - Conservas - CSV-V - Tomate",
          "A - Conservas - CSV-V - Tomate",
          "A - Conservas - CSV-V - Tomate",
          "A - Conservas - CSV-V - Tomate",
          "A - Conservas - CSV-V - Tomate",
          "A - Conservas - SLS-Tomate frito",
          "A - Conservas - SLS-Tomate frito",
          "A - Conservas - SLS-Tomate frito",
          "A - Conservas - SLS-Tomate frito",
          "A - Conservas - SLS-Tomate frito",
          "A - Conservas - SLS-Tomate frito",
          "A - Conservas - SLS-Tomate frito",
          "A - Conservas Pescado - Sardinas",
          "A - Conservas Pescado - Sardinas",
          "A - Conservas Pescado - Sardinas",
          "A - Conservas Pescado - Sardinas",
          "A - Conservas Pescado - Sardinas",
          "A - Conservas Pescado - Sardinas",
          "A - Conservas Pescado - Sardinas",
          "A - Conservas Pescado - Sardinas",
          "Conservas Dulces",
          "Conservas Dulces",
          "Conservas Dulces",
          "Conservas Dulces",
          "Conservas Dulces",
          "Conservas Dulces",
          "Conservas Dulces",
          "Conservas Dulces",
          "Conservas Dulces",
          "Conservas Dulces",
          "Conservas Dulces",
          "Platos Preparados,Sopas y Caldos",
          "B - Zumos - Z - Zumos",
          "B - Zumos - Z - Zumos",
          "B - Zumos - Z - Zumos",
          "B - Zumos - Z - Zumos",
          "B - Zumos - Z - Zumos",
          "B - Zumos - Z - Zumos",
          "B - Zumos - Z - Zumos",
          "Aceitunas",
          "Aceitunas",
          "Aceitunas",
          "Aceitunas",
          "Aceitunas",
          "A - Conservas - SLS- Salsas HORECA",
          "A - Conservas - SLS- Salsas HORECA",
          "A - Conservas - SLS- Salsas HORECA",
          "A - Conservas - CSV -Patés",
          "A - Conservas - CSV -Patés",
          "A - Conservas - CSV -Patés",
          "Batidos, Zumos y Leches",
          "Batidos, Zumos y Leches",
          "A - Arroces",
          "A - Arroces",
          "A - Arroces",
          "A - Arroces",
          "A - Arroces",
          "A - Arroces",
          "A - Arroces",
          "A - Arroces",
          "A - Arroces",
          "A - Arroces",
          "A - Harinas - HA - Harinas",
          "A - Harinas - HA - Harinas",
          "A - Harinas - HA - Harinas",
          "A - Harinas - HA - Harinas",
          "L - Leche - L - Entera",
          "L - Leche - L - Entera",
          "L - Leche - L - Entera",
          "L - Leche - L - Entera",
          "B - V - Vinos - Cavas",
          "B - V - Vinos - Cavas",
          "L - BT- Batidos",
          "L - BT- Batidos",
          "L - BT- Batidos",
          "L - BT- Batidos",
          "L - BT- Batidos",
          "L - BT- Batidos",
          "L - BT- Batidos",
          "A - Chocolate - CH - Bombones",
          "A - Chocolate - CH - Bombones",
          "A - Chocolate - CH - Bombones",
          "A - Chocolate - CH - Bombones",
          "A - Chocolate - CH - Bombones",
          "A - Chocolate - CH - Bombones",
          "A - BLL - Bollería Industrial",
          "A - BLL - Bollería Industrial",
          "A - BLL - Bollería Industrial",
          "A - BLL - Bollería Industrial",
          "A - BLL - Bollería Industrial",
          "A - BLL - Bollería Industrial",
          "A - BLL - Bollería Industrial",
          "A - BLL - Bollería Industrial",
          "A - BLL - Bollería Industrial",
          "A - BLL - Bollería Industrial",
          "A - BLL - Bollería Industrial",
          "A - BLL - Bollería Industrial",
          "A - BLL - Bollería Industrial",
          "A - BLL - Bollería Industrial",
          "A - BLL - Bollería Industrial",
          "A - BLL - Bollería Industrial",
          "A - BLL - Bollería Industrial",
          "A - BLL - Bollería Industrial",
          "A - BLL - Bollería Industrial",
          "A - BLL - Bollería Industrial",
          "A - BLL - Bollería Industrial",
          "A - BLL - Bollería Industrial",
          "A - BLL - Bollería Industrial",
          "A - BLL - Bollería Industrial",
          "A - BLL - Bollería Industrial",
          "A - BLL - Bollería Industrial",
          "A - BLL - Bollería Industrial",
          "A - BLL - Bollería Industrial",
          "A - BLL - Bollería Industrial",
          "A - BLL - Bollería Industrial",
          "A - BLL - Bollería Industrial",
          "A - BLL - Bollería Industrial",
          "A - BLL - Bollería Industrial",
          "A - BLL - Bollería Industrial",
          "A - BLL - Bollería Industrial",
          "A - BLL - Bollería Industrial",
          "A - BLL - Bollería Industrial",
          "A - BLL - Bollería Industrial",
          "A - BLL - Bollería Industrial",
          "A - BLL - Bollería Industrial",
          "A - BLL - Bollería Industrial",
          "A - BLL - Bollería Industrial",
          "A - BLL - Bollería Industrial",
          "A - BLL - Bollería Industrial",
          "A - BLL - Bollería Industrial",
          "A - BLL - Bollería Industrial",
          "A - BLL - Bollería Industrial",
          "A - BLL - Bollería Industrial",
          "A - BLL - Bollería Industrial",
          "A - BLL - Bollería Industrial",
          "A - BLL - Bollería Industrial",
          "A - Aperitivos - AP - Patatas Fritas",
          "A - Aperitivos - AP - Patatas Fritas",
          "A - Aperitivos - AP - Patatas Fritas",
          "A - Aperitivos - AP - Patatas Fritas",
          "A - Aperitivos - AP - Patatas Fritas",
          "A - Aperitivos - AP - Patatas Fritas",
          "A - Aperitivos - AP - Patatas Fritas",
          "A - Aperitivos - AP - Patatas Fritas",
          "A - Aperitivos - AP - Patatas Fritas",
          "A - Aperitivos - AP - Patatas Fritas",
          "A - Aperitivos - AP - Patatas Fritas",
          "B - V - Vinos - Tinto Joven",
          "B - V - Vinos - Tinto Joven",
          "B - V - Vinos - Tinto Joven",
          "B - V - Vinos - Tinto Joven",
          "B - V - Vinos - Tinto Joven",
          "B - V - Vinos - Tinto Joven",
          "B - V - Vinos - Tinto Joven",
          "B - V - Vinos - Tinto Joven",
          "A - Conservas - Caldos",
          "A - Conservas - Caldos",
          "A - Conservas - Caldos",
          "A - Conservas - Caldos",
          "A - Conservas - Caldos",
          "A - Conservas - Caldos",
          "A - Conservas - Caldos",
          "A - Conservas - Caldos",
          "A - Conservas - Caldos",
          "A - Aceites - ACT - Oliva",
          "A - Aceites - ACT - Oliva",
          "A - Aceites - ACT - Oliva",
          "A - Aceites - ACT - Oliva",
          "A - Aceites - ACT - Oliva",
          "A - Aceites - ACT - Oliva",
          "A - Aceites - ACT - Oliva",
          "A - Aceites - ACT - Oliva",
          "A - Aceites - ACT - Oliva",
          "A - Aceites - ACT - Oliva",
          "A - Aceites - ACT - Oliva",
          "A - AZ - Azucar/Edulcorante",
          "A - AZ - Azucar/Edulcorante",
          "B - RF- Coca cola botella",
          "B - Cerveza - CVZ - Lata Normal",
          "B - Cerveza - CVZ - Lata Normal",
          "B - Cerveza - CVZ - Lata Normal",
          "B - Cerveza - CVZ - Lata Normal",
          "B - Cerveza - CVZ - Lata Normal",
          "B - Cerveza - CVZ - Lata Normal",
          "B - Cerveza - CVZ - Lata Normal",
          "B - Cerveza - CVZ - Lata Normal",
          "B - Cerveza - CVZ - Lata Normal",
          "B - Cerveza - CVZ - Lata Normal",
          "B - Cerveza - CVZ - Lata Normal",
          "B - Cerveza - CVZ - Lata Normal",
          "A - Galletas - Saladas",
          "A - Galletas - Saladas",
          "A - Galletas - Saladas",
          "A - Galletas - Saladas",
          "A - Galletas - Saladas",
          "A - Pan - P - Tostado y Rallado",
          "A - Pan - P - Tostado y Rallado",
          "A - Pan - P - Tostado y Rallado",
          "A - Pan - P - Tostado y Rallado",
          "A - Pan - P - Tostado y Rallado",
          "A - Pan - P - Tostado y Rallado",
          "A - Pan - P - Tostado y Rallado",
          "A - Pan - P - Rosquilletas",
          "A - Pan - P - Rosquilletas",
          "A - Pan - P - Rosquilletas",
          "A - Pan - P - Rosquilletas",
          "A - Pan - P - Rosquilletas",
          "A - Pan - P - Rosquilletas",
          "A - Conservas - CSV-Sopas,cremas y purés",
          "A - Conservas - CSV-Sopas,cremas y purés",
          "A - Conservas - CSV-Sopas,cremas y purés",
          "A - Conservas - CSV-Sopas,cremas y purés",
          "A - Conservas - CSV-Sopas,cremas y purés",
          "A - Conservas - CSV-Sopas,cremas y purés",
          "A - Conservas - CSV-Sopas,cremas y purés",
          "A - Conservas - CSV-Sopas,cremas y purés",
          "A - Conservas - CSV-Sopas,cremas y purés",
          "A - Conservas - CSV-Sopas,cremas y purés",
          "A - Conservas - CSV-Sopas,cremas y purés",
          "A - Conservas - CSV-Sopas,cremas y purés",
          "A - Condimentos - VNG- Vinagres",
          "A - Condimentos - VNG- Vinagres",
          "A - Condimentos - VNG- Vinagres",
          "B - Refrescos - RF- Té",
          "B - Refrescos - RF- Gaseosas",
          "B - Refrescos - RF- Gaseosas",
          "B - Refrescos - RF- Gaseosas",
          "B - Refrescos - RF- Gaseosas",
          "B - Refrescos - RF- Gaseosas",
          "A - Galletas especiales",
          "A - Galletas especiales",
          "A - Galletas especiales",
          "A - Galletas especiales",
          "A - Galletas especiales",
          "A - Galletas especiales",
          "A - Galletas especiales",
          "A - Galletas especiales",
          "A - Galletas especiales",
          "A - Chocolate - CC - Soluble",
          "A - Chocolate - CC - Soluble",
          "A - Chocolate - CC - Soluble",
          "A - Chocolate - CC - Soluble",
          "A - Chocolate - CC - Soluble",
          "A - Chocolate - CC - Soluble",
          "A - Chocolate - CC - Soluble",
          "A - Chocolate - CC - Soluble",
          "A - Chocolate - CC - Soluble",
          "A - Surtido Navidad",
          "A - Surtido Navidad",
          "A - Surtido Navidad",
          "A - Surtido Navidad",
          "A - Surtido Navidad",
          "A - Surtido Navidad",
          "A - Surtido Navidad",
          "A - Galletas - GLD - Dieteticas",
          "A - Galletas - GLD - Dieteticas",
          "A - Galletas - GLD - Dieteticas",
          "A - Galletas - GLD - Dieteticas",
          "A - Galletas - GLD - Dieteticas",
          "A - Galletas - GLD - Dieteticas",
          "A - Galletas - GLD - Dieteticas",
          "A - Galletas - GLD - Dieteticas",
          "A - Galletas - Helado",
          "A - Chocolate - CCR - Cremas",
          "A - Chocolate - CCR - Cremas",
          "A - Chocolate - CCR - Cremas",
          "A - Chocolate - CCR - Cremas",
          "A - PP - Preparados para Postres",
          "A - PP - Preparados para Postres",
          "A - PP - Preparados para Postres",
          "A - PP - Preparados para Postres",
          "A - PP - Preparados para Postres",
          "A - PP - Preparados para Postres",
          "B - Zumos - Z - Fruta + Leche Pequeño",
          "B - Zumos - Z - Fruta + Leche Pequeño",
          "B - Zumos - Z - Fruta + Leche Pequeño",
          "L - Leche - H - Horchata",
          "L - Leche - H - Horchata",
          "L - Leche - H - Horchata",
          "L - Leche - L - Yogures y Flanes sin Frio",
          "L - Leche - L - Yogures y Flanes sin Frio",
          "L - Leche - L - Yogures y Flanes sin Frio",
          "L - Leche - L - Yogures y Flanes sin Frio",
          "L - Leche - L - Yogures y Flanes sin Frio",
          "L - Leche - L - Yogures y Flanes sin Frio",
          "A - Condimentos - S- Sal",
          "A - Condimentos - S- Sal",
          "A - Galletas -Rellenas",
          "A - Galletas -Rellenas",
          "A - Galletas -Rellenas",
          "A - Galletas -Rellenas",
          "A - Galletas -Rellenas",
          "A - Galletas -Rellenas",
          "A - Galletas -Rellenas",
          "A - Galletas -Rellenas",
          "A - Galletas -Rellenas",
          "A - Galletas -Rellenas",
          "A - Galletas -Rellenas",
          "A - Galletas -Rellenas",
          "A - Galletas -Rellenas",
          "A - Galletas -Rellenas",
          "A - Galletas -Rellenas",
          "A - Galletas -Rellenas",
          "A - Galletas -Rellenas",
          "A - Galletas -Rellenas",
          "A - Galletas -Rellenas",
          "A - Galletas -Rellenas",
          "A - Galletas -Rellenas",
          "A - Galletas -Rellenas",
          "A - Galletas -Rellenas",
          "A - Galletas -Rellenas",
          "A - Galletas -Rellenas",
          "A - Galletas -Rellenas",
          "A - Galletas -Rellenas",
          "A - Galletas -Rellenas",
          "A - Conservas - CSV-FRU - Frutas",
          "A - Conservas - CSV-FRU - Frutas",
          "A - Conservas - CSV-FRU - Frutas",
          "A - Conservas - CSV-FRU - Frutas",
          "A - Conservas - CSV-FRU - Frutas",
          "A - Conservas - CSV-FRU - Frutas",
          "A - Conservas - CSV-FRU - Frutas",
          "A - Aceitunas - AC - Encurtidos",
          "A - Aceitunas - AC - Encurtidos",
          "A - Aceitunas - AC - Encurtidos",
          "A - Aceitunas - AC - Encurtidos",
          "A - Aceitunas - AC - Encurtidos",
          "A - Aceitunas - AC - Encurtidos",
          "L - Leche - L - Natas",
          "L - Leche - L - Natas",
          "L - Leche - L - Natas",
          "B - Cerveza - CVZ - Lata Sin Alcohol",
          "B - Cerveza - CVZ - Lata Sin Alcohol",
          "B - Cerveza - CVZ - Lata Sin Alcohol",
          "B - Cerveza - CVZ - Lata Sin Alcohol",
          "B - Cerveza - CVZ - Litro",
          "B - Cerveza - CVZ - Litro",
          "B - Cerveza - CVZ - Botellin Normal",
          "B - Cerveza - CVZ - Botellin Normal",
          "B - Cerveza - CVZ - Botellin Normal",
          "B - Cerveza - CVZ - Botellin Normal",
          "B - Cerveza - CVZ - Botellin Normal",
          "B - Cerveza - CVZ - Botellin Normal",
          "B - Cerveza - CVZ - Botellin Normal",
          "B - Cerveza - CVZ - Botellin Normal",
          "A - Galletas",
          "A - Galletas",
          "A - Galletas",
          "A - Galletas",
          "A - Galletas",
          "A - Galletas",
          "A - Galletas",
          "A - Galletas",
          "A - Galletas",
          "A - Galletas",
          "A - Galletas",
          "A - Galletas",
          "L - Leche - LC - Condensada",
          "L - Leche - LC - Condensada",
          "A - Tostas y bocaditos",
          "A - Tostas y bocaditos",
          "A - Tostas y bocaditos",
          "A - Tostas y bocaditos",
          "A - Tostas y bocaditos",
          "A - Tostas y bocaditos",
          "A - Tostas y bocaditos",
          "A - Tostas y bocaditos",
          "A - Tostas y bocaditos",
          "A - Tostas y bocaditos",
          "A - Tostas y bocaditos",
          "B - Zumos - Z - Néctar",
          "B - Zumos - Z - Néctar",
          "B - Zumos - Z - Néctar",
          "B - Zumos - Z - Néctar",
          "B - Zumos - Z - Néctar",
          "B - Zumos - Z - Néctar",
          "B - Zumos - Z - Néctar",
          "B - Zumos - Z - Néctar",
          "B - Zumos - Z - Néctar",
          "B - Zumos - Z - Néctar",
          "B - Zumos - Z - Néctar",
          "B - Zumos - Z - Néctar",
          "B - Zumos - Z - Néctar",
          "B - Zumos - Z - Néctar",
          "B - Zumos - Z - Néctar",
          "L - Leche - L - Semidesnatada",
          "L - Leche - L - Semidesnatada",
          "L - Leche - L - Semidesnatada",
          "L - Leche - L - Semidesnatada",
          "L - Leche - L - Desnatada",
          "L - Leche - L - Desnatada",
          "L - Leche - L - Desnatada",
          "L - Leche - L - Desnatada",
          "L - Leche - L - Especiales",
          "L - Leche - L - Especiales",
          "L - Leche - L - Especiales",
          "L - Leche - L - Especiales",
          "L - Leche - L - Especiales",
          "L - Leche - L - Especiales",
          "L - Leche - L - Especiales",
          "L - Leche - L - Especiales",
          "A - Cafés - Cápsulas",
          "A - Cafés - Cápsulas",
          "A - Cafés - Cápsulas",
          "A - Cafés - Cápsulas",
          "A - Cafés - Cápsulas",
          "A - Cafés - Cápsulas",
          "A - Cafés - Cápsulas",
          "A - Cafés - Cápsulas",
          "A - Cafés - Cápsulas",
          "A - Cafés - Cápsulas",
          "A - Cafés - Cápsulas",
          "A - Cafés - Cápsulas",
          "A - Cafés - Cápsulas",
          "A - Cafés - Cápsulas",
          "Pastas - Canelones / Lasañas",
          "Pastas - Canelones / Lasañas",
          "Pastas - Canelones / Lasañas",
          "Pastas - Canelones / Lasañas",
          "Pastas - Canelones / Lasañas",
          "Pastas - Canelones / Lasañas",
          "Pastas - Canelones / Lasañas",
          "Pastas - Canelones / Lasañas",
          "Pastas - Canelones / Lasañas",
          "Pastas - Canelones / Lasañas",
          "Pastas - Canelones / Lasañas",
          "Pastas - Canelones / Lasañas",
          "Pastas - Canelones / Lasañas",
          "Pastas - Canelones / Lasañas",
          "Pastas - Canelones / Lasañas (HRC)",
          "Pastas - Canelones / Lasañas (HRC)",
          "Pizzas",
          "Pizzas",
          "Pizzas",
          "Pizzas",
          "Pizzas",
          "Pizzas",
          "Pizzas",
          "Pizzas",
          "Pizzas",
          "Pizzas",
          "Pizzas",
          "Pizzas",
          "Pizzas",
          "Pizzas",
          "Pizzas",
          "Pizzas",
          "Pizzas",
          "Pizzas",
          "Pizzas",
          "Pizzas",
          "Moluscos",
          "Moluscos",
          "Moluscos",
          "Moluscos",
          "Moluscos",
          "Moluscos",
          "Moluscos",
          "Moluscos",
          "Moluscos",
          "Moluscos",
          "Moluscos",
          "Moluscos",
          "Moluscos",
          "Moluscos",
          "Moluscos",
          "Moluscos",
          "Moluscos",
          "Moluscos",
          "Moluscos",
          "Moluscos",
          "Moluscos",
          "Moluscos",
          "Moluscos (HRC)",
          "Moluscos (HRC)",
          "Moluscos (HRC)",
          "Moluscos (HRC)",
          "Moluscos (HRC)",
          "Moluscos (HRC)",
          "Moluscos (HRC)",
          "Preparados / Frituras / Paellas / Sopas",
          "Entrantes y Primeros - Arroces",
          "Entrantes y Primeros - Arroces",
          "Entrantes y Primeros - Arroces",
          "Entrantes y Primeros - Ensaladas",
          "Entrantes y Primeros - Ensaladas",
          "Entrantes y Primeros - Ensaladas",
          "Entrantes y Primeros - Ensaladas",
          "Entrantes y Primeros - Ensaladas",
          "Entrantes y Primeros - Ensaladas",
          "Entrantes y Primeros - HRC",
          "Entrantes y Primeros - HRC",
          "Entrantes y Primeros - HRC",
          "Entrantes y Primeros - HRC",
          "Entrantes y Primeros - HRC",
          "Entrantes y Primeros - HRC",
          "Entrantes y Primeros - Revueltos",
          "Entrantes y Primeros - Revueltos",
          "Entrantes y Primeros - Salteados",
          "Entrantes y Primeros - Salteados",
          "Entrantes y Primeros - Salteados",
          "Entrantes y Primeros - Salteados",
          "Entrantes y Primeros - Salteados",
          "Entrantes y Primeros - Salteados",
          "Helados - Tarrinas y Vasitos",
          "Helados - Tarrinas y Vasitos",
          "Helados - Tarrinas y Vasitos",
          "Helados - Tarrinas y Vasitos",
          "Postres",
          "Postres",
          "Postres",
          "Postres",
          "Postres",
          "Repostería",
          "Repostería",
          "Repostería",
          "Repostería",
          "Repostería",
          "Repostería",
          "Repostería",
          "Repostería",
          "Repostería",
          "Repostería",
          "Repostería",
          "Repostería",
          "Churros y Porras",
          "Churros y Porras",
          "Churros y Porras",
          "Pan Tostado y Bollería Industrial"
         ],
         "yaxis": "y"
        }
       ],
       "layout": {
        "barmode": "relative",
        "legend": {
         "tracegroupgap": 0
        },
        "margin": {
         "t": 60
        },
        "template": {
         "data": {
          "bar": [
           {
            "error_x": {
             "color": "#2a3f5f"
            },
            "error_y": {
             "color": "#2a3f5f"
            },
            "marker": {
             "line": {
              "color": "#E5ECF6",
              "width": 0.5
             },
             "pattern": {
              "fillmode": "overlay",
              "size": 10,
              "solidity": 0.2
             }
            },
            "type": "bar"
           }
          ],
          "barpolar": [
           {
            "marker": {
             "line": {
              "color": "#E5ECF6",
              "width": 0.5
             },
             "pattern": {
              "fillmode": "overlay",
              "size": 10,
              "solidity": 0.2
             }
            },
            "type": "barpolar"
           }
          ],
          "carpet": [
           {
            "aaxis": {
             "endlinecolor": "#2a3f5f",
             "gridcolor": "white",
             "linecolor": "white",
             "minorgridcolor": "white",
             "startlinecolor": "#2a3f5f"
            },
            "baxis": {
             "endlinecolor": "#2a3f5f",
             "gridcolor": "white",
             "linecolor": "white",
             "minorgridcolor": "white",
             "startlinecolor": "#2a3f5f"
            },
            "type": "carpet"
           }
          ],
          "choropleth": [
           {
            "colorbar": {
             "outlinewidth": 0,
             "ticks": ""
            },
            "type": "choropleth"
           }
          ],
          "contour": [
           {
            "colorbar": {
             "outlinewidth": 0,
             "ticks": ""
            },
            "colorscale": [
             [
              0,
              "#0d0887"
             ],
             [
              0.1111111111111111,
              "#46039f"
             ],
             [
              0.2222222222222222,
              "#7201a8"
             ],
             [
              0.3333333333333333,
              "#9c179e"
             ],
             [
              0.4444444444444444,
              "#bd3786"
             ],
             [
              0.5555555555555556,
              "#d8576b"
             ],
             [
              0.6666666666666666,
              "#ed7953"
             ],
             [
              0.7777777777777778,
              "#fb9f3a"
             ],
             [
              0.8888888888888888,
              "#fdca26"
             ],
             [
              1,
              "#f0f921"
             ]
            ],
            "type": "contour"
           }
          ],
          "contourcarpet": [
           {
            "colorbar": {
             "outlinewidth": 0,
             "ticks": ""
            },
            "type": "contourcarpet"
           }
          ],
          "heatmap": [
           {
            "colorbar": {
             "outlinewidth": 0,
             "ticks": ""
            },
            "colorscale": [
             [
              0,
              "#0d0887"
             ],
             [
              0.1111111111111111,
              "#46039f"
             ],
             [
              0.2222222222222222,
              "#7201a8"
             ],
             [
              0.3333333333333333,
              "#9c179e"
             ],
             [
              0.4444444444444444,
              "#bd3786"
             ],
             [
              0.5555555555555556,
              "#d8576b"
             ],
             [
              0.6666666666666666,
              "#ed7953"
             ],
             [
              0.7777777777777778,
              "#fb9f3a"
             ],
             [
              0.8888888888888888,
              "#fdca26"
             ],
             [
              1,
              "#f0f921"
             ]
            ],
            "type": "heatmap"
           }
          ],
          "histogram": [
           {
            "marker": {
             "pattern": {
              "fillmode": "overlay",
              "size": 10,
              "solidity": 0.2
             }
            },
            "type": "histogram"
           }
          ],
          "histogram2d": [
           {
            "colorbar": {
             "outlinewidth": 0,
             "ticks": ""
            },
            "colorscale": [
             [
              0,
              "#0d0887"
             ],
             [
              0.1111111111111111,
              "#46039f"
             ],
             [
              0.2222222222222222,
              "#7201a8"
             ],
             [
              0.3333333333333333,
              "#9c179e"
             ],
             [
              0.4444444444444444,
              "#bd3786"
             ],
             [
              0.5555555555555556,
              "#d8576b"
             ],
             [
              0.6666666666666666,
              "#ed7953"
             ],
             [
              0.7777777777777778,
              "#fb9f3a"
             ],
             [
              0.8888888888888888,
              "#fdca26"
             ],
             [
              1,
              "#f0f921"
             ]
            ],
            "type": "histogram2d"
           }
          ],
          "histogram2dcontour": [
           {
            "colorbar": {
             "outlinewidth": 0,
             "ticks": ""
            },
            "colorscale": [
             [
              0,
              "#0d0887"
             ],
             [
              0.1111111111111111,
              "#46039f"
             ],
             [
              0.2222222222222222,
              "#7201a8"
             ],
             [
              0.3333333333333333,
              "#9c179e"
             ],
             [
              0.4444444444444444,
              "#bd3786"
             ],
             [
              0.5555555555555556,
              "#d8576b"
             ],
             [
              0.6666666666666666,
              "#ed7953"
             ],
             [
              0.7777777777777778,
              "#fb9f3a"
             ],
             [
              0.8888888888888888,
              "#fdca26"
             ],
             [
              1,
              "#f0f921"
             ]
            ],
            "type": "histogram2dcontour"
           }
          ],
          "mesh3d": [
           {
            "colorbar": {
             "outlinewidth": 0,
             "ticks": ""
            },
            "type": "mesh3d"
           }
          ],
          "parcoords": [
           {
            "line": {
             "colorbar": {
              "outlinewidth": 0,
              "ticks": ""
             }
            },
            "type": "parcoords"
           }
          ],
          "pie": [
           {
            "automargin": true,
            "type": "pie"
           }
          ],
          "scatter": [
           {
            "fillpattern": {
             "fillmode": "overlay",
             "size": 10,
             "solidity": 0.2
            },
            "type": "scatter"
           }
          ],
          "scatter3d": [
           {
            "line": {
             "colorbar": {
              "outlinewidth": 0,
              "ticks": ""
             }
            },
            "marker": {
             "colorbar": {
              "outlinewidth": 0,
              "ticks": ""
             }
            },
            "type": "scatter3d"
           }
          ],
          "scattercarpet": [
           {
            "marker": {
             "colorbar": {
              "outlinewidth": 0,
              "ticks": ""
             }
            },
            "type": "scattercarpet"
           }
          ],
          "scattergeo": [
           {
            "marker": {
             "colorbar": {
              "outlinewidth": 0,
              "ticks": ""
             }
            },
            "type": "scattergeo"
           }
          ],
          "scattergl": [
           {
            "marker": {
             "colorbar": {
              "outlinewidth": 0,
              "ticks": ""
             }
            },
            "type": "scattergl"
           }
          ],
          "scattermap": [
           {
            "marker": {
             "colorbar": {
              "outlinewidth": 0,
              "ticks": ""
             }
            },
            "type": "scattermap"
           }
          ],
          "scattermapbox": [
           {
            "marker": {
             "colorbar": {
              "outlinewidth": 0,
              "ticks": ""
             }
            },
            "type": "scattermapbox"
           }
          ],
          "scatterpolar": [
           {
            "marker": {
             "colorbar": {
              "outlinewidth": 0,
              "ticks": ""
             }
            },
            "type": "scatterpolar"
           }
          ],
          "scatterpolargl": [
           {
            "marker": {
             "colorbar": {
              "outlinewidth": 0,
              "ticks": ""
             }
            },
            "type": "scatterpolargl"
           }
          ],
          "scatterternary": [
           {
            "marker": {
             "colorbar": {
              "outlinewidth": 0,
              "ticks": ""
             }
            },
            "type": "scatterternary"
           }
          ],
          "surface": [
           {
            "colorbar": {
             "outlinewidth": 0,
             "ticks": ""
            },
            "colorscale": [
             [
              0,
              "#0d0887"
             ],
             [
              0.1111111111111111,
              "#46039f"
             ],
             [
              0.2222222222222222,
              "#7201a8"
             ],
             [
              0.3333333333333333,
              "#9c179e"
             ],
             [
              0.4444444444444444,
              "#bd3786"
             ],
             [
              0.5555555555555556,
              "#d8576b"
             ],
             [
              0.6666666666666666,
              "#ed7953"
             ],
             [
              0.7777777777777778,
              "#fb9f3a"
             ],
             [
              0.8888888888888888,
              "#fdca26"
             ],
             [
              1,
              "#f0f921"
             ]
            ],
            "type": "surface"
           }
          ],
          "table": [
           {
            "cells": {
             "fill": {
              "color": "#EBF0F8"
             },
             "line": {
              "color": "white"
             }
            },
            "header": {
             "fill": {
              "color": "#C8D4E3"
             },
             "line": {
              "color": "white"
             }
            },
            "type": "table"
           }
          ]
         },
         "layout": {
          "annotationdefaults": {
           "arrowcolor": "#2a3f5f",
           "arrowhead": 0,
           "arrowwidth": 1
          },
          "autotypenumbers": "strict",
          "coloraxis": {
           "colorbar": {
            "outlinewidth": 0,
            "ticks": ""
           }
          },
          "colorscale": {
           "diverging": [
            [
             0,
             "#8e0152"
            ],
            [
             0.1,
             "#c51b7d"
            ],
            [
             0.2,
             "#de77ae"
            ],
            [
             0.3,
             "#f1b6da"
            ],
            [
             0.4,
             "#fde0ef"
            ],
            [
             0.5,
             "#f7f7f7"
            ],
            [
             0.6,
             "#e6f5d0"
            ],
            [
             0.7,
             "#b8e186"
            ],
            [
             0.8,
             "#7fbc41"
            ],
            [
             0.9,
             "#4d9221"
            ],
            [
             1,
             "#276419"
            ]
           ],
           "sequential": [
            [
             0,
             "#0d0887"
            ],
            [
             0.1111111111111111,
             "#46039f"
            ],
            [
             0.2222222222222222,
             "#7201a8"
            ],
            [
             0.3333333333333333,
             "#9c179e"
            ],
            [
             0.4444444444444444,
             "#bd3786"
            ],
            [
             0.5555555555555556,
             "#d8576b"
            ],
            [
             0.6666666666666666,
             "#ed7953"
            ],
            [
             0.7777777777777778,
             "#fb9f3a"
            ],
            [
             0.8888888888888888,
             "#fdca26"
            ],
            [
             1,
             "#f0f921"
            ]
           ],
           "sequentialminus": [
            [
             0,
             "#0d0887"
            ],
            [
             0.1111111111111111,
             "#46039f"
            ],
            [
             0.2222222222222222,
             "#7201a8"
            ],
            [
             0.3333333333333333,
             "#9c179e"
            ],
            [
             0.4444444444444444,
             "#bd3786"
            ],
            [
             0.5555555555555556,
             "#d8576b"
            ],
            [
             0.6666666666666666,
             "#ed7953"
            ],
            [
             0.7777777777777778,
             "#fb9f3a"
            ],
            [
             0.8888888888888888,
             "#fdca26"
            ],
            [
             1,
             "#f0f921"
            ]
           ]
          },
          "colorway": [
           "#636efa",
           "#EF553B",
           "#00cc96",
           "#ab63fa",
           "#FFA15A",
           "#19d3f3",
           "#FF6692",
           "#B6E880",
           "#FF97FF",
           "#FECB52"
          ],
          "font": {
           "color": "#2a3f5f"
          },
          "geo": {
           "bgcolor": "white",
           "lakecolor": "white",
           "landcolor": "#E5ECF6",
           "showlakes": true,
           "showland": true,
           "subunitcolor": "white"
          },
          "hoverlabel": {
           "align": "left"
          },
          "hovermode": "closest",
          "mapbox": {
           "style": "light"
          },
          "paper_bgcolor": "white",
          "plot_bgcolor": "#E5ECF6",
          "polar": {
           "angularaxis": {
            "gridcolor": "white",
            "linecolor": "white",
            "ticks": ""
           },
           "bgcolor": "#E5ECF6",
           "radialaxis": {
            "gridcolor": "white",
            "linecolor": "white",
            "ticks": ""
           }
          },
          "scene": {
           "xaxis": {
            "backgroundcolor": "#E5ECF6",
            "gridcolor": "white",
            "gridwidth": 2,
            "linecolor": "white",
            "showbackground": true,
            "ticks": "",
            "zerolinecolor": "white"
           },
           "yaxis": {
            "backgroundcolor": "#E5ECF6",
            "gridcolor": "white",
            "gridwidth": 2,
            "linecolor": "white",
            "showbackground": true,
            "ticks": "",
            "zerolinecolor": "white"
           },
           "zaxis": {
            "backgroundcolor": "#E5ECF6",
            "gridcolor": "white",
            "gridwidth": 2,
            "linecolor": "white",
            "showbackground": true,
            "ticks": "",
            "zerolinecolor": "white"
           }
          },
          "shapedefaults": {
           "line": {
            "color": "#2a3f5f"
           }
          },
          "ternary": {
           "aaxis": {
            "gridcolor": "white",
            "linecolor": "white",
            "ticks": ""
           },
           "baxis": {
            "gridcolor": "white",
            "linecolor": "white",
            "ticks": ""
           },
           "bgcolor": "#E5ECF6",
           "caxis": {
            "gridcolor": "white",
            "linecolor": "white",
            "ticks": ""
           }
          },
          "title": {
           "x": 0.05
          },
          "xaxis": {
           "automargin": true,
           "gridcolor": "white",
           "linecolor": "white",
           "ticks": "",
           "title": {
            "standoff": 15
           },
           "zerolinecolor": "white",
           "zerolinewidth": 2
          },
          "yaxis": {
           "automargin": true,
           "gridcolor": "white",
           "linecolor": "white",
           "ticks": "",
           "title": {
            "standoff": 15
           },
           "zerolinecolor": "white",
           "zerolinewidth": 2
          }
         }
        },
        "xaxis": {
         "anchor": "y",
         "domain": [
          0,
          1
         ],
         "title": {
          "text": "count"
         }
        },
        "yaxis": {
         "anchor": "x",
         "domain": [
          0,
          1
         ],
         "title": {
          "text": "Grupo"
         }
        }
       }
      }
     },
     "metadata": {},
     "output_type": "display_data"
    }
   ],
   "source": [
    "print(abordo.loc[:,\"Grupo\"].value_counts())\n",
    "px.histogram(abordo,\n",
    "            y=\"Grupo\",\n",
    "            nbins=15,\n",
    "            )"
   ]
  },
  {
   "cell_type": "code",
   "execution_count": 8,
   "id": "5c8279f1",
   "metadata": {},
   "outputs": [
    {
     "name": "stdout",
     "output_type": "stream",
     "text": [
      "Formato_Venta\n",
      "UND    1574\n",
      "KG      464\n",
      "kg        1\n",
      "Name: count, dtype: int64\n"
     ]
    }
   ],
   "source": [
    "print(abordo.loc[:,\"Formato_Venta\"].value_counts())\n",
    "\n"
   ]
  },
  {
   "cell_type": "markdown",
   "id": "d2e9fd53",
   "metadata": {},
   "source": [
    "#### Variables Numéricas (Costo (€), Precio de venta (€)):\n",
    "\n"
   ]
  },
  {
   "cell_type": "code",
   "execution_count": 9,
   "id": "4ed0b4b3",
   "metadata": {},
   "outputs": [
    {
     "data": {
      "text/html": [
       "<div>\n",
       "<style scoped>\n",
       "    .dataframe tbody tr th:only-of-type {\n",
       "        vertical-align: middle;\n",
       "    }\n",
       "\n",
       "    .dataframe tbody tr th {\n",
       "        vertical-align: top;\n",
       "    }\n",
       "\n",
       "    .dataframe thead th {\n",
       "        text-align: right;\n",
       "    }\n",
       "</style>\n",
       "<table border=\"1\" class=\"dataframe\">\n",
       "  <thead>\n",
       "    <tr style=\"text-align: right;\">\n",
       "      <th></th>\n",
       "      <th>Coste (€)</th>\n",
       "      <th>Precio de venta (€)</th>\n",
       "    </tr>\n",
       "  </thead>\n",
       "  <tbody>\n",
       "    <tr>\n",
       "      <th>count</th>\n",
       "      <td>2039.000000</td>\n",
       "      <td>2039.000000</td>\n",
       "    </tr>\n",
       "    <tr>\n",
       "      <th>mean</th>\n",
       "      <td>7.844169</td>\n",
       "      <td>28.770574</td>\n",
       "    </tr>\n",
       "    <tr>\n",
       "      <th>std</th>\n",
       "      <td>4.132797</td>\n",
       "      <td>17.131456</td>\n",
       "    </tr>\n",
       "    <tr>\n",
       "      <th>min</th>\n",
       "      <td>0.500000</td>\n",
       "      <td>4.010000</td>\n",
       "    </tr>\n",
       "    <tr>\n",
       "      <th>25%</th>\n",
       "      <td>4.220000</td>\n",
       "      <td>14.735000</td>\n",
       "    </tr>\n",
       "    <tr>\n",
       "      <th>50%</th>\n",
       "      <td>8.000000</td>\n",
       "      <td>25.000000</td>\n",
       "    </tr>\n",
       "    <tr>\n",
       "      <th>75%</th>\n",
       "      <td>11.405000</td>\n",
       "      <td>39.525000</td>\n",
       "    </tr>\n",
       "    <tr>\n",
       "      <th>max</th>\n",
       "      <td>14.990000</td>\n",
       "      <td>73.560000</td>\n",
       "    </tr>\n",
       "  </tbody>\n",
       "</table>\n",
       "</div>"
      ],
      "text/plain": [
       "         Coste (€)  Precio de venta (€)\n",
       "count  2039.000000          2039.000000\n",
       "mean      7.844169            28.770574\n",
       "std       4.132797            17.131456\n",
       "min       0.500000             4.010000\n",
       "25%       4.220000            14.735000\n",
       "50%       8.000000            25.000000\n",
       "75%      11.405000            39.525000\n",
       "max      14.990000            73.560000"
      ]
     },
     "execution_count": 9,
     "metadata": {},
     "output_type": "execute_result"
    }
   ],
   "source": [
    "abordo.describe()"
   ]
  },
  {
   "cell_type": "code",
   "execution_count": 10,
   "id": "8d72ab54",
   "metadata": {},
   "outputs": [
    {
     "data": {
      "text/plain": [
       "<Axes: xlabel='Coste (€)', ylabel='Count'>"
      ]
     },
     "execution_count": 10,
     "metadata": {},
     "output_type": "execute_result"
    },
    {
     "data": {
      "image/png": "[encoded data removed]",
      "text/plain": [
       "<Figure size 640x480 with 1 Axes>"
      ]
     },
     "metadata": {},
     "output_type": "display_data"
    }
   ],
   "source": [
    "sns.histplot(abordo.loc[:,\"Coste (€)\"])"
   ]
  },
  {
   "cell_type": "code",
   "execution_count": 11,
   "id": "fd943c9b",
   "metadata": {},
   "outputs": [
    {
     "data": {
      "text/plain": [
       "<Axes: xlabel='Precio de venta (€)', ylabel='Count'>"
      ]
     },
     "execution_count": 11,
     "metadata": {},
     "output_type": "execute_result"
    },
    {
     "data": {
      "image/png": "[encoded data removed]",
      "text/plain": [
       "<Figure size 640x480 with 1 Axes>"
      ]
     },
     "metadata": {},
     "output_type": "display_data"
    }
   ],
   "source": [
    "sns.histplot(abordo.loc[:,\"Precio de venta (€)\"])"
   ]
  },
  {
   "cell_type": "markdown",
   "id": "754796ff",
   "metadata": {},
   "source": [
    " ### Gráficas Bidimensionales (Análisis de relaciones entre variables):"
   ]
  },
  {
   "cell_type": "markdown",
   "id": "a62cd4a3",
   "metadata": {},
   "source": [
    "#### Frecuencia por Grupo"
   ]
  },
  {
   "cell_type": "code",
   "execution_count": 12,
   "id": "45806fe4",
   "metadata": {},
   "outputs": [
    {
     "data": {
      "application/vnd.plotly.v1+json": {
       "config": {
        "plotlyServerURL": "https://plot.ly"
       },
       "data": [
        {
         "hovertemplate": "Grupo=%{x}<br>Frecuencia=%{y}<extra></extra>",
         "legendgroup": "",
         "marker": {
          "color": "#636efa",
          "pattern": {
           "shape": ""
          }
         },
         "name": "",
         "orientation": "v",
         "showlegend": false,
         "textposition": "auto",
         "type": "bar",
         "x": [
          "A - Condiment - ESP- Carmencita",
          "A - BLL - Bollería Industrial",
          "Salazones",
          "Bollería - Pasteles Horno Artesano",
          "Carnes - Cerdo y mixtas",
          "MONOPRODUCTO - Formato Horeca",
          "Pan Tostado y Bollería Industrial",
          "Sepias - Enteras / Limpias / Derivados",
          "A - Conservas - SLS- Salsas",
          "Platos Preparados - Carnes",
          "A - Galletas -Rellenas",
          "Bacalao",
          "Pescados - Azules",
          "Mariscos Crudos - Cigalas y similares",
          "Carnes - Ave y Conejo"
         ],
         "xaxis": "x",
         "y": {
          "bdata": "SDMsIx4eHRwcHBwZGRkY",
          "dtype": "i1"
         },
         "yaxis": "y"
        }
       ],
       "layout": {
        "barmode": "relative",
        "legend": {
         "tracegroupgap": 0
        },
        "template": {
         "data": {
          "bar": [
           {
            "error_x": {
             "color": "#2a3f5f"
            },
            "error_y": {
             "color": "#2a3f5f"
            },
            "marker": {
             "line": {
              "color": "#E5ECF6",
              "width": 0.5
             },
             "pattern": {
              "fillmode": "overlay",
              "size": 10,
              "solidity": 0.2
             }
            },
            "type": "bar"
           }
          ],
          "barpolar": [
           {
            "marker": {
             "line": {
              "color": "#E5ECF6",
              "width": 0.5
             },
             "pattern": {
              "fillmode": "overlay",
              "size": 10,
              "solidity": 0.2
             }
            },
            "type": "barpolar"
           }
          ],
          "carpet": [
           {
            "aaxis": {
             "endlinecolor": "#2a3f5f",
             "gridcolor": "white",
             "linecolor": "white",
             "minorgridcolor": "white",
             "startlinecolor": "#2a3f5f"
            },
            "baxis": {
             "endlinecolor": "#2a3f5f",
             "gridcolor": "white",
             "linecolor": "white",
             "minorgridcolor": "white",
             "startlinecolor": "#2a3f5f"
            },
            "type": "carpet"
           }
          ],
          "choropleth": [
           {
            "colorbar": {
             "outlinewidth": 0,
             "ticks": ""
            },
            "type": "choropleth"
           }
          ],
          "contour": [
           {
            "colorbar": {
             "outlinewidth": 0,
             "ticks": ""
            },
            "colorscale": [
             [
              0,
              "#0d0887"
             ],
             [
              0.1111111111111111,
              "#46039f"
             ],
             [
              0.2222222222222222,
              "#7201a8"
             ],
             [
              0.3333333333333333,
              "#9c179e"
             ],
             [
              0.4444444444444444,
              "#bd3786"
             ],
             [
              0.5555555555555556,
              "#d8576b"
             ],
             [
              0.6666666666666666,
              "#ed7953"
             ],
             [
              0.7777777777777778,
              "#fb9f3a"
             ],
             [
              0.8888888888888888,
              "#fdca26"
             ],
             [
              1,
              "#f0f921"
             ]
            ],
            "type": "contour"
           }
          ],
          "contourcarpet": [
           {
            "colorbar": {
             "outlinewidth": 0,
             "ticks": ""
            },
            "type": "contourcarpet"
           }
          ],
          "heatmap": [
           {
            "colorbar": {
             "outlinewidth": 0,
             "ticks": ""
            },
            "colorscale": [
             [
              0,
              "#0d0887"
             ],
             [
              0.1111111111111111,
              "#46039f"
             ],
             [
              0.2222222222222222,
              "#7201a8"
             ],
             [
              0.3333333333333333,
              "#9c179e"
             ],
             [
              0.4444444444444444,
              "#bd3786"
             ],
             [
              0.5555555555555556,
              "#d8576b"
             ],
             [
              0.6666666666666666,
              "#ed7953"
             ],
             [
              0.7777777777777778,
              "#fb9f3a"
             ],
             [
              0.8888888888888888,
              "#fdca26"
             ],
             [
              1,
              "#f0f921"
             ]
            ],
            "type": "heatmap"
           }
          ],
          "histogram": [
           {
            "marker": {
             "pattern": {
              "fillmode": "overlay",
              "size": 10,
              "solidity": 0.2
             }
            },
            "type": "histogram"
           }
          ],
          "histogram2d": [
           {
            "colorbar": {
             "outlinewidth": 0,
             "ticks": ""
            },
            "colorscale": [
             [
              0,
              "#0d0887"
             ],
             [
              0.1111111111111111,
              "#46039f"
             ],
             [
              0.2222222222222222,
              "#7201a8"
             ],
             [
              0.3333333333333333,
              "#9c179e"
             ],
             [
              0.4444444444444444,
              "#bd3786"
             ],
             [
              0.5555555555555556,
              "#d8576b"
             ],
             [
              0.6666666666666666,
              "#ed7953"
             ],
             [
              0.7777777777777778,
              "#fb9f3a"
             ],
             [
              0.8888888888888888,
              "#fdca26"
             ],
             [
              1,
              "#f0f921"
             ]
            ],
            "type": "histogram2d"
           }
          ],
          "histogram2dcontour": [
           {
            "colorbar": {
             "outlinewidth": 0,
             "ticks": ""
            },
            "colorscale": [
             [
              0,
              "#0d0887"
             ],
             [
              0.1111111111111111,
              "#46039f"
             ],
             [
              0.2222222222222222,
              "#7201a8"
             ],
             [
              0.3333333333333333,
              "#9c179e"
             ],
             [
              0.4444444444444444,
              "#bd3786"
             ],
             [
              0.5555555555555556,
              "#d8576b"
             ],
             [
              0.6666666666666666,
              "#ed7953"
             ],
             [
              0.7777777777777778,
              "#fb9f3a"
             ],
             [
              0.8888888888888888,
              "#fdca26"
             ],
             [
              1,
              "#f0f921"
             ]
            ],
            "type": "histogram2dcontour"
           }
          ],
          "mesh3d": [
           {
            "colorbar": {
             "outlinewidth": 0,
             "ticks": ""
            },
            "type": "mesh3d"
           }
          ],
          "parcoords": [
           {
            "line": {
             "colorbar": {
              "outlinewidth": 0,
              "ticks": ""
             }
            },
            "type": "parcoords"
           }
          ],
          "pie": [
           {
            "automargin": true,
            "type": "pie"
           }
          ],
          "scatter": [
           {
            "fillpattern": {
             "fillmode": "overlay",
             "size": 10,
             "solidity": 0.2
            },
            "type": "scatter"
           }
          ],
          "scatter3d": [
           {
            "line": {
             "colorbar": {
              "outlinewidth": 0,
              "ticks": ""
             }
            },
            "marker": {
             "colorbar": {
              "outlinewidth": 0,
              "ticks": ""
             }
            },
            "type": "scatter3d"
           }
          ],
          "scattercarpet": [
           {
            "marker": {
             "colorbar": {
              "outlinewidth": 0,
              "ticks": ""
             }
            },
            "type": "scattercarpet"
           }
          ],
          "scattergeo": [
           {
            "marker": {
             "colorbar": {
              "outlinewidth": 0,
              "ticks": ""
             }
            },
            "type": "scattergeo"
           }
          ],
          "scattergl": [
           {
            "marker": {
             "colorbar": {
              "outlinewidth": 0,
              "ticks": ""
             }
            },
            "type": "scattergl"
           }
          ],
          "scattermap": [
           {
            "marker": {
             "colorbar": {
              "outlinewidth": 0,
              "ticks": ""
             }
            },
            "type": "scattermap"
           }
          ],
          "scattermapbox": [
           {
            "marker": {
             "colorbar": {
              "outlinewidth": 0,
              "ticks": ""
             }
            },
            "type": "scattermapbox"
           }
          ],
          "scatterpolar": [
           {
            "marker": {
             "colorbar": {
              "outlinewidth": 0,
              "ticks": ""
             }
            },
            "type": "scatterpolar"
           }
          ],
          "scatterpolargl": [
           {
            "marker": {
             "colorbar": {
              "outlinewidth": 0,
              "ticks": ""
             }
            },
            "type": "scatterpolargl"
           }
          ],
          "scatterternary": [
           {
            "marker": {
             "colorbar": {
              "outlinewidth": 0,
              "ticks": ""
             }
            },
            "type": "scatterternary"
           }
          ],
          "surface": [
           {
            "colorbar": {
             "outlinewidth": 0,
             "ticks": ""
            },
            "colorscale": [
             [
              0,
              "#0d0887"
             ],
             [
              0.1111111111111111,
              "#46039f"
             ],
             [
              0.2222222222222222,
              "#7201a8"
             ],
             [
              0.3333333333333333,
              "#9c179e"
             ],
             [
              0.4444444444444444,
              "#bd3786"
             ],
             [
              0.5555555555555556,
              "#d8576b"
             ],
             [
              0.6666666666666666,
              "#ed7953"
             ],
             [
              0.7777777777777778,
              "#fb9f3a"
             ],
             [
              0.8888888888888888,
              "#fdca26"
             ],
             [
              1,
              "#f0f921"
             ]
            ],
            "type": "surface"
           }
          ],
          "table": [
           {
            "cells": {
             "fill": {
              "color": "#EBF0F8"
             },
             "line": {
              "color": "white"
             }
            },
            "header": {
             "fill": {
              "color": "#C8D4E3"
             },
             "line": {
              "color": "white"
             }
            },
            "type": "table"
           }
          ]
         },
         "layout": {
          "annotationdefaults": {
           "arrowcolor": "#2a3f5f",
           "arrowhead": 0,
           "arrowwidth": 1
          },
          "autotypenumbers": "strict",
          "coloraxis": {
           "colorbar": {
            "outlinewidth": 0,
            "ticks": ""
           }
          },
          "colorscale": {
           "diverging": [
            [
             0,
             "#8e0152"
            ],
            [
             0.1,
             "#c51b7d"
            ],
            [
             0.2,
             "#de77ae"
            ],
            [
             0.3,
             "#f1b6da"
            ],
            [
             0.4,
             "#fde0ef"
            ],
            [
             0.5,
             "#f7f7f7"
            ],
            [
             0.6,
             "#e6f5d0"
            ],
            [
             0.7,
             "#b8e186"
            ],
            [
             0.8,
             "#7fbc41"
            ],
            [
             0.9,
             "#4d9221"
            ],
            [
             1,
             "#276419"
            ]
           ],
           "sequential": [
            [
             0,
             "#0d0887"
            ],
            [
             0.1111111111111111,
             "#46039f"
            ],
            [
             0.2222222222222222,
             "#7201a8"
            ],
            [
             0.3333333333333333,
             "#9c179e"
            ],
            [
             0.4444444444444444,
             "#bd3786"
            ],
            [
             0.5555555555555556,
             "#d8576b"
            ],
            [
             0.6666666666666666,
             "#ed7953"
            ],
            [
             0.7777777777777778,
             "#fb9f3a"
            ],
            [
             0.8888888888888888,
             "#fdca26"
            ],
            [
             1,
             "#f0f921"
            ]
           ],
           "sequentialminus": [
            [
             0,
             "#0d0887"
            ],
            [
             0.1111111111111111,
             "#46039f"
            ],
            [
             0.2222222222222222,
             "#7201a8"
            ],
            [
             0.3333333333333333,
             "#9c179e"
            ],
            [
             0.4444444444444444,
             "#bd3786"
            ],
            [
             0.5555555555555556,
             "#d8576b"
            ],
            [
             0.6666666666666666,
             "#ed7953"
            ],
            [
             0.7777777777777778,
             "#fb9f3a"
            ],
            [
             0.8888888888888888,
             "#fdca26"
            ],
            [
             1,
             "#f0f921"
            ]
           ]
          },
          "colorway": [
           "#636efa",
           "#EF553B",
           "#00cc96",
           "#ab63fa",
           "#FFA15A",
           "#19d3f3",
           "#FF6692",
           "#B6E880",
           "#FF97FF",
           "#FECB52"
          ],
          "font": {
           "color": "#2a3f5f"
          },
          "geo": {
           "bgcolor": "white",
           "lakecolor": "white",
           "landcolor": "#E5ECF6",
           "showlakes": true,
           "showland": true,
           "subunitcolor": "white"
          },
          "hoverlabel": {
           "align": "left"
          },
          "hovermode": "closest",
          "mapbox": {
           "style": "light"
          },
          "paper_bgcolor": "white",
          "plot_bgcolor": "#E5ECF6",
          "polar": {
           "angularaxis": {
            "gridcolor": "white",
            "linecolor": "white",
            "ticks": ""
           },
           "bgcolor": "#E5ECF6",
           "radialaxis": {
            "gridcolor": "white",
            "linecolor": "white",
            "ticks": ""
           }
          },
          "scene": {
           "xaxis": {
            "backgroundcolor": "#E5ECF6",
            "gridcolor": "white",
            "gridwidth": 2,
            "linecolor": "white",
            "showbackground": true,
            "ticks": "",
            "zerolinecolor": "white"
           },
           "yaxis": {
            "backgroundcolor": "#E5ECF6",
            "gridcolor": "white",
            "gridwidth": 2,
            "linecolor": "white",
            "showbackground": true,
            "ticks": "",
            "zerolinecolor": "white"
           },
           "zaxis": {
            "backgroundcolor": "#E5ECF6",
            "gridcolor": "white",
            "gridwidth": 2,
            "linecolor": "white",
            "showbackground": true,
            "ticks": "",
            "zerolinecolor": "white"
           }
          },
          "shapedefaults": {
           "line": {
            "color": "#2a3f5f"
           }
          },
          "ternary": {
           "aaxis": {
            "gridcolor": "white",
            "linecolor": "white",
            "ticks": ""
           },
           "baxis": {
            "gridcolor": "white",
            "linecolor": "white",
            "ticks": ""
           },
           "bgcolor": "#E5ECF6",
           "caxis": {
            "gridcolor": "white",
            "linecolor": "white",
            "ticks": ""
           }
          },
          "title": {
           "x": 0.05
          },
          "xaxis": {
           "automargin": true,
           "gridcolor": "white",
           "linecolor": "white",
           "ticks": "",
           "title": {
            "standoff": 15
           },
           "zerolinecolor": "white",
           "zerolinewidth": 2
          },
          "yaxis": {
           "automargin": true,
           "gridcolor": "white",
           "linecolor": "white",
           "ticks": "",
           "title": {
            "standoff": 15
           },
           "zerolinecolor": "white",
           "zerolinewidth": 2
          }
         }
        },
        "title": {
         "text": "Frecuencia por Grupo"
        },
        "xaxis": {
         "anchor": "y",
         "domain": [
          0,
          1
         ],
         "tickangle": -45,
         "title": {
          "text": "Grupo"
         }
        },
        "yaxis": {
         "anchor": "x",
         "domain": [
          0,
          1
         ],
         "title": {
          "text": "Frecuencia"
         }
        }
       }
      }
     },
     "metadata": {},
     "output_type": "display_data"
    }
   ],
   "source": [
    "frecuencia_grupo = abordo['Grupo'].value_counts().head(15).reset_index()\n",
    "frecuencia_grupo.columns = ['Grupo', 'Frecuencia']\n",
    "fig = px.bar(frecuencia_grupo,\n",
    "            x='Grupo',\n",
    "            y='Frecuencia',\n",
    "            title='Frecuencia por Grupo')\n",
    "fig.update_layout(xaxis_title=\"Grupo\", yaxis_title=\"Frecuencia\")\n",
    "fig.update_layout(xaxis_tickangle=-45)\n",
    "fig.show()"
   ]
  },
  {
   "cell_type": "markdown",
   "id": "c03d6f37",
   "metadata": {},
   "source": [
    "#### Productos más caros (según Precio de venta)"
   ]
  },
  {
   "cell_type": "code",
   "execution_count": 13,
   "id": "3558be72",
   "metadata": {},
   "outputs": [
    {
     "data": {
      "application/vnd.plotly.v1+json": {
       "config": {
        "plotlyServerURL": "https://plot.ly"
       },
       "data": [
        {
         "hovertemplate": "Precio de venta (€)=%{marker.color}<br>Producto=%{y}<extra></extra>",
         "legendgroup": "",
         "marker": {
          "color": {
           "bdata": "pHA9CtdjUkBcj8L1KFxSQFK4HoXrUVJASOF6FK5HUkAAAAAAAEBSQA==",
           "dtype": "f8"
          },
          "coloraxis": "coloraxis",
          "pattern": {
           "shape": ""
          }
         },
         "name": "",
         "orientation": "h",
         "showlegend": false,
         "textposition": "auto",
         "type": "bar",
         "x": {
          "bdata": "pHA9CtdjUkBcj8L1KFxSQFK4HoXrUVJASOF6FK5HUkAAAAAAAEBSQA==",
          "dtype": "f8"
         },
         "xaxis": "x",
         "y": [
          "JUDIA VERDE RED-TROCEADA  B/2.5 KG",
          "CVZ-DESPERADOS BT/33 CL",
          "RFR-SLZ-ATUN HUEVAS EXTRA",
          "CH-CHOCOLATE VALOR PURO ALMENDRA 250G",
          "PIZZA-MT-LS-CAPRICIOSA E/370 GR."
         ],
         "yaxis": "y"
        }
       ],
       "layout": {
        "barmode": "relative",
        "coloraxis": {
         "colorbar": {
          "title": {
           "text": "Precio de venta (€)"
          }
         },
         "colorscale": [
          [
           0,
           "#440154"
          ],
          [
           0.1111111111111111,
           "#482878"
          ],
          [
           0.2222222222222222,
           "#3e4989"
          ],
          [
           0.3333333333333333,
           "#31688e"
          ],
          [
           0.4444444444444444,
           "#26828e"
          ],
          [
           0.5555555555555556,
           "#1f9e89"
          ],
          [
           0.6666666666666666,
           "#35b779"
          ],
          [
           0.7777777777777778,
           "#6ece58"
          ],
          [
           0.8888888888888888,
           "#b5de2b"
          ],
          [
           1,
           "#fde725"
          ]
         ]
        },
        "legend": {
         "tracegroupgap": 0
        },
        "template": {
         "data": {
          "bar": [
           {
            "error_x": {
             "color": "#2a3f5f"
            },
            "error_y": {
             "color": "#2a3f5f"
            },
            "marker": {
             "line": {
              "color": "#E5ECF6",
              "width": 0.5
             },
             "pattern": {
              "fillmode": "overlay",
              "size": 10,
              "solidity": 0.2
             }
            },
            "type": "bar"
           }
          ],
          "barpolar": [
           {
            "marker": {
             "line": {
              "color": "#E5ECF6",
              "width": 0.5
             },
             "pattern": {
              "fillmode": "overlay",
              "size": 10,
              "solidity": 0.2
             }
            },
            "type": "barpolar"
           }
          ],
          "carpet": [
           {
            "aaxis": {
             "endlinecolor": "#2a3f5f",
             "gridcolor": "white",
             "linecolor": "white",
             "minorgridcolor": "white",
             "startlinecolor": "#2a3f5f"
            },
            "baxis": {
             "endlinecolor": "#2a3f5f",
             "gridcolor": "white",
             "linecolor": "white",
             "minorgridcolor": "white",
             "startlinecolor": "#2a3f5f"
            },
            "type": "carpet"
           }
          ],
          "choropleth": [
           {
            "colorbar": {
             "outlinewidth": 0,
             "ticks": ""
            },
            "type": "choropleth"
           }
          ],
          "contour": [
           {
            "colorbar": {
             "outlinewidth": 0,
             "ticks": ""
            },
            "colorscale": [
             [
              0,
              "#0d0887"
             ],
             [
              0.1111111111111111,
              "#46039f"
             ],
             [
              0.2222222222222222,
              "#7201a8"
             ],
             [
              0.3333333333333333,
              "#9c179e"
             ],
             [
              0.4444444444444444,
              "#bd3786"
             ],
             [
              0.5555555555555556,
              "#d8576b"
             ],
             [
              0.6666666666666666,
              "#ed7953"
             ],
             [
              0.7777777777777778,
              "#fb9f3a"
             ],
             [
              0.8888888888888888,
              "#fdca26"
             ],
             [
              1,
              "#f0f921"
             ]
            ],
            "type": "contour"
           }
          ],
          "contourcarpet": [
           {
            "colorbar": {
             "outlinewidth": 0,
             "ticks": ""
            },
            "type": "contourcarpet"
           }
          ],
          "heatmap": [
           {
            "colorbar": {
             "outlinewidth": 0,
             "ticks": ""
            },
            "colorscale": [
             [
              0,
              "#0d0887"
             ],
             [
              0.1111111111111111,
              "#46039f"
             ],
             [
              0.2222222222222222,
              "#7201a8"
             ],
             [
              0.3333333333333333,
              "#9c179e"
             ],
             [
              0.4444444444444444,
              "#bd3786"
             ],
             [
              0.5555555555555556,
              "#d8576b"
             ],
             [
              0.6666666666666666,
              "#ed7953"
             ],
             [
              0.7777777777777778,
              "#fb9f3a"
             ],
             [
              0.8888888888888888,
              "#fdca26"
             ],
             [
              1,
              "#f0f921"
             ]
            ],
            "type": "heatmap"
           }
          ],
          "histogram": [
           {
            "marker": {
             "pattern": {
              "fillmode": "overlay",
              "size": 10,
              "solidity": 0.2
             }
            },
            "type": "histogram"
           }
          ],
          "histogram2d": [
           {
            "colorbar": {
             "outlinewidth": 0,
             "ticks": ""
            },
            "colorscale": [
             [
              0,
              "#0d0887"
             ],
             [
              0.1111111111111111,
              "#46039f"
             ],
             [
              0.2222222222222222,
              "#7201a8"
             ],
             [
              0.3333333333333333,
              "#9c179e"
             ],
             [
              0.4444444444444444,
              "#bd3786"
             ],
             [
              0.5555555555555556,
              "#d8576b"
             ],
             [
              0.6666666666666666,
              "#ed7953"
             ],
             [
              0.7777777777777778,
              "#fb9f3a"
             ],
             [
              0.8888888888888888,
              "#fdca26"
             ],
             [
              1,
              "#f0f921"
             ]
            ],
            "type": "histogram2d"
           }
          ],
          "histogram2dcontour": [
           {
            "colorbar": {
             "outlinewidth": 0,
             "ticks": ""
            },
            "colorscale": [
             [
              0,
              "#0d0887"
             ],
             [
              0.1111111111111111,
              "#46039f"
             ],
             [
              0.2222222222222222,
              "#7201a8"
             ],
             [
              0.3333333333333333,
              "#9c179e"
             ],
             [
              0.4444444444444444,
              "#bd3786"
             ],
             [
              0.5555555555555556,
              "#d8576b"
             ],
             [
              0.6666666666666666,
              "#ed7953"
             ],
             [
              0.7777777777777778,
              "#fb9f3a"
             ],
             [
              0.8888888888888888,
              "#fdca26"
             ],
             [
              1,
              "#f0f921"
             ]
            ],
            "type": "histogram2dcontour"
           }
          ],
          "mesh3d": [
           {
            "colorbar": {
             "outlinewidth": 0,
             "ticks": ""
            },
            "type": "mesh3d"
           }
          ],
          "parcoords": [
           {
            "line": {
             "colorbar": {
              "outlinewidth": 0,
              "ticks": ""
             }
            },
            "type": "parcoords"
           }
          ],
          "pie": [
           {
            "automargin": true,
            "type": "pie"
           }
          ],
          "scatter": [
           {
            "fillpattern": {
             "fillmode": "overlay",
             "size": 10,
             "solidity": 0.2
            },
            "type": "scatter"
           }
          ],
          "scatter3d": [
           {
            "line": {
             "colorbar": {
              "outlinewidth": 0,
              "ticks": ""
             }
            },
            "marker": {
             "colorbar": {
              "outlinewidth": 0,
              "ticks": ""
             }
            },
            "type": "scatter3d"
           }
          ],
          "scattercarpet": [
           {
            "marker": {
             "colorbar": {
              "outlinewidth": 0,
              "ticks": ""
             }
            },
            "type": "scattercarpet"
           }
          ],
          "scattergeo": [
           {
            "marker": {
             "colorbar": {
              "outlinewidth": 0,
              "ticks": ""
             }
            },
            "type": "scattergeo"
           }
          ],
          "scattergl": [
           {
            "marker": {
             "colorbar": {
              "outlinewidth": 0,
              "ticks": ""
             }
            },
            "type": "scattergl"
           }
          ],
          "scattermap": [
           {
            "marker": {
             "colorbar": {
              "outlinewidth": 0,
              "ticks": ""
             }
            },
            "type": "scattermap"
           }
          ],
          "scattermapbox": [
           {
            "marker": {
             "colorbar": {
              "outlinewidth": 0,
              "ticks": ""
             }
            },
            "type": "scattermapbox"
           }
          ],
          "scatterpolar": [
           {
            "marker": {
             "colorbar": {
              "outlinewidth": 0,
              "ticks": ""
             }
            },
            "type": "scatterpolar"
           }
          ],
          "scatterpolargl": [
           {
            "marker": {
             "colorbar": {
              "outlinewidth": 0,
              "ticks": ""
             }
            },
            "type": "scatterpolargl"
           }
          ],
          "scatterternary": [
           {
            "marker": {
             "colorbar": {
              "outlinewidth": 0,
              "ticks": ""
             }
            },
            "type": "scatterternary"
           }
          ],
          "surface": [
           {
            "colorbar": {
             "outlinewidth": 0,
             "ticks": ""
            },
            "colorscale": [
             [
              0,
              "#0d0887"
             ],
             [
              0.1111111111111111,
              "#46039f"
             ],
             [
              0.2222222222222222,
              "#7201a8"
             ],
             [
              0.3333333333333333,
              "#9c179e"
             ],
             [
              0.4444444444444444,
              "#bd3786"
             ],
             [
              0.5555555555555556,
              "#d8576b"
             ],
             [
              0.6666666666666666,
              "#ed7953"
             ],
             [
              0.7777777777777778,
              "#fb9f3a"
             ],
             [
              0.8888888888888888,
              "#fdca26"
             ],
             [
              1,
              "#f0f921"
             ]
            ],
            "type": "surface"
           }
          ],
          "table": [
           {
            "cells": {
             "fill": {
              "color": "#EBF0F8"
             },
             "line": {
              "color": "white"
             }
            },
            "header": {
             "fill": {
              "color": "#C8D4E3"
             },
             "line": {
              "color": "white"
             }
            },
            "type": "table"
           }
          ]
         },
         "layout": {
          "annotationdefaults": {
           "arrowcolor": "#2a3f5f",
           "arrowhead": 0,
           "arrowwidth": 1
          },
          "autotypenumbers": "strict",
          "coloraxis": {
           "colorbar": {
            "outlinewidth": 0,
            "ticks": ""
           }
          },
          "colorscale": {
           "diverging": [
            [
             0,
             "#8e0152"
            ],
            [
             0.1,
             "#c51b7d"
            ],
            [
             0.2,
             "#de77ae"
            ],
            [
             0.3,
             "#f1b6da"
            ],
            [
             0.4,
             "#fde0ef"
            ],
            [
             0.5,
             "#f7f7f7"
            ],
            [
             0.6,
             "#e6f5d0"
            ],
            [
             0.7,
             "#b8e186"
            ],
            [
             0.8,
             "#7fbc41"
            ],
            [
             0.9,
             "#4d9221"
            ],
            [
             1,
             "#276419"
            ]
           ],
           "sequential": [
            [
             0,
             "#0d0887"
            ],
            [
             0.1111111111111111,
             "#46039f"
            ],
            [
             0.2222222222222222,
             "#7201a8"
            ],
            [
             0.3333333333333333,
             "#9c179e"
            ],
            [
             0.4444444444444444,
             "#bd3786"
            ],
            [
             0.5555555555555556,
             "#d8576b"
            ],
            [
             0.6666666666666666,
             "#ed7953"
            ],
            [
             0.7777777777777778,
             "#fb9f3a"
            ],
            [
             0.8888888888888888,
             "#fdca26"
            ],
            [
             1,
             "#f0f921"
            ]
           ],
           "sequentialminus": [
            [
             0,
             "#0d0887"
            ],
            [
             0.1111111111111111,
             "#46039f"
            ],
            [
             0.2222222222222222,
             "#7201a8"
            ],
            [
             0.3333333333333333,
             "#9c179e"
            ],
            [
             0.4444444444444444,
             "#bd3786"
            ],
            [
             0.5555555555555556,
             "#d8576b"
            ],
            [
             0.6666666666666666,
             "#ed7953"
            ],
            [
             0.7777777777777778,
             "#fb9f3a"
            ],
            [
             0.8888888888888888,
             "#fdca26"
            ],
            [
             1,
             "#f0f921"
            ]
           ]
          },
          "colorway": [
           "#636efa",
           "#EF553B",
           "#00cc96",
           "#ab63fa",
           "#FFA15A",
           "#19d3f3",
           "#FF6692",
           "#B6E880",
           "#FF97FF",
           "#FECB52"
          ],
          "font": {
           "color": "#2a3f5f"
          },
          "geo": {
           "bgcolor": "white",
           "lakecolor": "white",
           "landcolor": "#E5ECF6",
           "showlakes": true,
           "showland": true,
           "subunitcolor": "white"
          },
          "hoverlabel": {
           "align": "left"
          },
          "hovermode": "closest",
          "mapbox": {
           "style": "light"
          },
          "paper_bgcolor": "white",
          "plot_bgcolor": "#E5ECF6",
          "polar": {
           "angularaxis": {
            "gridcolor": "white",
            "linecolor": "white",
            "ticks": ""
           },
           "bgcolor": "#E5ECF6",
           "radialaxis": {
            "gridcolor": "white",
            "linecolor": "white",
            "ticks": ""
           }
          },
          "scene": {
           "xaxis": {
            "backgroundcolor": "#E5ECF6",
            "gridcolor": "white",
            "gridwidth": 2,
            "linecolor": "white",
            "showbackground": true,
            "ticks": "",
            "zerolinecolor": "white"
           },
           "yaxis": {
            "backgroundcolor": "#E5ECF6",
            "gridcolor": "white",
            "gridwidth": 2,
            "linecolor": "white",
            "showbackground": true,
            "ticks": "",
            "zerolinecolor": "white"
           },
           "zaxis": {
            "backgroundcolor": "#E5ECF6",
            "gridcolor": "white",
            "gridwidth": 2,
            "linecolor": "white",
            "showbackground": true,
            "ticks": "",
            "zerolinecolor": "white"
           }
          },
          "shapedefaults": {
           "line": {
            "color": "#2a3f5f"
           }
          },
          "ternary": {
           "aaxis": {
            "gridcolor": "white",
            "linecolor": "white",
            "ticks": ""
           },
           "baxis": {
            "gridcolor": "white",
            "linecolor": "white",
            "ticks": ""
           },
           "bgcolor": "#E5ECF6",
           "caxis": {
            "gridcolor": "white",
            "linecolor": "white",
            "ticks": ""
           }
          },
          "title": {
           "x": 0.05
          },
          "xaxis": {
           "automargin": true,
           "gridcolor": "white",
           "linecolor": "white",
           "ticks": "",
           "title": {
            "standoff": 15
           },
           "zerolinecolor": "white",
           "zerolinewidth": 2
          },
          "yaxis": {
           "automargin": true,
           "gridcolor": "white",
           "linecolor": "white",
           "ticks": "",
           "title": {
            "standoff": 15
           },
           "zerolinecolor": "white",
           "zerolinewidth": 2
          }
         }
        },
        "title": {
         "text": "Top 5 Productos por Precio de Venta"
        },
        "xaxis": {
         "anchor": "y",
         "domain": [
          0,
          1
         ],
         "title": {
          "text": "Precio de venta (€)"
         }
        },
        "yaxis": {
         "anchor": "x",
         "domain": [
          0,
          1
         ],
         "title": {
          "text": "Producto"
         }
        }
       }
      }
     },
     "metadata": {},
     "output_type": "display_data"
    }
   ],
   "source": [
    "\n",
    "top_n = abordo.nlargest(5, 'Precio de venta (€)')\n",
    "fig = px.bar(top_n, x='Precio de venta (€)', y='Producto', orientation='h',\n",
    "            title='Top 5 Productos por Precio de Venta',\n",
    "            color='Precio de venta (€)', \n",
    "            color_continuous_scale=px.colors.sequential.Viridis) \n",
    "fig.show()"
   ]
  },
  {
   "cell_type": "markdown",
   "id": "c7b64b17",
   "metadata": {},
   "source": [
    "#### Distribución de Formato de Venta"
   ]
  },
  {
   "cell_type": "code",
   "execution_count": 14,
   "id": "96a98b16",
   "metadata": {},
   "outputs": [
    {
     "data": {
      "application/vnd.plotly.v1+json": {
       "config": {
        "plotlyServerURL": "https://plot.ly"
       },
       "data": [
        {
         "hovertemplate": "Formato=%{x}<br>Frecuencia=%{y}<extra></extra>",
         "legendgroup": "",
         "marker": {
          "color": "#636efa",
          "pattern": {
           "shape": ""
          }
         },
         "name": "",
         "orientation": "v",
         "showlegend": false,
         "textposition": "auto",
         "type": "bar",
         "x": [
          "UND",
          "KG",
          "kg"
         ],
         "xaxis": "x",
         "y": {
          "bdata": "JgbQAQEA",
          "dtype": "i2"
         },
         "yaxis": "y"
        }
       ],
       "layout": {
        "barmode": "relative",
        "legend": {
         "tracegroupgap": 0
        },
        "template": {
         "data": {
          "bar": [
           {
            "error_x": {
             "color": "#2a3f5f"
            },
            "error_y": {
             "color": "#2a3f5f"
            },
            "marker": {
             "line": {
              "color": "#E5ECF6",
              "width": 0.5
             },
             "pattern": {
              "fillmode": "overlay",
              "size": 10,
              "solidity": 0.2
             }
            },
            "type": "bar"
           }
          ],
          "barpolar": [
           {
            "marker": {
             "line": {
              "color": "#E5ECF6",
              "width": 0.5
             },
             "pattern": {
              "fillmode": "overlay",
              "size": 10,
              "solidity": 0.2
             }
            },
            "type": "barpolar"
           }
          ],
          "carpet": [
           {
            "aaxis": {
             "endlinecolor": "#2a3f5f",
             "gridcolor": "white",
             "linecolor": "white",
             "minorgridcolor": "white",
             "startlinecolor": "#2a3f5f"
            },
            "baxis": {
             "endlinecolor": "#2a3f5f",
             "gridcolor": "white",
             "linecolor": "white",
             "minorgridcolor": "white",
             "startlinecolor": "#2a3f5f"
            },
            "type": "carpet"
           }
          ],
          "choropleth": [
           {
            "colorbar": {
             "outlinewidth": 0,
             "ticks": ""
            },
            "type": "choropleth"
           }
          ],
          "contour": [
           {
            "colorbar": {
             "outlinewidth": 0,
             "ticks": ""
            },
            "colorscale": [
             [
              0,
              "#0d0887"
             ],
             [
              0.1111111111111111,
              "#46039f"
             ],
             [
              0.2222222222222222,
              "#7201a8"
             ],
             [
              0.3333333333333333,
              "#9c179e"
             ],
             [
              0.4444444444444444,
              "#bd3786"
             ],
             [
              0.5555555555555556,
              "#d8576b"
             ],
             [
              0.6666666666666666,
              "#ed7953"
             ],
             [
              0.7777777777777778,
              "#fb9f3a"
             ],
             [
              0.8888888888888888,
              "#fdca26"
             ],
             [
              1,
              "#f0f921"
             ]
            ],
            "type": "contour"
           }
          ],
          "contourcarpet": [
           {
            "colorbar": {
             "outlinewidth": 0,
             "ticks": ""
            },
            "type": "contourcarpet"
           }
          ],
          "heatmap": [
           {
            "colorbar": {
             "outlinewidth": 0,
             "ticks": ""
            },
            "colorscale": [
             [
              0,
              "#0d0887"
             ],
             [
              0.1111111111111111,
              "#46039f"
             ],
             [
              0.2222222222222222,
              "#7201a8"
             ],
             [
              0.3333333333333333,
              "#9c179e"
             ],
             [
              0.4444444444444444,
              "#bd3786"
             ],
             [
              0.5555555555555556,
              "#d8576b"
             ],
             [
              0.6666666666666666,
              "#ed7953"
             ],
             [
              0.7777777777777778,
              "#fb9f3a"
             ],
             [
              0.8888888888888888,
              "#fdca26"
             ],
             [
              1,
              "#f0f921"
             ]
            ],
            "type": "heatmap"
           }
          ],
          "histogram": [
           {
            "marker": {
             "pattern": {
              "fillmode": "overlay",
              "size": 10,
              "solidity": 0.2
             }
            },
            "type": "histogram"
           }
          ],
          "histogram2d": [
           {
            "colorbar": {
             "outlinewidth": 0,
             "ticks": ""
            },
            "colorscale": [
             [
              0,
              "#0d0887"
             ],
             [
              0.1111111111111111,
              "#46039f"
             ],
             [
              0.2222222222222222,
              "#7201a8"
             ],
             [
              0.3333333333333333,
              "#9c179e"
             ],
             [
              0.4444444444444444,
              "#bd3786"
             ],
             [
              0.5555555555555556,
              "#d8576b"
             ],
             [
              0.6666666666666666,
              "#ed7953"
             ],
             [
              0.7777777777777778,
              "#fb9f3a"
             ],
             [
              0.8888888888888888,
              "#fdca26"
             ],
             [
              1,
              "#f0f921"
             ]
            ],
            "type": "histogram2d"
           }
          ],
          "histogram2dcontour": [
           {
            "colorbar": {
             "outlinewidth": 0,
             "ticks": ""
            },
            "colorscale": [
             [
              0,
              "#0d0887"
             ],
             [
              0.1111111111111111,
              "#46039f"
             ],
             [
              0.2222222222222222,
              "#7201a8"
             ],
             [
              0.3333333333333333,
              "#9c179e"
             ],
             [
              0.4444444444444444,
              "#bd3786"
             ],
             [
              0.5555555555555556,
              "#d8576b"
             ],
             [
              0.6666666666666666,
              "#ed7953"
             ],
             [
              0.7777777777777778,
              "#fb9f3a"
             ],
             [
              0.8888888888888888,
              "#fdca26"
             ],
             [
              1,
              "#f0f921"
             ]
            ],
            "type": "histogram2dcontour"
           }
          ],
          "mesh3d": [
           {
            "colorbar": {
             "outlinewidth": 0,
             "ticks": ""
            },
            "type": "mesh3d"
           }
          ],
          "parcoords": [
           {
            "line": {
             "colorbar": {
              "outlinewidth": 0,
              "ticks": ""
             }
            },
            "type": "parcoords"
           }
          ],
          "pie": [
           {
            "automargin": true,
            "type": "pie"
           }
          ],
          "scatter": [
           {
            "fillpattern": {
             "fillmode": "overlay",
             "size": 10,
             "solidity": 0.2
            },
            "type": "scatter"
           }
          ],
          "scatter3d": [
           {
            "line": {
             "colorbar": {
              "outlinewidth": 0,
              "ticks": ""
             }
            },
            "marker": {
             "colorbar": {
              "outlinewidth": 0,
              "ticks": ""
             }
            },
            "type": "scatter3d"
           }
          ],
          "scattercarpet": [
           {
            "marker": {
             "colorbar": {
              "outlinewidth": 0,
              "ticks": ""
             }
            },
            "type": "scattercarpet"
           }
          ],
          "scattergeo": [
           {
            "marker": {
             "colorbar": {
              "outlinewidth": 0,
              "ticks": ""
             }
            },
            "type": "scattergeo"
           }
          ],
          "scattergl": [
           {
            "marker": {
             "colorbar": {
              "outlinewidth": 0,
              "ticks": ""
             }
            },
            "type": "scattergl"
           }
          ],
          "scattermap": [
           {
            "marker": {
             "colorbar": {
              "outlinewidth": 0,
              "ticks": ""
             }
            },
            "type": "scattermap"
           }
          ],
          "scattermapbox": [
           {
            "marker": {
             "colorbar": {
              "outlinewidth": 0,
              "ticks": ""
             }
            },
            "type": "scattermapbox"
           }
          ],
          "scatterpolar": [
           {
            "marker": {
             "colorbar": {
              "outlinewidth": 0,
              "ticks": ""
             }
            },
            "type": "scatterpolar"
           }
          ],
          "scatterpolargl": [
           {
            "marker": {
             "colorbar": {
              "outlinewidth": 0,
              "ticks": ""
             }
            },
            "type": "scatterpolargl"
           }
          ],
          "scatterternary": [
           {
            "marker": {
             "colorbar": {
              "outlinewidth": 0,
              "ticks": ""
             }
            },
            "type": "scatterternary"
           }
          ],
          "surface": [
           {
            "colorbar": {
             "outlinewidth": 0,
             "ticks": ""
            },
            "colorscale": [
             [
              0,
              "#0d0887"
             ],
             [
              0.1111111111111111,
              "#46039f"
             ],
             [
              0.2222222222222222,
              "#7201a8"
             ],
             [
              0.3333333333333333,
              "#9c179e"
             ],
             [
              0.4444444444444444,
              "#bd3786"
             ],
             [
              0.5555555555555556,
              "#d8576b"
             ],
             [
              0.6666666666666666,
              "#ed7953"
             ],
             [
              0.7777777777777778,
              "#fb9f3a"
             ],
             [
              0.8888888888888888,
              "#fdca26"
             ],
             [
              1,
              "#f0f921"
             ]
            ],
            "type": "surface"
           }
          ],
          "table": [
           {
            "cells": {
             "fill": {
              "color": "#EBF0F8"
             },
             "line": {
              "color": "white"
             }
            },
            "header": {
             "fill": {
              "color": "#C8D4E3"
             },
             "line": {
              "color": "white"
             }
            },
            "type": "table"
           }
          ]
         },
         "layout": {
          "annotationdefaults": {
           "arrowcolor": "#2a3f5f",
           "arrowhead": 0,
           "arrowwidth": 1
          },
          "autotypenumbers": "strict",
          "coloraxis": {
           "colorbar": {
            "outlinewidth": 0,
            "ticks": ""
           }
          },
          "colorscale": {
           "diverging": [
            [
             0,
             "#8e0152"
            ],
            [
             0.1,
             "#c51b7d"
            ],
            [
             0.2,
             "#de77ae"
            ],
            [
             0.3,
             "#f1b6da"
            ],
            [
             0.4,
             "#fde0ef"
            ],
            [
             0.5,
             "#f7f7f7"
            ],
            [
             0.6,
             "#e6f5d0"
            ],
            [
             0.7,
             "#b8e186"
            ],
            [
             0.8,
             "#7fbc41"
            ],
            [
             0.9,
             "#4d9221"
            ],
            [
             1,
             "#276419"
            ]
           ],
           "sequential": [
            [
             0,
             "#0d0887"
            ],
            [
             0.1111111111111111,
             "#46039f"
            ],
            [
             0.2222222222222222,
             "#7201a8"
            ],
            [
             0.3333333333333333,
             "#9c179e"
            ],
            [
             0.4444444444444444,
             "#bd3786"
            ],
            [
             0.5555555555555556,
             "#d8576b"
            ],
            [
             0.6666666666666666,
             "#ed7953"
            ],
            [
             0.7777777777777778,
             "#fb9f3a"
            ],
            [
             0.8888888888888888,
             "#fdca26"
            ],
            [
             1,
             "#f0f921"
            ]
           ],
           "sequentialminus": [
            [
             0,
             "#0d0887"
            ],
            [
             0.1111111111111111,
             "#46039f"
            ],
            [
             0.2222222222222222,
             "#7201a8"
            ],
            [
             0.3333333333333333,
             "#9c179e"
            ],
            [
             0.4444444444444444,
             "#bd3786"
            ],
            [
             0.5555555555555556,
             "#d8576b"
            ],
            [
             0.6666666666666666,
             "#ed7953"
            ],
            [
             0.7777777777777778,
             "#fb9f3a"
            ],
            [
             0.8888888888888888,
             "#fdca26"
            ],
            [
             1,
             "#f0f921"
            ]
           ]
          },
          "colorway": [
           "#636efa",
           "#EF553B",
           "#00cc96",
           "#ab63fa",
           "#FFA15A",
           "#19d3f3",
           "#FF6692",
           "#B6E880",
           "#FF97FF",
           "#FECB52"
          ],
          "font": {
           "color": "#2a3f5f"
          },
          "geo": {
           "bgcolor": "white",
           "lakecolor": "white",
           "landcolor": "#E5ECF6",
           "showlakes": true,
           "showland": true,
           "subunitcolor": "white"
          },
          "hoverlabel": {
           "align": "left"
          },
          "hovermode": "closest",
          "mapbox": {
           "style": "light"
          },
          "paper_bgcolor": "white",
          "plot_bgcolor": "#E5ECF6",
          "polar": {
           "angularaxis": {
            "gridcolor": "white",
            "linecolor": "white",
            "ticks": ""
           },
           "bgcolor": "#E5ECF6",
           "radialaxis": {
            "gridcolor": "white",
            "linecolor": "white",
            "ticks": ""
           }
          },
          "scene": {
           "xaxis": {
            "backgroundcolor": "#E5ECF6",
            "gridcolor": "white",
            "gridwidth": 2,
            "linecolor": "white",
            "showbackground": true,
            "ticks": "",
            "zerolinecolor": "white"
           },
           "yaxis": {
            "backgroundcolor": "#E5ECF6",
            "gridcolor": "white",
            "gridwidth": 2,
            "linecolor": "white",
            "showbackground": true,
            "ticks": "",
            "zerolinecolor": "white"
           },
           "zaxis": {
            "backgroundcolor": "#E5ECF6",
            "gridcolor": "white",
            "gridwidth": 2,
            "linecolor": "white",
            "showbackground": true,
            "ticks": "",
            "zerolinecolor": "white"
           }
          },
          "shapedefaults": {
           "line": {
            "color": "#2a3f5f"
           }
          },
          "ternary": {
           "aaxis": {
            "gridcolor": "white",
            "linecolor": "white",
            "ticks": ""
           },
           "baxis": {
            "gridcolor": "white",
            "linecolor": "white",
            "ticks": ""
           },
           "bgcolor": "#E5ECF6",
           "caxis": {
            "gridcolor": "white",
            "linecolor": "white",
            "ticks": ""
           }
          },
          "title": {
           "x": 0.05
          },
          "xaxis": {
           "automargin": true,
           "gridcolor": "white",
           "linecolor": "white",
           "ticks": "",
           "title": {
            "standoff": 15
           },
           "zerolinecolor": "white",
           "zerolinewidth": 2
          },
          "yaxis": {
           "automargin": true,
           "gridcolor": "white",
           "linecolor": "white",
           "ticks": "",
           "title": {
            "standoff": 15
           },
           "zerolinecolor": "white",
           "zerolinewidth": 2
          }
         }
        },
        "title": {
         "text": "Distribución de Formato de Venta"
        },
        "xaxis": {
         "anchor": "y",
         "domain": [
          0,
          1
         ],
         "title": {
          "text": "Formato"
         }
        },
        "yaxis": {
         "anchor": "x",
         "domain": [
          0,
          1
         ],
         "title": {
          "text": "Frecuencia"
         }
        }
       }
      }
     },
     "metadata": {},
     "output_type": "display_data"
    }
   ],
   "source": [
    "\n",
    "\n",
    "frecuencia_formato = abordo['Formato_Venta'].value_counts().reset_index()\n",
    "frecuencia_formato.columns = ['Formato', 'Frecuencia']\n",
    "fig = px.bar(frecuencia_formato, x='Formato', y='Frecuencia',\n",
    "            title='Distribución de Formato de Venta')\n",
    "fig.update_layout(xaxis_title=\"Formato\", yaxis_title=\"Frecuencia\")\n",
    "fig.show()"
   ]
  },
  {
   "cell_type": "markdown",
   "id": "c0473dce",
   "metadata": {},
   "source": [
    "#### Distribución de Coste y Precio de Venta:"
   ]
  },
  {
   "cell_type": "code",
   "execution_count": 15,
   "id": "b2035603",
   "metadata": {},
   "outputs": [
    {
     "data": {
      "application/vnd.plotly.v1+json": {
       "config": {
        "plotlyServerURL": "https://plot.ly"
       },
       "data": [
        {
         "bingroup": "x",
         "hovertemplate": "variable=Coste (€)<br>value=%{x}<br>count=%{y}<extra></extra>",
         "legendgroup": "Coste (€)",
         "marker": {
          "color": "#636efa",
          "opacity": 0.6,
          "pattern": {
           "shape": ""
          }
         },
         "name": "Coste (€)",
         "nbinsx": 200,
         "orientation": "v",
         "showlegend": true,
         "type": "histogram",
         "x": {
          "bdata": "zczMzMzMBEAfhetRuJ4lQGZmZmZmZipAXI/C9ShcJ0CuR+F6FK4NQFK4HoXrUeg/MzMzMzOzLEBcj8L1KFzvP83MzMzMTClACtejcD0KKECPwvUoXI8AQNejcD0K1xtAhetRuB6FAUBmZmZmZmYkQK5H4XoUrgdArkfhehSu5z97FK5H4XoQQJqZmZmZmfE/cT0K16NwHEBcj8L1KFwaQArXo3A9CidA4XoUrkdhKEA9CtejcD3qPxSuR+F6FP4/mpmZmZmZCUApXI/C9agmQEjhehSuxy1AexSuR+H6LUDsUbgehesWQM3MzMzMzCBAKVyPwvUoK0CuR+F6FK4jQFyPwvUo3CFAmpmZmZkZIkBxPQrXo3AJQKRwPQrXIyBArkfhehSuLECuR+F6FK4fQFK4HoXrURNA16NwPQrXHkCF61G4HoUWQDMzMzMzMxBAexSuR+F6GUApXI/C9aghQClcj8L1KCxA7FG4HoXrC0A9CtejcD0WQHsUrkfh+iBAuB6F61G4/j8AAAAAAIAtQOF6FK5H4SNAZmZmZmZm/j+amZmZmZkoQDMzMzMzMyxAj8L1KFwPIkDD9Shcj0IgQClcj8L1KB9APQrXo3A99j/2KFyPwvUAQIXrUbgehRRAAAAAAAAAIkBSuB6F61EtQPYoXI/CdSpAH4XrUbieLUDNzMzMzEwqQJqZmZmZmSpAPQrXo3A9IUB7FK5H4fokQK5H4XoUriVAMzMzMzMzIEBI4XoUrsckQIXrUbgehRBAFK5H4XoUJECF61G4HgUjQNejcD0KVyRA9ihcj8L1HkDNzMzMzMweQI/C9ShcjxFA9ihcj8L1HkAAAAAAAAAsQKRwPQrXowxAH4XrUbgeKEB7FK5H4XogQGZmZmZm5iFArkfhehSuIEBcj8L1KFwhQJqZmZmZmSdApHA9CtejEEB7FK5H4fogQArXo3A9iiNAcT0K16Nw/T9cj8L1KFwrQHsUrkfh+iBAcT0K16NwEkBSuB6F61EUQOF6FK5HYSlAH4XrUbge+T/2KFyPwnUqQMP1KFyPQipAXI/C9ShcJUDD9Shcj8IkQB+F61G4Hvk/uB6F61G4JUBI4XoUrkctQM3MzMzMTCJAw/UoXI/CKUBSuB6F61EsQArXo3A9CiBAKVyPwvUoKkBI4XoUrkcLQHsUrkfhehVASOF6FK5HCUA9CtejcD0nQJqZmZmZmShAhetRuB6F+z8zMzMzMzMRQHsUrkfhehtAj8L1KFyPHUDhehSuR2EmQArXo3A9Cg9AhetRuB6FLEA9CtejcD0dQPYoXI/CdSFASOF6FK5H/T9I4XoUrkccQPYoXI/C9QxAzczMzMxMKkCkcD0K16MnQEjhehSuRxxAUrgehevRKkAK16NwPQoZQOF6FK5H4S1ArkfhehSuJ0ApXI/C9agnQD0K16NwPQJAhetRuB6FFECamZmZmZkWQNejcD0KVyJAcT0K16NwGkAUrkfhehQhQArXo3A9CiBArkfhehQuIUDhehSuR+EVQI/C9ShcjxZASOF6FK5H8T8fhetRuB7tP1yPwvUoXChAexSuR+F6AkDhehSuR+H+P83MzMzMzCNAAAAAAAAA+D+F61G4HgUiQD0K16NwPSlASOF6FK5HKUA9CtejcD0ZQOF6FK5H4SFAzczMzMzMDEApXI/C9aghQB+F61G4HiZAXI/C9SjcIUAUrkfhehT2P3sUrkfh+iFAw/UoXI9CKEBI4XoUrscnQD0K16NwPeI/mpmZmZmZH0CPwvUoXI8KQBSuR+F6FCdA4XoUrkfhKEBmZmZmZuYhQHE9CtejcBNAPQrXo3C9LEC4HoXrUbgOQAAAAAAAAChAmpmZmZmZ6T8UrkfhehQpQHsUrkfheiFAFK5H4XoUIEDNzMzMzMwQQHsUrkfh+iJAzczMzMzMI0CuR+F6FK77Pz0K16NwPSNArkfhehSuJUBcj8L1KFwhQM3MzMzMzBZAcT0K16PwLUAAAAAAAIAiQLgehetRuBhA7FG4HoVrJUB7FK5H4XoiQHE9Ctej8CxA4XoUrkfhIkDsUbgeheseQMP1KFyPwhtASOF6FK5HFEBmZmZmZmYlQAAAAAAAAAxA7FG4HoXrKUAUrkfhehQmQM3MzMzMzAJASOF6FK7HJkB7FK5H4XoQQOxRuB6FayJAFK5H4XoUE0DD9Shcj8IrQIXrUbgehfs/AAAAAAAAEkDXo3A9CtcTQAAAAAAAACBAKVyPwvUoDEAK16NwPQoRQHE9CtejcAtAH4XrUbgeLEDhehSuR+EmQDMzMzMzMwVAcT0K16NwA0DD9Shcj8ItQClcj8L1KChAj8L1KFyPJUBcj8L1KFwDQK5H4XoUrh1ASOF6FK5HG0D2KFyPwvUcQMP1KFyPwg9ACtejcD0KKUBmZmZmZmYaQAAAAAAAABJAKVyPwvUoE0CF61G4HoUcQD0K16NwvSNAhetRuB4FJ0DD9Shcj8IhQK5H4XoUrhpArkfhehSuEEDXo3A9ClcgQFK4HoXrUeg/j8L1KFyPHkCPwvUoXI8MQB+F61G4HhlASOF6FK5HGUDNzMzMzMwaQOxRuB6F6wdAmpmZmZmZAUD2KFyPwvUEQDMzMzMzMxdAj8L1KFyP6j+uR+F6FK4HQFyPwvUoXClA16NwPQrXE0AzMzMzM7MtQIXrUbgehShAKVyPwvWoIUBxPQrXo3D5PxSuR+F6FClAMzMzMzOzJEBI4XoUrkcsQD0K16NwPfI/pHA9CtcjJUD2KFyPwnUrQPYoXI/C9S1AzczMzMxMJUA9CtejcL0qQI/C9ShcDylAhetRuB6FJkB7FK5H4XotQD0K16NwPS1A16NwPQrXA0AfhetRuB7tP0jhehSuRxVAmpmZmZmZF0AAAAAAAAArQHsUrkfhegpAj8L1KFwPIkAzMzMzM7MrQPYoXI/C9SNAj8L1KFyPLED2KFyPwvUbQI/C9ShcDylAKVyPwvUoBEBxPQrXo/AtQEjhehSuRyZA16NwPQrX8z/D9Shcj8IrQLgehetRuCtAcT0K16PwKUDNzMzMzMwrQClcj8L1KAJAXI/C9Shc7z8AAAAAAAAnQJqZmZmZGSFApHA9CtcjLUCkcD0K16MdQFyPwvUoXBhArkfhehSuAUBSuB6F61EGQBSuR+F6FBhAFK5H4XoUFkApXI/C9agqQAAAAAAAAAhAPQrXo3C9KUBcj8L1KFwZQFK4HoXrUR1A16NwPQrX4z+uR+F6FK4hQOF6FK5H4RpAPQrXo3A9K0BmZmZmZuYmQIXrUbgehR1ApHA9CtejJ0A9CtejcD0IQOxRuB6FayJAXI/C9ShcKUBcj8L1KFwDQHE9CtejcCxAKVyPwvUoF0DhehSuR2EjQM3MzMzMzBRApHA9CtejFUDNzMzMzMwjQFyPwvUo3CxA4XoUrkfhBkBcj8L1KFwlQOF6FK5H4f4/ZmZmZmbmKEAAAAAAAAAlQFyPwvUoXA1AZmZmZmZmHEDsUbgehevpPz0K16NwvSRAAAAAAAAAFUAfhetRuB4nQHsUrkfheiRAmpmZmZmZC0BxPQrXo/AhQFyPwvUoXOc/KVyPwvWoKUAK16NwPQoWQHE9Ctej8CBA9ihcj8L1FUAzMzMzM7MjQOxRuB6F6xlAexSuR+F6FUAK16NwPQoXQOxRuB6F6x9AKVyPwvUoG0C4HoXrUbgAQI/C9ShcDyRAj8L1KFwPJEA9CtejcL0iQOxRuB6FayVA7FG4HoVrLUDD9Shcj8ImQNejcD0K1+s/rkfhehSuDUB7FK5H4XrwP9ejcD0K1/s/ZmZmZmZm7j8K16NwPQojQFK4HoXrURFACtejcD2KLEBSuB6F69ElQK5H4XoULitAKVyPwvUoHEBmZmZmZuYkQIXrUbgehRhAcT0K16NwKkCPwvUoXA8gQNejcD0KVyhACtejcD0KGkC4HoXrUbgVQI/C9ShcjxZAPQrXo3A9J0AUrkfhepQrQOF6FK5H4SJAXI/C9ShcEUBmZmZmZuYlQLgehetRuChArkfhehSuI0Bcj8L1KFwjQB+F61G4Hv0/16NwPQrXJUDsUbgehesfQGZmZmZm5ixA16NwPQrXB0CkcD0K1yMpQEjhehSuxyxAUrgehetR/D/hehSuR2EhQM3MzMzMzBRASOF6FK7HJkCPwvUoXI8SQGZmZmZmZiRA4XoUrkfh8j+F61G4HgUnQPYoXI/CdSZA4XoUrkfhGUAzMzMzMzMPQMP1KFyPwv0/uB6F61E4IUCPwvUoXI8OQOF6FK5HYSNAFK5H4XqUKEBI4XoUrkcUQD0K16NwPf4/16NwPQrXG0Bcj8L1KFwnQIXrUbgehStAuB6F61G4DEAzMzMzM7MkQM3MzMzMzBpApHA9CtejFEDsUbgehesNQOxRuB6F6xZAFK5H4XoUHEAAAAAAAIApQHsUrkfheidAj8L1KFyPEUCF61G4HgUhQI/C9ShcDytAH4XrUbgeGkDXo3A9CtcsQEjhehSuRyhA16NwPQrXDUDD9Shcj8IsQI/C9Shcjx1ArkfhehSuKkAzMzMzMzMqQArXo3A9iihAMzMzMzMzI0BSuB6F61EmQOxRuB6F6x9ApHA9CtejAkCkcD0K16MrQNejcD0K1/c/7FG4HoVrIUDXo3A9ClcpQFyPwvUo3CJAPQrXo3A9DECF61G4HoUFQMP1KFyPwh5A16NwPQpXJ0AK16NwPQoqQK5H4XoUrhdAXI/C9SjcIECkcD0K16MlQBSuR+F6FPo/UrgehevRKkBcj8L1KFwfQHE9CtejcPk/XI/C9ShcH0ApXI/C9SgXQBSuR+F6FAhArkfhehSuBUBxPQrXo3AbQK5H4XoUrh5ArkfhehSuI0B7FK5H4folQHsUrkfhei1AexSuR+F6EkCF61G4HoUBQHE9CtejcAVAhetRuB6FH0AfhetRuB4oQI/C9ShcjyVA16NwPQrXEUAK16NwPQocQPYoXI/C9RZACtejcD0KHkBSuB6F61EWQB+F61G4Hi1AuB6F61E4J0CF61G4HoUfQHE9CtejcCdA7FG4HoVrIkAzMzMzMzMFQI/C9ShcDyRAKVyPwvUoKUBxPQrXo3AcQPYoXI/CdSdAmpmZmZmZ+T9xPQrXo3AQQAAAAAAAABFAMzMzMzOzKkBSuB6F61ETQJqZmZmZmR1A16NwPQpXIUA9CtejcL0pQHE9CtejcC1AMzMzMzMzEkC4HoXrUbgtQB+F61G4nipACtejcD2KJkCF61G4HgUgQClcj8L1KARAmpmZmZmZIEC4HoXrUbgpQFyPwvUoXB1AKVyPwvWoI0DsUbgehessQFK4HoXrURtAMzMzMzMzBUCamZmZmZkDQKRwPQrXIylAhetRuB6F/z8pXI/C9aghQOxRuB6F6/E/exSuR+F6JkAUrkfhehQgQMP1KFyPwg9Aw/UoXI/CLEBxPQrXo/AjQMP1KFyPwhBAuB6F61G4E0C4HoXrUTghQDMzMzMzsylAUrgehetR+D+uR+F6FK4iQI/C9ShcjxhApHA9CtcjIkA9CtejcD0mQGZmZmZm5iFAw/UoXI/CJkBI4XoUrkcUQKRwPQrXoy1AexSuR+F6J0AK16NwPQoYQMP1KFyPwgVAw/UoXI9CJkCuR+F6FC4hQIXrUbgehQ1A16NwPQrXFUDNzMzMzEwgQD0K16NwPSFAZmZmZmZmIUDsUbgehespQB+F61G4Hvk/ZmZmZmbmJ0AzMzMzM7MrQB+F61G4nilAXI/C9ShcGUBxPQrXo/AiQHE9CtejcPk/MzMzMzOzJUBmZmZmZmYrQBSuR+F6FBtAzczMzMzMHkApXI/C9SgjQB+F61G4nidAAAAAAACAKkDNzMzMzEwoQGZmZmZm5idAcT0K16NwI0B7FK5H4fokQArXo3A9Ci1AH4XrUbgeHkCPwvUoXA8kQI/C9ShcDydAZmZmZmZmJkAfhetRuB4kQEjhehSuxyBASOF6FK5HJEDNzMzMzMwdQJqZmZmZmSRAuB6F61E4J0BxPQrXo3ArQI/C9ShcjxZA4XoUrkfhJUBmZmZmZuYgQD0K16NwPQ5A4XoUrkdhIED2KFyPwnUpQKRwPQrXo/w/H4XrUbgeJkBxPQrXo3D1P3E9Ctej8ClAzczMzMzMH0CF61G4HoUUQNejcD0KVyxAZmZmZmZmF0Bcj8L1KFwDQOxRuB6F6y1ASOF6FK7HK0A9CtejcD0KQEjhehSuRyZAw/UoXI/C+T8zMzMzMzMZQIXrUbgehRZAFK5H4XoUDkDD9Shcj8IWQHsUrkfhehRAexSuR+H6IkC4HoXrUTgsQJqZmZmZmRZACtejcD0KEUDNzMzMzMwVQGZmZmZmZuY/XI/C9ShcEUAzMzMzMzMmQOxRuB6Fay1AexSuR+F6+D8UrkfhehQkQD0K16NwvSxArkfhehSuJkDXo3A9CtcBQLgehetRuBhAXI/C9ShcBUDNzMzMzMwMQArXo3A9iipAAAAAAACAJEDD9Shcj8IhQOF6FK5HYSNAH4XrUbieJkAAAAAAAAAiQDMzMzMzMx5AFK5H4XoUJkAfhetRuB4gQNejcD0KVyFAFK5H4XoUKEDD9Shcj0IgQLgehetRuCNA16NwPQrXIkCuR+F6FK4TQPYoXI/CdSNAhetRuB6FFkBI4XoUrkcXQNejcD0KVyJAKVyPwvUoKEA9CtejcD0bQHsUrkfheuQ/cT0K16NwDUAzMzMzMzMWQPYoXI/CdSBAexSuR+F6GUBSuB6F61EqQAAAAAAAAPQ/rkfhehQuJkBSuB6F61EYQEjhehSuxylA16NwPQrXJ0C4HoXrUbgeQDMzMzMzMw9AFK5H4XoUBEBxPQrXo/AhQI/C9ShcjxBAMzMzMzMzGkBcj8L1KFz/P2ZmZmZmZhlApHA9CtcjK0B7FK5H4fojQNejcD0K1xhAFK5H4XoU+j/NzMzMzMwsQMP1KFyPwv0/CtejcD0KF0BI4XoUrkccQClcj8L1KAJA9ihcj8L1/D9cj8L1KFwjQK5H4XoUrv8/KVyPwvUoDEDhehSuR2EnQM3MzMzMzAhAH4XrUbge9T/2KFyPwvUIQLgehetRuPo/CtejcD2KK0BI4XoUrkcfQMP1KFyPwv0/FK5H4XoUHUCF61G4HoUXQB+F61G4HhVAw/UoXI9CJkC4HoXrUTghQAAAAAAAACVA9ihcj8L1HkDsUbgehesrQPYoXI/C9RRAH4XrUbgeIkBmZmZmZmYiQOF6FK5H4SVA16NwPQrX8z+amZmZmRkiQHsUrkfhehdAzczMzMzMFkDsUbgehesjQGZmZmZmZuY/rkfhehQuK0AK16NwPQrnPz0K16NwPSpAmpmZmZkZJ0AzMzMzM7MtQOxRuB6F6xRAuB6F61G4AkDD9Shcj8ILQArXo3A9CiJA9ihcj8L1JkDsUbgehesXQEjhehSuRxxAUrgehetRFEDhehSuR+EVQClcj8L1KA5ApHA9CtejH0AfhetRuB4dQIXrUbgeBSRA16NwPQpXKUBcj8L1KFwQQArXo3A9ChhApHA9CtejJkDD9Shcj8ItQJqZmZmZmSVApHA9CtejKkDNzMzMzMwgQKRwPQrXoxNArkfhehQuIUDNzMzMzMwcQLgehetRuCRAAAAAAAAABEBmZmZmZmYsQLgehetRuCRApHA9CtejCkCamZmZmZkFQHsUrkfhehBAj8L1KFyPKkBxPQrXo3AZQD0K16NwPStAXI/C9ShcIUA9CtejcD0rQClcj8L1KC1AhetRuB6FJUC4HoXrUbgKQAAAAAAAACdA9ihcj8L1E0DsUbgehestQIXrUbgehQNAUrgehetRCkA9CtejcL0rQM3MzMzMzBtAUrgehetREECkcD0K16P8P5qZmZmZmShA9ihcj8L19D+F61G4HgUjQLgehetROCxAH4XrUbieK0D2KFyPwnUmQOxRuB6FayhAXI/C9SjcKECuR+F6FK4QQB+F61G4HixApHA9CtejIUCF61G4HoUWQOxRuB6F6wtAj8L1KFyPIUC4HoXrUTgtQAAAAAAAABhAzczMzMzM+D8UrkfhehQXQEjhehSuR/0/mpmZmZmZK0DNzMzMzMzwPzMzMzMzM/M/rkfhehSuIUDNzMzMzEwkQM3MzMzMTClAXI/C9ShcIUCPwvUoXA8sQClcj8L1KABAuB6F61G4IEAK16NwPQolQIXrUbgeBStAuB6F61E4LEBcj8L1KFwpQHsUrkfheiJAuB6F61G4KkAAAAAAAAAVQClcj8L1qCRAj8L1KFwPJEDsUbgehesqQMP1KFyPQiZAH4XrUbgeEkCuR+F6FK4eQHE9CtejcO0/UrgehetRLUB7FK5H4XoSQB+F61G4HiNAexSuR+F6LECF61G4HgUlQB+F61G4niBAmpmZmZmZ4T9xPQrXo3D9P4XrUbgehRRAUrgehetRFkAAAAAAAAAkQFK4HoXrUQZA4XoUrkdhK0DsUbgehescQAAAAAAAAAhAPQrXo3A9CEBmZmZmZuYpQClcj8L1KCdA7FG4HoXrE0C4HoXrUbj+P3E9CtejcAFArkfhehSuGUDNzMzMzEwpQFK4HoXrUQRACtejcD0K9z+amZmZmZkTQArXo3A9iiZAKVyPwvUoAkBcj8L1KFwUQM3MzMzMTCJArkfhehSuGUAfhetRuB4iQFK4HoXr0SBA7FG4HoXrIkDD9Shcj0IsQClcj8L1KBxA7FG4HoXrDUDsUbgehev1P1yPwvUo3CBAPQrXo3A9GEAfhetRuB4sQHsUrkfhegJAZmZmZmZmIUAK16NwPQohQArXo3A9CgtAw/UoXI/CGUDsUbgehevpP6RwPQrXoy1ACtejcD0K+z/Xo3A9CtfzP8P1KFyPwhJAzczMzMxMI0DNzMzMzMwgQBSuR+F6lCtAH4XrUbgeBUCF61G4HoUsQGZmZmZmZhNAmpmZmZmZHUDsUbgehesjQOF6FK5H4RFAFK5H4XoUJEDhehSuR+EEQPYoXI/CdSpAFK5H4XqUJEApXI/C9Sj4P+F6FK5HYSRA9ihcj8L1K0BmZmZmZmYZQBSuR+F6FClAuB6F61G4GEBcj8L1KFznP8P1KFyPwhtA7FG4HoXrHkCPwvUoXI8hQLgehetRuAxAUrgehevRJkBSuB6F61ElQOF6FK5H4SRAZmZmZmZmEUDNzMzMzEwiQI/C9Shcjx9ASOF6FK5HEEBSuB6F61ElQFyPwvUo3CRAXI/C9ShcKEDXo3A9Ctf3P/YoXI/C9fQ/XI/C9ShcHUApXI/C9SgZQNejcD0KVydASOF6FK5HKEDsUbgehWsgQJqZmZmZmQtA9ihcj8L1GUAfhetRuB7xP1yPwvUo3CFApHA9CtejG0CPwvUoXI8TQAAAAAAAAA5AhetRuB6FA0BI4XoUrkctQFyPwvUoXCtAXI/C9ShcIkAzMzMzMzP3P1K4HoXrUeA/FK5H4XqUKUBI4XoUrkcFQGZmZmZm5iRAmpmZmZmZGkD2KFyPwvUWQFK4HoXrURtAFK5H4XoULUAzMzMzMzMXQFK4HoXrUSNASOF6FK7HKkD2KFyPwvUSQKRwPQrXoyNA16NwPQrXD0CamZmZmZnhP65H4XoUrhhArkfhehSuLUCPwvUoXA8qQPYoXI/C9fQ/FK5H4XqUIEDhehSuR+EoQI/C9Shcjw5ACtejcD0KJUAUrkfhehT+P3E9CtejcBJAZmZmZmbmIUDD9Shcj0IiQB+F61G4nilAAAAAAAAAKkAUrkfhehQtQIXrUbgehQVAj8L1KFwPKkCF61G4HgUkQI/C9ShcDypArkfhehSuJEBSuB6F69EoQAAAAAAAACBAUrgehetRIUAAAAAAAIAmQNejcD0KVyhAexSuR+F6KUBSuB6F61HoPzMzMzMzMx1Aw/UoXI/C7T+amZmZmZnxP4XrUbgeBSNAcT0K16NwD0ApXI/C9SgGQGZmZmZmZiRAj8L1KFyPLED2KFyPwvUQQOF6FK5H4QRAhetRuB6FIkBcj8L1KFwqQBSuR+F6lClACtejcD0KH0BSuB6F61EdQMP1KFyPwgVA16NwPQrXI0Bcj8L1KFwRQNejcD0K1/M/KVyPwvUoEUApXI/C9agqQOxRuB6F6/k/w/UoXI9CJEBSuB6F61H0PwAAAAAAAAxArkfhehQuI0DNzMzMzEwiQB+F61G4nihAXI/C9ShcJEAAAAAAAAAMQClcj8L1KCBAZmZmZmZmKEBmZmZmZmYMQOxRuB6F6/U/rkfhehSu9z+4HoXrUbgQQBSuR+F6FCdAUrgehevRJEAfhetRuB4VQClcj8L1qCBAMzMzMzMzEUDNzMzMzEwhQNejcD0K1wtAcT0K16PwKkAfhetRuJ4mQK5H4XoUrgtA7FG4HoXrCUCPwvUoXI8VQHsUrkfhehJAuB6F61G4HEDXo3A9CtcDQMP1KFyPwhhAFK5H4XoUDEC4HoXrUbjuP3sUrkfhegZAhetRuB4FIkCPwvUoXI8XQAAAAAAAAARApHA9CtejBkCuR+F6FK7nP3E9CtejcAtAPQrXo3C9LUAAAAAAAAAAQBSuR+F6FBJAUrgehetRH0AK16NwPQoaQNejcD0K1/M/7FG4HoXrBUDhehSuR+EOQLgehetRuC1AMzMzMzMzAUBmZmZmZmYlQIXrUbgehRhAAAAAAACAIUB7FK5H4XrwP/YoXI/C9QhAZmZmZmZm5j9cj8L1KFwPQMP1KFyPwi1A4XoUrkdhK0BI4XoUrkcNQOxRuB6F6yNAUrgehetR6D8UrkfhehQfQLgehetROCVAuB6F61G4HkCuR+F6FC4sQGZmZmZmZgRAcT0K16PwKkBmZmZmZmYnQNejcD0K1yVA4XoUrkfhFkAUrkfhehQdQNejcD0K1yhAFK5H4XoUHEDD9Shcj8IFQOF6FK5H4SVACtejcD0KC0CF61G4HgUlQLgehetRuBdAhetRuB6FCUDNzMzMzMz0P+F6FK5H4RFAXI/C9ShcJ0AfhetRuB4gQD0K16NwPRdAPQrXo3A9I0CF61G4HoUpQNejcD0KVyhAw/UoXI/CK0DsUbgehescQNejcD0KVyZAZmZmZmbmK0DsUbgehesPQLgehetRuBNAzczMzMzMKEAzMzMzMzMHQNejcD0K1xFAzczMzMzMI0BSuB6F61EhQB+F61G4Hv0/uB6F61G4E0DsUbgehWsgQEjhehSuRxtAFK5H4XoUGEApXI/C9SgXQM3MzMzMzBZAuB6F61G4K0CF61G4HoUYQI/C9ShcjwJAcT0K16NwEkAzMzMzMzMDQIXrUbgeBSxACtejcD0KEEDsUbgehesdQKRwPQrXo/Q/j8L1KFyPDkCamZmZmZkpQK5H4XoUritAZmZmZmbmKEBI4XoUrkfhP/YoXI/C9eA/KVyPwvUoHkBcj8L1KNwmQHE9CtejcPk/7FG4HoXrDUAUrkfhehQRQHsUrkfh+iBAZmZmZmZmBECuR+F6FK4tQArXo3A9ChxAAAAAAACALEAfhetRuB4qQLgehetROCJAMzMzMzOzKEC4HoXrUbj+P7gehetRuCRAuB6F61G4GUDsUbgehesYQAAAAAAAACVA16NwPQrXEEDXo3A9CtcjQArXo3A9CidAuB6F61G4F0Bcj8L1KFwdQB+F61G4Hvk/9ihcj8L1EUBmZmZmZmYiQD0K16NwvSBASOF6FK7HJ0BxPQrXo/AsQK5H4XoUruc/CtejcD0KD0BmZmZmZmYXQArXo3A9CilAKVyPwvWoKUDD9Shcj0IjQD0K16NwPSJAzczMzMzMKUCkcD0K1yMhQLgehetRuOY/MzMzMzOzKECF61G4HoUUQGZmZmZmZhZA4XoUrkfhHUDNzMzMzMwAQBSuR+F6FCRAmpmZmZmZKEDhehSuR+EZQB+F61G4HiJACtejcD0K/z+F61G4HoUZQHsUrkfh+iVAH4XrUbgeK0CkcD0K16MqQOxRuB6FayJAXI/C9ShcHUBxPQrXo3AaQB+F61G4nixAZmZmZmZmEEDD9Shcj8IeQI/C9ShcDytAhetRuB6FLUBSuB6F61HgP9ejcD0K1x5AH4XrUbgeHkAzMzMzMzMJQGZmZmZm5iRAH4XrUbgeC0BmZmZmZmYeQHE9CtejcBNAZmZmZmZmEUA9CtejcL0hQD0K16NwPRpAcT0K16NwDUCPwvUoXI8qQHsUrkfhevA/UrgehevRKUDD9Shcj8IQQLgehetRuApAUrgehetRI0AUrkfhehQkQOxRuB6F6w1AzczMzMzM8D+F61G4HoUbQIXrUbgehShAj8L1KFyPF0DNzMzMzMwGQMP1KFyPwu0/H4XrUbieJED2KFyPwvUcQMP1KFyPwhRAFK5H4XoUGkA9CtejcD0pQClcj8L1KAJAhetRuB6FGEBSuB6F61EZQK5H4XoULiJAFK5H4XoUHkAUrkfhepQoQM3MzMzMzBJA9ihcj8L1DEBcj8L1KFwZQOF6FK5H4f4/exSuR+F6I0DNzMzMzMwkQB+F61G4Hvk/uB6F61G4KkBxPQrXo3DxPylcj8L1KOw/7FG4HoXrD0CamZmZmZnhP6RwPQrXowpAw/UoXI/CE0DhehSuR+EYQArXo3A9Ch1AmpmZmZkZIkB7FK5H4XrwP7gehetRuPI/FK5H4XoU/j/sUbgehWssQClcj8L1KB1AhetRuB6F6z/sUbgehWspQD0K16NwvSdA9ihcj8L1JUAfhetRuB4oQIXrUbgehSxAFK5H4XqUIkCamZmZmZkbQFK4HoXr0SNASOF6FK5HIECuR+F6FC4nQD0K16NwvSZArkfhehQuKUB7FK5H4XofQD0K16NwPStAAAAAAAAAHkDsUbgehevxP+xRuB6FayVAUrgehevRJkAfhetRuB4nQKRwPQrXo+g/7FG4HoVrI0B7FK5H4XoeQArXo3A9iiZAFK5H4XqUI0DD9Shcj8IYQJqZmZmZmRZAMzMzMzMz9z+uR+F6FK4qQOxRuB6FaytAAAAAAACAIkBcj8L1KFwDQJqZmZmZmfU/9ihcj8L1GUBSuB6F61EqQK5H4XoUrgtAAAAAAAAAG0CuR+F6FK4hQOF6FK5H4SdAZmZmZmZmI0BSuB6F69EkQOxRuB6FayNAw/UoXI/C9T+4HoXrUbgmQHsUrkfheuw/16NwPQrX/z+F61G4HoUYQI/C9ShcjwxAUrgehevRJkAzMzMzMzPrP6RwPQrXIypAUrgehevRIUDD9Shcj8IpQKRwPQrXoxlAhetRuB6FCUCF61G4HgUqQFK4HoXrUQJAhetRuB6FB0BI4XoUrkcaQM3MzMzMTCJAPQrXo3A9EkC4HoXrUTgpQBSuR+F6FB1ACtejcD2KJUAK16NwPYotQFyPwvUo3ChAMzMzMzMzLEC4HoXrUTggQIXrUbgeBSVAexSuR+H6KUDNzMzMzMwUQBSuR+F6FAhAcT0K16Nw8T/hehSuR+EnQMP1KFyPwiZA7FG4HoXrFkB7FK5H4XomQK5H4XoULixAmpmZmZmZ9T+PwvUoXI8MQI/C9ShcDyNAmpmZmZmZ+T+F61G4HgUlQLgehetRuChAcT0K16PwI0DsUbgehesQQFyPwvUoXA1APQrXo3A9FECPwvUoXA8kQMP1KFyPwiNAzczMzMzM9D/2KFyPwnUoQNejcD0K1/8/zczMzMxMJkBI4XoUrkcJQK5H4XoUrgFAFK5H4XoUFUBmZmZmZmYWQClcj8L1KBZAFK5H4XoUK0BxPQrXo/AhQOF6FK5H4SZAcT0K16PwIEBI4XoUrkcnQOF6FK5H4SFArkfhehQuKkAzMzMzMzMnQD0K16NwPSZA4XoUrkfhBEDsUbgehWshQJqZmZmZmRBAmpmZmZkZKUBcj8L1KFwDQK5H4XoULiVAmpmZmZmZGkDNzMzMzEwsQOxRuB6F6xxAuB6F61G4FUAUrkfhehQqQD0K16NwPShASOF6FK5HAUAK16NwPQoTQOxRuB6FayFAH4XrUbgeJ0AAAAAAAAAgQLgehetRuPo/XI/C9ShcKkDhehSuR+EOQPYoXI/CdSBAZmZmZmZmHECuR+F6FC4mQHE9CtejcB1AexSuR+F6E0Bcj8L1KFwWQEjhehSuRydAhetRuB6FHkCPwvUoXI/6P3E9Ctej8CVA16NwPQrXAUDD9Shcj8IRQM3MzMzMzCFArkfhehSuJEA9CtejcD0VQOxRuB6FaydA9ihcj8L1FECF61G4HoUYQNejcD0K1wdAXI/C9ShcFkCF61G4HoUSQI/C9ShcDyBApHA9CtcjIEA9CtejcL0qQHsUrkfh+itAZmZmZmZmDEDNzMzMzMzwP83MzMzMzCxAexSuR+F6HEDsUbgehesUQDMzMzMzMxpAKVyPwvUoDkBxPQrXo3ADQIXrUbgehStACtejcD2KIUDXo3A9CtcWQFK4HoXr0SJArkfhehQuK0AfhetRuB4aQDMzMzMzMylAhetRuB6FLEBI4XoUrkcQQHE9CtejcAFA7FG4HoXrJUDsUbgehesVQFyPwvUoXCNAhetRuB6FFkA9CtejcD0hQGZmZmZm5iVAzczMzMzMIUC4HoXrUTgnQMP1KFyPQiZA16NwPQrXFEDD9Shcj8IFQPYoXI/C9fQ/FK5H4XoUFEAzMzMzM7MgQDMzMzMzMxRAFK5H4XoUIkDNzMzMzMz8PxSuR+F6FA5ApHA9CtejJUA9CtejcD0AQClcj8L1KBFASOF6FK5HLEBI4XoUrkf5P65H4XoUrhZAmpmZmZmZF0AK16NwPQohQLgehetRuP4/ZmZmZmZmIEBSuB6F61EoQLgehetRuP4/4XoUrkdhJUAzMzMzMzMcQAAAAAAAgChAPQrXo3A9KUCF61G4HoUqQKRwPQrXIytArkfhehQuI0A9CtejcL0kQClcj8L1KC1A7FG4HoVrIEB7FK5H4XojQNejcD0K1ydAzczMzMzMJkCPwvUoXA8tQBSuR+F6FCFACtejcD2KIkBxPQrXo3AiQHE9CtejcBNAzczMzMzMEEAzMzMzM7MnQGZmZmZm5ihAKVyPwvUoEEDsUbgehWsmQDMzMzMzMwFAcT0K16Nw+T/Xo3A9CtcbQM3MzMzMzBhAmpmZmZmZA0A9CtejcD0SQEjhehSuRxVAUrgehetRH0B7FK5H4XrkPwrXo3A9iiVAXI/C9ShcJECkcD0K16MCQDMzMzMzsyFAZmZmZmZmK0AUrkfhehQRQLgehetRuBtA4XoUrkfhKkB7FK5H4Xr8PwrXo3A9CidArkfhehSuKUC4HoXrUTgqQPYoXI/C9RlArkfhehSuB0Bcj8L1KNwmQNejcD0K1x1APQrXo3A9BkBmZmZmZmb+P2ZmZmZmZhRAhetRuB6FFUCkcD0K16MRQGZmZmZm5ilArkfhehQuKECPwvUoXI8IQKRwPQrXoyZASOF6FK5HI0B7FK5H4XodQAAAAAAAgChAzczMzMzMCkCkcD0K16MlQM3MzMzMTCRAZmZmZmZmIkB7FK5H4Xr0PwAAAAAAgCZAAAAAAAAAHUCuR+F6FC4sQB+F61G4HhtA7FG4HoVrLUBI4XoUrkfxPwrXo3A9iidAAAAAAACAJUBcj8L1KFwcQI/C9ShcDyhAhetRuB4FK0CkcD0K16P8P7gehetROCJAH4XrUbgeHEDNzMzMzMwMQHE9Ctej8ChAhetRuB4FKkD2KFyPwvUIQD0K16NwPSlA4XoUrkfh9j+uR+F6FK4lQD0K16NwPQpA4XoUrkdhJUDhehSuR+ETQMP1KFyPwhVA9ihcj8L1BkAUrkfhehQKQMP1KFyPwuU/UrgehetRCEAAAAAAAAD8P1yPwvUoXBpAhetRuB4FJEA9CtejcL0lQPYoXI/C9RdAPQrXo3A9EkD2KFyPwvX8P1yPwvUoXB1AAAAAAAAAIkAzMzMzMzMSQArXo3A9CiFASOF6FK5H6T+amZmZmZkLQI/C9Shcjy1APQrXo3A94j/Xo3A9CtcoQKRwPQrXoyxAexSuR+F6G0BmZmZmZuYmQD0K16NwPQxAexSuR+F6CkA9CtejcD0bQHsUrkfhegJAPQrXo3C9JECPwvUoXI8OQEjhehSuRyVAj8L1KFyPJkAUrkfhehQYQLgehetROCRAhetRuB6FLEBmZmZmZuYoQIXrUbgehf8/4XoUrkfhI0AAAAAAAAAlQAAAAAAAAB5AzczMzMzMIUAfhetRuB4nQAAAAAAAACBAXI/C9ShcJEApXI/C9SgQQDMzMzMzsyxAMzMzMzOzIkAAAAAAAAAAQHsUrkfhehdAw/UoXI9CLEApXI/C9SgQQClcj8L1KBdAexSuR+F6GUBxPQrXo3D9PzMzMzMzMxVACtejcD0KK0CuR+F6FK4FQB+F61G4HhhAcT0K16PwKkAfhetRuJ4qQFK4HoXrUSZA9ihcj8J1KUB7FK5H4fooQLgehetRuP4/pHA9CtejCEBcj8L1KFwJQJqZmZmZmRdA7FG4HoXr/T/2KFyPwvXoP2ZmZmZmZu4/ZmZmZmZmFUDhehSuR+EYQDMzMzMzMwNAMzMzMzOzIEBSuB6F69EqQClcj8L1KCNAKVyPwvWoKkBxPQrXo3AqQDMzMzMzMx1AMzMzMzMzHUDhehSuR+EcQFK4HoXr0SFAFK5H4XqUKkDsUbgehWspQGZmZmZmZhJAXI/C9ShcE0AzMzMzMzMfQFK4HoXrUShAj8L1KFyPDkCuR+F6FK4kQM3MzMzMTCRA4XoUrkfhF0DsUbgehesLQJqZmZmZmRRAXI/C9ShcEUA9CtejcD0pQHE9CtejcCNA4XoUrkfh4j/D9Shcj8IlQHsUrkfhehJAKVyPwvUo9D9mZmZmZmYqQIXrUbgehRpAzczMzMzM5D/Xo3A9CtcdQAAAAAAAABRAAAAAAAAAAEC4HoXrUbgsQIXrUbgehRFAZmZmZmZm8j8UrkfhehQUQGZmZmZmZhtA9ihcj8L1IkCkcD0K1yMmQLgehetRuAhArkfhehSuD0CF61G4HoUjQMP1KFyPwhlAZmZmZmZmGEAfhetRuJ4jQClcj8L1KCRAZmZmZmZm7j89CtejcD0MQLgehetRuBdAPQrXo3A9+j/sUbgehesLQI/C9Shcj/I/SOF6FK7HKkB7FK5H4XosQB+F61G4nilA9ihcj8L1CkAAAAAAAAAhQI/C9ShcDylA4XoUrkfhHEAzMzMzMzMLQI/C9Shcj/Y/CtejcD2KLECkcD0K16MGQAAAAAAAgCZAzczMzMxMI0DsUbgehWshQHE9CtejcBlAPQrXo3C9LUCuR+F6FK4rQM3MzMzMzCpA4XoUrkfh8j/sUbgehesYQD0K16NwvSBA9ihcj8J1I0A9CtejcL0kQJqZmZmZmSNApHA9CtejF0D2KFyPwvXwPzMzMzMzMwNA7FG4HoVrKUC4HoXrUTgjQIXrUbgehRxA7FG4HoXrJEDhehSuR+EXQGZmZmZmZiNAUrgehevRJkAK16NwPQoQQHE9CtejcBpAFK5H4XoUEEC4HoXrUbgnQHsUrkfheitAmpmZmZmZIUAUrkfhepQiQOxRuB6F6yxAexSuR+F6BEAUrkfhehQZQEjhehSuxyNA16NwPQrXEkAfhetRuJ4pQNejcD0K1yBAzczMzMzMJ0AUrkfhehTuPx+F61G4Hv0/pHA9CtejEUDNzMzMzMwEQDMzMzMzsytA9ihcj8L1EEDNzMzMzMwjQGZmZmZmZg5ArkfhehQuK0D2KFyPwnUpQClcj8L1qChArkfhehQuKECF61G4HoUFQD0K16NwPR1AuB6F61G4LUD2KFyPwvUdQM3MzMzMzBRAuB6F61G4FUBcj8L1KFwRQLgehetRuA5A4XoUrkfhGkAfhetRuJ4sQNejcD0K1xxASOF6FK5HGUC4HoXrUTgrQJqZmZmZmf0/mpmZmZmZFEBSuB6F61EKQEjhehSuRylAhetRuB4FKEDsUbgehesbQD0K16NwvSNA9ihcj8L1KUDNzMzMzMweQM3MzMzMzOw/ZmZmZmZmEkC4HoXrUbgOQI/C9ShcDylAj8L1KFwPJ0DNzMzMzEwiQAAAAAAAgCVAw/UoXI/CKEAAAAAAAAAIQK5H4XoUrhpAw/UoXI9CK0DNzMzMzMwVQHsUrkfh+iZAZmZmZmZmCkCamZmZmZkoQEjhehSuRw9APQrXo3A9GECkcD0K16MjQDMzMzMzMyJApHA9Ctej/D9xPQrXo3AdQGZmZmZmZihAH4XrUbieIkAUrkfhehQgQK5H4XoUrilA9ihcj8L1DEBI4XoUrkcdQHE9CtejcCZAXI/C9SjcIkD2KFyPwvURQHE9CtejcCtA4XoUrkfhH0CF61G4HoUNQArXo3A9Ch9AmpmZmZmZHUBcj8L1KNwlQGZmZmZm5ihAj8L1KFyPJkBxPQrXo/AgQOxRuB6F6x9AH4XrUbgeLUBI4XoUrkcgQAAAAAAAACdAXI/C9SjcKkDsUbgehesmQD0K16NwvSxAmpmZmZmZJEA9CtejcD0sQDMzMzMzMylAj8L1KFwPKUCamZmZmZkfQClcj8L1KAxAexSuR+F6LUDXo3A9CtcdQOF6FK5H4QZAUrgehetREkCF61G4HoX3PwrXo3A9Ch9APQrXo3A9KEBmZmZmZmYkQD0K16NwvS1APQrXo3A9KkBxPQrXo/ApQKRwPQrXoyVACtejcD0KJ0AK16NwPYosQHsUrkfhehBAj8L1KFyPLUApXI/C9aglQArXo3A9Cvc/mpmZmZmZHEAzMzMzMzMUQFK4HoXrUR5ACtejcD2KKUCamZmZmZkgQK5H4XoUrv8/zczMzMzMCkA9CtejcL0hQHE9CtejcCpAFK5H4XoUHUAAAAAAAAAWQIXrUbgehRBAKVyPwvUoF0DsUbgehesJQFyPwvUoXCxAZmZmZmZmK0CamZmZmZkpQK5H4XoUrhFAXI/C9SjcIEDD9Shcj8IBQHsUrkfheiZAcT0K16NwI0DXo3A9CtcWQI/C9ShcjydAFK5H4XqUI0BI4XoUrscmQEjhehSuRxpA16NwPQrX6z9SuB6F69ElQBSuR+F6FPI/XI/C9ShcEkBcj8L1KFwnQM3MzMzMTClAUrgehetREkDD9Shcj0ItQJqZmZmZmQtAw/UoXI/CGEB7FK5H4XoUQAAAAAAAABRAhetRuB4FKUCamZmZmZkkQDMzMzMzM/s/FK5H4XqUIEBxPQrXo/AnQK5H4XoUrhVAAAAAAAAAEkBmZmZmZmYsQK5H4XoUrhBAAAAAAAAA4D8zMzMzMzMQQOxRuB6FaypAZmZmZmbmLECamZmZmZn5P3sUrkfh+itAhetRuB6F4z9I4XoUrscmQBSuR+F6FBZAj8L1KFwPIUCamZmZmRkrQNejcD0K1wNASOF6FK5HGUCamZmZmZkoQI/C9ShcjxBAw/UoXI/CH0Bcj8L1KNwhQDMzMzMzsyZA9ihcj8J1IEDNzMzMzMzwP1K4HoXrURVAUrgehetRFUCPwvUoXA8hQHsUrkfh+i1A4XoUrkfhAEAzMzMzM7MgQLgehetRuO4/CtejcD0K+z8AAAAAAAAlQD0K16NwvSBAXI/C9ShcH0DD9Shcj8IPQMP1KFyPQiVAPQrXo3A9IkDsUbgehesoQAAAAAAAABNAzczMzMzMJUBxPQrXo3AYQArXo3A9Cg1AzczMzMzMAkDD9Shcj8IFQLgehetRuC1A7FG4HoVrJEAzMzMzMzMQQPYoXI/C9StApHA9Ctej6D9mZmZmZuYoQLgehetRuBFAKVyPwvUoKEDsUbgehWslQJqZmZmZmSZAH4XrUbgeKEAAAAAAAAAQQEjhehSuRw9AH4XrUbieIUDD9Shcj8IhQHsUrkfheidAcT0K16Nw8T/D9Shcj8ItQArXo3A9CvM/KVyPwvUoI0BxPQrXo3AcQDMzMzMzMyFAmpmZmZkZIkDNzMzMzMwIQKRwPQrXowhAUrgehetRIEDhehSuR+EeQAAAAAAAgCFAXI/C9ShcGECamZmZmZkcQD0K16NwvSJASOF6FK5HHUAzMzMzMzMBQM3MzMzMzApAZmZmZmZmEECkcD0K16MnQBSuR+F6FARAFK5H4XoUJ0CuR+F6FK4aQOF6FK5H4RhApHA9CtejGECPwvUoXA8tQHE9CtejcBxAUrgehetRKEB7FK5H4XodQM3MzMzMTC1AcT0K16NwEEAzMzMzMzP/P2ZmZmZmZhRAFK5H4XoUFEAfhetRuJ4hQClcj8L1qCxAMzMzMzOzJ0AAAAAAAAAjQHsUrkfhehRAH4XrUbgeAUApXI/C9SgIQHsUrkfh+iRAuB6F61G4EUCPwvUoXA8qQGZmZmZmZiNAPQrXo3A9JUCamZmZmZkQQDMzMzMzM+M/hetRuB4FKUDD9Shcj0InQFK4HoXrURlAcT0K16NwFUDhehSuR2EtQDMzMzMzsyhAXI/C9Shc8z9cj8L1KFwtQOxRuB6F6w9AexSuR+F6F0DhehSuR2EoQHsUrkfhegxAexSuR+H6K0DNzMzMzMwlQGZmZmZmZiZAcT0K16NwC0AAAAAAAIAlQM3MzMzMzCJA7FG4HoXrBUCF61G4HoUDQOF6FK5HYSdAZmZmZmZmF0DhehSuR+EmQJqZmZmZmR5AexSuR+F6FECamZmZmZkTQHE9CtejcCBAXI/C9ShcEkCPwvUoXI/yP1K4HoXr0SVAw/UoXI9CJ0CuR+F6FK7/P7gehetRuCVAmpmZmZkZJEB7FK5H4XrwPwAAAAAAgC1ApHA9CtejCECkcD0K1yMtQD0K16NwPQZAKVyPwvUoAkAAAAAAAIAlQJqZmZmZmRlAzczMzMzMFEAAAAAAAAAeQKRwPQrXIydAH4XrUbieIUAAAAAAAAAXQB+F61G4HihAUrgehetR9D8zMzMzM7MlQB+F61G4ni1AUrgehetRKEAfhetRuB4pQEjhehSuxyBA7FG4HoXrC0DNzMzMzEwmQEjhehSuRxFA4XoUrkfhCED2KFyPwvUpQJqZmZmZmRJAcT0K16NwI0AzMzMzMzMfQB+F61G4HglAcT0K16NwKkBcj8L1KFwHQKRwPQrXoxlAPQrXo3A9G0CamZmZmRkhQPYoXI/C9SFAuB6F61G4GkCPwvUoXI8cQHsUrkfh+iFAZmZmZmbmI0BxPQrXo3AYQDMzMzMzMyRA7FG4HoXrJ0CF61G4HoUnQArXo3A9Ch5ASOF6FK7HJ0DXo3A9CtcaQKRwPQrXoyNA4XoUrkfhLUDXo3A9ClcrQBSuR+F6FBpA4XoUrkdhJEBxPQrXo3AbQEjhehSuxyNAMzMzMzMzG0CF61G4HoUXQDMzMzMzMyRAuB6F61E4LEA9CtejcL0lQK5H4XoULidAZmZmZmZmK0BSuB6F61EpQD0K16NwPQJAPQrXo3A9+j9xPQrXo3AkQHE9Ctej8CpAhetRuB6FCUD2KFyPwvUYQLgehetRuB9A4XoUrkdhKkAAAAAAAAAWQKRwPQrXIyVAmpmZmZmZJkCPwvUoXI8YQFyPwvUoXCNA9ihcj8J1JUAUrkfhehQYQPYoXI/CdSpA4XoUrkdhIkAAAAAAAAAlQFK4HoXr0SZAFK5H4XqUJED2KFyPwvUMQOxRuB6F6yxAZmZmZmZmK0AUrkfhehQrQOF6FK5H4RdApHA9CtejGkCPwvUoXI8hQPYoXI/CdSZArkfhehSuJUCF61G4HgUtQA==",
          "dtype": "f8"
         },
         "xaxis": "x",
         "yaxis": "y"
        },
        {
         "bingroup": "x",
         "hovertemplate": "variable=Precio de venta (€)<br>value=%{x}<br>count=%{y}<extra></extra>",
         "legendgroup": "Precio de venta (€)",
         "marker": {
          "color": "#EF553B",
          "opacity": 0.6,
          "pattern": {
           "shape": ""
          }
         },
         "name": "Precio de venta (€)",
         "nbinsx": 200,
         "orientation": "v",
         "showlegend": true,
         "type": "histogram",
         "x": {
          "bdata": "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",
          "dtype": "f8"
         },
         "xaxis": "x",
         "yaxis": "y"
        }
       ],
       "layout": {
        "barmode": "overlay",
        "legend": {
         "title": {
          "text": "variable"
         },
         "tracegroupgap": 0
        },
        "template": {
         "data": {
          "bar": [
           {
            "error_x": {
             "color": "#2a3f5f"
            },
            "error_y": {
             "color": "#2a3f5f"
            },
            "marker": {
             "line": {
              "color": "#E5ECF6",
              "width": 0.5
             },
             "pattern": {
              "fillmode": "overlay",
              "size": 10,
              "solidity": 0.2
             }
            },
            "type": "bar"
           }
          ],
          "barpolar": [
           {
            "marker": {
             "line": {
              "color": "#E5ECF6",
              "width": 0.5
             },
             "pattern": {
              "fillmode": "overlay",
              "size": 10,
              "solidity": 0.2
             }
            },
            "type": "barpolar"
           }
          ],
          "carpet": [
           {
            "aaxis": {
             "endlinecolor": "#2a3f5f",
             "gridcolor": "white",
             "linecolor": "white",
             "minorgridcolor": "white",
             "startlinecolor": "#2a3f5f"
            },
            "baxis": {
             "endlinecolor": "#2a3f5f",
             "gridcolor": "white",
             "linecolor": "white",
             "minorgridcolor": "white",
             "startlinecolor": "#2a3f5f"
            },
            "type": "carpet"
           }
          ],
          "choropleth": [
           {
            "colorbar": {
             "outlinewidth": 0,
             "ticks": ""
            },
            "type": "choropleth"
           }
          ],
          "contour": [
           {
            "colorbar": {
             "outlinewidth": 0,
             "ticks": ""
            },
            "colorscale": [
             [
              0,
              "#0d0887"
             ],
             [
              0.1111111111111111,
              "#46039f"
             ],
             [
              0.2222222222222222,
              "#7201a8"
             ],
             [
              0.3333333333333333,
              "#9c179e"
             ],
             [
              0.4444444444444444,
              "#bd3786"
             ],
             [
              0.5555555555555556,
              "#d8576b"
             ],
             [
              0.6666666666666666,
              "#ed7953"
             ],
             [
              0.7777777777777778,
              "#fb9f3a"
             ],
             [
              0.8888888888888888,
              "#fdca26"
             ],
             [
              1,
              "#f0f921"
             ]
            ],
            "type": "contour"
           }
          ],
          "contourcarpet": [
           {
            "colorbar": {
             "outlinewidth": 0,
             "ticks": ""
            },
            "type": "contourcarpet"
           }
          ],
          "heatmap": [
           {
            "colorbar": {
             "outlinewidth": 0,
             "ticks": ""
            },
            "colorscale": [
             [
              0,
              "#0d0887"
             ],
             [
              0.1111111111111111,
              "#46039f"
             ],
             [
              0.2222222222222222,
              "#7201a8"
             ],
             [
              0.3333333333333333,
              "#9c179e"
             ],
             [
              0.4444444444444444,
              "#bd3786"
             ],
             [
              0.5555555555555556,
              "#d8576b"
             ],
             [
              0.6666666666666666,
              "#ed7953"
             ],
             [
              0.7777777777777778,
              "#fb9f3a"
             ],
             [
              0.8888888888888888,
              "#fdca26"
             ],
             [
              1,
              "#f0f921"
             ]
            ],
            "type": "heatmap"
           }
          ],
          "histogram": [
           {
            "marker": {
             "pattern": {
              "fillmode": "overlay",
              "size": 10,
              "solidity": 0.2
             }
            },
            "type": "histogram"
           }
          ],
          "histogram2d": [
           {
            "colorbar": {
             "outlinewidth": 0,
             "ticks": ""
            },
            "colorscale": [
             [
              0,
              "#0d0887"
             ],
             [
              0.1111111111111111,
              "#46039f"
             ],
             [
              0.2222222222222222,
              "#7201a8"
             ],
             [
              0.3333333333333333,
              "#9c179e"
             ],
             [
              0.4444444444444444,
              "#bd3786"
             ],
             [
              0.5555555555555556,
              "#d8576b"
             ],
             [
              0.6666666666666666,
              "#ed7953"
             ],
             [
              0.7777777777777778,
              "#fb9f3a"
             ],
             [
              0.8888888888888888,
              "#fdca26"
             ],
             [
              1,
              "#f0f921"
             ]
            ],
            "type": "histogram2d"
           }
          ],
          "histogram2dcontour": [
           {
            "colorbar": {
             "outlinewidth": 0,
             "ticks": ""
            },
            "colorscale": [
             [
              0,
              "#0d0887"
             ],
             [
              0.1111111111111111,
              "#46039f"
             ],
             [
              0.2222222222222222,
              "#7201a8"
             ],
             [
              0.3333333333333333,
              "#9c179e"
             ],
             [
              0.4444444444444444,
              "#bd3786"
             ],
             [
              0.5555555555555556,
              "#d8576b"
             ],
             [
              0.6666666666666666,
              "#ed7953"
             ],
             [
              0.7777777777777778,
              "#fb9f3a"
             ],
             [
              0.8888888888888888,
              "#fdca26"
             ],
             [
              1,
              "#f0f921"
             ]
            ],
            "type": "histogram2dcontour"
           }
          ],
          "mesh3d": [
           {
            "colorbar": {
             "outlinewidth": 0,
             "ticks": ""
            },
            "type": "mesh3d"
           }
          ],
          "parcoords": [
           {
            "line": {
             "colorbar": {
              "outlinewidth": 0,
              "ticks": ""
             }
            },
            "type": "parcoords"
           }
          ],
          "pie": [
           {
            "automargin": true,
            "type": "pie"
           }
          ],
          "scatter": [
           {
            "fillpattern": {
             "fillmode": "overlay",
             "size": 10,
             "solidity": 0.2
            },
            "type": "scatter"
           }
          ],
          "scatter3d": [
           {
            "line": {
             "colorbar": {
              "outlinewidth": 0,
              "ticks": ""
             }
            },
            "marker": {
             "colorbar": {
              "outlinewidth": 0,
              "ticks": ""
             }
            },
            "type": "scatter3d"
           }
          ],
          "scattercarpet": [
           {
            "marker": {
             "colorbar": {
              "outlinewidth": 0,
              "ticks": ""
             }
            },
            "type": "scattercarpet"
           }
          ],
          "scattergeo": [
           {
            "marker": {
             "colorbar": {
              "outlinewidth": 0,
              "ticks": ""
             }
            },
            "type": "scattergeo"
           }
          ],
          "scattergl": [
           {
            "marker": {
             "colorbar": {
              "outlinewidth": 0,
              "ticks": ""
             }
            },
            "type": "scattergl"
           }
          ],
          "scattermap": [
           {
            "marker": {
             "colorbar": {
              "outlinewidth": 0,
              "ticks": ""
             }
            },
            "type": "scattermap"
           }
          ],
          "scattermapbox": [
           {
            "marker": {
             "colorbar": {
              "outlinewidth": 0,
              "ticks": ""
             }
            },
            "type": "scattermapbox"
           }
          ],
          "scatterpolar": [
           {
            "marker": {
             "colorbar": {
              "outlinewidth": 0,
              "ticks": ""
             }
            },
            "type": "scatterpolar"
           }
          ],
          "scatterpolargl": [
           {
            "marker": {
             "colorbar": {
              "outlinewidth": 0,
              "ticks": ""
             }
            },
            "type": "scatterpolargl"
           }
          ],
          "scatterternary": [
           {
            "marker": {
             "colorbar": {
              "outlinewidth": 0,
              "ticks": ""
             }
            },
            "type": "scatterternary"
           }
          ],
          "surface": [
           {
            "colorbar": {
             "outlinewidth": 0,
             "ticks": ""
            },
            "colorscale": [
             [
              0,
              "#0d0887"
             ],
             [
              0.1111111111111111,
              "#46039f"
             ],
             [
              0.2222222222222222,
              "#7201a8"
             ],
             [
              0.3333333333333333,
              "#9c179e"
             ],
             [
              0.4444444444444444,
              "#bd3786"
             ],
             [
              0.5555555555555556,
              "#d8576b"
             ],
             [
              0.6666666666666666,
              "#ed7953"
             ],
             [
              0.7777777777777778,
              "#fb9f3a"
             ],
             [
              0.8888888888888888,
              "#fdca26"
             ],
             [
              1,
              "#f0f921"
             ]
            ],
            "type": "surface"
           }
          ],
          "table": [
           {
            "cells": {
             "fill": {
              "color": "#EBF0F8"
             },
             "line": {
              "color": "white"
             }
            },
            "header": {
             "fill": {
              "color": "#C8D4E3"
             },
             "line": {
              "color": "white"
             }
            },
            "type": "table"
           }
          ]
         },
         "layout": {
          "annotationdefaults": {
           "arrowcolor": "#2a3f5f",
           "arrowhead": 0,
           "arrowwidth": 1
          },
          "autotypenumbers": "strict",
          "coloraxis": {
           "colorbar": {
            "outlinewidth": 0,
            "ticks": ""
           }
          },
          "colorscale": {
           "diverging": [
            [
             0,
             "#8e0152"
            ],
            [
             0.1,
             "#c51b7d"
            ],
            [
             0.2,
             "#de77ae"
            ],
            [
             0.3,
             "#f1b6da"
            ],
            [
             0.4,
             "#fde0ef"
            ],
            [
             0.5,
             "#f7f7f7"
            ],
            [
             0.6,
             "#e6f5d0"
            ],
            [
             0.7,
             "#b8e186"
            ],
            [
             0.8,
             "#7fbc41"
            ],
            [
             0.9,
             "#4d9221"
            ],
            [
             1,
             "#276419"
            ]
           ],
           "sequential": [
            [
             0,
             "#0d0887"
            ],
            [
             0.1111111111111111,
             "#46039f"
            ],
            [
             0.2222222222222222,
             "#7201a8"
            ],
            [
             0.3333333333333333,
             "#9c179e"
            ],
            [
             0.4444444444444444,
             "#bd3786"
            ],
            [
             0.5555555555555556,
             "#d8576b"
            ],
            [
             0.6666666666666666,
             "#ed7953"
            ],
            [
             0.7777777777777778,
             "#fb9f3a"
            ],
            [
             0.8888888888888888,
             "#fdca26"
            ],
            [
             1,
             "#f0f921"
            ]
           ],
           "sequentialminus": [
            [
             0,
             "#0d0887"
            ],
            [
             0.1111111111111111,
             "#46039f"
            ],
            [
             0.2222222222222222,
             "#7201a8"
            ],
            [
             0.3333333333333333,
             "#9c179e"
            ],
            [
             0.4444444444444444,
             "#bd3786"
            ],
            [
             0.5555555555555556,
             "#d8576b"
            ],
            [
             0.6666666666666666,
             "#ed7953"
            ],
            [
             0.7777777777777778,
             "#fb9f3a"
            ],
            [
             0.8888888888888888,
             "#fdca26"
            ],
            [
             1,
             "#f0f921"
            ]
           ]
          },
          "colorway": [
           "#636efa",
           "#EF553B",
           "#00cc96",
           "#ab63fa",
           "#FFA15A",
           "#19d3f3",
           "#FF6692",
           "#B6E880",
           "#FF97FF",
           "#FECB52"
          ],
          "font": {
           "color": "#2a3f5f"
          },
          "geo": {
           "bgcolor": "white",
           "lakecolor": "white",
           "landcolor": "#E5ECF6",
           "showlakes": true,
           "showland": true,
           "subunitcolor": "white"
          },
          "hoverlabel": {
           "align": "left"
          },
          "hovermode": "closest",
          "mapbox": {
           "style": "light"
          },
          "paper_bgcolor": "white",
          "plot_bgcolor": "#E5ECF6",
          "polar": {
           "angularaxis": {
            "gridcolor": "white",
            "linecolor": "white",
            "ticks": ""
           },
           "bgcolor": "#E5ECF6",
           "radialaxis": {
            "gridcolor": "white",
            "linecolor": "white",
            "ticks": ""
           }
          },
          "scene": {
           "xaxis": {
            "backgroundcolor": "#E5ECF6",
            "gridcolor": "white",
            "gridwidth": 2,
            "linecolor": "white",
            "showbackground": true,
            "ticks": "",
            "zerolinecolor": "white"
           },
           "yaxis": {
            "backgroundcolor": "#E5ECF6",
            "gridcolor": "white",
            "gridwidth": 2,
            "linecolor": "white",
            "showbackground": true,
            "ticks": "",
            "zerolinecolor": "white"
           },
           "zaxis": {
            "backgroundcolor": "#E5ECF6",
            "gridcolor": "white",
            "gridwidth": 2,
            "linecolor": "white",
            "showbackground": true,
            "ticks": "",
            "zerolinecolor": "white"
           }
          },
          "shapedefaults": {
           "line": {
            "color": "#2a3f5f"
           }
          },
          "ternary": {
           "aaxis": {
            "gridcolor": "white",
            "linecolor": "white",
            "ticks": ""
           },
           "baxis": {
            "gridcolor": "white",
            "linecolor": "white",
            "ticks": ""
           },
           "bgcolor": "#E5ECF6",
           "caxis": {
            "gridcolor": "white",
            "linecolor": "white",
            "ticks": ""
           }
          },
          "title": {
           "x": 0.05
          },
          "xaxis": {
           "automargin": true,
           "gridcolor": "white",
           "linecolor": "white",
           "ticks": "",
           "title": {
            "standoff": 15
           },
           "zerolinecolor": "white",
           "zerolinewidth": 2
          },
          "yaxis": {
           "automargin": true,
           "gridcolor": "white",
           "linecolor": "white",
           "ticks": "",
           "title": {
            "standoff": 15
           },
           "zerolinecolor": "white",
           "zerolinewidth": 2
          }
         }
        },
        "title": {
         "text": "Distribución de Coste y Precio de Venta"
        },
        "xaxis": {
         "anchor": "y",
         "domain": [
          0,
          1
         ],
         "title": {
          "text": "€"
         }
        },
        "yaxis": {
         "anchor": "x",
         "domain": [
          0,
          1
         ],
         "title": {
          "text": "Frecuencia"
         }
        }
       }
      }
     },
     "metadata": {},
     "output_type": "display_data"
    }
   ],
   "source": [
    "fig = px.histogram(abordo, x=['Coste (€)', 'Precio de venta (€)'],\n",
    "                barmode='overlay', \n",
    "                nbins=200, \n",
    "                opacity=0.6,\n",
    "                title='Distribución de Coste y Precio de Venta')\n",
    "fig.update_layout(xaxis_title=\"€\", yaxis_title=\"Frecuencia\")\n",
    "fig.show()"
   ]
  },
  {
   "cell_type": "code",
   "execution_count": 16,
   "id": "9e4a9943",
   "metadata": {},
   "outputs": [
    {
     "data": {
      "application/vnd.plotly.v1+json": {
       "config": {
        "plotlyServerURL": "https://plot.ly"
       },
       "data": [
        {
         "customdata": [
          [
           "GUISANTES BASIC B/2,5KG",
           "VERDURAS",
           "MONOPRODUCTO - Formato Horeca"
          ],
          [
           "JUDIA VERDE RED-TROCEADA  B/2.5 KG",
           "VERDURAS",
           "MONOPRODUCTO - Formato Horeca"
          ]
         ],
         "hovertemplate": "Grupo=%{customdata[2]}<br>Coste (€)=%{x}<br>Precio de venta (€)=%{marker.size}<br>Producto=%{customdata[0]}<br>Familia=%{customdata[1]}<extra></extra>",
         "legendgroup": "MONOPRODUCTO - Formato Horeca",
         "marker": {
          "color": "#636efa",
          "size": {
           "bdata": "PQrXo3B9MkCkcD0K12NSQA==",
           "dtype": "f8"
          },
          "sizemode": "area",
          "sizeref": 0.1839,
          "symbol": "circle"
         },
         "mode": "markers",
         "name": "MONOPRODUCTO - Formato Horeca",
         "orientation": "v",
         "showlegend": true,
         "type": "scatter",
         "x": {
          "bdata": "exSuR+H6LUBI4XoUrsctQA==",
          "dtype": "f8"
         },
         "xaxis": "x",
         "y": {
          "bdata": "PQrXo3B9MkCkcD0K12NSQA==",
          "dtype": "f8"
         },
         "yaxis": "y"
        },
        {
         "customdata": [
          [
           "AC-E-ALTRAMUCES SALADITOS 600 G",
           "PRODUCTOS AMBIENTE",
           "A - Aceitunas - AC - Encurtidos"
          ]
         ],
         "hovertemplate": "Grupo=%{customdata[2]}<br>Coste (€)=%{x}<br>Precio de venta (€)=%{marker.size}<br>Producto=%{customdata[0]}<br>Familia=%{customdata[1]}<extra></extra>",
         "legendgroup": "A - Aceitunas - AC - Encurtidos",
         "marker": {
          "color": "#EF553B",
          "size": {
           "bdata": "PQrXo3B9MkA=",
           "dtype": "f8"
          },
          "sizemode": "area",
          "sizeref": 0.1839,
          "symbol": "circle"
         },
         "mode": "markers",
         "name": "A - Aceitunas - AC - Encurtidos",
         "orientation": "v",
         "showlegend": true,
         "type": "scatter",
         "x": {
          "bdata": "exSuR+H6LUA=",
          "dtype": "f8"
         },
         "xaxis": "x",
         "y": {
          "bdata": "PQrXo3B9MkA=",
          "dtype": "f8"
         },
         "yaxis": "y"
        },
        {
         "customdata": [
          [
           "PULPO CRUDO-(FAO/34)(T/1) 3/4,5 KG (B)",
           "PESCADOS ULTRACONGELADOS",
           "Pulpos Crudos / Cocidos / Troceados"
          ]
         ],
         "hovertemplate": "Grupo=%{customdata[2]}<br>Coste (€)=%{x}<br>Precio de venta (€)=%{marker.size}<br>Producto=%{customdata[0]}<br>Familia=%{customdata[1]}<extra></extra>",
         "legendgroup": "Pulpos Crudos / Cocidos / Troceados",
         "marker": {
          "color": "#00cc96",
          "size": {
           "bdata": "exSuR+F6QkA=",
           "dtype": "f8"
          },
          "sizemode": "area",
          "sizeref": 0.1839,
          "symbol": "circle"
         },
         "mode": "markers",
         "name": "Pulpos Crudos / Cocidos / Troceados",
         "orientation": "v",
         "showlegend": true,
         "type": "scatter",
         "x": {
          "bdata": "9ihcj8L1LUA=",
          "dtype": "f8"
         },
         "xaxis": "x",
         "y": {
          "bdata": "exSuR+F6QkA=",
          "dtype": "f8"
         },
         "yaxis": "y"
        },
        {
         "customdata": [
          [
           "CAL-PUNT-(CHINEN/SPP)-IQF-S/PLM- B/800G",
           "PESCADOS ULTRACONGELADOS",
           "Calamares - Puntillas"
          ]
         ],
         "hovertemplate": "Grupo=%{customdata[2]}<br>Coste (€)=%{x}<br>Precio de venta (€)=%{marker.size}<br>Producto=%{customdata[0]}<br>Familia=%{customdata[1]}<extra></extra>",
         "legendgroup": "Calamares - Puntillas",
         "marker": {
          "color": "#ab63fa",
          "size": {
           "bdata": "FK5H4Xq0S0A=",
           "dtype": "f8"
          },
          "sizemode": "area",
          "sizeref": 0.1839,
          "symbol": "circle"
         },
         "mode": "markers",
         "name": "Calamares - Puntillas",
         "orientation": "v",
         "showlegend": true,
         "type": "scatter",
         "x": {
          "bdata": "cT0K16PwLUA=",
          "dtype": "f8"
         },
         "xaxis": "x",
         "y": {
          "bdata": "FK5H4Xq0S0A=",
          "dtype": "f8"
         },
         "yaxis": "y"
        },
        {
         "customdata": [
          [
           "RAPE-G-300/1000-GR/PZ (DEL CABO)",
           "PESCADOS ULTRACONGELADOS",
           "Rape limpio - HG - y Bolsa"
          ]
         ],
         "hovertemplate": "Grupo=%{customdata[2]}<br>Coste (€)=%{x}<br>Precio de venta (€)=%{marker.size}<br>Producto=%{customdata[0]}<br>Familia=%{customdata[1]}<extra></extra>",
         "legendgroup": "Rape limpio - HG - y Bolsa",
         "marker": {
          "color": "#FFA15A",
          "size": {
           "bdata": "uB6F61F4QkA=",
           "dtype": "f8"
          },
          "sizemode": "area",
          "sizeref": 0.1839,
          "symbol": "circle"
         },
         "mode": "markers",
         "name": "Rape limpio - HG - y Bolsa",
         "orientation": "v",
         "showlegend": true,
         "type": "scatter",
         "x": {
          "bdata": "cT0K16PwLUA=",
          "dtype": "f8"
         },
         "xaxis": "x",
         "y": {
          "bdata": "uB6F61F4QkA=",
          "dtype": "f8"
         },
         "yaxis": "y"
        },
        {
         "customdata": [
          [
           "BUEY-CARNE-TXANGURRO B/500G",
           "MARISCOS",
           "Mariscos Crudos - Cuerpos y Patas"
          ]
         ],
         "hovertemplate": "Grupo=%{customdata[2]}<br>Coste (€)=%{x}<br>Precio de venta (€)=%{marker.size}<br>Producto=%{customdata[0]}<br>Familia=%{customdata[1]}<extra></extra>",
         "legendgroup": "Mariscos Crudos - Cuerpos y Patas",
         "marker": {
          "color": "#19d3f3",
          "size": {
           "bdata": "cT0K16OwS0A=",
           "dtype": "f8"
          },
          "sizemode": "area",
          "sizeref": 0.1839,
          "symbol": "circle"
         },
         "mode": "markers",
         "name": "Mariscos Crudos - Cuerpos y Patas",
         "orientation": "v",
         "showlegend": true,
         "type": "scatter",
         "x": {
          "bdata": "7FG4HoXrLUA=",
          "dtype": "f8"
         },
         "xaxis": "x",
         "y": {
          "bdata": "cT0K16OwS0A=",
          "dtype": "f8"
         },
         "yaxis": "y"
        },
        {
         "customdata": [
          [
           "H-MNQ-DANONINO FRESA/PLATANO 6x45ML",
           "HELADOS",
           "A - Helados - HI - Infantiles y Polos"
          ]
         ],
         "hovertemplate": "Grupo=%{customdata[2]}<br>Coste (€)=%{x}<br>Precio de venta (€)=%{marker.size}<br>Producto=%{customdata[0]}<br>Familia=%{customdata[1]}<extra></extra>",
         "legendgroup": "A - Helados - HI - Infantiles y Polos",
         "marker": {
          "color": "#FF6692",
          "size": {
           "bdata": "9ihcj8J1MkA=",
           "dtype": "f8"
          },
          "sizemode": "area",
          "sizeref": 0.1839,
          "symbol": "circle"
         },
         "mode": "markers",
         "name": "A - Helados - HI - Infantiles y Polos",
         "orientation": "v",
         "showlegend": true,
         "type": "scatter",
         "x": {
          "bdata": "7FG4HoXrLUA=",
          "dtype": "f8"
         },
         "xaxis": "x",
         "y": {
          "bdata": "9ihcj8J1MkA=",
          "dtype": "f8"
         },
         "yaxis": "y"
        },
        {
         "customdata": [
          [
           "MERL-SUPREMAS-S/P-90/110 GR",
           "PESCADOS ULTRACONGELADOS",
           "Pescados (IWP)"
          ]
         ],
         "hovertemplate": "Grupo=%{customdata[2]}<br>Coste (€)=%{x}<br>Precio de venta (€)=%{marker.size}<br>Producto=%{customdata[0]}<br>Familia=%{customdata[1]}<extra></extra>",
         "legendgroup": "Pescados (IWP)",
         "marker": {
          "color": "#B6E880",
          "size": {
           "bdata": "KVyPwvWoS0A=",
           "dtype": "f8"
          },
          "sizemode": "area",
          "sizeref": 0.1839,
          "symbol": "circle"
         },
         "mode": "markers",
         "name": "Pescados (IWP)",
         "orientation": "v",
         "showlegend": true,
         "type": "scatter",
         "x": {
          "bdata": "4XoUrkfhLUA=",
          "dtype": "f8"
         },
         "xaxis": "x",
         "y": {
          "bdata": "KVyPwvWoS0A=",
          "dtype": "f8"
         },
         "yaxis": "y"
        },
        {
         "customdata": [
          [
           "ENSAL-ESP-COCTEL L-B/300 GR",
           "ENTRANTES Y PRIMEROS",
           "Entrantes y Primeros - Ensaladas"
          ]
         ],
         "hovertemplate": "Grupo=%{customdata[2]}<br>Coste (€)=%{x}<br>Precio de venta (€)=%{marker.size}<br>Producto=%{customdata[0]}<br>Familia=%{customdata[1]}<extra></extra>",
         "legendgroup": "Entrantes y Primeros - Ensaladas",
         "marker": {
          "color": "#FF97FF",
          "size": {
           "bdata": "KVyPwvWoS0A=",
           "dtype": "f8"
          },
          "sizemode": "area",
          "sizeref": 0.1839,
          "symbol": "circle"
         },
         "mode": "markers",
         "name": "Entrantes y Primeros - Ensaladas",
         "orientation": "v",
         "showlegend": true,
         "type": "scatter",
         "x": {
          "bdata": "4XoUrkfhLUA=",
          "dtype": "f8"
         },
         "xaxis": "x",
         "y": {
          "bdata": "KVyPwvWoS0A=",
          "dtype": "f8"
         },
         "yaxis": "y"
        }
       ],
       "layout": {
        "legend": {
         "itemsizing": "constant",
         "title": {
          "text": "Grupo"
         },
         "tracegroupgap": 0
        },
        "shapes": [
         {
          "line": {
           "color": "Red",
           "dash": "dash",
           "width": 2
          },
          "name": "Coste = Precio Venta",
          "type": "line",
          "x0": 0,
          "x1": 77.238,
          "y0": 0,
          "y1": 77.238
         }
        ],
        "showlegend": true,
        "template": {
         "data": {
          "bar": [
           {
            "error_x": {
             "color": "#2a3f5f"
            },
            "error_y": {
             "color": "#2a3f5f"
            },
            "marker": {
             "line": {
              "color": "#E5ECF6",
              "width": 0.5
             },
             "pattern": {
              "fillmode": "overlay",
              "size": 10,
              "solidity": 0.2
             }
            },
            "type": "bar"
           }
          ],
          "barpolar": [
           {
            "marker": {
             "line": {
              "color": "#E5ECF6",
              "width": 0.5
             },
             "pattern": {
              "fillmode": "overlay",
              "size": 10,
              "solidity": 0.2
             }
            },
            "type": "barpolar"
           }
          ],
          "carpet": [
           {
            "aaxis": {
             "endlinecolor": "#2a3f5f",
             "gridcolor": "white",
             "linecolor": "white",
             "minorgridcolor": "white",
             "startlinecolor": "#2a3f5f"
            },
            "baxis": {
             "endlinecolor": "#2a3f5f",
             "gridcolor": "white",
             "linecolor": "white",
             "minorgridcolor": "white",
             "startlinecolor": "#2a3f5f"
            },
            "type": "carpet"
           }
          ],
          "choropleth": [
           {
            "colorbar": {
             "outlinewidth": 0,
             "ticks": ""
            },
            "type": "choropleth"
           }
          ],
          "contour": [
           {
            "colorbar": {
             "outlinewidth": 0,
             "ticks": ""
            },
            "colorscale": [
             [
              0,
              "#0d0887"
             ],
             [
              0.1111111111111111,
              "#46039f"
             ],
             [
              0.2222222222222222,
              "#7201a8"
             ],
             [
              0.3333333333333333,
              "#9c179e"
             ],
             [
              0.4444444444444444,
              "#bd3786"
             ],
             [
              0.5555555555555556,
              "#d8576b"
             ],
             [
              0.6666666666666666,
              "#ed7953"
             ],
             [
              0.7777777777777778,
              "#fb9f3a"
             ],
             [
              0.8888888888888888,
              "#fdca26"
             ],
             [
              1,
              "#f0f921"
             ]
            ],
            "type": "contour"
           }
          ],
          "contourcarpet": [
           {
            "colorbar": {
             "outlinewidth": 0,
             "ticks": ""
            },
            "type": "contourcarpet"
           }
          ],
          "heatmap": [
           {
            "colorbar": {
             "outlinewidth": 0,
             "ticks": ""
            },
            "colorscale": [
             [
              0,
              "#0d0887"
             ],
             [
              0.1111111111111111,
              "#46039f"
             ],
             [
              0.2222222222222222,
              "#7201a8"
             ],
             [
              0.3333333333333333,
              "#9c179e"
             ],
             [
              0.4444444444444444,
              "#bd3786"
             ],
             [
              0.5555555555555556,
              "#d8576b"
             ],
             [
              0.6666666666666666,
              "#ed7953"
             ],
             [
              0.7777777777777778,
              "#fb9f3a"
             ],
             [
              0.8888888888888888,
              "#fdca26"
             ],
             [
              1,
              "#f0f921"
             ]
            ],
            "type": "heatmap"
           }
          ],
          "histogram": [
           {
            "marker": {
             "pattern": {
              "fillmode": "overlay",
              "size": 10,
              "solidity": 0.2
             }
            },
            "type": "histogram"
           }
          ],
          "histogram2d": [
           {
            "colorbar": {
             "outlinewidth": 0,
             "ticks": ""
            },
            "colorscale": [
             [
              0,
              "#0d0887"
             ],
             [
              0.1111111111111111,
              "#46039f"
             ],
             [
              0.2222222222222222,
              "#7201a8"
             ],
             [
              0.3333333333333333,
              "#9c179e"
             ],
             [
              0.4444444444444444,
              "#bd3786"
             ],
             [
              0.5555555555555556,
              "#d8576b"
             ],
             [
              0.6666666666666666,
              "#ed7953"
             ],
             [
              0.7777777777777778,
              "#fb9f3a"
             ],
             [
              0.8888888888888888,
              "#fdca26"
             ],
             [
              1,
              "#f0f921"
             ]
            ],
            "type": "histogram2d"
           }
          ],
          "histogram2dcontour": [
           {
            "colorbar": {
             "outlinewidth": 0,
             "ticks": ""
            },
            "colorscale": [
             [
              0,
              "#0d0887"
             ],
             [
              0.1111111111111111,
              "#46039f"
             ],
             [
              0.2222222222222222,
              "#7201a8"
             ],
             [
              0.3333333333333333,
              "#9c179e"
             ],
             [
              0.4444444444444444,
              "#bd3786"
             ],
             [
              0.5555555555555556,
              "#d8576b"
             ],
             [
              0.6666666666666666,
              "#ed7953"
             ],
             [
              0.7777777777777778,
              "#fb9f3a"
             ],
             [
              0.8888888888888888,
              "#fdca26"
             ],
             [
              1,
              "#f0f921"
             ]
            ],
            "type": "histogram2dcontour"
           }
          ],
          "mesh3d": [
           {
            "colorbar": {
             "outlinewidth": 0,
             "ticks": ""
            },
            "type": "mesh3d"
           }
          ],
          "parcoords": [
           {
            "line": {
             "colorbar": {
              "outlinewidth": 0,
              "ticks": ""
             }
            },
            "type": "parcoords"
           }
          ],
          "pie": [
           {
            "automargin": true,
            "type": "pie"
           }
          ],
          "scatter": [
           {
            "fillpattern": {
             "fillmode": "overlay",
             "size": 10,
             "solidity": 0.2
            },
            "type": "scatter"
           }
          ],
          "scatter3d": [
           {
            "line": {
             "colorbar": {
              "outlinewidth": 0,
              "ticks": ""
             }
            },
            "marker": {
             "colorbar": {
              "outlinewidth": 0,
              "ticks": ""
             }
            },
            "type": "scatter3d"
           }
          ],
          "scattercarpet": [
           {
            "marker": {
             "colorbar": {
              "outlinewidth": 0,
              "ticks": ""
             }
            },
            "type": "scattercarpet"
           }
          ],
          "scattergeo": [
           {
            "marker": {
             "colorbar": {
              "outlinewidth": 0,
              "ticks": ""
             }
            },
            "type": "scattergeo"
           }
          ],
          "scattergl": [
           {
            "marker": {
             "colorbar": {
              "outlinewidth": 0,
              "ticks": ""
             }
            },
            "type": "scattergl"
           }
          ],
          "scattermap": [
           {
            "marker": {
             "colorbar": {
              "outlinewidth": 0,
              "ticks": ""
             }
            },
            "type": "scattermap"
           }
          ],
          "scattermapbox": [
           {
            "marker": {
             "colorbar": {
              "outlinewidth": 0,
              "ticks": ""
             }
            },
            "type": "scattermapbox"
           }
          ],
          "scatterpolar": [
           {
            "marker": {
             "colorbar": {
              "outlinewidth": 0,
              "ticks": ""
             }
            },
            "type": "scatterpolar"
           }
          ],
          "scatterpolargl": [
           {
            "marker": {
             "colorbar": {
              "outlinewidth": 0,
              "ticks": ""
             }
            },
            "type": "scatterpolargl"
           }
          ],
          "scatterternary": [
           {
            "marker": {
             "colorbar": {
              "outlinewidth": 0,
              "ticks": ""
             }
            },
            "type": "scatterternary"
           }
          ],
          "surface": [
           {
            "colorbar": {
             "outlinewidth": 0,
             "ticks": ""
            },
            "colorscale": [
             [
              0,
              "#0d0887"
             ],
             [
              0.1111111111111111,
              "#46039f"
             ],
             [
              0.2222222222222222,
              "#7201a8"
             ],
             [
              0.3333333333333333,
              "#9c179e"
             ],
             [
              0.4444444444444444,
              "#bd3786"
             ],
             [
              0.5555555555555556,
              "#d8576b"
             ],
             [
              0.6666666666666666,
              "#ed7953"
             ],
             [
              0.7777777777777778,
              "#fb9f3a"
             ],
             [
              0.8888888888888888,
              "#fdca26"
             ],
             [
              1,
              "#f0f921"
             ]
            ],
            "type": "surface"
           }
          ],
          "table": [
           {
            "cells": {
             "fill": {
              "color": "#EBF0F8"
             },
             "line": {
              "color": "white"
             }
            },
            "header": {
             "fill": {
              "color": "#C8D4E3"
             },
             "line": {
              "color": "white"
             }
            },
            "type": "table"
           }
          ]
         },
         "layout": {
          "annotationdefaults": {
           "arrowcolor": "#2a3f5f",
           "arrowhead": 0,
           "arrowwidth": 1
          },
          "autotypenumbers": "strict",
          "coloraxis": {
           "colorbar": {
            "outlinewidth": 0,
            "ticks": ""
           }
          },
          "colorscale": {
           "diverging": [
            [
             0,
             "#8e0152"
            ],
            [
             0.1,
             "#c51b7d"
            ],
            [
             0.2,
             "#de77ae"
            ],
            [
             0.3,
             "#f1b6da"
            ],
            [
             0.4,
             "#fde0ef"
            ],
            [
             0.5,
             "#f7f7f7"
            ],
            [
             0.6,
             "#e6f5d0"
            ],
            [
             0.7,
             "#b8e186"
            ],
            [
             0.8,
             "#7fbc41"
            ],
            [
             0.9,
             "#4d9221"
            ],
            [
             1,
             "#276419"
            ]
           ],
           "sequential": [
            [
             0,
             "#0d0887"
            ],
            [
             0.1111111111111111,
             "#46039f"
            ],
            [
             0.2222222222222222,
             "#7201a8"
            ],
            [
             0.3333333333333333,
             "#9c179e"
            ],
            [
             0.4444444444444444,
             "#bd3786"
            ],
            [
             0.5555555555555556,
             "#d8576b"
            ],
            [
             0.6666666666666666,
             "#ed7953"
            ],
            [
             0.7777777777777778,
             "#fb9f3a"
            ],
            [
             0.8888888888888888,
             "#fdca26"
            ],
            [
             1,
             "#f0f921"
            ]
           ],
           "sequentialminus": [
            [
             0,
             "#0d0887"
            ],
            [
             0.1111111111111111,
             "#46039f"
            ],
            [
             0.2222222222222222,
             "#7201a8"
            ],
            [
             0.3333333333333333,
             "#9c179e"
            ],
            [
             0.4444444444444444,
             "#bd3786"
            ],
            [
             0.5555555555555556,
             "#d8576b"
            ],
            [
             0.6666666666666666,
             "#ed7953"
            ],
            [
             0.7777777777777778,
             "#fb9f3a"
            ],
            [
             0.8888888888888888,
             "#fdca26"
            ],
            [
             1,
             "#f0f921"
            ]
           ]
          },
          "colorway": [
           "#636efa",
           "#EF553B",
           "#00cc96",
           "#ab63fa",
           "#FFA15A",
           "#19d3f3",
           "#FF6692",
           "#B6E880",
           "#FF97FF",
           "#FECB52"
          ],
          "font": {
           "color": "#2a3f5f"
          },
          "geo": {
           "bgcolor": "white",
           "lakecolor": "white",
           "landcolor": "#E5ECF6",
           "showlakes": true,
           "showland": true,
           "subunitcolor": "white"
          },
          "hoverlabel": {
           "align": "left"
          },
          "hovermode": "closest",
          "mapbox": {
           "style": "light"
          },
          "paper_bgcolor": "white",
          "plot_bgcolor": "#E5ECF6",
          "polar": {
           "angularaxis": {
            "gridcolor": "white",
            "linecolor": "white",
            "ticks": ""
           },
           "bgcolor": "#E5ECF6",
           "radialaxis": {
            "gridcolor": "white",
            "linecolor": "white",
            "ticks": ""
           }
          },
          "scene": {
           "xaxis": {
            "backgroundcolor": "#E5ECF6",
            "gridcolor": "white",
            "gridwidth": 2,
            "linecolor": "white",
            "showbackground": true,
            "ticks": "",
            "zerolinecolor": "white"
           },
           "yaxis": {
            "backgroundcolor": "#E5ECF6",
            "gridcolor": "white",
            "gridwidth": 2,
            "linecolor": "white",
            "showbackground": true,
            "ticks": "",
            "zerolinecolor": "white"
           },
           "zaxis": {
            "backgroundcolor": "#E5ECF6",
            "gridcolor": "white",
            "gridwidth": 2,
            "linecolor": "white",
            "showbackground": true,
            "ticks": "",
            "zerolinecolor": "white"
           }
          },
          "shapedefaults": {
           "line": {
            "color": "#2a3f5f"
           }
          },
          "ternary": {
           "aaxis": {
            "gridcolor": "white",
            "linecolor": "white",
            "ticks": ""
           },
           "baxis": {
            "gridcolor": "white",
            "linecolor": "white",
            "ticks": ""
           },
           "bgcolor": "#E5ECF6",
           "caxis": {
            "gridcolor": "white",
            "linecolor": "white",
            "ticks": ""
           }
          },
          "title": {
           "x": 0.05
          },
          "xaxis": {
           "automargin": true,
           "gridcolor": "white",
           "linecolor": "white",
           "ticks": "",
           "title": {
            "standoff": 15
           },
           "zerolinecolor": "white",
           "zerolinewidth": 2
          },
          "yaxis": {
           "automargin": true,
           "gridcolor": "white",
           "linecolor": "white",
           "ticks": "",
           "title": {
            "standoff": 15
           },
           "zerolinecolor": "white",
           "zerolinewidth": 2
          }
         }
        },
        "title": {
         "text": "Contraste entre Coste y Precio de Venta (Top 10 Productos con Coste más Alto)"
        },
        "xaxis": {
         "anchor": "y",
         "domain": [
          0,
          1
         ],
         "title": {
          "text": "Coste (€)"
         }
        },
        "yaxis": {
         "anchor": "x",
         "domain": [
          0,
          1
         ],
         "title": {
          "text": "Precio de venta (€)"
         }
        }
       }
      }
     },
     "metadata": {},
     "output_type": "display_data"
    }
   ],
   "source": [
    "#Obtener los 10 productos con el coste más alto\n",
    "top_10_coste = abordo.nlargest(10, 'Coste (€)')\n",
    "\n",
    "\n",
    "fig = px.scatter(top_10_coste, \n",
    "                x='Coste (€)',\n",
    "                y='Precio de venta (€)',\n",
    "                title='Contraste entre Coste y Precio de Venta (Top 10 Productos con Coste más Alto)',\n",
    "                hover_data=['Producto', 'Familia', 'Grupo'],\n",
    "                color='Grupo',\n",
    "                size='Precio de venta (€)')\n",
    "\n",
    "#Añadir la línea diagonal\n",
    "\n",
    "max_val = max(top_10_coste['Coste (€)'].max(), top_10_coste['Precio de venta (€)'].max())\n",
    "max_val_plot = max_val * 1.05\n",
    "\n",
    "fig.add_shape(type=\"line\",\n",
    "            x0=0, y0=0, x1=max_val_plot, y1=max_val_plot,\n",
    "            line=dict(color=\"Red\", width=2, dash=\"dash\"),\n",
    "            name='Coste = Precio Venta')\n",
    "\n",
    "fig.update_layout(xaxis_title=\"Coste (€)\",\n",
    "                yaxis_title=\"Precio de venta (€)\",\n",
    "                showlegend=True)\n",
    "fig.show()"
   ]
  },
  {
   "cell_type": "markdown",
   "id": "f56c6c8f",
   "metadata": {},
   "source": [
    "\n",
    "\n",
    "\n",
    "#### Margen Bruto (€) por Grupo y Producto: \n",
    "\n"
   ]
  },
  {
   "cell_type": "code",
   "execution_count": 17,
   "id": "ff94964d",
   "metadata": {},
   "outputs": [
    {
     "data": {
      "application/vnd.plotly.v1+json": {
       "config": {
        "plotlyServerURL": "https://plot.ly"
       },
       "data": [
        {
         "hovertemplate": "Margen Beneficio (€)=%{x}<br>Grupo=%{y}<extra></extra>",
         "legendgroup": "",
         "marker": {
          "color": "#636efa",
          "symbol": "circle"
         },
         "mode": "markers",
         "name": "",
         "showlegend": false,
         "type": "scattergl",
         "x": {
          "bdata": "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",
          "dtype": "f8"
         },
         "xaxis": "x",
         "y": [
          "MEZCLAS 400 gr (Formato pequeño tienda)",
          "MEZCLAS 400 gr (Formato pequeño tienda)",
          "MONOPRODUCTO - Formato Horeca",
          "MONOPRODUCTO - Formato Horeca",
          "MONOPRODUCTO - Formato Horeca",
          "MONOPRODUCTO - Formato Horeca",
          "MONOPRODUCTO - Formato Horeca",
          "MONOPRODUCTO - Formato Horeca",
          "MONOPRODUCTO - Formato Horeca",
          "MONOPRODUCTO - Formato Horeca",
          "MONOPRODUCTO - Formato Horeca",
          "MONOPRODUCTO - Formato Horeca",
          "MONOPRODUCTO - Formato Horeca",
          "MONOPRODUCTO - Formato Horeca",
          "MONOPRODUCTO - Formato Horeca",
          "MONOPRODUCTO - Formato Horeca",
          "MONOPRODUCTO - Formato Horeca",
          "MONOPRODUCTO - Formato Horeca",
          "MONOPRODUCTO - Formato Horeca",
          "MONOPRODUCTO - Formato Horeca",
          "MONOPRODUCTO - Formato Horeca",
          "MONOPRODUCTO - Formato Horeca",
          "MONOPRODUCTO - Formato Horeca",
          "MONOPRODUCTO - Formato Horeca",
          "MONOPRODUCTO - Formato Horeca",
          "MONOPRODUCTO - Formato Horeca",
          "MONOPRODUCTO - Formato Horeca",
          "MONOPRODUCTO - Formato Horeca",
          "MONOPRODUCTO - Formato Horeca",
          "MONOPRODUCTO - Formato Horeca",
          "MONOPRODUCTO - Formato Horeca",
          "MONOPRODUCTO - Formato Horeca",
          "MEZCLAS 1000 gr (Formato grande tienda)",
          "MEZCLAS 1000 gr (Formato grande tienda)",
          "MEZCLAS 1000 gr (Formato grande tienda)",
          "MEZCLAS 1000 gr (Formato grande tienda)",
          "MEZCLAS 1000 gr (Formato grande tienda)",
          "MEZCLAS 1000 gr (Formato grande tienda)",
          "MEZCLAS 1000 gr (Formato grande tienda)",
          "MEZCLAS 1000 gr (Formato grande tienda)",
          "MEZCLAS 1000 gr (Formato grande tienda)",
          "MONOPRODUCTO 400 gr (Formato pequeño tienda)",
          "MONOPRODUCTO 400 gr (Formato pequeño tienda)",
          "MONOPRODUCTO 400 gr (Formato pequeño tienda)",
          "MONOPRODUCTO 400 gr (Formato pequeño tienda)",
          "MONOPRODUCTO 400 gr (Formato pequeño tienda)",
          "MONOPRODUCTO 400 gr (Formato pequeño tienda)",
          "MONOPRODUCTO 400 gr (Formato pequeño tienda)",
          "MONOPRODUCTO 400 gr (Formato pequeño tienda)",
          "MONOPRODUCTO 400 gr (Formato pequeño tienda)",
          "MONOPRODUCTO 400 gr (Formato pequeño tienda)",
          "MONOPRODUCTO 400 gr (Formato pequeño tienda)",
          "MONOPRODUCTO 400 gr (Formato pequeño tienda)",
          "MONOPRODUCTO 400 gr (Formato pequeño tienda)",
          "MONOPRODUCTO 400 gr (Formato pequeño tienda)",
          "MONOPRODUCTO 400 gr (Formato pequeño tienda)",
          "MONOPRODUCTO 400 gr (Formato pequeño tienda)",
          "MONOPRODUCTO 400 gr (Formato pequeño tienda)",
          "MONOPRODUCTO 400 gr (Formato pequeño tienda)",
          "MONOPRODUCTO 400 gr (Formato pequeño tienda)",
          "MONOPRODUCTO 400 gr (Formato pequeño tienda)",
          "MONOPRODUCTO 1000 gr (Formato grande tienda)",
          "MEZCLAS - FORMATO HORECA",
          "MEZCLAS - FORMATO HORECA",
          "MEZCLAS - FORMATO HORECA",
          "MEZCLAS - FORMATO HORECA",
          "MEZCLAS - FORMATO HORECA",
          "MEZCLAS - FORMATO HORECA",
          "MEZCLAS - FORMATO HORECA",
          "MONOPRODUCTO GRANEL COLES, ZANAHORIA, MENESTRA, ALCACHOFAS",
          "Pescados - Azules",
          "Pescados - Azules",
          "Pescados - Azules",
          "Pescados - Azules",
          "Pescados - Azules",
          "Pescados - Azules",
          "Pescados - Azules",
          "Pescados - Azules",
          "Pescados - Azules",
          "Pescados - Azules",
          "Pescados - Azules",
          "Pescados - Azules",
          "Pescados - Azules",
          "Pescados - Azules",
          "Pescados - Azules",
          "Pescados - Azules",
          "Pescados - Azules",
          "Pescados - Azules",
          "Pescados - Azules",
          "Pescados - Azules",
          "Pescados - Azules",
          "Pescados - Azules",
          "Pescados - Azules",
          "Pescados - Azules",
          "Pescados - Azules",
          "Pescados - Azules (HRC)",
          "Pescados - Azules (HRC)",
          "Pescados - Azules (HRC)",
          "Pescados - Azules (HRC)",
          "Pescados - Azules (HRC)",
          "Pescados - Azules (HRC)",
          "Pescados - Azules (HRC)",
          "Pescados - Azules (HRC)",
          "Pescados - Azules (HRC)",
          "Bacalao",
          "Bacalao",
          "Bacalao",
          "Bacalao",
          "Bacalao",
          "Bacalao",
          "Bacalao",
          "Bacalao",
          "Bacalao",
          "Bacalao",
          "Bacalao",
          "Bacalao",
          "Bacalao",
          "Bacalao",
          "Bacalao",
          "Bacalao",
          "Bacalao",
          "Bacalao",
          "Bacalao",
          "Bacalao",
          "Bacalao",
          "Bacalao",
          "Bacalao",
          "Bacalao",
          "Pescados (IWP)",
          "Pescados (IWP)",
          "Pescados (IWP)",
          "Pescados (IWP)",
          "Pescados (IWP)",
          "Pescados - Hogar",
          "Pescados - Hogar",
          "Pescados - Hogar",
          "Pescados - Hogar",
          "Pescados - Hogar",
          "Pescados - Hogar",
          "Pescados - Hogar",
          "Pescados - Hogar",
          "Calamares - Pota Limpia",
          "Calamares - Pota Limpia",
          "Calamares - Pota Limpia",
          "Calamares - Pota Limpia",
          "Calamares - Pota Limpia",
          "Calamares - Pota Limpia",
          "Calamares - Pota Limpia",
          "Calamares - Pota Limpia",
          "Calamares - Pota Limpia",
          "Calamares - Pota Limpia",
          "Calamares - Pota Limpia",
          "Calamares - Pota Limpia",
          "Calamares - Pota Limpia",
          "Calamares - Pota Limpia",
          "Calamares - Loligo",
          "Calamares - Loligo",
          "Calamares - Loligo",
          "Calamares - Loligo",
          "Calamares - Loligo",
          "Calamares - Loligo",
          "Calamares - Loligo",
          "Calamares - Loligo",
          "Calamares - Loligo",
          "Calamares - Loligo",
          "Calamares - Loligo",
          "Calamares - Loligo",
          "Calamares - Loligo",
          "Calamares - Loligo",
          "Calamares - Loligo",
          "Calamares - Loligo",
          "Calamares - Loligo",
          "Calamares - Loligo",
          "Calamares - Loligo",
          "Calamares - Voladores Potas",
          "Calamares - Voladores Potas",
          "Calamares - Voladores Potas",
          "Calamares - Voladores Potas",
          "Calamares - Voladores Potas",
          "Calamares - Puntillas",
          "Calamares - Puntillas",
          "Calamares - Puntillas",
          "Calamares - Puntillas",
          "Calamares - Puntillas",
          "Calamares - Puntillas",
          "Calamares - Puntillas",
          "Calamares - Puntillas",
          "Calamares - Chipirones",
          "Calamares - Chipirones",
          "Calamares - Chipirones",
          "Calamares - Chipirones",
          "Calamares - Chipirones",
          "Calamares - Chipirones",
          "Calamares - Chipirones",
          "Calamares - Chipirones",
          "Calamares - Chipirones",
          "Calamares - Chipirones",
          "Calamares - Chipirones",
          "Calamares - Chipirones/Troceados",
          "Calamares - Playa",
          "Pescados - De Cuero",
          "Pescados - De Cuero",
          "Pescados - De Cuero",
          "Pescados - De Cuero (HRC)",
          "Pescados - De Cuero (HRC)",
          "Pescados - Filetes Varios - Importación",
          "Pescados - Filetes Varios - Importación",
          "Pescados - Filetes Varios - Importación",
          "Pescados - Filetes Varios - Importación",
          "Pescados - Filetes Varios - Importación",
          "Pescados - Filetes Varios - Importación",
          "Pescados - Filetes Varios - Importación",
          "Pescados - Filetes Varios - Importación",
          "Pescados - Filetes Varios - Importación",
          "Pescados - Filetes Varios - Importación",
          "Pescados - Filetes Varios - Importación",
          "Pescados - Filetes Varios - Importación",
          "Pescados - Filetes Varios - Importación",
          "Pescados - Filetes Varios - Importación",
          "Pescados - Filetes Varios - Importación",
          "Pescados - Filetes Varios - Importación",
          "Lomos de pescado",
          "Lomos de pescado",
          "Pescados - Filetes Varios - Nacional",
          "Pescados - Filetes Varios - Nacional",
          "Pescados - Filetes Varios - Nacional",
          "Pescados - Filetes Varios - Nacional",
          "Pescados - Filetes Varios - Nacional",
          "Pescados - Filetes Varios - Nacional",
          "Pescados - Filetes Varios - Nacional",
          "Pescados - Filetes Varios - Nacional",
          "Pescados - Filetes Varios - Nacional",
          "Pescados - Filetes Varios - Nacional",
          "Pescados - Filetes Varios - Nacional",
          "Lenguados enteros y limpios",
          "Lenguados enteros y limpios",
          "Lenguados enteros y limpios",
          "Lenguados enteros y limpios",
          "Lenguados enteros y limpios",
          "Lenguados enteros y limpios",
          "Lenguados enteros y limpios",
          "Lenguados enteros y limpios",
          "Pescados - Filetes Rodajas y Lomos (HRC)",
          "Pescados - Filetes Rodajas y Lomos (HRC)",
          "Pescados - Filetes Rodajas y Lomos (HRC)",
          "Pescados - Enteros y HG",
          "Pescados - Enteros y HG",
          "Pescados - Enteros y HG",
          "Pescados - Enteros y HG",
          "Pescados - Enteros y HG",
          "Pescados - Enteros y HG",
          "Pescados - Enteros y HG",
          "Preparados / Frituras / Paellas / Sopas",
          "Preparados / Frituras / Paellas / Sopas",
          "Preparados / Frituras / Paellas / Sopas",
          "Preparados / Frituras / Paellas / Sopas",
          "Preparados / Frituras / Paellas / Sopas",
          "Preparados / Frituras / Paellas / Sopas",
          "Preparados / Frituras / Paellas / Sopas",
          "Pulpos Crudos / Cocidos / Troceados",
          "Pulpos Crudos / Cocidos / Troceados",
          "Pulpos Crudos / Cocidos / Troceados",
          "Pulpos Crudos / Cocidos / Troceados",
          "Pulpos Crudos / Cocidos / Troceados",
          "Pulpos Crudos / Cocidos / Troceados",
          "Pulpos Crudos / Cocidos / Troceados",
          "Pulpos Crudos / Cocidos / Troceados",
          "Pulpos Crudos / Cocidos / Troceados",
          "Pulpos Crudos / Cocidos / Troceados",
          "Pulpos Crudos / Cocidos / Troceados",
          "Pulpos Crudos / Cocidos / Troceados",
          "Pulpos Crudos / Cocidos / Troceados",
          "Pulpos Crudos / Cocidos / Troceados",
          "Pulpos Crudos / Cocidos / Troceados",
          "Pulpos Crudos / Cocidos / Troceados",
          "Pulpos Crudos / Cocidos / Troceados",
          "Pulpos Crudos / Cocidos / Troceados",
          "Pulpos Crudos / Cocidos / Troceados",
          "Rape limpio - HG - y Bolsa",
          "Rape limpio - HG - y Bolsa",
          "Rape limpio - HG - y Bolsa",
          "Rape limpio - HG - y Bolsa",
          "Rape limpio - HG - y Bolsa",
          "Rape limpio - HG - y Bolsa",
          "Rape limpio - HG - y Bolsa",
          "Rape limpio - HG - y Bolsa",
          "Rape limpio - HG - y Bolsa",
          "Rape limpio - HG - y Bolsa",
          "Rape limpio - HG - y Bolsa",
          "Pescados - Enteros, Higienizados y Limpios (HRC)",
          "Pescados - Enteros, Higienizados y Limpios (HRC)",
          "Pescados - Rodajas y Medallón",
          "Pescados - Rodajas y Medallón",
          "Pescados - Rodajas y Medallón",
          "Pescados - Rodajas y Medallón",
          "Pescados - Envase Ahorro",
          "Pescados - Envase Ahorro",
          "Sepias - Enteras / Limpias / Derivados",
          "Sepias - Enteras / Limpias / Derivados",
          "Sepias - Enteras / Limpias / Derivados",
          "Sepias - Enteras / Limpias / Derivados",
          "Sepias - Enteras / Limpias / Derivados",
          "Sepias - Enteras / Limpias / Derivados",
          "Sepias - Enteras / Limpias / Derivados",
          "Sepias - Enteras / Limpias / Derivados",
          "Sepias - Enteras / Limpias / Derivados",
          "Sepias - Enteras / Limpias / Derivados",
          "Sepias - Enteras / Limpias / Derivados",
          "Sepias - Enteras / Limpias / Derivados",
          "Sepias - Enteras / Limpias / Derivados",
          "Sepias - Enteras / Limpias / Derivados",
          "Sepias - Enteras / Limpias / Derivados",
          "Sepias - Enteras / Limpias / Derivados",
          "Sepias - Enteras / Limpias / Derivados",
          "Sepias - Enteras / Limpias / Derivados",
          "Sepias - Enteras / Limpias / Derivados",
          "Sepias - Enteras / Limpias / Derivados",
          "Sepias - Enteras / Limpias / Derivados",
          "Sepias - Enteras / Limpias / Derivados",
          "Sepias - Enteras / Limpias / Derivados",
          "Sepias - Enteras / Limpias / Derivados",
          "Sepias - Enteras / Limpias / Derivados",
          "Sepias - Enteras / Limpias / Derivados",
          "Sepias - Enteras / Limpias / Derivados",
          "Sepias - Enteras / Limpias / Derivados",
          "Sepias - Limpias Granel",
          "Sepias - Limpias Granel",
          "Sepias - Limpias Granel",
          "Sepias - Limpias Granel",
          "Sepias - Limpias Granel",
          "Sepias - Enteras Sucias",
          "Sepias - Enteras Sucias",
          "Albóndigas y Croquetas",
          "D - Varios",
          "Bacalao",
          "Albóndigas y Croquetas",
          "Albóndigas y Croquetas",
          "Albóndigas y Croquetas",
          "Albóndigas y Croquetas",
          "Albóndigas y Croquetas",
          "Albóndigas y Croquetas",
          "Albóndigas y Croquetas",
          "Albóndigas y Croquetas",
          "Albóndigas y Croquetas",
          "Albóndigas y Croquetas",
          "Albóndigas y Croquetas",
          "Albóndigas y Croquetas",
          "Albóndigas y Croquetas",
          "Albóndigas y Croquetas",
          "Albóndigas y Croquetas",
          "Albóndigas y Croquetas",
          "Albóndigas y Croquetas",
          "Albóndigas y Croquetas",
          "Albóndigas y Croquetas",
          "Bocaditos",
          "Quesos Empanados",
          "Quesos Empanados",
          "Quesos Empanados",
          "Quesos Empanados",
          "Quesos Empanados",
          "Quesos Empanados",
          "Precocinados - Pescados y Mariscos",
          "Precocinados - Pescados y Mariscos",
          "Precocinados - Pescados y Mariscos",
          "Precocinados - Pescados y Mariscos",
          "Precocinados - Pescados y Mariscos",
          "Precocinados - Pescados y Mariscos",
          "Precocinados - Pescados y Mariscos",
          "Precocinados - Pescados y Mariscos",
          "Precocinados - Pescados y Mariscos",
          "Precocinados - Pescados y Mariscos",
          "Precocinados - Pescados y Mariscos",
          "Precocinados - Pescados y Mariscos",
          "Precocinados - Pescados y Mariscos",
          "Precocinados - Pescados y Mariscos",
          "Precocinados - Pescados y Mariscos",
          "Precocinados - Pescados y Mariscos",
          "Precocinados - Pescados y Mariscos",
          "Precocinados - Pescados y Mariscos",
          "Precocinados - Pescados y Mariscos",
          "Precocinados - Pescados y Mariscos",
          "Precocinados - Pescados y Mariscos",
          "Precocinados - Pescados y Mariscos",
          "Precocinados - Carnes",
          "Precocinados - Carnes",
          "Precocinados - Carnes",
          "Precocinados - Carnes",
          "Precocinados - Carnes",
          "Precocinados - Carnes",
          "Precocinados - Carnes",
          "Precocinados - Carnes",
          "Precocinados - Carnes",
          "Precocinados -HRC",
          "Precocinados -HRC",
          "Precocinados -HRC",
          "Precocinados -HRC",
          "Precocinados -HRC",
          "Precocinados -HRC",
          "Precocinados -HRC",
          "Precocinados -HRC",
          "Precocinados - Verduras Preparadas",
          "Precocinados - Verduras Preparadas",
          "Precocinados del Mundo",
          "Precocinados del Mundo",
          "Precocinados del Mundo",
          "Precocinados del Mundo",
          "Precocinados del Mundo",
          "Precocinados del Mundo",
          "Precocinados del Mundo",
          "Precocinados del Mundo",
          "Precocinados del Mundo",
          "Precocinados del Mundo",
          "Surimis, Muslitos y Palitos de cangrejo",
          "Surimis, Muslitos y Palitos de cangrejo",
          "Surimis, Muslitos y Palitos de cangrejo",
          "Surimis, Muslitos y Palitos de cangrejo",
          "Surimis, Muslitos y Palitos de cangrejo",
          "Surimis, Muslitos y Palitos de cangrejo",
          "Precocinados - Patatas",
          "Precocinados - Patatas",
          "Precocinados - Patatas",
          "Precocinados - Patatas",
          "Precocinados - Patatas",
          "Precocinados - Patatas",
          "Precocinados - Patatas",
          "Precocinados - Patatas",
          "Precocinados - Patatas",
          "Pescados Refrigerados",
          "Platos Preparados - Carnes",
          "Platos Preparados - Carnes",
          "Platos Preparados - Carnes",
          "Platos Preparados - Carnes",
          "Carnes y Embutidos (HRC)",
          "Carnes y Embutidos (HRC)",
          "Carnes y Embutidos (HRC)",
          "Carnes y Embutidos (HRC)",
          "Carnes y Embutidos (HRC)",
          "Carnes - Cordero y Cabrito",
          "Carnes - Cordero y Cabrito",
          "Carnes - Cordero y Cabrito",
          "Carnes - Cordero y Cabrito",
          "Embutidos y semi preparados",
          "Embutidos y semi preparados",
          "Embutidos y semi preparados",
          "Carnes - Ternera",
          "Carnes - Ternera",
          "Carnes - Ternera",
          "Carnes - Ternera",
          "Carnes - Ternera",
          "Carnes - Ternera",
          "Carnes - Ternera",
          "Carnes - Ternera",
          "Carnes - Ternera",
          "Carnes - Ternera",
          "Carnes - Ternera",
          "Carnes - Ternera",
          "Carnes - Ternera",
          "Carnes - Ave y Conejo",
          "Carnes - Ave y Conejo",
          "Carnes - Ave y Conejo",
          "Carnes - Ave y Conejo",
          "Carnes - Ave y Conejo",
          "Carnes - Ave y Conejo",
          "Carnes - Ave y Conejo",
          "Carnes - Ave y Conejo",
          "Carnes - Ave y Conejo",
          "Carnes - Ave y Conejo",
          "Carnes - Ave y Conejo",
          "Carnes - Ave y Conejo",
          "Carnes - Ave y Conejo",
          "Carnes - Ave y Conejo",
          "Carnes - Ave y Conejo",
          "Carnes - Ave y Conejo",
          "Carnes - Ave y Conejo",
          "Carnes - Ave y Conejo",
          "Carnes - Ave y Conejo",
          "Carnes - Ave y Conejo",
          "Carnes - Ave y Conejo",
          "Carnes - Ave y Conejo",
          "Carnes - Ave y Conejo",
          "Carnes - Hamburguesas",
          "Carnes - Hamburguesas",
          "Carnes - Hamburguesas",
          "Carnes - Hamburguesas",
          "Carnes - Hamburguesas",
          "Carnes - Hamburguesas",
          "Carnes - Hamburguesas",
          "Carnes - Hamburguesas",
          "Carnes - Cerdo y mixtas",
          "Carnes - Cerdo y mixtas",
          "Carnes - Cerdo y mixtas",
          "Carnes - Cerdo y mixtas",
          "Carnes - Cerdo y mixtas",
          "Carnes - Cerdo y mixtas",
          "Carnes - Cerdo y mixtas",
          "Carnes - Cerdo y mixtas",
          "Carnes - Cerdo y mixtas",
          "Carnes - Cerdo y mixtas",
          "Carnes - Cerdo y mixtas",
          "Carnes - Cerdo y mixtas",
          "Carnes - Cerdo y mixtas",
          "Carnes - Cerdo y mixtas",
          "Carnes - Cerdo y mixtas",
          "Carnes - Cerdo y mixtas",
          "Carnes - Cerdo y mixtas",
          "Carnes - Cerdo y mixtas",
          "Carnes - Cerdo y mixtas",
          "Carnes - Cerdo y mixtas",
          "Carnes - Cerdo y mixtas",
          "Carnes - Cerdo y mixtas",
          "Carnes - Cerdo y mixtas",
          "Carnes - Cerdo y mixtas",
          "Carnes - Cerdo y mixtas",
          "Carnes - Cerdo y mixtas",
          "Carnes - Cerdo y mixtas",
          "Carnes - Cerdo y mixtas",
          "Carnes - Cerdo y mixtas",
          "Cerdo",
          "Cordero",
          "Embutidos",
          "Refrigerados (HRC) - Embutido Fresco",
          "Calamares - Chipirones",
          "Carnes - Ave y Conejo",
          "Bogavantes y Langostas",
          "Bogavantes y Langostas",
          "Bogavantes y Langostas",
          "Bogavantes y Langostas",
          "Bogavantes y Langostas",
          "Bogavantes y Langostas",
          "Bogavantes y Langostas",
          "Bogavantes y Langostas",
          "Bogavantes y Langostas",
          "Bogavantes y Langostas",
          "Bogavantes y Langostas",
          "Bogavantes y Langostas",
          "Bogavantes y Langostas",
          "Bogavantes y Langostas",
          "Bogavantes y Langostas",
          "Mariscos Crudos - Bocas y cuerpos",
          "Mariscos Crudos - Bocas y cuerpos",
          "Mariscos Crudos - Bocas y cuerpos",
          "Mariscos Crudos - Bocas y cuerpos",
          "Mariscos Crudos - Bocas y cuerpos",
          "Mariscos Crudos - Bocas y cuerpos",
          "Mariscos Crudos - Bocas y cuerpos",
          "Mariscos Crudos - Bocas y cuerpos",
          "Mariscos Crudos - Bocas y cuerpos",
          "Mariscos Crudos - Bocas y cuerpos",
          "Mariscos Crudos - Bocas y cuerpos",
          "Mariscos Crudos - Camarón, Gambas Blancas y Similares",
          "Mariscos Crudos - Camarón, Gambas Blancas y Similares",
          "Mariscos Crudos - Camarón, Gambas Blancas y Similares",
          "Mariscos Crudos - Camarón, Gambas Blancas y Similares",
          "Mariscos Crudos - Camarón, Gambas Blancas y Similares",
          "Mariscos Crudos - Camarón, Gambas Blancas y Similares",
          "Mariscos Crudos - Cigalas y similares",
          "Mariscos Crudos - Cigalas y similares",
          "Mariscos Crudos - Cigalas y similares",
          "Mariscos Crudos - Cigalas y similares",
          "Mariscos Crudos - Cigalas y similares",
          "Mariscos Crudos - Cigalas y similares",
          "Mariscos Crudos - Cigalas y similares",
          "Mariscos Crudos - Cigalas y similares",
          "Mariscos Crudos - Cigalas y similares",
          "Mariscos Crudos - Cigalas y similares",
          "Mariscos Crudos - Cigalas y similares",
          "Mariscos Crudos - Cigalas y similares",
          "Mariscos Crudos - Cigalas y similares",
          "Mariscos Crudos - Cigalas y similares",
          "Mariscos Crudos - Cigalas y similares",
          "Mariscos Crudos - Cigalas y similares",
          "Mariscos Crudos - Cigalas y similares",
          "Mariscos Crudos - Cigalas y similares",
          "Mariscos Crudos - Cigalas y similares",
          "Mariscos Crudos - Cigalas y similares",
          "Mariscos Crudos - Cigalas y similares",
          "Mariscos Crudos - Cigalas y similares",
          "Mariscos Crudos - Cigalas y similares",
          "Mariscos Crudos - Cigalas y similares",
          "Mariscos Crudos - Cigalas y similares",
          "Mariscos Crudos - Cuerpos y Patas",
          "Mariscos Crudos - Cuerpos y Patas",
          "Mariscos Crudos - Gambas Rayadas",
          "Mariscos Crudos - Gambas Rayadas",
          "Mariscos Crudos - Gambas Rayadas",
          "Mariscos Crudos - Gambas Rayadas",
          "Mariscos Crudos - Gambas Rayadas",
          "Mariscos Crudos - Gambas Rayadas",
          "Mariscos Crudos - Gambas Rayadas",
          "Mariscos Crudos - Gambas Rayadas",
          "Mariscos Crudos - Gambas Rayadas",
          "Mariscos Crudos - Gambas Rayadas",
          "Mariscos Crudos - Gambas Rayadas",
          "Mariscos Crudos - Gambas Rayadas",
          "Mariscos Crudos - Gambas Rayadas",
          "Mariscos Crudos - Gambas Rayadas",
          "Mariscos Crudos - Gambas Rayadas",
          "Mariscos Crudos - Gambas Rayadas",
          "Mariscos Crudos - Gambas Rayadas",
          "Mariscos Crudos - Gambas Rayadas",
          "Mariscos Crudos - Gambón",
          "Mariscos Crudos - Gambón",
          "Mariscos Crudos - Gambón",
          "Mariscos Crudos - Gambón",
          "Mariscos Crudos - Gambón",
          "Mariscos Crudos - Gambón",
          "Mariscos Crudos - Gambón",
          "Mariscos Crudos - Gambón",
          "Mariscos Crudos - Gambón",
          "Mariscos Crudos - Langostinos",
          "Mariscos Crudos - Langostinos",
          "Mariscos Crudos - Langostinos",
          "Mariscos Crudos - Langostinos",
          "Mariscos Crudos - Langostinos",
          "Mariscos Crudos - Langostinos",
          "Mariscos Crudos - Langostinos",
          "Mariscos Crudos - Langostinos",
          "Mariscos Crudos - Langostinos",
          "Mariscos Crudos - Langostinos",
          "Mariscos Crudos - Langostinos",
          "Mariscos Crudos - Langostinos",
          "Mariscos Crudos - Langostinos",
          "Mariscos Crudos - Rojos Brillantes y Morunos",
          "Mariscos Crudos - Rojos Brillantes y Morunos",
          "Mariscos Crudos - Rojos Brillantes y Morunos",
          "Mariscos Crudos - Rojos Brillantes y Morunos",
          "Mariscos Crudos - Rojos Brillantes y Morunos",
          "Mariscos Crudos - Rojos Brillantes y Morunos",
          "Mariscos Crudos - Rojos Brillantes y Morunos",
          "Mariscos Crudos - Rojos Brillantes y Morunos",
          "Mariscos Crudos - Rojos Brillantes y Morunos",
          "Mariscos Crudos - Rojos Brillantes y Morunos",
          "Mariscos Crudos - Rojos Brillantes y Morunos",
          "Platos Preparados - Mariscos Cocidos",
          "Platos Preparados - Mariscos Cocidos",
          "Platos Preparados - Mariscos Cocidos",
          "Platos Preparados - Mariscos Cocidos",
          "Platos Preparados - Mariscos Cocidos",
          "Platos Preparados - Mariscos Cocidos",
          "Platos Preparados - Mariscos Cocidos",
          "Platos Preparados - Mariscos Cocidos",
          "Platos Preparados - Mariscos Cocidos",
          "Platos Preparados - Mariscos Cocidos",
          "Platos Preparados - Mariscos Cocidos",
          "Platos Preparados - Mariscos Cocidos",
          "Mariscos Crudos - Colas Peladas y con piel",
          "Mariscos Crudos - Colas Peladas y con piel",
          "Mariscos Crudos - Colas Peladas y con piel",
          "Mariscos Crudos - Colas Peladas y con piel",
          "Mariscos Crudos - Colas Peladas y con piel",
          "Mariscos Crudos - Colas Peladas y con piel",
          "Mariscos Crudos - Colas Peladas y con piel",
          "Mariscos Crudos - Colas Peladas y con piel",
          "Mariscos Crudos - Colas Peladas y con piel",
          "Mariscos Crudos - Colas Peladas y con piel",
          "Mariscos Crudos - Colas Peladas y con piel",
          "Mariscos Crudos - Colas Peladas y con piel",
          "Mariscos Crudos - Colas Peladas y con piel",
          "Mariscos Crudos - Colas Peladas y con piel",
          "Mariscos Crudos - Colas Peladas y con piel",
          "Mariscos Crudos - Colas Peladas y con piel",
          "Mariscos Crudos - Colas Peladas y con piel",
          "Mariscos Crudos - Colas Peladas y con piel",
          "Mariscos Crudos - Colas Peladas y con piel",
          "Mariscos Crudos - Colas Peladas y con piel",
          "Refrigerados - Pescados",
          "Refrigerados - Pescados",
          "Helados - Tartas",
          "Helados - Tartas",
          "Helados (HRC)",
          "Helados (HRC)",
          "Helados (HRC)",
          "Helados (HRC)",
          "Helados (HRC)",
          "Helados (HRC)",
          "Helados (HRC)",
          "Helados (HRC)",
          "Helados (HRC)",
          "Helados (HRC)",
          "Helados (HRC)",
          "Helados (HRC)",
          "Helados (HRC)",
          "Helados (HRC)",
          "Helados (HRC)",
          "Helados - Tarrinas y Vasitos",
          "Helados - Tarrinas y Vasitos",
          "Helados - Tarrinas y Vasitos",
          "Helados - Tarrinas y Vasitos",
          "Helados - Tarrinas y Vasitos",
          "Helados - Tarrinas y Vasitos",
          "Helados - Tarrinas y Vasitos",
          "Helados - Tarrinas y Vasitos",
          "Helados - Tarrinas y Vasitos",
          "Helados - Tarrinas y Vasitos",
          "Helados - Tarrinas y Vasitos",
          "Helados - Tarrinas y Vasitos",
          "Helados - Tarrinas y Vasitos",
          "Helados - Tarrinas y Vasitos",
          "Helados - Tarrinas y Vasitos",
          "Helados - Tarrinas y Vasitos",
          "Helados - Tarrinas y Vasitos",
          "Helados - Tarrinas y Vasitos",
          "Helados - Conos y Sándwiches",
          "Helados - Conos y Sándwiches",
          "Helados - Conos y Sándwiches",
          "Helados - Conos y Sándwiches",
          "Helados - Conos y Sándwiches",
          "Helados - Barras",
          "Helados - Barras",
          "Helados - Granizados y Hielo",
          "Helados - Granizados y Hielo",
          "Helados - Granizados y Hielo",
          "Helados - Granizados y Hielo",
          "Helados - Granizados y Hielo",
          "Helados - Granizados y Hielo",
          "Helados - Bombones y Castañas",
          "Helados - Bombones y Castañas",
          "Helados - Bombones y Castañas",
          "Helados - Bombones y Castañas",
          "Helados - Bombones y Castañas",
          "Helados - Bombones y Castañas",
          "Helados - Bombones y Castañas",
          "Helados - Surtidos",
          "Helados - Surtidos",
          "Helados - Surtidos",
          "Helados - Surtidos",
          "A - Helados - HI - Infantiles y Polos",
          "A - Helados - HI - Infantiles y Polos",
          "A - Helados - HI - Infantiles y Polos",
          "A - Helados - HI - Infantiles y Polos",
          "A - Helados - HI - Infantiles y Polos",
          "A - Helados - HI - Infantiles y Polos",
          "A - Helados - HI - Infantiles y Polos",
          "A - Helados - HI - Infantiles y Polos",
          "A - Helados - HI - Infantiles y Polos",
          "Helados - sand",
          "Helados - sand",
          "Helados - Sin Azúcar",
          "Helados - Sin Azúcar",
          "Helados - Sin Azúcar",
          "Helados - Sin Azúcar",
          "Libre servicio-Elaborados",
          "Libre servicio-Elaborados",
          "Libre servicio-Elaborados",
          "Libre servicio-Elaborados",
          "Libre servicio-Elaborados",
          "Libre servicio-Elaborados",
          "Libre servicio-Elaborados",
          "Libre servicio-Elaborados",
          "Libre servicio-Elaborados",
          "Libre servicio-Elaborados",
          "Libre servicio-Elaborados",
          "Libre servicio-Elaborados",
          "Libre servicio-Elaborados",
          "Libre servicio-Elaborados",
          "Libre servicio-Elaborados",
          "Libre servicio-Elaborados",
          "Libre servicio-Elaborados",
          "Libre servicio-Elaborados",
          "Libre servicio-Elaborados",
          "Libre servicio-Elaborados",
          "Libre servicio-Elaborados",
          "Libre servicio-Elaborados",
          "Precocinados del Mundo",
          "Refrigerados (HRC) - Lacteos",
          "Refrigerados (HRC) - Lacteos",
          "Refrigerados (HRC) - Lacteos",
          "Refrigerados (HRC) - Lacteos",
          "Refrigerados (HRC) - Salsas",
          "Refrigerados (HRC) - Salsas",
          "Refrigerados (HRC) - Curados, Cocidos y Adobados",
          "Refrigerados (HRC) - Curados, Cocidos y Adobados",
          "Refrigerados (HRC) - Curados, Cocidos y Adobados",
          "Refrigerados (HRC) - Curados, Cocidos y Adobados",
          "Refrigerados (HRC) - Curados, Cocidos y Adobados",
          "Refrigerados (HRC) - Curados, Cocidos y Adobados",
          "Refrigerados (HRC) - Curados, Cocidos y Adobados",
          "Refrigerados (HRC) - Curados, Cocidos y Adobados",
          "Refrigerados (HRC) - Curados, Cocidos y Adobados",
          "Refrigerados (HRC) - Curados, Cocidos y Adobados",
          "Refrigerados (HRC) - Curados, Cocidos y Adobados",
          "Refrigerados (HRC) - Carnes de Ternera",
          "Refrigerados RFR - Mantequilla-Levadura",
          "Salazones",
          "Salazones",
          "Salazones",
          "Salazones",
          "Salazones",
          "Salazones",
          "Salazones",
          "Salazones",
          "Salazones",
          "Salazones",
          "Salazones",
          "Salazones",
          "Salazones",
          "Salazones",
          "Salazones",
          "Salazones",
          "Salazones",
          "Salazones",
          "Salazones",
          "Salazones",
          "Salazones",
          "Salazones",
          "Salazones",
          "Salazones",
          "Salazones",
          "Salazones",
          "Salazones",
          "Salazones",
          "Salazones",
          "Salazones",
          "Salazones",
          "Salazones",
          "Salazones",
          "Salazones",
          "Salazones",
          "Salazones",
          "Salazones",
          "Salazones",
          "Salazones",
          "Salazones",
          "Salazones",
          "Salazones",
          "Salazones",
          "Salazones",
          "Refrigerados (HRC) - Pescados",
          "Refrigerados (HRC) - Pescados",
          "Refrigerados (HRC) - Pescados",
          "Refrigerados (HRC) - Pescados",
          "Refrigerados (HRC) - Pescados",
          "Refrigerados (HRC) - Pescados",
          "Refrigerados (HRC) - Pescados",
          "Refrigerados (HRC) - Pescados",
          "Refrigerados (HRC) - Pescados",
          "Refrigerados (HRC) - Pescados",
          "Refrigerados (HRC) - Pescados",
          "Refrigerados (HRC) - Pescados",
          "Refrigerados - Pescados",
          "Refrigerados - Pescados",
          "Ternera",
          "Elaborados",
          "Elaborados",
          "Elaborados",
          "Elaborados",
          "Elaborados",
          "Elaborados",
          "Elaborados",
          "Elaborados",
          "Elaborados",
          "Elaborados",
          "Elaborados",
          "Curados",
          "Curados",
          "Curados",
          "Curados",
          "Curados",
          "Curados",
          "Curados",
          "Curados",
          "Curados",
          "Curados",
          "Curados",
          "Curados",
          "Curados",
          "Curados",
          "Cocidos",
          "Cocidos",
          "Cocidos",
          "Cocidos",
          "Cocidos",
          "Cocidos",
          "Cocidos",
          "Cocidos",
          "Cocidos",
          "Cocidos",
          "Cocidos",
          "Cocidos",
          "Cocidos",
          "Jamones",
          "Jamones",
          "Jamones",
          "Jamones",
          "Jamones",
          "Jamones",
          "Jamones",
          "Quesos",
          "Quesos",
          "Quesos",
          "Quesos",
          "Quesos",
          "Quesos",
          "Quesos",
          "Quesos",
          "Quesos",
          "Quesos",
          "Quesos",
          "Quesos",
          "Quesos",
          "Quesos",
          "Quesos",
          "Quesos",
          "Quesos",
          "A - Conservas - SLS- Salsas",
          "RFR-ENSALADAS Y ENSALADILLAS",
          "RFR-ENSALADAS Y ENSALADILLAS",
          "RFR-ENSALADAS Y ENSALADILLAS",
          "RFR-ENSALADAS Y ENSALADILLAS",
          "RFR-ENSALADAS Y ENSALADILLAS",
          "RFR-ENSALADAS Y ENSALADILLAS",
          "RFR-ENSALADAS Y ENSALADILLAS",
          "Refrigerados RFR - Platos Preparados",
          "Refrigerados RFR - Salsas",
          "Refrigerados RFR - Salsas",
          "Refrigerados RFR - Salsas",
          "Refrigerados C - Cocidos - Salchichas",
          "Refrigerados C - Cocidos - Salchichas",
          "Refrigerados C - Cocidos - Salchichas",
          "Refrigerados C - Cocidos - Salchichas",
          "Refrigerados C - Cocidos - Piezas",
          "Refrigerados C - Curados - Loncheados",
          "Refrigerados C - Cocidos - Bacon",
          "Refrigerados C - Cocidos - Bacon",
          "Refrigerados C - Cocidos - Bacon",
          "Pan Tostado y Bollería Industrial",
          "Pan Tostado y Bollería Industrial",
          "Pan Tostado y Bollería Industrial",
          "Pan Tostado y Bollería Industrial",
          "Pan Tostado y Bollería Industrial",
          "Pan Tostado y Bollería Industrial",
          "Pan Tostado y Bollería Industrial",
          "Pan Tostado y Bollería Industrial",
          "Pan Tostado y Bollería Industrial",
          "Pan Tostado y Bollería Industrial",
          "Pan Tostado y Bollería Industrial",
          "Pan Tostado y Bollería Industrial",
          "Pan Tostado y Bollería Industrial",
          "Pan Tostado y Bollería Industrial",
          "Pan Tostado y Bollería Industrial",
          "Pan Tostado y Bollería Industrial",
          "Pan Tostado y Bollería Industrial",
          "Pan Tostado y Bollería Industrial",
          "Pan Tostado y Bollería Industrial",
          "Pan Tostado y Bollería Industrial",
          "Pan Tostado y Bollería Industrial",
          "Pan Horno Artesano",
          "Pan Horno Artesano",
          "Pan Horno Artesano",
          "Pan Horno Artesano",
          "Pan Horno Artesano",
          "Pan Horno Artesano",
          "Pan Horno Artesano",
          "Pan Horno Artesano",
          "Pan Horno Artesano",
          "Pan Horno Artesano",
          "Pan Horno Artesano",
          "Pan Horno Artesano",
          "Pan Horno Artesano",
          "Pan Horno Artesano",
          "Pan Horno Artesano",
          "Pan Horno Artesano",
          "Pan Horno Artesano",
          "Pan Horno Artesano",
          "Pan Horno Artesano",
          "Pan Horno Artesano",
          "Pan Horno Artesano",
          "Pan Horno Artesano",
          "Surtido salado Horno Artesano",
          "Surtido salado Horno Artesano",
          "Surtido salado Horno Artesano",
          "Surtido salado Horno Artesano",
          "Surtido salado Horno Artesano",
          "Surtido salado Horno Artesano",
          "Surtido salado Horno Artesano",
          "Surtido salado Horno Artesano",
          "Surtido salado Horno Artesano",
          "Surtido salado Horno Artesano",
          "Surtido salado Horno Artesano",
          "Surtido salado Horno Artesano",
          "Surtido salado Horno Artesano",
          "Surtido salado Horno Artesano",
          "Surtido salado Horno Artesano",
          "Surtido salado Horno Artesano",
          "Surtido salado Horno Artesano",
          "Bollería - Pasteles Horno Artesano",
          "Bollería - Pasteles Horno Artesano",
          "Bollería - Pasteles Horno Artesano",
          "Bollería - Pasteles Horno Artesano",
          "Bollería - Pasteles Horno Artesano",
          "Bollería - Pasteles Horno Artesano",
          "Bollería - Pasteles Horno Artesano",
          "Bollería - Pasteles Horno Artesano",
          "Bollería - Pasteles Horno Artesano",
          "Bollería - Pasteles Horno Artesano",
          "Bollería - Pasteles Horno Artesano",
          "Bollería - Pasteles Horno Artesano",
          "Bollería - Pasteles Horno Artesano",
          "Bollería - Pasteles Horno Artesano",
          "Bollería - Pasteles Horno Artesano",
          "Bollería - Pasteles Horno Artesano",
          "Bollería - Pasteles Horno Artesano",
          "Bollería - Pasteles Horno Artesano",
          "Bollería - Pasteles Horno Artesano",
          "Bollería - Pasteles Horno Artesano",
          "Bollería - Pasteles Horno Artesano",
          "Bollería - Pasteles Horno Artesano",
          "Bollería - Pasteles Horno Artesano",
          "Bollería - Pasteles Horno Artesano",
          "Bollería - Pasteles Horno Artesano",
          "Bollería - Pasteles Horno Artesano",
          "Bollería - Pasteles Horno Artesano",
          "Bollería - Pasteles Horno Artesano",
          "Bollería - Pasteles Horno Artesano",
          "Bollería - Pasteles Horno Artesano",
          "Bollería - Pasteles Horno Artesano",
          "Bollería - Pasteles Horno Artesano",
          "Bollería - Pasteles Horno Artesano",
          "Bollería - Pasteles Horno Artesano",
          "Bollería - Pasteles Horno Artesano",
          "Angulas y Ahumados",
          "Angulas y Ahumados",
          "Angulas y Ahumados",
          "Angulas y Ahumados",
          "Precocinados - Patatas",
          "Precocinados - Patatas",
          "Precocinados - Patatas",
          "Platos Preparados - Carnes",
          "Platos Preparados - Carnes",
          "Platos Preparados - Carnes",
          "Platos Preparados - Carnes",
          "Platos Preparados - Carnes",
          "Platos Preparados - Carnes",
          "Platos Preparados - Carnes",
          "Platos Preparados - Carnes",
          "Platos Preparados - Carnes",
          "Platos Preparados - Carnes",
          "Platos Preparados - Carnes",
          "Platos Preparados - Carnes",
          "Platos Preparados - Carnes",
          "Platos Preparados - Carnes",
          "Platos Preparados - Carnes",
          "Platos Preparados - Carnes",
          "Platos Preparados - Carnes",
          "Platos Preparados - Carnes",
          "Platos Preparados - Carnes",
          "Platos Preparados - Carnes",
          "Platos Preparados - Carnes",
          "Platos Preparados - Carnes",
          "Platos Preparados - Carnes",
          "Platos Preparados - Carnes",
          "Carnes - Cerdo y mixtas",
          "Platos Preparados - Arroces y Sopas",
          "Platos Preparados - Arroces y Sopas",
          "Platos Preparados - Arroces y Sopas",
          "Platos Preparados - Pastas y Carnes",
          "Platos Preparados - Varios",
          "Platos Preparados - Varios",
          "Platos Preparados - Varios",
          "Platos Preparados - Varios",
          "Platos Preparados - Varios",
          "Platos Preparados - Varios",
          "Platos Preparados - Varios",
          "Platos Preparados - Varios",
          "Precocinados del Mundo",
          "Pan Tostado y Bollería Industrial",
          "Pan Tostado y Bollería Industrial",
          "Pan Tostado y Bollería Industrial",
          "Pan Tostado y Bollería Industrial",
          "Pan Tostado y Bollería Industrial",
          "Pan Tostado y Bollería Industrial",
          "Pan Tostado y Bollería Industrial",
          "Huevos",
          "Huevos",
          "Huevos",
          "Huevos",
          "Huevos",
          "Huevos",
          "Huevos",
          "Aperitivos, Snacks",
          "Aperitivos, Snacks",
          "Aperitivos, Snacks",
          "Aperitivos, Snacks",
          "A - Aperitivos - APF- Frutos Secos",
          "A - Aperitivos - APF- Frutos Secos",
          "A - Aperitivos - APF- Frutos Secos",
          "A - Aperitivos - APF- Frutos Secos",
          "A - Aperitivos - APF- Frutos Secos",
          "A - Aperitivos - APF- Frutos Secos",
          "A - Aperitivos - APF- Frutos Secos",
          "A - Aperitivos - APF- Frutos Secos",
          "A - Aperitivos - APF- Frutos Secos",
          "A - Aperitivos - APF- Frutos Secos",
          "A - Aperitivos - APF- Frutos Secos",
          "A - Aperitivos - APF- Frutos Secos",
          "A - Aperitivos - APF- Frutos Secos",
          "A - Aperitivos - APF- Frutos Secos",
          "A - Aperitivos - APF- Frutos Secos",
          "A - Aperitivos - APF- Frutos Secos",
          "A - Aperitivos - APF- Frutos Secos",
          "A - Aperitivos - APF- Frutos Secos",
          "A - Aperitivos - APF- Frutos Secos",
          "A - Aperitivos - APF- Frutos Secos",
          "A - Aperitivos - APF- Frutos Secos",
          "A - Aperitivos - APF- Frutos Secos",
          "A - Aperitivos - APF- FS Temporada",
          "A - Aperitivos - APF- FS Temporada",
          "A - Aperitivos - APF- FS Temporada",
          "A - Aperitivos - APF- FS Temporada",
          "A - Cafés - CF - Cafés bebibles",
          "A - Cafés - CF - Cafés bebibles",
          "A - Cafés - CF - Cafés bebibles",
          "A - Cafés - CF - Cafés bebibles",
          "A - Conservas - Platos preparados",
          "A - Conservas - Platos preparados",
          "A - Conservas - Platos preparados",
          "A - Conservas - Platos preparados",
          "A - Conservas - Platos preparados",
          "A - Conservas - Platos preparados",
          "A - Conservas - Platos preparados",
          "A - Conservas - Platos preparados",
          "A - Conservas - Platos preparados",
          "A - Conservas - Platos preparados",
          "A - Conservas - Platos preparados",
          "A - Conservas - Platos preparados",
          "Conservas Vegetales",
          "Conservas Vegetales",
          "Conservas Vegetales",
          "Conservas Vegetales",
          "Conservas Vegetales",
          "Conservas Vegetales",
          "Conservas Vegetales",
          "A - Pastas",
          "A - Pastas",
          "A - Pastas",
          "A - Pastas",
          "A - Pastas",
          "A - Pastas",
          "A - Pastas",
          "A - Pastas",
          "A - Pastas",
          "A - Pastas",
          "A - Pastas",
          "A - Pastas",
          "A - Pastas",
          "A - Pastas",
          "A - Pastas",
          "A - Pastas",
          "A - Pastas",
          "A - Pastas",
          "A - Conservas - Confituras",
          "A - Conservas - Confituras",
          "A - Conservas - Confituras",
          "A - Conservas - Confituras",
          "A - Conservas - Confituras",
          "A - Conservas - Confituras",
          "A - Conservas - Confituras",
          "A - Conservas - SLS- Salsas",
          "A - Conservas - SLS- Salsas",
          "A - Conservas - SLS- Salsas",
          "A - Conservas - SLS- Salsas",
          "A - Conservas - SLS- Salsas",
          "A - Conservas - SLS- Salsas",
          "A - Conservas - SLS- Salsas",
          "A - Conservas - SLS- Salsas",
          "A - Conservas - SLS- Salsas",
          "A - Conservas - SLS- Salsas",
          "A - Conservas - SLS- Salsas",
          "A - Conservas - SLS- Salsas",
          "A - Conservas - SLS- Salsas",
          "A - Conservas - SLS- Salsas",
          "A - Conservas - SLS- Salsas",
          "A - Conservas - SLS- Salsas",
          "A - Conservas - SLS- Salsas",
          "A - Conservas - SLS- Salsas",
          "A - Conservas - SLS- Salsas",
          "A - Conservas - SLS- Salsas",
          "A - Conservas - SLS- Salsas",
          "A - Conservas - SLS- Salsas",
          "A - Conservas - SLS- Salsas",
          "A - Conservas - SLS- Salsas",
          "A - Conservas - SLS- Salsas",
          "A - Conservas - SLS- Salsas",
          "A - Conservas - SLS- Salsas",
          "A - Condiment - ESP- Carmencita",
          "A - Condiment - ESP- Carmencita",
          "A - Condiment - ESP- Carmencita",
          "A - Condiment - ESP- Carmencita",
          "A - Condiment - ESP- Carmencita",
          "A - Condiment - ESP- Carmencita",
          "A - Condiment - ESP- Carmencita",
          "A - Condiment - ESP- Carmencita",
          "A - Condiment - ESP- Carmencita",
          "A - Condiment - ESP- Carmencita",
          "A - Condiment - ESP- Carmencita",
          "A - Condiment - ESP- Carmencita",
          "A - Condiment - ESP- Carmencita",
          "A - Condiment - ESP- Carmencita",
          "A - Condiment - ESP- Carmencita",
          "A - Condiment - ESP- Carmencita",
          "A - Condiment - ESP- Carmencita",
          "A - Condiment - ESP- Carmencita",
          "A - Condiment - ESP- Carmencita",
          "A - Condiment - ESP- Carmencita",
          "A - Condiment - ESP- Carmencita",
          "A - Condiment - ESP- Carmencita",
          "A - Condiment - ESP- Carmencita",
          "A - Condiment - ESP- Carmencita",
          "A - Condiment - ESP- Carmencita",
          "A - Condiment - ESP- Carmencita",
          "A - Condiment - ESP- Carmencita",
          "A - Condiment - ESP- Carmencita",
          "A - Condiment - ESP- Carmencita",
          "A - Condiment - ESP- Carmencita",
          "A - Condiment - ESP- Carmencita",
          "A - Condiment - ESP- Carmencita",
          "A - Condiment - ESP- Carmencita",
          "A - Condiment - ESP- Carmencita",
          "A - Condiment - ESP- Carmencita",
          "A - Condiment - ESP- Carmencita",
          "A - Condiment - ESP- Carmencita",
          "A - Condiment - ESP- Carmencita",
          "A - Condiment - ESP- Carmencita",
          "A - Condiment - ESP- Carmencita",
          "A - Condiment - ESP- Carmencita",
          "A - Condiment - ESP- Carmencita",
          "A - Condiment - ESP- Carmencita",
          "A - Condiment - ESP- Carmencita",
          "A - Condiment - ESP- Carmencita",
          "A - Condiment - ESP- Carmencita",
          "A - Condiment - ESP- Carmencita",
          "A - Condiment - ESP- Carmencita",
          "A - Condiment - ESP- Carmencita",
          "A - Condiment - ESP- Carmencita",
          "A - Condiment - ESP- Carmencita",
          "A - Condiment - ESP- Carmencita",
          "A - Condiment - ESP- Carmencita",
          "A - Condiment - ESP- Carmencita",
          "A - Condiment - ESP- Carmencita",
          "A - Condiment - ESP- Carmencita",
          "A - Condiment - ESP- Carmencita",
          "A - Condiment - ESP- Carmencita",
          "A - Condiment - ESP- Carmencita",
          "A - Condiment - ESP- Carmencita",
          "A - Condiment - ESP- Carmencita",
          "A - Condiment - ESP- Carmencita",
          "A - Condiment - ESP- Carmencita",
          "A - Condiment - ESP- Carmencita",
          "A - Condiment - ESP- Carmencita",
          "A - Condiment - ESP- Carmencita",
          "A - Condiment - ESP- Carmencita",
          "A - Condiment - ESP- Carmencita",
          "A - Condiment - ESP- Carmencita",
          "A - Condiment - ESP- Carmencita",
          "A - Condiment - ESP- Carmencita",
          "A - Condiment - ESP- Carmencita",
          "A - Condimentos - ESP- La barraca",
          "A - Condimentos - ESP- La barraca",
          "A - Condimentos - ESP- La barraca",
          "A - Condimentos - ESP- La barraca",
          "A - Condimentos - ESP- La barraca",
          "A - Condimentos - ESP- La barraca",
          "A - Condimentos - ESP- La barraca",
          "A - Condimentos - ESP- La barraca",
          "A - Condimentos - ESP- La barraca",
          "A - Condimentos - ESP- La barraca",
          "A - Condimentos - ESP- La barraca",
          "A - Condimentos - ESP- La barraca",
          "A - Condimentos - ESP- La barraca",
          "A - Condimentos - ESP- La barraca",
          "A - Condimentos - ESP- La barraca",
          "A - Condimentos - ESP- La barraca",
          "A - Condimentos - ESP- La barraca",
          "A - Condimentos - ESP- La barraca",
          "A - Condimentos - ESP- La barraca",
          "Cereales y Pasta Seca",
          "Cereales y Pasta Seca",
          "Cereales y Pasta Seca",
          "Cereales y Pasta Seca",
          "Cereales y Pasta Seca",
          "Cereales y Pasta Seca",
          "Cereales y Pasta Seca",
          "Cereales y Pasta Seca",
          "Cereales y Pasta Seca",
          "B - V - Vinos - Tinto Crianza",
          "B - V - Vinos - Tinto Crianza",
          "B - V - Vinos - Tinto Crianza",
          "B - Bebidas alcoholicas y Licores - BA - Vermouth",
          "B - Bebidas alcoholicas y Licores - BA - Vermouth",
          "B - V - Vinos - Tinto Reserva",
          "B - V - Vinos - Tinto Reserva",
          "B - V - Vinos - Tinto Reserva",
          "B - V - Vinos - Blanco",
          "B - V - Vinos - Blanco",
          "B - V - Vinos - Blanco",
          "B - V - Vinos - Blanco",
          "B - V - Vinos - Blanco",
          "B - V - Vinos - Blanco",
          "B - V - Vinos - Blanco",
          "B - V - Vinos - Blanco",
          "B - V - Vinos - Blanco",
          "B - V - Vinos - Blanco",
          "B - V - Vinos - Blanco",
          "B - V - Vinos - Blanco",
          "B - V - Vinos - Blanco",
          "Aguas",
          "Aguas",
          "Aguas",
          "Aguas",
          "Aguas",
          "Aguas",
          "Aguas",
          "Aguas",
          "Aguas",
          "Aguas",
          "Aguas",
          "B - Agua - AG - Con Gas",
          "A - Aperitivos - AP - Snacks",
          "A - Aperitivos - AP - Snacks",
          "A - Aperitivos - AP - Snacks",
          "A - Aperitivos - AP - Snacks",
          "A - Aperitivos - AP - Snacks",
          "A - Aperitivos - AP - Snacks",
          "A - Aperitivos - AP - Snacks",
          "A - Aperitivos - AP - Snacks",
          "A - Aperitivos - AP - Snacks",
          "A - Aperitivos - AP - Snacks",
          "A - Aperitivos - AP - Snacks",
          "A - Aperitivos - AP - Snacks",
          "A - Aperitivos - AP - Snacks",
          "A - Aperitivos - AP - Snacks",
          "A - Aperitivos - AP - Snacks",
          "A - Aperitivos - AP - Snacks",
          "A - Legumbres  - LGC- Cocidas",
          "A - Legumbres  - LGC- Cocidas",
          "A - Legumbres  - LGC- Cocidas",
          "A - Legumbres  - LGC- Cocidas",
          "A - Legumbres  - LGC- Cocidas",
          "A - Legumbres  - LGC- Cocidas",
          "B - V - Vinos - Rosado",
          "B - V - Vinos - Rosado",
          "B - V - Vinos - Rosado",
          "B - V - Vinos - Rosado",
          "B - V - Vinos - Rosado",
          "B - V - Vinos - Aromatico",
          "Vinos/Cavas",
          "Vinos/Cavas",
          "Vinos/Cavas",
          "Conservas Pescado,Moluscos y Mariscos",
          "Conservas Pescado,Moluscos y Mariscos",
          "Conservas Pescado,Moluscos y Mariscos",
          "Conservas Pescado,Moluscos y Mariscos",
          "Conservas Pescado,Moluscos y Mariscos",
          "Conservas Pescado,Moluscos y Mariscos",
          "Conservas Pescado,Moluscos y Mariscos",
          "A - Conservas Pescado- Moluscos y Mariscos",
          "A - Conservas Pescado- Moluscos y Mariscos",
          "A - Conservas Pescado- Moluscos y Mariscos",
          "A - Conservas Pescado- Moluscos y Mariscos",
          "A - Conservas Pescado- Moluscos y Mariscos",
          "A - Conservas Pescado- Moluscos y Mariscos",
          "A - Conservas Pescado- Moluscos y Mariscos",
          "A - Conservas Pescado- Moluscos y Mariscos",
          "A - Conservas Pescado- Moluscos y Mariscos",
          "A - Conservas Pescado- Moluscos y Mariscos",
          "A - Conservas Pescado- Moluscos y Mariscos",
          "A - Conservas Pescado- Moluscos y Mariscos",
          "A - Conservas Pescado- Moluscos y Mariscos",
          "A - Conservas Pescado- Moluscos y Mariscos",
          "A - Conservas Pescado- Moluscos y Mariscos",
          "A - Conservas Pescado- Caballa",
          "A - Conservas Pescado- Caballa",
          "A - Conservas Pescado- Caballa",
          "A - Conservas Pescado- Caballa",
          "Aceites y Vinagres",
          "A - Pan de molde",
          "A - Pan de molde",
          "A - Pan de molde",
          "A - Pan de molde",
          "A - Pan de molde",
          "A - Pan de molde",
          "A - Pan de molde",
          "A - Pan de molde",
          "A - Pan de molde",
          "A - Pan de molde",
          "A - Pan de molde",
          "A - Pan de molde",
          "A - Pan de molde",
          "Galletas y Cereales",
          "Galletas y Cereales",
          "A - Aceites - ACT - Sansa",
          "A - Aceites - ACT - Sansa",
          "A - Aceites - ACT - Girasol/Semillas",
          "A - Aceitunas - AC - Aceitunas Rellenas",
          "A - Aceitunas - AC - Aceitunas Rellenas",
          "A - Aceitunas - AC - Aceitunas Rellenas",
          "A - Aceitunas - AC - Aceitunas Rellenas",
          "A - Aceitunas - AC - Aceitunas Rellenas",
          "A - Aceitunas - AC - Aceitunas Rellenas",
          "A - Aceitunas - AC - Aceitunas Rellenas",
          "A - Aceitunas - AC - Aceitunas Rellenas",
          "A - Aceitunas - AC - Aceitunas Rellenas",
          "A - Aceitunas - AC - Aceitunas Rellenas",
          "A - Aceitunas - AC - Aceitunas Rellenas",
          "A - Aceitunas - AC - Aceitunas Rellenas",
          "A - Aceitunas - AC - Aceitunas Rellenas",
          "A - Aceitunas - AC - Aceitunas Rellenas",
          "A - Aceitunas - AC - Aceitunas Rellenas",
          "A - Aceitunas - AC - Aceitunas Rellenas",
          "A - Aceitunas - AC - Aceitunas Rellenas",
          "A - Aceitunas - AC - Aceitunas Rellenas",
          "A - Aceitunas - AC - Aceitunas Rellenas",
          "A - Conservas - CSV-Verduras",
          "A - Conservas - CSV-Verduras",
          "A - Conservas - CSV-Verduras",
          "A - Conservas - CSV-Verduras",
          "A - Conservas - CSV-Verduras",
          "A - Conservas - CSV-Verduras",
          "A - Conservas - CSV-Verduras",
          "A - Conservas - CSV-Verduras",
          "A - Conservas - CSV-Verduras",
          "A - Conservas - CSV-Verduras",
          "A - Conservas - CSV-Verduras",
          "A - Conservas - CSV-Verduras",
          "A - Conservas - CSV-Verduras",
          "A - Conservas - CSV-Verduras",
          "A - Legumbres Secas",
          "A - Legumbres Secas",
          "A - Legumbres Secas",
          "A - Legumbres Secas",
          "Cafés, Infusiones y Preparado Postres",
          "A - Cafés - CF - Molidos",
          "A - Cafés - CF - Molidos",
          "A - Cafés - CF - Molidos",
          "A - Cafés - CF - Molidos",
          "A - Cafés - CF - Molidos",
          "A - Cafés - CF - Molidos",
          "A - Cafés - CF - Soluble",
          "A - Cafés - CF - Soluble",
          "A - Cafés - CF - Soluble",
          "A - Infusiones - INF - Infusiones",
          "A - Infusiones - INF - Infusiones",
          "A - Infusiones - INF - Infusiones",
          "A - Infusiones - INF - Infusiones",
          "A - Infusiones - INF - Infusiones",
          "A - Infusiones - INF - Infusiones",
          "A - Infusiones - INF - Infusiones",
          "A - Infusiones - INF - Infusiones",
          "A - Infusiones - INF - Infusiones",
          "A - Infusiones - INF - Infusiones",
          "B - Cerveza - CVZ - Sin Alcohol",
          "B - Cerveza - CVZ - Sin Alcohol",
          "B - Cerveza - CVZ - Sin Alcohol",
          "B - Refrescos - Coca cola bote",
          "B - Refrescos - Coca cola bote",
          "B - Refrescos - Coca cola bote",
          "B - Refrescos - Coca cola bote",
          "B - Refrescos - Coca cola bote",
          "B - Refrescos - Coca cola bote",
          "B - Refrescos - Coca cola bote",
          "B - Refrescos - RF- Naranja/Limón",
          "B - Refrescos - RF- Naranja/Limón",
          "B - Refrescos - RF- Naranja/Limón",
          "B - Refrescos - RF- Naranja/Limón",
          "B - Refrescos - RF- Sin Gas",
          "B - Refrescos - RF- Sin Gas",
          "B - Refrescos - RF- Sin Gas",
          "B - Refrescos - RF- Sin Gas",
          "B - Refrescos - RF- Sin Gas",
          "B - Refrescos - RF- Tónicas",
          "B - Refrescos - RF- Tónicas",
          "B - Refrescos - RF- Tónicas",
          "B - Refrescos - RF- Energéticas",
          "B - Refrescos - RF- Energéticas",
          "B - Refrescos - RF- Isotónicas",
          "B - Refrescos - RF- Isotónicas",
          "B - Refrescos - RF- Isotónicas",
          "B - Refrescos - RF- Isotónicas",
          "B - V - Tinto Verano/Sangria",
          "B - V - Tinto Verano/Sangria",
          "B - V - Tinto Verano/Sangria",
          "B - V - Tinto Verano/Sangria",
          "B - V - Tinto Verano/Sangria",
          "B - V - Tinto Verano/Sangria",
          "B - V - Tinto Verano/Sangria",
          "B - V - Tinto Verano/Sangria",
          "B - V - Tinto Verano/Sangria",
          "A - Conservas - CSV- Gazpachos",
          "A - Conservas Pescado- Atún",
          "A - Conservas Pescado- Atún",
          "A - Conservas Pescado- Atún",
          "A - Conservas Pescado- Atún",
          "A - Conservas Pescado- Atún",
          "A - Conservas Pescado- Atún",
          "A - Conservas Pescado- Atún",
          "A - Conservas Pescado- Atún",
          "A - Conservas Pescado- Atún",
          "A - Chocolate - CHR - Tabletas",
          "A - Chocolate - CHR - Tabletas",
          "A - Chocolate - CHR - Tabletas",
          "A - Chocolate - CHR - Tabletas",
          "A - Chocolate - CHR - Tabletas",
          "A - Chocolate - CHR - Tabletas",
          "A - Chocolate - CHR - Tabletas",
          "B - V - Vinos - Sidra",
          "A - Conservas - CSV-V - Tomate",
          "A - Conservas - CSV-V - Tomate",
          "A - Conservas - CSV-V - Tomate",
          "A - Conservas - CSV-V - Tomate",
          "A - Conservas - CSV-V - Tomate",
          "A - Conservas - CSV-V - Tomate",
          "A - Conservas - CSV-V - Tomate",
          "A - Conservas - CSV-V - Tomate",
          "A - Conservas - CSV-V - Tomate",
          "A - Conservas - CSV-V - Tomate",
          "A - Conservas - SLS-Tomate frito",
          "A - Conservas - SLS-Tomate frito",
          "A - Conservas - SLS-Tomate frito",
          "A - Conservas - SLS-Tomate frito",
          "A - Conservas - SLS-Tomate frito",
          "A - Conservas - SLS-Tomate frito",
          "A - Conservas - SLS-Tomate frito",
          "A - Conservas Pescado - Sardinas",
          "A - Conservas Pescado - Sardinas",
          "A - Conservas Pescado - Sardinas",
          "A - Conservas Pescado - Sardinas",
          "A - Conservas Pescado - Sardinas",
          "A - Conservas Pescado - Sardinas",
          "A - Conservas Pescado - Sardinas",
          "A - Conservas Pescado - Sardinas",
          "Conservas Dulces",
          "Conservas Dulces",
          "Conservas Dulces",
          "Conservas Dulces",
          "Conservas Dulces",
          "Conservas Dulces",
          "Conservas Dulces",
          "Conservas Dulces",
          "Conservas Dulces",
          "Conservas Dulces",
          "Conservas Dulces",
          "Platos Preparados,Sopas y Caldos",
          "B - Zumos - Z - Zumos",
          "B - Zumos - Z - Zumos",
          "B - Zumos - Z - Zumos",
          "B - Zumos - Z - Zumos",
          "B - Zumos - Z - Zumos",
          "B - Zumos - Z - Zumos",
          "B - Zumos - Z - Zumos",
          "Aceitunas",
          "Aceitunas",
          "Aceitunas",
          "Aceitunas",
          "Aceitunas",
          "A - Conservas - SLS- Salsas HORECA",
          "A - Conservas - SLS- Salsas HORECA",
          "A - Conservas - SLS- Salsas HORECA",
          "A - Conservas - CSV -Patés",
          "A - Conservas - CSV -Patés",
          "A - Conservas - CSV -Patés",
          "Batidos, Zumos y Leches",
          "Batidos, Zumos y Leches",
          "A - Arroces",
          "A - Arroces",
          "A - Arroces",
          "A - Arroces",
          "A - Arroces",
          "A - Arroces",
          "A - Arroces",
          "A - Arroces",
          "A - Arroces",
          "A - Arroces",
          "A - Harinas - HA - Harinas",
          "A - Harinas - HA - Harinas",
          "A - Harinas - HA - Harinas",
          "A - Harinas - HA - Harinas",
          "L - Leche - L - Entera",
          "L - Leche - L - Entera",
          "L - Leche - L - Entera",
          "L - Leche - L - Entera",
          "B - V - Vinos - Cavas",
          "B - V - Vinos - Cavas",
          "L - BT- Batidos",
          "L - BT- Batidos",
          "L - BT- Batidos",
          "L - BT- Batidos",
          "L - BT- Batidos",
          "L - BT- Batidos",
          "L - BT- Batidos",
          "A - Chocolate - CH - Bombones",
          "A - Chocolate - CH - Bombones",
          "A - Chocolate - CH - Bombones",
          "A - Chocolate - CH - Bombones",
          "A - Chocolate - CH - Bombones",
          "A - Chocolate - CH - Bombones",
          "A - BLL - Bollería Industrial",
          "A - BLL - Bollería Industrial",
          "A - BLL - Bollería Industrial",
          "A - BLL - Bollería Industrial",
          "A - BLL - Bollería Industrial",
          "A - BLL - Bollería Industrial",
          "A - BLL - Bollería Industrial",
          "A - BLL - Bollería Industrial",
          "A - BLL - Bollería Industrial",
          "A - BLL - Bollería Industrial",
          "A - BLL - Bollería Industrial",
          "A - BLL - Bollería Industrial",
          "A - BLL - Bollería Industrial",
          "A - BLL - Bollería Industrial",
          "A - BLL - Bollería Industrial",
          "A - BLL - Bollería Industrial",
          "A - BLL - Bollería Industrial",
          "A - BLL - Bollería Industrial",
          "A - BLL - Bollería Industrial",
          "A - BLL - Bollería Industrial",
          "A - BLL - Bollería Industrial",
          "A - BLL - Bollería Industrial",
          "A - BLL - Bollería Industrial",
          "A - BLL - Bollería Industrial",
          "A - BLL - Bollería Industrial",
          "A - BLL - Bollería Industrial",
          "A - BLL - Bollería Industrial",
          "A - BLL - Bollería Industrial",
          "A - BLL - Bollería Industrial",
          "A - BLL - Bollería Industrial",
          "A - BLL - Bollería Industrial",
          "A - BLL - Bollería Industrial",
          "A - BLL - Bollería Industrial",
          "A - BLL - Bollería Industrial",
          "A - BLL - Bollería Industrial",
          "A - BLL - Bollería Industrial",
          "A - BLL - Bollería Industrial",
          "A - BLL - Bollería Industrial",
          "A - BLL - Bollería Industrial",
          "A - BLL - Bollería Industrial",
          "A - BLL - Bollería Industrial",
          "A - BLL - Bollería Industrial",
          "A - BLL - Bollería Industrial",
          "A - BLL - Bollería Industrial",
          "A - BLL - Bollería Industrial",
          "A - BLL - Bollería Industrial",
          "A - BLL - Bollería Industrial",
          "A - BLL - Bollería Industrial",
          "A - BLL - Bollería Industrial",
          "A - BLL - Bollería Industrial",
          "A - BLL - Bollería Industrial",
          "A - Aperitivos - AP - Patatas Fritas",
          "A - Aperitivos - AP - Patatas Fritas",
          "A - Aperitivos - AP - Patatas Fritas",
          "A - Aperitivos - AP - Patatas Fritas",
          "A - Aperitivos - AP - Patatas Fritas",
          "A - Aperitivos - AP - Patatas Fritas",
          "A - Aperitivos - AP - Patatas Fritas",
          "A - Aperitivos - AP - Patatas Fritas",
          "A - Aperitivos - AP - Patatas Fritas",
          "A - Aperitivos - AP - Patatas Fritas",
          "A - Aperitivos - AP - Patatas Fritas",
          "B - V - Vinos - Tinto Joven",
          "B - V - Vinos - Tinto Joven",
          "B - V - Vinos - Tinto Joven",
          "B - V - Vinos - Tinto Joven",
          "B - V - Vinos - Tinto Joven",
          "B - V - Vinos - Tinto Joven",
          "B - V - Vinos - Tinto Joven",
          "B - V - Vinos - Tinto Joven",
          "A - Conservas - Caldos",
          "A - Conservas - Caldos",
          "A - Conservas - Caldos",
          "A - Conservas - Caldos",
          "A - Conservas - Caldos",
          "A - Conservas - Caldos",
          "A - Conservas - Caldos",
          "A - Conservas - Caldos",
          "A - Conservas - Caldos",
          "A - Aceites - ACT - Oliva",
          "A - Aceites - ACT - Oliva",
          "A - Aceites - ACT - Oliva",
          "A - Aceites - ACT - Oliva",
          "A - Aceites - ACT - Oliva",
          "A - Aceites - ACT - Oliva",
          "A - Aceites - ACT - Oliva",
          "A - Aceites - ACT - Oliva",
          "A - Aceites - ACT - Oliva",
          "A - Aceites - ACT - Oliva",
          "A - Aceites - ACT - Oliva",
          "A - AZ - Azucar/Edulcorante",
          "A - AZ - Azucar/Edulcorante",
          "B - RF- Coca cola botella",
          "B - Cerveza - CVZ - Lata Normal",
          "B - Cerveza - CVZ - Lata Normal",
          "B - Cerveza - CVZ - Lata Normal",
          "B - Cerveza - CVZ - Lata Normal",
          "B - Cerveza - CVZ - Lata Normal",
          "B - Cerveza - CVZ - Lata Normal",
          "B - Cerveza - CVZ - Lata Normal",
          "B - Cerveza - CVZ - Lata Normal",
          "B - Cerveza - CVZ - Lata Normal",
          "B - Cerveza - CVZ - Lata Normal",
          "B - Cerveza - CVZ - Lata Normal",
          "B - Cerveza - CVZ - Lata Normal",
          "A - Galletas - Saladas",
          "A - Galletas - Saladas",
          "A - Galletas - Saladas",
          "A - Galletas - Saladas",
          "A - Galletas - Saladas",
          "A - Pan - P - Tostado y Rallado",
          "A - Pan - P - Tostado y Rallado",
          "A - Pan - P - Tostado y Rallado",
          "A - Pan - P - Tostado y Rallado",
          "A - Pan - P - Tostado y Rallado",
          "A - Pan - P - Tostado y Rallado",
          "A - Pan - P - Tostado y Rallado",
          "A - Pan - P - Rosquilletas",
          "A - Pan - P - Rosquilletas",
          "A - Pan - P - Rosquilletas",
          "A - Pan - P - Rosquilletas",
          "A - Pan - P - Rosquilletas",
          "A - Pan - P - Rosquilletas",
          "A - Conservas - CSV-Sopas,cremas y purés",
          "A - Conservas - CSV-Sopas,cremas y purés",
          "A - Conservas - CSV-Sopas,cremas y purés",
          "A - Conservas - CSV-Sopas,cremas y purés",
          "A - Conservas - CSV-Sopas,cremas y purés",
          "A - Conservas - CSV-Sopas,cremas y purés",
          "A - Conservas - CSV-Sopas,cremas y purés",
          "A - Conservas - CSV-Sopas,cremas y purés",
          "A - Conservas - CSV-Sopas,cremas y purés",
          "A - Conservas - CSV-Sopas,cremas y purés",
          "A - Conservas - CSV-Sopas,cremas y purés",
          "A - Conservas - CSV-Sopas,cremas y purés",
          "A - Condimentos - VNG- Vinagres",
          "A - Condimentos - VNG- Vinagres",
          "A - Condimentos - VNG- Vinagres",
          "B - Refrescos - RF- Té",
          "B - Refrescos - RF- Gaseosas",
          "B - Refrescos - RF- Gaseosas",
          "B - Refrescos - RF- Gaseosas",
          "B - Refrescos - RF- Gaseosas",
          "B - Refrescos - RF- Gaseosas",
          "A - Galletas especiales",
          "A - Galletas especiales",
          "A - Galletas especiales",
          "A - Galletas especiales",
          "A - Galletas especiales",
          "A - Galletas especiales",
          "A - Galletas especiales",
          "A - Galletas especiales",
          "A - Galletas especiales",
          "A - Chocolate - CC - Soluble",
          "A - Chocolate - CC - Soluble",
          "A - Chocolate - CC - Soluble",
          "A - Chocolate - CC - Soluble",
          "A - Chocolate - CC - Soluble",
          "A - Chocolate - CC - Soluble",
          "A - Chocolate - CC - Soluble",
          "A - Chocolate - CC - Soluble",
          "A - Chocolate - CC - Soluble",
          "A - Surtido Navidad",
          "A - Surtido Navidad",
          "A - Surtido Navidad",
          "A - Surtido Navidad",
          "A - Surtido Navidad",
          "A - Surtido Navidad",
          "A - Surtido Navidad",
          "A - Galletas - GLD - Dieteticas",
          "A - Galletas - GLD - Dieteticas",
          "A - Galletas - GLD - Dieteticas",
          "A - Galletas - GLD - Dieteticas",
          "A - Galletas - GLD - Dieteticas",
          "A - Galletas - GLD - Dieteticas",
          "A - Galletas - GLD - Dieteticas",
          "A - Galletas - GLD - Dieteticas",
          "A - Galletas - Helado",
          "A - Chocolate - CCR - Cremas",
          "A - Chocolate - CCR - Cremas",
          "A - Chocolate - CCR - Cremas",
          "A - Chocolate - CCR - Cremas",
          "A - PP - Preparados para Postres",
          "A - PP - Preparados para Postres",
          "A - PP - Preparados para Postres",
          "A - PP - Preparados para Postres",
          "A - PP - Preparados para Postres",
          "A - PP - Preparados para Postres",
          "B - Zumos - Z - Fruta + Leche Pequeño",
          "B - Zumos - Z - Fruta + Leche Pequeño",
          "B - Zumos - Z - Fruta + Leche Pequeño",
          "L - Leche - H - Horchata",
          "L - Leche - H - Horchata",
          "L - Leche - H - Horchata",
          "L - Leche - L - Yogures y Flanes sin Frio",
          "L - Leche - L - Yogures y Flanes sin Frio",
          "L - Leche - L - Yogures y Flanes sin Frio",
          "L - Leche - L - Yogures y Flanes sin Frio",
          "L - Leche - L - Yogures y Flanes sin Frio",
          "L - Leche - L - Yogures y Flanes sin Frio",
          "A - Condimentos - S- Sal",
          "A - Condimentos - S- Sal",
          "A - Galletas -Rellenas",
          "A - Galletas -Rellenas",
          "A - Galletas -Rellenas",
          "A - Galletas -Rellenas",
          "A - Galletas -Rellenas",
          "A - Galletas -Rellenas",
          "A - Galletas -Rellenas",
          "A - Galletas -Rellenas",
          "A - Galletas -Rellenas",
          "A - Galletas -Rellenas",
          "A - Galletas -Rellenas",
          "A - Galletas -Rellenas",
          "A - Galletas -Rellenas",
          "A - Galletas -Rellenas",
          "A - Galletas -Rellenas",
          "A - Galletas -Rellenas",
          "A - Galletas -Rellenas",
          "A - Galletas -Rellenas",
          "A - Galletas -Rellenas",
          "A - Galletas -Rellenas",
          "A - Galletas -Rellenas",
          "A - Galletas -Rellenas",
          "A - Galletas -Rellenas",
          "A - Galletas -Rellenas",
          "A - Galletas -Rellenas",
          "A - Galletas -Rellenas",
          "A - Galletas -Rellenas",
          "A - Galletas -Rellenas",
          "A - Conservas - CSV-FRU - Frutas",
          "A - Conservas - CSV-FRU - Frutas",
          "A - Conservas - CSV-FRU - Frutas",
          "A - Conservas - CSV-FRU - Frutas",
          "A - Conservas - CSV-FRU - Frutas",
          "A - Conservas - CSV-FRU - Frutas",
          "A - Conservas - CSV-FRU - Frutas",
          "A - Aceitunas - AC - Encurtidos",
          "A - Aceitunas - AC - Encurtidos",
          "A - Aceitunas - AC - Encurtidos",
          "A - Aceitunas - AC - Encurtidos",
          "A - Aceitunas - AC - Encurtidos",
          "A - Aceitunas - AC - Encurtidos",
          "L - Leche - L - Natas",
          "L - Leche - L - Natas",
          "L - Leche - L - Natas",
          "B - Cerveza - CVZ - Lata Sin Alcohol",
          "B - Cerveza - CVZ - Lata Sin Alcohol",
          "B - Cerveza - CVZ - Lata Sin Alcohol",
          "B - Cerveza - CVZ - Lata Sin Alcohol",
          "B - Cerveza - CVZ - Litro",
          "B - Cerveza - CVZ - Litro",
          "B - Cerveza - CVZ - Botellin Normal",
          "B - Cerveza - CVZ - Botellin Normal",
          "B - Cerveza - CVZ - Botellin Normal",
          "B - Cerveza - CVZ - Botellin Normal",
          "B - Cerveza - CVZ - Botellin Normal",
          "B - Cerveza - CVZ - Botellin Normal",
          "B - Cerveza - CVZ - Botellin Normal",
          "B - Cerveza - CVZ - Botellin Normal",
          "A - Galletas",
          "A - Galletas",
          "A - Galletas",
          "A - Galletas",
          "A - Galletas",
          "A - Galletas",
          "A - Galletas",
          "A - Galletas",
          "A - Galletas",
          "A - Galletas",
          "A - Galletas",
          "A - Galletas",
          "L - Leche - LC - Condensada",
          "L - Leche - LC - Condensada",
          "A - Tostas y bocaditos",
          "A - Tostas y bocaditos",
          "A - Tostas y bocaditos",
          "A - Tostas y bocaditos",
          "A - Tostas y bocaditos",
          "A - Tostas y bocaditos",
          "A - Tostas y bocaditos",
          "A - Tostas y bocaditos",
          "A - Tostas y bocaditos",
          "A - Tostas y bocaditos",
          "A - Tostas y bocaditos",
          "B - Zumos - Z - Néctar",
          "B - Zumos - Z - Néctar",
          "B - Zumos - Z - Néctar",
          "B - Zumos - Z - Néctar",
          "B - Zumos - Z - Néctar",
          "B - Zumos - Z - Néctar",
          "B - Zumos - Z - Néctar",
          "B - Zumos - Z - Néctar",
          "B - Zumos - Z - Néctar",
          "B - Zumos - Z - Néctar",
          "B - Zumos - Z - Néctar",
          "B - Zumos - Z - Néctar",
          "B - Zumos - Z - Néctar",
          "B - Zumos - Z - Néctar",
          "B - Zumos - Z - Néctar",
          "L - Leche - L - Semidesnatada",
          "L - Leche - L - Semidesnatada",
          "L - Leche - L - Semidesnatada",
          "L - Leche - L - Semidesnatada",
          "L - Leche - L - Desnatada",
          "L - Leche - L - Desnatada",
          "L - Leche - L - Desnatada",
          "L - Leche - L - Desnatada",
          "L - Leche - L - Especiales",
          "L - Leche - L - Especiales",
          "L - Leche - L - Especiales",
          "L - Leche - L - Especiales",
          "L - Leche - L - Especiales",
          "L - Leche - L - Especiales",
          "L - Leche - L - Especiales",
          "L - Leche - L - Especiales",
          "A - Cafés - Cápsulas",
          "A - Cafés - Cápsulas",
          "A - Cafés - Cápsulas",
          "A - Cafés - Cápsulas",
          "A - Cafés - Cápsulas",
          "A - Cafés - Cápsulas",
          "A - Cafés - Cápsulas",
          "A - Cafés - Cápsulas",
          "A - Cafés - Cápsulas",
          "A - Cafés - Cápsulas",
          "A - Cafés - Cápsulas",
          "A - Cafés - Cápsulas",
          "A - Cafés - Cápsulas",
          "A - Cafés - Cápsulas",
          "Pastas - Canelones / Lasañas",
          "Pastas - Canelones / Lasañas",
          "Pastas - Canelones / Lasañas",
          "Pastas - Canelones / Lasañas",
          "Pastas - Canelones / Lasañas",
          "Pastas - Canelones / Lasañas",
          "Pastas - Canelones / Lasañas",
          "Pastas - Canelones / Lasañas",
          "Pastas - Canelones / Lasañas",
          "Pastas - Canelones / Lasañas",
          "Pastas - Canelones / Lasañas",
          "Pastas - Canelones / Lasañas",
          "Pastas - Canelones / Lasañas",
          "Pastas - Canelones / Lasañas",
          "Pastas - Canelones / Lasañas (HRC)",
          "Pastas - Canelones / Lasañas (HRC)",
          "Pizzas",
          "Pizzas",
          "Pizzas",
          "Pizzas",
          "Pizzas",
          "Pizzas",
          "Pizzas",
          "Pizzas",
          "Pizzas",
          "Pizzas",
          "Pizzas",
          "Pizzas",
          "Pizzas",
          "Pizzas",
          "Pizzas",
          "Pizzas",
          "Pizzas",
          "Pizzas",
          "Pizzas",
          "Pizzas",
          "Moluscos",
          "Moluscos",
          "Moluscos",
          "Moluscos",
          "Moluscos",
          "Moluscos",
          "Moluscos",
          "Moluscos",
          "Moluscos",
          "Moluscos",
          "Moluscos",
          "Moluscos",
          "Moluscos",
          "Moluscos",
          "Moluscos",
          "Moluscos",
          "Moluscos",
          "Moluscos",
          "Moluscos",
          "Moluscos",
          "Moluscos",
          "Moluscos",
          "Moluscos (HRC)",
          "Moluscos (HRC)",
          "Moluscos (HRC)",
          "Moluscos (HRC)",
          "Moluscos (HRC)",
          "Moluscos (HRC)",
          "Moluscos (HRC)",
          "Preparados / Frituras / Paellas / Sopas",
          "Entrantes y Primeros - Arroces",
          "Entrantes y Primeros - Arroces",
          "Entrantes y Primeros - Arroces",
          "Entrantes y Primeros - Ensaladas",
          "Entrantes y Primeros - Ensaladas",
          "Entrantes y Primeros - Ensaladas",
          "Entrantes y Primeros - Ensaladas",
          "Entrantes y Primeros - Ensaladas",
          "Entrantes y Primeros - Ensaladas",
          "Entrantes y Primeros - HRC",
          "Entrantes y Primeros - HRC",
          "Entrantes y Primeros - HRC",
          "Entrantes y Primeros - HRC",
          "Entrantes y Primeros - HRC",
          "Entrantes y Primeros - HRC",
          "Entrantes y Primeros - Revueltos",
          "Entrantes y Primeros - Revueltos",
          "Entrantes y Primeros - Salteados",
          "Entrantes y Primeros - Salteados",
          "Entrantes y Primeros - Salteados",
          "Entrantes y Primeros - Salteados",
          "Entrantes y Primeros - Salteados",
          "Entrantes y Primeros - Salteados",
          "Helados - Tarrinas y Vasitos",
          "Helados - Tarrinas y Vasitos",
          "Helados - Tarrinas y Vasitos",
          "Helados - Tarrinas y Vasitos",
          "Postres",
          "Postres",
          "Postres",
          "Postres",
          "Postres",
          "Repostería",
          "Repostería",
          "Repostería",
          "Repostería",
          "Repostería",
          "Repostería",
          "Repostería",
          "Repostería",
          "Repostería",
          "Repostería",
          "Repostería",
          "Repostería",
          "Churros y Porras",
          "Churros y Porras",
          "Churros y Porras",
          "Pan Tostado y Bollería Industrial"
         ],
         "yaxis": "y"
        }
       ],
       "layout": {
        "legend": {
         "tracegroupgap": 0
        },
        "margin": {
         "t": 60
        },
        "template": {
         "data": {
          "bar": [
           {
            "error_x": {
             "color": "#2a3f5f"
            },
            "error_y": {
             "color": "#2a3f5f"
            },
            "marker": {
             "line": {
              "color": "#E5ECF6",
              "width": 0.5
             },
             "pattern": {
              "fillmode": "overlay",
              "size": 10,
              "solidity": 0.2
             }
            },
            "type": "bar"
           }
          ],
          "barpolar": [
           {
            "marker": {
             "line": {
              "color": "#E5ECF6",
              "width": 0.5
             },
             "pattern": {
              "fillmode": "overlay",
              "size": 10,
              "solidity": 0.2
             }
            },
            "type": "barpolar"
           }
          ],
          "carpet": [
           {
            "aaxis": {
             "endlinecolor": "#2a3f5f",
             "gridcolor": "white",
             "linecolor": "white",
             "minorgridcolor": "white",
             "startlinecolor": "#2a3f5f"
            },
            "baxis": {
             "endlinecolor": "#2a3f5f",
             "gridcolor": "white",
             "linecolor": "white",
             "minorgridcolor": "white",
             "startlinecolor": "#2a3f5f"
            },
            "type": "carpet"
           }
          ],
          "choropleth": [
           {
            "colorbar": {
             "outlinewidth": 0,
             "ticks": ""
            },
            "type": "choropleth"
           }
          ],
          "contour": [
           {
            "colorbar": {
             "outlinewidth": 0,
             "ticks": ""
            },
            "colorscale": [
             [
              0,
              "#0d0887"
             ],
             [
              0.1111111111111111,
              "#46039f"
             ],
             [
              0.2222222222222222,
              "#7201a8"
             ],
             [
              0.3333333333333333,
              "#9c179e"
             ],
             [
              0.4444444444444444,
              "#bd3786"
             ],
             [
              0.5555555555555556,
              "#d8576b"
             ],
             [
              0.6666666666666666,
              "#ed7953"
             ],
             [
              0.7777777777777778,
              "#fb9f3a"
             ],
             [
              0.8888888888888888,
              "#fdca26"
             ],
             [
              1,
              "#f0f921"
             ]
            ],
            "type": "contour"
           }
          ],
          "contourcarpet": [
           {
            "colorbar": {
             "outlinewidth": 0,
             "ticks": ""
            },
            "type": "contourcarpet"
           }
          ],
          "heatmap": [
           {
            "colorbar": {
             "outlinewidth": 0,
             "ticks": ""
            },
            "colorscale": [
             [
              0,
              "#0d0887"
             ],
             [
              0.1111111111111111,
              "#46039f"
             ],
             [
              0.2222222222222222,
              "#7201a8"
             ],
             [
              0.3333333333333333,
              "#9c179e"
             ],
             [
              0.4444444444444444,
              "#bd3786"
             ],
             [
              0.5555555555555556,
              "#d8576b"
             ],
             [
              0.6666666666666666,
              "#ed7953"
             ],
             [
              0.7777777777777778,
              "#fb9f3a"
             ],
             [
              0.8888888888888888,
              "#fdca26"
             ],
             [
              1,
              "#f0f921"
             ]
            ],
            "type": "heatmap"
           }
          ],
          "histogram": [
           {
            "marker": {
             "pattern": {
              "fillmode": "overlay",
              "size": 10,
              "solidity": 0.2
             }
            },
            "type": "histogram"
           }
          ],
          "histogram2d": [
           {
            "colorbar": {
             "outlinewidth": 0,
             "ticks": ""
            },
            "colorscale": [
             [
              0,
              "#0d0887"
             ],
             [
              0.1111111111111111,
              "#46039f"
             ],
             [
              0.2222222222222222,
              "#7201a8"
             ],
             [
              0.3333333333333333,
              "#9c179e"
             ],
             [
              0.4444444444444444,
              "#bd3786"
             ],
             [
              0.5555555555555556,
              "#d8576b"
             ],
             [
              0.6666666666666666,
              "#ed7953"
             ],
             [
              0.7777777777777778,
              "#fb9f3a"
             ],
             [
              0.8888888888888888,
              "#fdca26"
             ],
             [
              1,
              "#f0f921"
             ]
            ],
            "type": "histogram2d"
           }
          ],
          "histogram2dcontour": [
           {
            "colorbar": {
             "outlinewidth": 0,
             "ticks": ""
            },
            "colorscale": [
             [
              0,
              "#0d0887"
             ],
             [
              0.1111111111111111,
              "#46039f"
             ],
             [
              0.2222222222222222,
              "#7201a8"
             ],
             [
              0.3333333333333333,
              "#9c179e"
             ],
             [
              0.4444444444444444,
              "#bd3786"
             ],
             [
              0.5555555555555556,
              "#d8576b"
             ],
             [
              0.6666666666666666,
              "#ed7953"
             ],
             [
              0.7777777777777778,
              "#fb9f3a"
             ],
             [
              0.8888888888888888,
              "#fdca26"
             ],
             [
              1,
              "#f0f921"
             ]
            ],
            "type": "histogram2dcontour"
           }
          ],
          "mesh3d": [
           {
            "colorbar": {
             "outlinewidth": 0,
             "ticks": ""
            },
            "type": "mesh3d"
           }
          ],
          "parcoords": [
           {
            "line": {
             "colorbar": {
              "outlinewidth": 0,
              "ticks": ""
             }
            },
            "type": "parcoords"
           }
          ],
          "pie": [
           {
            "automargin": true,
            "type": "pie"
           }
          ],
          "scatter": [
           {
            "fillpattern": {
             "fillmode": "overlay",
             "size": 10,
             "solidity": 0.2
            },
            "type": "scatter"
           }
          ],
          "scatter3d": [
           {
            "line": {
             "colorbar": {
              "outlinewidth": 0,
              "ticks": ""
             }
            },
            "marker": {
             "colorbar": {
              "outlinewidth": 0,
              "ticks": ""
             }
            },
            "type": "scatter3d"
           }
          ],
          "scattercarpet": [
           {
            "marker": {
             "colorbar": {
              "outlinewidth": 0,
              "ticks": ""
             }
            },
            "type": "scattercarpet"
           }
          ],
          "scattergeo": [
           {
            "marker": {
             "colorbar": {
              "outlinewidth": 0,
              "ticks": ""
             }
            },
            "type": "scattergeo"
           }
          ],
          "scattergl": [
           {
            "marker": {
             "colorbar": {
              "outlinewidth": 0,
              "ticks": ""
             }
            },
            "type": "scattergl"
           }
          ],
          "scattermap": [
           {
            "marker": {
             "colorbar": {
              "outlinewidth": 0,
              "ticks": ""
             }
            },
            "type": "scattermap"
           }
          ],
          "scattermapbox": [
           {
            "marker": {
             "colorbar": {
              "outlinewidth": 0,
              "ticks": ""
             }
            },
            "type": "scattermapbox"
           }
          ],
          "scatterpolar": [
           {
            "marker": {
             "colorbar": {
              "outlinewidth": 0,
              "ticks": ""
             }
            },
            "type": "scatterpolar"
           }
          ],
          "scatterpolargl": [
           {
            "marker": {
             "colorbar": {
              "outlinewidth": 0,
              "ticks": ""
             }
            },
            "type": "scatterpolargl"
           }
          ],
          "scatterternary": [
           {
            "marker": {
             "colorbar": {
              "outlinewidth": 0,
              "ticks": ""
             }
            },
            "type": "scatterternary"
           }
          ],
          "surface": [
           {
            "colorbar": {
             "outlinewidth": 0,
             "ticks": ""
            },
            "colorscale": [
             [
              0,
              "#0d0887"
             ],
             [
              0.1111111111111111,
              "#46039f"
             ],
             [
              0.2222222222222222,
              "#7201a8"
             ],
             [
              0.3333333333333333,
              "#9c179e"
             ],
             [
              0.4444444444444444,
              "#bd3786"
             ],
             [
              0.5555555555555556,
              "#d8576b"
             ],
             [
              0.6666666666666666,
              "#ed7953"
             ],
             [
              0.7777777777777778,
              "#fb9f3a"
             ],
             [
              0.8888888888888888,
              "#fdca26"
             ],
             [
              1,
              "#f0f921"
             ]
            ],
            "type": "surface"
           }
          ],
          "table": [
           {
            "cells": {
             "fill": {
              "color": "#EBF0F8"
             },
             "line": {
              "color": "white"
             }
            },
            "header": {
             "fill": {
              "color": "#C8D4E3"
             },
             "line": {
              "color": "white"
             }
            },
            "type": "table"
           }
          ]
         },
         "layout": {
          "annotationdefaults": {
           "arrowcolor": "#2a3f5f",
           "arrowhead": 0,
           "arrowwidth": 1
          },
          "autotypenumbers": "strict",
          "coloraxis": {
           "colorbar": {
            "outlinewidth": 0,
            "ticks": ""
           }
          },
          "colorscale": {
           "diverging": [
            [
             0,
             "#8e0152"
            ],
            [
             0.1,
             "#c51b7d"
            ],
            [
             0.2,
             "#de77ae"
            ],
            [
             0.3,
             "#f1b6da"
            ],
            [
             0.4,
             "#fde0ef"
            ],
            [
             0.5,
             "#f7f7f7"
            ],
            [
             0.6,
             "#e6f5d0"
            ],
            [
             0.7,
             "#b8e186"
            ],
            [
             0.8,
             "#7fbc41"
            ],
            [
             0.9,
             "#4d9221"
            ],
            [
             1,
             "#276419"
            ]
           ],
           "sequential": [
            [
             0,
             "#0d0887"
            ],
            [
             0.1111111111111111,
             "#46039f"
            ],
            [
             0.2222222222222222,
             "#7201a8"
            ],
            [
             0.3333333333333333,
             "#9c179e"
            ],
            [
             0.4444444444444444,
             "#bd3786"
            ],
            [
             0.5555555555555556,
             "#d8576b"
            ],
            [
             0.6666666666666666,
             "#ed7953"
            ],
            [
             0.7777777777777778,
             "#fb9f3a"
            ],
            [
             0.8888888888888888,
             "#fdca26"
            ],
            [
             1,
             "#f0f921"
            ]
           ],
           "sequentialminus": [
            [
             0,
             "#0d0887"
            ],
            [
             0.1111111111111111,
             "#46039f"
            ],
            [
             0.2222222222222222,
             "#7201a8"
            ],
            [
             0.3333333333333333,
             "#9c179e"
            ],
            [
             0.4444444444444444,
             "#bd3786"
            ],
            [
             0.5555555555555556,
             "#d8576b"
            ],
            [
             0.6666666666666666,
             "#ed7953"
            ],
            [
             0.7777777777777778,
             "#fb9f3a"
            ],
            [
             0.8888888888888888,
             "#fdca26"
            ],
            [
             1,
             "#f0f921"
            ]
           ]
          },
          "colorway": [
           "#636efa",
           "#EF553B",
           "#00cc96",
           "#ab63fa",
           "#FFA15A",
           "#19d3f3",
           "#FF6692",
           "#B6E880",
           "#FF97FF",
           "#FECB52"
          ],
          "font": {
           "color": "#2a3f5f"
          },
          "geo": {
           "bgcolor": "white",
           "lakecolor": "white",
           "landcolor": "#E5ECF6",
           "showlakes": true,
           "showland": true,
           "subunitcolor": "white"
          },
          "hoverlabel": {
           "align": "left"
          },
          "hovermode": "closest",
          "mapbox": {
           "style": "light"
          },
          "paper_bgcolor": "white",
          "plot_bgcolor": "#E5ECF6",
          "polar": {
           "angularaxis": {
            "gridcolor": "white",
            "linecolor": "white",
            "ticks": ""
           },
           "bgcolor": "#E5ECF6",
           "radialaxis": {
            "gridcolor": "white",
            "linecolor": "white",
            "ticks": ""
           }
          },
          "scene": {
           "xaxis": {
            "backgroundcolor": "#E5ECF6",
            "gridcolor": "white",
            "gridwidth": 2,
            "linecolor": "white",
            "showbackground": true,
            "ticks": "",
            "zerolinecolor": "white"
           },
           "yaxis": {
            "backgroundcolor": "#E5ECF6",
            "gridcolor": "white",
            "gridwidth": 2,
            "linecolor": "white",
            "showbackground": true,
            "ticks": "",
            "zerolinecolor": "white"
           },
           "zaxis": {
            "backgroundcolor": "#E5ECF6",
            "gridcolor": "white",
            "gridwidth": 2,
            "linecolor": "white",
            "showbackground": true,
            "ticks": "",
            "zerolinecolor": "white"
           }
          },
          "shapedefaults": {
           "line": {
            "color": "#2a3f5f"
           }
          },
          "ternary": {
           "aaxis": {
            "gridcolor": "white",
            "linecolor": "white",
            "ticks": ""
           },
           "baxis": {
            "gridcolor": "white",
            "linecolor": "white",
            "ticks": ""
           },
           "bgcolor": "#E5ECF6",
           "caxis": {
            "gridcolor": "white",
            "linecolor": "white",
            "ticks": ""
           }
          },
          "title": {
           "x": 0.05
          },
          "xaxis": {
           "automargin": true,
           "gridcolor": "white",
           "linecolor": "white",
           "ticks": "",
           "title": {
            "standoff": 15
           },
           "zerolinecolor": "white",
           "zerolinewidth": 2
          },
          "yaxis": {
           "automargin": true,
           "gridcolor": "white",
           "linecolor": "white",
           "ticks": "",
           "title": {
            "standoff": 15
           },
           "zerolinecolor": "white",
           "zerolinewidth": 2
          }
         }
        },
        "xaxis": {
         "anchor": "y",
         "domain": [
          0,
          1
         ],
         "title": {
          "text": "Margen Beneficio (€)"
         }
        },
        "yaxis": {
         "anchor": "x",
         "domain": [
          0,
          1
         ],
         "title": {
          "text": "Grupo"
         }
        }
       }
      }
     },
     "metadata": {},
     "output_type": "display_data"
    },
    {
     "data": {
      "application/vnd.plotly.v1+json": {
       "config": {
        "plotlyServerURL": "https://plot.ly"
       },
       "data": [
        {
         "hovertemplate": "Margen Beneficio (€)=%{x}<br>Producto=%{y}<extra></extra>",
         "legendgroup": "",
         "marker": {
          "color": "#636efa",
          "symbol": "circle"
         },
         "mode": "markers",
         "name": "",
         "showlegend": false,
         "type": "scattergl",
         "x": {
          "bdata": "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",
          "dtype": "f8"
         },
         "xaxis": "x",
         "y": [
          "CN-ENSALADILLA RUSA B/400GR (LG)",
          "VERDURA PAELLA B/400GR",
          "CEBOLLA TROC. 10x10 B/1KG",
          "CN-MEZCLA SOFRITO 1KG",
          "GUISANTES EXTRA FINOS 1 KG",
          "GARROFON PRECOCIDO 1 KG",
          "HABAS BABY B/1 KG-(NCNAL)",
          "JUDIA-VERDE PLANA 1 KG",
          "JUDIA VERDE RED-TROCEADA 1 KG",
          "JUDIA MUY FINA ENTERA  B/1KG",
          "CN-VERDURA-SOPAS B/1KG",
          "CN-COLIFLOR 40/60  B/1KG",
          "ESPINACA HOJA 1 KG",
          "CN-BROCOLI B/1KG.",
          "ESPARRAGOS-VER-TROC-B/1 KG",
          "AJOS T/TROCEADOS B/1KG",
          "CALABAZA 10X10 B/2,5 KG",
          "CALABACIN TROC. B/2.5 KG",
          "HABITAS SUPERBABY 1 KG",
          "TOMATE TK-SEC-SOL MIT",
          "OR-WAKAME B/125 G",
          "JUDIA VERDE RED-TROCEADA (IQF)",
          "OR-WAKAME B/1 KG",
          "BOLETUS ENTERO 1ª CALIDAD B/2,5 KG",
          "CEBOLLA-PERLA 14/16 B/2,5 KG.",
          "JUDIA VERDE-PLANA-B/2,5KG",
          "JUDIA VERDE RED-TROCEADA  B/2.5 KG",
          "GUISANTES BASIC B/2,5KG",
          "CEBOLLA TROC.-10 x 10  2.5 KG",
          "ZANAHORIA DADOS B/2,5KG",
          "BOLETUS (EDULI)TROCEADO 1º CALIDAD B/1KG",
          "ESPINACA TROCEADA B/2,5 KG",
          "PREP-TORTILLA (PTT/CBLL) PREFRITA B/1 KG",
          "PREP-TORTILLA (PTT/VERD.ASADA) B/1KG",
          "PREP-TORTILLA (PTT/CHORIZO) B/1KG",
          "CN-PISTO DE VERDURAS B/1KG.",
          "VERDURA PAELLA B/1 KG",
          "ENSALADILLA RUSA 1 KG",
          "MENESTRA CON ESPARRAGO B/1KG",
          "MENESTRA-BROCOZAN 1 KG",
          "MENESTRA ESPECIAL 1 KG",
          "AJOS T/TROCEADOS B/300 GRS",
          "GARBANZOS-B/400GR",
          "CN-GUISANTES-BABY-EXT-B/400GR",
          "HABITAS SUPERBABY B/300 GR (NACIONAL)",
          "ALCACHOFAS-CORT-B/400GR",
          "PEREJIL TROCEADO B/75 G",
          "CN-AJO PICADO 3X3 B/125 GR",
          "MAIZ DULCE-B/450GR",
          "GARROFON-B/400GR",
          "JUDIA-VERDE PLANA -B/400 GR",
          "ACELGAS-B/400 GR",
          "HABAS-BABY-1ª-B/400GR (NCNAL)",
          "CARDO TROCEADO-B/450 GR",
          "ZANAHORIA BABY-400 GR",
          "ALUBIA-BLANCA-B/400 GR",
          "ZANAHORIA BABY-8/14-(IQF)",
          "EDAMAME VAINAS SOJA VERDE B/500GR",
          "EDAMAME PELADO SOJA VERDE B/500GR",
          "ESPARRAGOS-VER-TROC-B/300GR",
          "ESPINACA HOJA-EXTRA-P/400GR",
          "NUBE 16/01/2021",
          "MENESTRA VERDURAS 2,5 KG",
          "PIMIENTO-VERDE (10X10) -B/2.5KG",
          "PIMIENTO-ROJO-(10X10)-B/2.5KG",
          "VERDURA-PAELLA-B/2,5KG",
          "ENSALADILLA RUSA 2.5 KG",
          "ALCACHOFAS CORTADAS B/2,5KG",
          "PIMIENTO TIRAS TRICOLOR B/2.5 KG",
          "ALCACHOFAS-CORTADA-(IQF)",
          "AZ-SALMÓN-SALAR LOMITOS S/P 2x125 G/PBO",
          "AZ-BOQUERON-ENT-80 + (FRITURA) B/1 KG",
          "AZ-ATUN-VENTRESCAS S/PIEL (VC)(PBO)",
          "AZ-BOQUERON LIMPIO-HG-(FRITURA)",
          "EMPERADOR LIMPIO (TAQUITOS) (IQF)",
          "AZS-FIL-DORADA C/P 120-180 GR/PZ",
          "EMPERADOR (CENTRO-G-CORTADAS)",
          "AZ-ATUN FILETES (VC) 1x4.5 KG",
          "EMPERADOR (CRTD/ EXTRA)",
          "AZ-ATUN SOLOMILLO 225 GR NETO (NATURAL)",
          "AZ-FIL-PALOMETA S/PIEL(IQF)100/200 (PBO)",
          "AZ-SALMON-SALVAJE-PORCION-(IQF)(PBO)",
          "AZ-CAELLA LOMITOS 125GR APROX IQF(PBO)",
          "AZ-TRUCHA LIMPIA (DSP) PZ-260 GR APROX",
          "AZ-FIL-CABALLA-C/PIEL PBI",
          "AZ-BOQUERON-ENT-G-30/40-IQF",
          "AZ-CAZON/CAELLA/GATA S/P (TACOS)",
          "AZ-SALMÓN-COLAS-COHO-PZ/300/400 APROX",
          "EMPERADOR (LOMOS ENTEROS)-S/HUESO",
          "COLAS ROSADA IQF",
          "AZ-SALMON-LOMITOS C/P 125/150 G",
          "HG-FIL-DE CABALLA-C/P- B/750 G (PBO)",
          "AZ-FIL-BOQUERON-IQF/PBO",
          "EMPERADOR-CORTADA (P)-B/640 G",
          "EMPERADOR LIMPIO (TAQUITOS) B/450 GR",
          "ROD. ROSADA AUSTRAL 200/300",
          "AZ-ATUN LOMOS/YELLOWFINE (TRTD)(PBO)",
          "AZ-BOQUERON ENT.40/60- B/1 KG.",
          "AZ-SARDINAS ENTERAS-15/20-PZ/KG",
          "AZ-FIL-SARDINA-(IQF)",
          "AZ-SALMON-COHO-SALAR-ROD-(IQF)",
          "AZ-FIL-PALOMETA S/PIEL 115/170-(PBO)",
          "AZ-ATUN-PUNTAS/YELLOWFINE-(TRTD)-(PBO)",
          "AZ-LOMITOS DE TRUCHA S/P 125 GR.",
          "BAC-BLCO-TROZOS-(IQF)",
          "BAC-BLCO-SUPREMA 80/120 (PBO)",
          "BAC-GRIS-FLT-500/1000 1ª 10%",
          "BAC-BLCO-LOMITOS 2X125(VC)",
          "BAC-FLT-JUMBO+1500",
          "BAC-BLCO-FLT-1000+ 1ª-10%",
          "BAC-BLCO-LOMOS-(SELECTO)",
          "BAC-BLCO-COCOCHAS-(BLQ)",
          "BAC-BLCO-LOMOS-200-250 G-(GRAN GOLIAT)",
          "BAC-BLCO-LOMOS 200/300 (IWP)",
          "BAC-GRIS-LOMOS-HG 150/400 P/SAL",
          "BAC-GRIS-SUPREMA-130/190-P/SAL",
          "BAC-BLCO-FLT-500/1000  1ª-10%",
          "BAC-BLCO-LOMO-JUMBO +700 GRS-(IQF)",
          "BAC-FIL-GRIS 500/1000",
          "BAC-GRIS-FLT-500/1000 (1ª)",
          "BAC-GRIS-LOMITOS B/850 GR",
          "BAC-GRIS-FLT-1000+10%(1ª)",
          "BAC-BLCO-VENTRESCA S/ESP-(PBO)",
          "BAC-GRIS-SUPREMA P/SAL 180/250",
          "BAC-TROZOS BACALAO (FRITURA)",
          "BAC-BLCO-TROZOS B/450 G",
          "BAC-BLCO-LOMOS 300+ (IWP)",
          "BAC-BLCO-SUPREMAS B/450 GR",
          "FIL-MARUCA/MARIPOSA-C/P-(ITF)-700/1200",
          "MERL-SOLOMILLOS-C/P-IWP-PZ-80/120 (PBO)",
          "FIL-MERL.VENTRESCA 80/100- (IWP)(PBO)",
          "MERL-SUPREMAS-S/P-90/110 GR",
          "FIL-PEZ LIMON S/P 1000/2000",
          "HG-FLT-PANGASIUS B/800 G.",
          "HG-FIL-MERL-M-S/P-DESG-CPSS(4-6 PZ)",
          "HG-EMPERADOR (LOMOS A CORTADAS) B/3-4PZ",
          "HG-ROD-MERL-G-(ESPECIAL)-FRIS B/800 GR",
          "HG-MERL-SOLOMILLOS B/6-8 PZ",
          "HG-PESCA -S/C- TRQ- B/6-10 PZ",
          "HG-PLATIJA LIMPIA B/3 PZS",
          "HG-AZ-FIL-LUBINA B/5-7-PZ",
          "CAL-CALLO DADOS (IQF)",
          "CAL-POTA/TUBO-LIMP/ILLEX +23 CM",
          "CAL-POTA/TUBO LMP-ILLEX (L) +22CM",
          "CAL-POTA-ANILLA-GIGAS-(BLQ)",
          "CAL-POTA/TUBO-LMP-(ILLEX) (XL) +24CM",
          "CAL-POTA/ANILLAS ILLEX IQF",
          "CAL-POTA/TUBO-LMP-ILLEX-(L)+22/CM",
          "CAL-POTA/TUBO LMP-(GIGAS) 200/400",
          "CAL-POTA/TUBO LMP-(GIGAS) 200/400",
          "CAL-POTA/TUBO LMP- B/700 G-GIGAS",
          "BOTONES DE POTON",
          "CAL-CHIPIRON-LIMPIO C/P-(PTG)-B/450 GR",
          "CAL-POTA/ANILLAS-GIGAS IQF-B/700 G",
          "CAL-POTON TIRAS-(GIGAS)-(IQF)",
          "TINTA DE CALAMAR/SEPIA 2 UND",
          "CAL-LOLIGO/VLG-(FAO/27)-PLAY-ENT-250/500",
          "CAL-(LOLIGO/VLG)-PLAYA-50/90-(5)",
          "CAL-PUNT- (FAO/34)-(BLANCAMAR) B/1 KG",
          "CAL-LOLIGO/VLG-FAO/34-800/1200 IWP-(G/B)",
          "TINTA DE SEPIA/CALAMAR B/500 GR",
          "CAL-LOLIGO/VLG(FAO/27-)PLAYA-300/500-IQF",
          "CAL-POTA/TUBO (RIAZOR)",
          "CAL-LOLIGO/VLG-(FAO/34)-450/750-IWP(M/B)",
          "CAL-LOLIGO/VLG-FAO-34 +1000-IWP-(GG/B)",
          "CAL-LOLIGO/VLG-(FAO/27)-PLAYA-1000+",
          "CAL-LOLIGO/VLG-(FAO/27)-PLAYA-300/500-BL",
          "CAL-PUNT- (MARRC)-E (2X500) GR",
          "CAL-LOLIGO/VLG-(FAO/34)-80/150-IWP-3P/B",
          "CAL-LOLIGO/VLG-(FAO/34)200/350-IWP(2P/B)",
          "CAL-LOLIGO/VLG-(FAO/34)250/450-IWP-(P/B)",
          "CAL-LOLIGO/VLG-(FAO/34)-300/500-IWP(P/T)",
          "CAL-LOLIGO/VLG-(FAO/34)-450/700 IWP(M/T)",
          "CAL-LOLIGO/VLG-(FAO/34)200/350-IWP(2P/T)",
          "CAL-VOLADOR/POTA-M-FAO 41-18/24-(ILLEX)",
          "CAL-REJOS-LIMPIO POTA IQF",
          "CAL-VOLADOR/POTA-(TRC-IQF)",
          "CAL-VOLADOR/POTA (S)FAO41-14/18CM",
          "CAL-VOLADOR/POTA-14/22-(IQF)-(ILLEX)",
          "CAL-PUNT(JAPONICA)IQF S/PLM B/800G-4/6",
          "CAL-PUNT-(INDIA)-IQF-S/PLM- B/800G",
          "CAL-PUNT-(INDIA)80/100-UP -LVD-900G",
          "CAL-PUNT-(CHINEN/SPP)-IQF-S/PLM- B/800G",
          "CAL-PUNT-(CHINENSIS)IQF S/PL B/425GR-3/6",
          "CAL-PUNT-(INDIA)80-UP -LVD-900G",
          "CAL-PUNT-(INDIA)-4/7-IQF-S/PLM- B/800G",
          "CAL-PUNT-(CHINEN/SPP)-IQF-S/PLM- B/800G",
          "CAL-LOLIGO/VLG-(FAO/27)PLAYA-500/1000",
          "CAL-CHIPIRON-(PTG)-11/14 (C/G)",
          "CAL-LIMPIO 10/20-30% INDIA",
          "CAL-CHIPIRON-(PTG)-9-11 (C/GND)",
          "CAL-REJO-COCIDO IQF",
          "CAL-CHIPIRON-(PTG-4)-10/13 (C/PQÑ)",
          "CAL-CHIPIRON-(TROC) (INDIA) B/400 G",
          "CAL-CHIPIRON- (TRC)-(INDIA ) B/800 GR",
          "CAL-CHIPIRON-(PTG)-(IQF)",
          "CAL-CHIPIRON-(PTG)-TROC. B/900G",
          "HG-CAL-F-PATAGONICO B/14/18 PZ",
          "CAL-CHIPIRON-(TROC) (INDIA) B/800GR",
          "CAL-LOLIGO/VLG-(FAO/27)-PLAYA-90/200-BLQ",
          "ALAS D/RAYA-S/P-500/1000-(3)",
          "ALAS D/RAYA-S/P",
          "PEZ GALLO 100/150-(HG-/IQF)",
          "AZ-MARRAJO 30/50 (HG)",
          "AZ-CAELLA TAQUITOS S/P-S/H-(IQF)",
          "FIL-LENG-RELL-GAMBA C/MOUSSE",
          "ABADEJO-FIL-100/200-(IQF)",
          "FIL-TILAPIA (BESUGO) 100/200-(IQF)(PBO)",
          "FIL-MERLUZA 40/80 GR (HUBSSI)",
          "FIL-PANGASIUS 120/170 (IQF) (PBO)",
          "FIL-LIMANDA-(IQF)(PBO)",
          "FIL-GALLINETA 100/200-(CABRACHO)-25%",
          "ALAS MERL-( AUSTRAL)-(IQF)",
          "ROD-MEDALLON MERLUZA-(IQF)",
          "AZS-PEZ DE SAN PEDRO 200/300 G",
          "COCOCHAS MERLUZA E/1000 GRS",
          "FIL-GALLO S/PEDRO PLATEADO 80/150-C/P",
          "FIL-GALLO SAN PEDRO 150/200-20%",
          "FIL-TILAPIA (BESUGO) 150/200-IQF",
          "COCOCHAS MERLUZA E/500 G",
          "LOMOS MRLZ/AUTRL-200/350",
          "MERL-SOLOMILLOS-PZ-140/200-GR",
          "FIL-MERO (PERCA)500/1000",
          "FIL-MERL-P-C/P-60/120 CPSS-IWP",
          "FILETON-MERL-C/PIEL-200/300-(IQF)",
          "FIL-MERL-M-C/P-115/170 (CPSS)  (IWP)",
          "FIL-MERL-(P)-60/120- S/P-(CPSS)(PBO)",
          "FIL-MERL-(P)-60/120- S/P (HBS)-(B)-(PBO)",
          "FIL-BACALADILLA B/300 G.",
          "FIL-BACALADILLA (IQF)",
          "AZS-FIL-LUBINA-C/P-120/180 GR/PZ",
          "FIL- DE CORVINA +1000 GR (SALVAJE)",
          "FIL-BACALADILLA",
          "FIL-MERL-S/P-DESG- B/540 GR",
          "FIL-LENGUADO-(VC)-350 G.",
          "LENGUADO TIGRE 300/400 HG",
          "FIL-PLATIJA DEL PACIFICO 120/180",
          "LENGUADO LIMP-(PLATIJA)-200/400",
          "LENGUADO TIGRE 300/400 G/PZ",
          "LENGUADO-G-PEL/RACION 120/170 GR",
          "LENGUADO GALLO-200/300",
          "LENGUADO RACION (NAC)-HG-",
          "CORVINA-FIL-500/1000 (IQF) (LG)",
          "CORVINA-FIL-1000/2000 (IQF) (LG)",
          "FIL-MERL-M-150/250-S/P-(INTF)-(CPSS)",
          "PESCA-S/C-TRQ/IQF-100/200-(CPSS)-(IQF)",
          "PESCA-S/C-TRQ/IQF-200/300-(HUBBSI))-(IQF",
          "PESCA-S/C-TRQ-B/675GR",
          "COLAS MERL-GG-(ESPECIAL)-PZ- 350/600 G.",
          "MORRALLA PLAYA",
          "COLAS MERL-M-CPSS B/675 GR",
          "MERO FILETES EXTRA",
          "PREP-FRITURA MEDITARRENEA (IQF)",
          "PREP-ARROCES Y FIDEUAS B/1KG",
          "PREP-PAELLA-MARISCOS-B/500GR",
          "PREP- PAELLAS Y SOPAS B/800 GR (X)",
          "PREP-ARROCES Y FIDEUAS B/400GR",
          "PREP-PAELLA-MARISCOS (CIGALAS)",
          "SEPIA LIMP-PATAS-(IQF)",
          "PULPO CRUDO-(FAO/34)-T/0 +4,5 KG (B)",
          "PULPO CRUDO-(FAO/34)(T/1) 3/4,5 KG (B)",
          "PULPO COC-1/2 PULPO-400/500 G",
          "PULPO COC-B/6 PATAS-200/300",
          "PULPO COC-S/JUGO-PATA-250/350 GR/PZ",
          "PULPO COC-CABEZAS-(BLQ)",
          "PULPO COC-ENTERO PZ/+2000 G",
          "PULPO COC-S/JUGO-PATA-150/250 GR/PZ",
          "PULPO COC-2 B/250G",
          "PULPO COC-MITADES 300/500 GR",
          "PULPO COC- B-8 PATAS-150/200",
          "PULPO COC- 10/PATAS-100/150",
          "PULPO CRUDO-PLAYA-(FAO/37)+ 4.5 KG",
          "PULPO CRUDO-(FAO/34)-300/500-(FLOR)-T/8",
          "PULPO CRUDO-PLAYA-(FAO/34-37)-2/3 KG",
          "PULPO CRUDO PLAYA-(FAO/37)-2/4 KG",
          "PULPO COCIDO-PATAS-30/80 G-(IQF)",
          "PULPITO ENTERO 40/60  B/1K",
          "CAL-CHIPIRON-(PTG-4L)-11/14 (C/PQÑ)",
          "RAPE-FILETE-500/1000 (GRAN SOL)",
          "RAPE-PEQUEÑO FAO 61-80/150 B/800",
          "RAPE-G-300/1000-GR/PZ (DEL CABO)",
          "RAPE-PEQUEÑO-FAO 61-80/150 B/640",
          "RAPE-M-LIMPIO-MARISQUERO +300GR",
          "RAPE-G-300/500 IQF",
          "RAPE-M-S/P-1000/1500-AFRICA",
          "RAPE-LIMPIO S/P-G-PZ/+2000 GRAN/SOL",
          "RAPE-TACOS FAO 61-B/640 GR",
          "RAPE-M-150/300-B/640 GR",
          "RAPE-CARRILLADA Y CABEZA (TRC)",
          "PESCA-S/C-TRQ-CPSS-INT",
          "AZS-ALFONSINO (HGT) 500/1000",
          "ROD-MERL-100/150-(CPSS)-(IQF)",
          "ROD-MERL-GG (AUSTRAL) 200/400 GR AP",
          "ROD-MERL-CANTABRICO-100/200",
          "ROD-MERL-M-B/585 GR",
          "LOMOS DE CORVINA 200/300 (SALVAJE)",
          "ROD-MERL-AUSTRAL 200/300 (IQF)",
          "SEPIA LIMP-FAO/51-(INDIA)-G-2/4 PZ/K-IQF",
          "SEPIA LIMP-F/51-M-5/7 IQF",
          "SEPIA LIMP-FAO/51-P-8/12 PZ/K- B/800 G",
          "SEPIA ENTERA-RACION-200/400-HG",
          "SEPIA LIMPIA RACION",
          "SEPIA LIMP-FAO/51-G-2/4 PZ/K-IQF",
          "SEPIA LIMP-FAO/51+900-GG-U/1",
          "SEPIA LIMP-FAO/34-(NTRL)-400/500 (IQF)",
          "SEPIA LIMP-FAO/34-(NTRL)-1000/2000(IQF)",
          "SEPIA LIMP-FAO/34-(NTRL)-300/400(IQF)",
          "SEPIA ENTERA-(G)-(FAO/34)400/600(BLQ)(B)",
          "SEPIA ENTERA(G)(FAO/34)-300/450 BLQ-B",
          "SEPIA ENTERA(G)(FAO/34)-300/450(IWP-B)",
          "SEPIA LIMP-F/51-P-8/12 PZ/K- B/640GR",
          "SEPIA ALMDRTA-P-FAO/34-40/60-E/2x500GR",
          "SEPIA GRANDE LIMP A TACOS-FAO/34 B/900GR",
          "SEPIA ENTERA-MONGO-3/5 KG",
          "SEPIA ENTERA-MONGO+5 KG",
          "SEPIA ENTERA-MONGO-2/3 KG.",
          "SEPIA LIMP-FAO/34 (NTRL) 3000/5000 (IQF)",
          "SEPIA LIMP-FAO/34- (NTRL) 2000/3000(IQF)",
          "SEPIA ENTERA -FAO/27-100 G/PZA",
          "SEPIA ENTERA-FAO/27-100/200 G/PZA",
          "SEPIA HUEVAS-(FAO/34)-(BLQ)",
          "SEPIA ENTERA-(FAO/27) 300/600",
          "SEPIA ENTERA-(FAO/27) 1000+",
          "SEPIA ENTERA-(M)-(FAO/34)-300/350-(BLQ-T",
          "HG-SEPIA LIMP-RACION-(MRR)- B/1 KG APROX",
          "SEPIA PEQUEÑA LIMP TROZOS-FAO/51-B/900GR",
          "SEPIA LIMP-FAO/34-(NTRL)-500/800(IQF)",
          "SEPIA LIMP-FAO/34-(NTRL)-200/300(IQF)",
          "SEPIA ENTERA-(M)(FAO/34)-250/350-(IWP-B)",
          "SEPIA LIMP-FAO/51-5/7-PZ IQF",
          "SEPIA ALMDRTA-P-FAO/34-20/60-E/500GR-(T)",
          "SEPIA ENTERA-G-FAO/34 300/450 (T)",
          "AZS-PEZ DE SAN PEDRO 200/300 G",
          "HG-FIL-GALLINETA 80/150-(CABRACHO) B/640",
          "BACALAO DORADO B/240 G",
          "CROQ-QUISQUILLA-MEDTRR B-/500G (13/15pz)",
          "ALBON-BAC-CASERAS-B/400GR",
          "CROQ-CHIPIRON TINTA-B/250 G",
          "CROQ-RABO DE TORO B/250 G",
          "AU-CROQ-POLLO-LA ABUELA-B/350GR-PRELI",
          "AU-CROQ-JAMON-LA ABUELA-B/1KG-PRIELA",
          "AU-CROQ-JAMON-LA ABUELA-B/350 GR-PRELI",
          "CROQUETON JAMÓN IBERICO B/1 KG",
          "CROQ-PUCHERO B/250 GR",
          "CROQ-CHIPIRON SU TINTA-(GOURMET)-B/1000",
          "CROQ-MERLUZA/GAMBAS (GOURMET)-B/1000",
          "CROQ-JAMON IBÉRICO/TRUFA-(GOURMET)-B/1KG",
          "CROQ-SEPIA Y GAMBAS-(GOURMET) 1KG",
          "CROQ-IBERICOS B/250 GR",
          "CROQUETON- RABO DE TORO B/1 KG",
          "CROQUETON DE SETAS B/1KG",
          "CROQUETON ESTOFADO POLLO B/1 KG",
          "CROQUETON BACALAO B/1 KG",
          "AU-CROQ-POLLO-LA ABUELA-B/1 KG-PRIELA",
          "BCDT-CABRALES B/200 GR",
          "Q-FINGER MOZZARELLA B/300 GR",
          "AU-Q-AROS QUESO GOUDA EMPANADOS. 1KG",
          "Q-MEDALL QUESO CABRA B/200 GR (7/8 UD)",
          "Q-TRIANG QUESO BRIE B/270 GR (8/10 UD)",
          "Q-CAMEMBERT EMPANADO B/220 GR",
          "Q-QUESO FRESCO TEMPURA B/220 GR",
          "CAL-CHIPIS ENHARINADOS. B/300 GR",
          "BACALAO REBOZADO 30/60 GR PIEZA B/1000 G",
          "ADOBO DE PESCADO B/1 KG",
          "BOQUERON ENHARINADOS B/1 KG",
          "SAQUITO-MARISCO (10U) 150G",
          "VARITAS- MERLUZA-B/400GR",
          "TORTILLITAS-CAMARON-(PREMIUM)",
          "PALITOS-MERLUZA-B/400GR",
          "SABROSO DE MERLUZA B/2 KG",
          "EMP-MINI-ATUN-B/400GR",
          "EMP-ATUN-B/8 UND",
          "LANG  GABARDINA REB. B-400GR",
          "CAL-ANILLAS TIERN. ROMANA -B/400GR",
          "MEJILL-RELLENO B/400GR",
          "BOMBAS DE MORCILLA Y PIÑONES 12 UN",
          "PIM-PIQ-C/MARISCO-E/2UND",
          "PIM-PIQ-C/BACALAO-E/2UND",
          "TORTILLITAS-CAMARON B/400 GR",
          "ROD-MERL.-REBOZADA 4 X 90 GR",
          "CAL-F-ROM-CASERO-B/400GR",
          "SABROSO DE MERLUZA-(2 UND) - 200GR",
          "CAL-RABAS-EMPANADAS-B/400GR",
          "HAMBUR-PECHUGA-CORNFLAKES 100GR",
          "POLLO-FIL-PECHUGA/EMP-B/800GR",
          "NUGGET POLLO (EXTRA) B/300 G",
          "DATILES-C/BACON-ALMENDRA-E/300GR",
          "SAQUITO-CARRILLERA VACUNO (10U) 150G",
          "CACHOPO-POLLO/JAMON/QUESO B/1,5 KG",
          "SAN-JACOBO-DE PAVO 90/95GR",
          "AU-NUGGETS POLLO B/1KG",
          "POLLO-FIL-PECH-EMP-B/200GR APROX.",
          "CAL-RABAS-EMPANADAS-B/1KG",
          "POLLO-SOLOMILLO-NATURAL-RBZD B/1KG",
          "ALBON-BAC-CASERAS-B/1KG",
          "CAL-ANILLAS TIERN. ROMANA -B/1 KG",
          "CAL-F-ROM-CASERO-B/1KG",
          "NUGGET POLLO (EXTRA) B/1 KG",
          "VARITAS MERLUZA EMPANADA B/ 1KG",
          "AU-POLLO-ESTILO KENTUCKY.1KG",
          "AROS-CEBOLLA REBZ.-B/300GR",
          "TEMPURA DE VERDURAS B/400 GR",
          "OR-GYOZAS-TERNERA-400G.",
          "OR-GYOZA-VEGETALES-400G.",
          "OR-GYOZAS-POLLO-400G.",
          "OR-GYOZAS-PATO-200G.",
          "OR-ROLLITOS JAM/QUES-B/2UND C/SALSA",
          "OR-CRUJIENTE PATT LANGOSTINO 10X30 GRS.",
          "OR-ROLLIT-PRIMAV + SALSA E/2UND",
          "OR-LANG-TORPEDO 10X24 GRS. B/240 GR",
          "OR-LANG-TORPEDO EMPANADO-KILO",
          "TMX-JALAPEÑOS Q/CHEDDAR B/300",
          "SR-ANGULA-ABORDO E/2x100 GR",
          "SR-COLA LANGOSTA-E/255 GR",
          "SR-MUSLITO-D/MAR-E/1KG",
          "SR-PALITO DE CANGREJO-B/1KG",
          "SR-PALITO DE CANGREJO-E/250GR",
          "SR-MUSLITO-D/MAR-E/8UND",
          "PATT-ECO-GAJOS-DELUXE-B/1KG",
          "PATT-MQ-STEACK-10 X 20 -B/2.5KG",
          "PATT-ECO-BRAVA-B/1 KG",
          "PATT-ECO.CRT/GRUESO 9X9 B/1KG",
          "PATT-MQ.CORTE FINO 7x7  B/750 G",
          "PATT-MQ-CRT/FINO 7X7 B/2.5 K",
          "PATT-MQ-CRT/GRUESO 10x10 B/2.5 K",
          "PATT-EXL.DIPPE FRIES B/2.5 KG",
          "PATT-EXC.DIPPE R/HIERBA B/750 G.",
          "ANCAS DE RANA LIMPIAS 8/15 E/900GR",
          "REDON-MINI-CIR-PAS-PIÑON-200G",
          "REDON-MINI-JAM-POLLO/QUESO 200G",
          "REDON-PAVO-PZ/750 G. APROX.",
          "REDON-POLLO-FINAS HIERBAS 1,3 KG APROX",
          "PAVO-CHULETAS-PREMIUM IQF",
          "TER-OSOBUCO TERNERA-AÑOJO",
          "CORD-JARRETE -PIERNA (IQF) 300 GR.APROX",
          "PINCHO MORUNO DE CERDO 100GR C/20UND",
          "HG-CER-LOMO CINTA CORTADA 100G APROX",
          "CORD-CHULETAS PALO/RIÑONAD NACIONAL",
          "CORD-PLTLL- PRECOR(1100/1400)",
          "CORD-PLTLLA-ENTERA 1,1/1,3",
          "CORD-CALDERETA (TROZOS)",
          "EMB-LONGANIZA EXTRA 50/G-PZ APROX.",
          "EMB-MORCILLA CEBOLLA 50/G-PZ APROX.",
          "EMB-CHORIZO CASERO 50/G-PZ APROX.",
          "TER-SOLOMILLO-VACA + 2,5KG",
          "TER-PARA GUISAR A TACOS IQF (NTRL)",
          "TER-CHULETON-T0MAHAWK-1.4/1.7 (HEMBRA)",
          "TER-LOMO BAJO VACUNO (VC) 7 KG-APROX",
          "TER-CHURRASCO DE TERNERA (IQF)",
          "TER-LOMO-BAJO C/H PZ-300/500 G.APROX",
          "TER-ENTRECOT 170 GR.",
          "TER-ESCALOPIN  70GR",
          "TER-RABO-CORTADO (IQF)",
          "TER-LOMO BAJO S/H 250GR APRX",
          "TER-SOLOMILLO-VACA + 2,5KG",
          "TER-CARRILLADA-INTERNA",
          "TER-CHULETON(T BONE) 0.800-1000 APRX",
          "POLLO-SOLOMILLOS-B/2.5 KG - 4 BOLSAS",
          "POLLO-JAMONCITOS-1KG",
          "POLLO-MOLLEJAS LIMPIAS (VC) 500GR",
          "POLLO-HIGADITOS (VC) 500GR",
          "PATO-HIGADO TROZOS  B/1KG APRX",
          "PATO-MAGRET (VC)-350/450 GR",
          "PATO-HIGADO ENTERO-800/1000 G/PZ",
          "POLLO-PECHUGA-FILETE-SAZ",
          "PATO-HÍGADO-ESCALOPA-SKIN-135GR",
          "POLLO-ALAS  (GRADO A) 100/125Gr/Pz",
          "POLLO-JMCTS-EXTRA 120/200 B/1KG",
          "POLLO-CUARTOS-BLC-200-500Gr/Pz-(S/CL)",
          "POLLO-CUARTOS-BLC-300/400 GR PREMIUM",
          "POLLO-ALAS-ADOB/1 KG",
          "PAV-JAMONC-PAVO  280/480",
          "POLLO-ALAS-2 FALANGES- GRD/A-B/1 KG",
          "POLLO-TROCEADO IQF",
          "CONEJO LIMP-NAC-800/1200 GRS-Aprox.",
          "CONEJO LIMP-NAC-TROCEADO",
          "POLLO-PECHUGA-ENTERA (BLANCA) BLQ",
          "POLLO-PECHUGA-ENT IQF 220-290 GR",
          "POLLO-MUSLO-DESHUESADO -S/H-S/PIEL B/2.5",
          "POLLO-PECHUGA-B/1KG",
          "HAMBUR-TERNERA-100%-150GR",
          "ALBONDIGA MIXTA IQF B/1250 GR",
          "HAMBUR-C/VERDURAS 2 X 80 GRS.",
          "BURGER GOURMET POLLO 150 G",
          "HAMBUR-MINI-VACUNO-20G- (B/1 KG)",
          "ALBON-CARNE-CASERAS-B/500GR",
          "CER-FIGATELLS-3KG",
          "HAMBUR-TERNERA MIXTA 30x100gr",
          "CER-CARRILL-(EXT)-S/H 100/150Gr/Pz",
          "CER-MORRO COCIDO-500 G (VC)",
          "CER-CARNE PICADA MIXTA (VC) 500 GR",
          "CER-COSTILLA TROCEADA IQF 5 KG",
          "CER-OREJA-COC-ADOB B/500 G",
          "CER-COSTILLA TIRAS CARNUDA (HIG)",
          "PREP-ARREGLO COCIDO",
          "CER-CARRILL-(INT)-S/H 40/60Gr/Pz",
          "CER-CODILLO TRS MTDS-350/450 - (IQF)",
          "CER-CARRILL-(INT)-S/H 40/60Gr/Pz (IRCO)",
          "CER-MANITAS PARTIDAS 4TROZOS",
          "CER-COCHINILLO-2/3KG-APX",
          "CER-LOMO CINTA CORT IQF 80-120GR APRX/PZ",
          "CER-SOLOMILLO (VC) 500/750 GR-PZ",
          "CER-MAGRO TACOS (VC)",
          "PREP-ARREGLO PUCHERO B/1 KG",
          "CER-CABEZA LOMO (VC)",
          "CER-SECRETO (VC)  2000/3000 GR-PZ",
          "CER-LOMO CINTA-C/C (VC) 1/2-PZ",
          "CER-CARETA-TROC-B/1 KG",
          "CER-LAGARTO",
          "CER-PLUMA (VC) 1 KG. APROX.",
          "CER-IBERICO-PRESA-PREMIUM",
          "CER-IBERICO-PLUMA-PREMIUM",
          "CER-PANCETA FILETEADA S/P",
          "CER-COSTILLA CARNUDA (PALO).",
          "CER-COST- PUNTA CAR(HG)-500/700",
          "CER-RABO COCIDO B/500 GR",
          "CER-PELOTA COCIDO IQF",
          "CER-CARRILL (C/H) IQF 300-400Gr/Pz",
          "CORD-ZARAJOS 170G",
          "PINCHO-MINI DE POLLO 45 G",
          "PINCHO-MINI DE CERDO- 45 G",
          "TARTAR DE QUISQUILLA (B/4 UND) 4x50 GR",
          "COLAS LANG PLD/COCIDA (B/400 GR)",
          "BOGAVA-G-AZUL-600/800-GR/PZ",
          "LANGOSTA-VERDE-200/300-IWP-FAO/87",
          "LANGOSTA-ROJA-300/400 (HG)-FAO/34",
          "BOGAVA-G-450/550-GR/PZ (HRC)",
          "LANGOSTA-ROJA-200/400 (HG)-FAO/34",
          "LANGOSTA COLAS 150/300-IWP-FA0/34",
          "LANGOSTA VERDE PZ-200/300-IWP",
          "BOGAVA-G-AZUL 400/600 GR/PZ.",
          "LANGOSTA-ROJA-150/300GR-FAO/51",
          "BOGAVA-M-CRUDO-300/400-G/PZ",
          "BOGAVA-COLAS Y PINZAS CANADIENSE-120/150",
          "BOGAVA-M-CRUDO 300/400 GR",
          "BOGAVA-CABEZAS-S/PINZA",
          "BOGAVA-M-CRUDO 300/450-1/PNZ",
          "LANGOSTA ROJA 300/500 (MZMBIQ)-FAO/51",
          "CUERPOS-PATAS-100/200/G.APROX",
          "BOCAS 8/12 PZ/KG",
          "BOCA NEGRA (2) 12/15-DAKAR",
          "BOCA-MEDIANA 15/20 PZ/KG (DAKAR)",
          "CANGREJO AZUL-ENTERO-150/300 G",
          "BOCA NEGRA (1) 8/10-DAKAR",
          "BOCA-M-20/30 -P/K (AFRICA)",
          "BOCA-G-CRUDAS-9/12 PZ/KILO (MURT)",
          "CANGREJO CASCARA BLANDA-24/26 PZ E/1KG",
          "CANGREJO AZUL-(PARTIDO)-E/1 KILO",
          "BOCA-G-14/18 PZ/KG",
          "CAMARON-ROJO( PERIQUITOS)",
          "GAMBA CRISTAL (ESPECIAL FRITURAS)",
          "QUISQUILLA-ENTERA-65/75 PZ/K",
          "GAMBA BLANCA-G-90/120-DK (HRC)",
          "GALERAS GRANDES (S. LUCAR)",
          "GAMBA BLANCA MARRUEC-FAO/34-60/80-E/1KG",
          "CIGALA-G-3-21/25 PZ/KG-(17%)",
          "CIGALA -3G-00-6/8 PZ/KG-(17%)",
          "CIGALA-M-10/15-PZ-E/450 GR NETO",
          "CIGALA (4G) (000) 5/7-PZ/K-EST/1 KG-(0%)",
          "CIGALA-G-2-16/20-PZ/KG-(10%)",
          "CIGALA-COLAS CRUDAS PELADAS-130-160 G",
          "CIGALA-G-1-11/15-PZ/KG-(10%)",
          "CIGALA-3G-00-6/8-PZ/KG-(10%)",
          "CIGALA-4G-000-4/6-PZ/K-(10%)",
          "CIGALA-P-ARROCERA-40/60-PZ/KG-(0%)",
          "CIGALA (M) (4) 31/40-PZ/K-EST/1  KG-(0%)",
          "GALERA GRANDE B/500 GR",
          "CIGALA (G) (3) 21/30 PZ/K-EST/1  KG-(0%)",
          "CIGALA -4G-000-3/6 PZ/KG-(17%)",
          "CIGALA-G-2-16/20 PZ/KG-(17%)",
          "CIGALA-M-5-36/45 PZ/KG-(17%)",
          "CIGALA (3) -30/40-PZ/K-(0%)",
          "CIGALA (0) -5/10-PZ/K-(0%)-(BARCO)",
          "CIGALA (2) -16/20-PZ/K-(0%)-(BARCO)",
          "CIGALA (1) -10/15-PZ/K-(0%)-(BARCO)",
          "CIGALA (00) 6/9-PZ/KG-(0%)()BARCO)",
          "CIGALA (G) (2) 16/20-PZ/K-EST/1 KG-(0%)",
          "CIGALA (3G) (00)-6/8-PZ/K-EST/1 KG-(0%)",
          "CIGALA (G) (1) 11/15-PZ/K-EST/1 KG-(0%)",
          "CIGALA (GG) (0) 8/12-PZ/K-EST/1  KG-(0%)",
          "CUERPOS-P-PATAS CHICAS 30/60",
          "BUEY-CARNE-TXANGURRO B/500G",
          "GAMBA RAY-M-AFRICA50/65-PZ/K",
          "GAMBA RAY-3G-(AFRICA)-25/35-PZ-KG",
          "GAMBA RAY-GG-(AFRICA) 35/45-PZ/K",
          "CABEZAS-GAMBA RAY",
          "GAMBA RAY-G-EXT-46/60-PZ/K",
          "GAMBA RAY-G-20/26-PZ- E/500 G",
          "GAMBA RAY-GG-(AFRICA)-35/45",
          "GAMBA RAY-G-EXT-(AFRICA)-46/60-",
          "GAMBA RAY-M-(AFRICA)-75/90-PZ/K-",
          "GAMBA RAY-GG-(AFRICA)-35/45 E/1 KG",
          "GAMBA RAY-G-EXT-(AFRICA)-45/55-PZ/K",
          "GAMBA RAY-3G-(AFRICA)-25/35-PZ-KG.",
          "GAMBA RAY-M-(AFRICA)65/75-PZ/K E-1 KG",
          "GAMBA RAY-GG-(AFRICA)-35/45 E/1 KG APROX",
          "GAMBA RAY-4G-AFRICA-20/30 E/1 KG APROX",
          "GAMBA RAY-P-N2-(AFRICA)-EXT-120/150-PZ/K",
          "GAMBA RAY-3G-(AFRICA)-25/35-PZ-KG",
          "GAMBA RAY-G-PLAYA-20/30",
          "GAMBON-3G-10/20 PZ/K-(T)",
          "GAMBON-GG-20/30-PZ/KG-(T).",
          "GAMBON-G-30/40 PZ-KG-(T)",
          "GAMBON-G-30/40-PZ/KG",
          "GAMBON-G-ROSA 12/15 -PZ E/400-GRS",
          "GAMBON-CABEZAS",
          "GAMBON-G-30/40-PZ/K-(B)",
          "GAMBON-GG-20/30-PZ/K (B)",
          "GAMBON-3G-10/20 PZ/K-(B)",
          "LANG-JUMBO-7/10-TIGRE",
          "BOGAVA-CARNE ROTA CANADIENSE-250 G",
          "LANG-G-TIGRE-30/40-PZ/KG-(MAURT)",
          "LANG-P-SALVAJE-70/100-PZ/KG-HUELVA",
          "LANG-GG-30/40-IQF-VANNAMEI",
          "LANG-G-VANAMEI-40/50-E/700 GR",
          "LANG-JUMBO-3/4-(TIGRE)",
          "LANG-G-BANANA-40/60-PZ-KG",
          "LANG-GG-TIGRE-20/30 PZ-KG",
          "PIRULETA LANGOSTINO (MRND)",
          "COLAS ROJOS/BRILLT (1)",
          "LANG-3G-30/40-PZ-(IQF)(VNM)-E/1KG",
          "LANG-JUMBO-10/15-(BMM/BLC)",
          "ROJOS-G-BRILL-13/16-PZ/EST-(AFRICA)",
          "ROJOS-M-BRILL-16/22-PZ/EST-(HUELVA)",
          "ROJOS-G-RASPOSO 15/20 PZ KG",
          "ROJOS-GG-BRILL-10/13-PZ/EST",
          "ROJOS-4G-BRLL-4/6-PZ/EST-(AFRICA)",
          "ROJOS-4G-BRLL-6/8-PZ/EST-(AFRICA)",
          "ROJOS-3G-BRLL-8/10-PZ/EST-(AFRICA)",
          "ROJOS-M-BRILL-16/22-PZ/KG",
          "ROJOS-M-BRILL-5/7 PZ E/400 GR",
          "CABEZAS-ROJOS-BRILL",
          "ROJOS-GG-BRILL-6/8-PZ E/800GR",
          "LANG-GG-COC-18/22 PZ E/800 GR (SALVAJE)",
          "GAMBA SALADA (COCIDAS) E/350",
          "LANG-COC-MARFIL-30/40-PZ/K",
          "BUEY-M-COCIDO-PZA-400/600GR",
          "GAMBA SALADA (COCIDA)  E/800 G",
          "LANG-G-COC-40/60-IQF",
          "LANG-GG-COC-10/15 PZ E/1 KG (SALVAJE)",
          "COLAS LANG.COCIDA-S/PIEL-B/900 G",
          "CANGREJO COCIDO-80/120",
          "BOCAS-(M) COCIDAS-14/16-PZ/KILO-(ANGL)",
          "BOCA/PECHO COCIDO (CLUSTER +150G)",
          "NECORA-CRUDA 4/6 PZ-E/800 GR",
          "GAMBA PEL-10/30-B/700G-(MLT)",
          "COLAS GAMBA-RAYADA-C/P-Nº 1E",
          "COLAS LANG-BLC-BANANA-20/40 C/P",
          "COLAS GAMBA RAYADA C/P-(Nº2)",
          "COLAS LANG-(VN) C/P- 41/50 T/REAL",
          "COLAS LANG-(VN) C/P 21/25",
          "COLAS LANG-(VN) C/P 31/35/40 T/REAL",
          "GAMBA PEL-50/70 B/750 GR-(100% MLT)",
          "COLAS GAMBON-C/P-(Nº 0)",
          "COLAS GAMBON-10/30 -PZ/LB-S/P- (DVN)",
          "COLAS MORUNO/ROJOS-C/P",
          "GAMBA PEL-30/50-B/600G-(SPP)(LG)",
          "GAMBA PEL-70/100-B/225GR (100% MLT)",
          "COLAS GAMBON-TAILON-16/25 B/800 G",
          "GAMBA PEL-M-70/100 -B/250GR",
          "GAMBA PEL-50/70-B/700G-(MLT)",
          "GAMBA PEL-70/90-IQF-(SPP)",
          "GAMBA PEL-10/30 B/750-(100% MLT)",
          "COLAS GAMBON-G-S/P B/400 G.",
          "COLAS GAMBON-S/P 10/30 (IQF) 800 N/SGL",
          "CANGREJO/REAL COCIDO-(CLUSTER 150/250)",
          "CARNE CANGREJO ROJO DE LAS NIEVES",
          "H-CT-TARTA LAM-NATA 1 L",
          "H-CT-TARTA AL WHISKY 1 L",
          "H-HRC-SANDWICH NATA 115 ML",
          "H-HRC-SANDWICH GALLETA REDONDA 90 ML",
          "H-HRC-SANDWICH STRACCIATELLA 150 ML",
          "H-HRC-CONOS NATA TURRON 125 ML",
          "H-HRC-CONO VNLL/CHC 125 ML",
          "H-HRC-CREMA LECHE MERENGADA 2,5L",
          "H-HRC-CREMA TURRON 2,5L",
          "H-HRC-CREMA CAPUCCINO 2,5L",
          "H-CT-SURTIDO DE HELADO SIN AZÚCAR",
          "H-HRC-TRR-SORBETE LIMON 2.5L",
          "H-HRC-TRR- VAINILLA 2.5L",
          "H-HRC-TRR-VAINILLA 5L",
          "H-HRC-TRR-CREMA FRESA 5L",
          "H-HRC-TRR-CREMA FRESA 2.5L",
          "H-HRC-TRR-SORBETE LIMON 5L",
          "H-HRC-TRR-NATA 2.5L",
          "H-HRC-TRR-CHOCOLAT 5L",
          "H-HRC-TRR-CHOCOLAT 2.5L",
          "H-MNQ-TARTA GATÓ ALMENDRAS 500ML",
          "H-MNQ-TARTA QUESO MAHON 500ML",
          "H-CT-VST-VAINILLA/CHOCOLATE 6X120ML",
          "H-CT-VST-NATA CARAMELO 6X120",
          "H-CT-VST-NATA FRESA 6X120",
          "H-DC-VST-TURRON 3X125 ML",
          "H-NW-NATA NUECES T/1 L",
          "H-NW-CHEESECAKE FRESA T/1 L",
          "H-NW-VAINILLA TOCINO CIELO T/1 L",
          "H-NW-BARRITA DE CHOCOLATE T/1 L",
          "H-NW-CHOCO AVELLANA FERRERO T/1 L",
          "H-MNQ-VASITO VAINILLA ELEFANTE 70ML",
          "H-MNQ-STICK DONUT 4x85ML",
          "H-MNQ-STICK PHOSQUITOS 4X75ML",
          "H-CT-NATA MONTADA HELADO TAR.500 ML",
          "H-A-CONOS  VAI/CHOC E/4x125 ML",
          "H-CT-SANDWICH NATA PACK AHORRO 2X115 ML",
          "H-CT-CONOS-NATA-FRESA E/4X125 ML",
          "H-CT-CONOS NATA/TURRON 4x125 ML",
          "H-CT-CONOS NATA/CHOC PACK AHOR 2X125 ML",
          "H-CT-BARRA TURRON 1L",
          "H-CT-BARRA 3 GUSTOS 1L",
          "H-HIELO CUBITOS BOLSA/2 KG",
          "H-A-GRANIZ-CAFE E/4x200ML",
          "H-A-GRA-LECHE MERENGADA 4x200ML",
          "H-A-GRANIZ-HORCH E/4x200 ML",
          "H-A-GRANIZ-LIMON E/4X200 ML",
          "H-HIELO ESCAMAS S/20 KG",
          "H-CT-BOMBON-ALMENDRADO E/6X83 ML",
          "H-HRC-BOMBON CROCANTI 90 ML",
          "H-CT-BOMBON NATA PACK AHORRO 3X80 ML",
          "H-CT-BOMBON-NATA-E/6x80ML",
          "H-A-CASTAÑA-NATA E/4X60 ML",
          "H-A-CASTAÑA-TRUFA E/4X60 ML",
          "H-CT-MINI SURTIDO E/10x51ML",
          "H-IMP-LOTE 5 HELADOS",
          "H-HRC-SURTIDO HELADOS ART. E/4x125M.",
          "H-HRC-MANDARINA ARTESANO E/4x125M.",
          "H-CT-SURTIDO ESPECIAL 6u (540ML)",
          "H-MNQ-CARAMELO SAL IBIZA 500ML",
          "H-DC-MEGATORCIDAS FIESTA 4x100ML",
          "H-NW-POLO HORCHATA E/6X60 ML.",
          "H-DC-KOJAK CEREZA PALO 6X75 ML",
          "H-CT-POLO FRUTA LIMON NARANJA 8X70 ML",
          "H-MNQ-POLO SANDIA 4x80ML",
          "H-CT-LECHERINES E/8x70 ML",
          "H-MNQ-DANONINO FRESA/PLATANO 6x45ML",
          "H-CT-PEPPA-PIG E/4x75ML",
          "H-CT-MINI CONOS NATA/CHOCO 12X30 ML",
          "H-CT-MINI BOMBON 8X60 ML",
          "H-R-BIG BOM NATA TRIPLE SIN 4x110 ML",
          "H-CT-MINI BOMBONES LUXUS S/A 8x60 ML",
          "H-CT-CONO CHOCO VAINILLA S/AZ E/4X125 ML",
          "H-CT-SANDWICH NATA S/A E/6x115 ML",
          "RFR-ALBÓNDIGAS-CER/VAC-15U",
          "RFR-LONGANIZA-BLANCA-325G",
          "RFR-LONGANIZA-ROJA-325G",
          "RFR-PECHUGA-FH-BNSTAR-200G",
          "RFR-BURGUER-BAC/QUESO-2X120G",
          "RFR-BURGUER-BBQ-2X120G",
          "RFR-BURGUER-VACUNO-360G",
          "RFR-BROCH-POLLO-PIM-310GR",
          "RFR-PINCHO-POLLO-ABOD-310G",
          "RFR-ALBÓND-POLLO-420G",
          "RFR-PICADA-POLLO-380G",
          "RFR-HAMBUR-POLLO/QUESO-320G",
          "BAJADA DE PRECIO 2€",
          "BAJADA DE PRECIO 3€",
          "RFR-HAMBUR-POLLO/PAVO-320G",
          "RFR-FLAMENQUÍN-PAVO/QUESO-255G",
          "RFR-NUGGET-PECH-POLLO-BBQ-360G",
          "RFR-PICADA-CERDO-B/500GR",
          "RFR-PICADA-VACUNO-B/500GR",
          "RFR-PINCHOS-CERDO-B/600GR",
          "RFR-PELOTA-COCIDO-280G",
          "BAJADA DE PRECIO 1.50€",
          "RFR-SLZ-SARDINA BOTA 2000G",
          "RFR-LACT-CABRA-TIERNO BARRA VACIO",
          "RFR-LACT-Q.RALLADO GRATINAR EXTRA 1 K",
          "RFR-LACT-CREMA-QUESO-CHEDDAR-2K",
          "RFR-LACT-BARRA EDAM ALEMANA",
          "RFR-SLS-BRAVA BT/2000 GR",
          "RFR-SLS- ALLIOLI BT/2000 GR",
          "RFR-COC-BACON AHUMADO NAT",
          "RFR-AHU-LACON PALETA-S/H-PZ 5 KG-APROX",
          "RFR-COC-LOMO AD/COC PZ",
          "RFR-AHU-BACON PLUS PRECOR 1/2 PIEZAS",
          "RFR-COC-SALCHICHAS KING MOZZARELLA 330G.",
          "RFR-COC-CALLOS CASEROS",
          "RFR-TORREZO-PNT/ADB",
          "RFR-TORREZNO DE SORIA PRC B/230G",
          "RFR-TORREZNO DE SORIA PRC",
          "RFR-CUR-JAM-GR-RVA-DESH",
          "RFR-COC- BLOC PATO CON TROZOS L-1 KG",
          "RFR-TER-RIÑONADA VACA/BUEY 20-22 KG",
          "RFR-MANTEQUILLA S/SAL TARRINA 250 G",
          "RFR-P-BCL-LOMO-GOURMET-ANZL 400/500 G/PZ",
          "RFR-SLZ-ATUN MOJAMA ESPECIAL PRIMERA",
          "RFR-SLZ-DESMIGADO EXTRA 1 KILO",
          "RFR-SLZ-ATUN SORRA LONCHEADA AC.GIRASOL",
          "RFR-SLZ-ANCHOA-FLT-LATA 48G OLIVA S/ ORO",
          "RFR-SLZ-ANCHOA CANTAB.180 GR.GIRASOL ORO",
          "RFR-SLZ-BACALAO COCOCHAS SALMUERA T/500G",
          "RFR-SLZ-HUEVA MARUCA TACO 100GR/APROX",
          "RFR-SLZ-HUEVA ATUN TACO 100GR/APROX",
          "RFR-AHU-ZARZUELA TARRINA ACEITE GIRASOL",
          "RFR-AHU-BACALAO MACERADO TARRINA",
          "RFR-AHU-SALMON AHUMADO TARRINA AC.GIRASO",
          "RFR-SLZ-HUEVA MUJOL 100-120 APX",
          "RFR-SLZ-BONITO LOMOS NTRL (VC) 200-250Gr",
          "RFR-SLZ-BOQUERÓN AJILLO EXTRA 180GR",
          "RFR-SLZ-TRIPACK ANCHOA 120 GR",
          "RFR-SLZ-TRIPACK MIXTO 114 GR",
          "RFR-SLZ-BOQUERÓN EN VINAGRE A/OLIVA 75 G",
          "RFR-SLZ-BOQUERÓN EN VINAGRE A/OLI 195 GR",
          "RFR-SLZ-BANDERILLA 220 GR",
          "RFR-SLZ-SARDINA 145 GR",
          "RFR-SLZ-MOJAMA DE ATUN LONCHAS 200 G",
          "RFR-SLZ-BACALAO PASTA ALBONDIGAS 225 GR",
          "RFR-SLZ-MOJAMA DE ATUN SEGUNDA 200-250Gr",
          "RFR-SLZ-BOQUERON AJ/ B/160GR.",
          "RFR-SLZ-BOQUERÓN AJILLO EXTRA B/360GR",
          "RFR-P-BCL-FILETON 3/4 CURACION 450 GR/PZ",
          "RFR-SLZ-BACALAO LOMO INGLES TACO 100GR",
          "RFR-SLZ-ATUN MOJAMA PRIMERA TACO 150-200",
          "RFR-SLZ-SARDINA SALAZÓN BANDEJA 220GR",
          "RFR-SLZ-SARDINA FILETEADA EST.90 GR.",
          "RFR-SLZ-SARDINA LOMOS AHUMADO 900GR",
          "RFR-SLZ-SARDINA LOMOS GRANDON AHUM.150GR",
          "RFR-SLZ-ATUN SORRA BANDEJA 80GR",
          "RFR-SLZ-BACALAO DESMIGAO BCO.3/4 70GR",
          "RFR-SLZ-CORTEZAS DE BACALAO BOLSA 100GR",
          "RFR-SLZ-POTA LONCHEADA  5 PIMIENTAS 200G",
          "RFR-SLZ-SALPICON POTA TARRINA 300GR AC",
          "RFR-POTA A LA GALLEGA TARRINA 200GR.",
          "RFR-SLZ-HIGADO DE BACALAO (FOIE) 120 G",
          "RFR-SLZ-SARDINA LOMOS AHUMADO 900GR",
          "RFR-SLZ-BACALAO MIGAS 1 KILO",
          "RFR-P-BCL-DESMIGADO-EXTRA B/200GR",
          "RFR-SLZ-ATUN MOJAMA ESPECIAL PRIMERA",
          "RFR-SLZ-ANCHOA TROZOS-T/900GR",
          "RFR-SLZ-ANCHOA F/SERIE ORO-T/360GR",
          "RFR-SLZ-MARUCA HUEVA EXTRA PZ AL VACIO",
          "RFR-SLZ-ATUN HUEVAS EXTRA",
          "RFR-SLZ-MOJAMA ATUN EXTRA",
          "RFR-SLZ-ANCHOA TROZOS-T/900GR",
          "RFR-SALPICON CUBO 1,4 KG",
          "RFR-SLZ-ANCHOA EN SAL (00) 10 KILOS",
          "RFR-SLZ-ANCHOA EN SAL (00) 5 KILOS",
          "RFR-SLZ-BOQUERON (ACE-OLI-AJO-PE)",
          "RFR-SLZ-ANCHOA F/SERIE ORO-T/360GR",
          "RFR-SLZ-ANCHOA GOURMET 00 30 FILETES",
          "RFR-SLZ-BCL-LOMO SUPERIOR- 1,25",
          "RFR-P-BCL-DESMIGADO-EXTRA B/200GR",
          "RFR-TER-ENTRECOT ( DARK RED ) 4 K APROX",
          "RFR-PIZZA-CAMP-4 QUESOS- 365G",
          "RFR-PIZZA-CAMP-CARBONARA-360G",
          "RFR-PIZZA-CAMP-BARBACOA-410G",
          "RFR-PIZZA-CAMP-JAM/QUESO-360G",
          "RFR-MACARRONES TOMATE C/CHORIZO",
          "RFR-KEBAB ROLLING POLLO-PAVO CURRY 160GR",
          "RFR-WRAP ROLLING PIZZA CHEES BAC 160G",
          "RFR-ROLLIG BURRITO CARNE BBQ 160GR",
          "RFR-CUR-JAM-MINI TAQUITOS 2X55GR",
          "RFR-PATATAS BRAVAS 240GR",
          "RFR-TORTILLA-PATATA-500G",
          "RFR-CODILLO DE JAMON PRECORTADO",
          "RFR-CUR-CHORIZO-EXTRA-65G",
          "RFR-CUR-SALCHICHON-EXTRA-65G",
          "RFR-CUR-SALAMI-65G",
          "RFR-CUR-JAM-MEDIAS LONCHAS 50 G",
          "RFR-CUR-JAM-RED-SAL 70 G",
          "RFR-CUR-JAM 80 G",
          "RFR-JAM-RVA 1954 90 G",
          "RFR- FUETEC CRUCE DUROC 170 G",
          "RFR-CAÑA DE LOMO 45 G",
          "RFR-CUR- JAM-GR-RVA-DESH-PLD AL CORTE",
          "RFR-CUR-JAM-GR-RVA-DESH-PLD PZ-5-6KG",
          "RFR-CUR-JAM-GR-RVA-DUROC-PLD PZ-5-6K",
          "RFR-CUR-JAM-GR-RVA-DUROC-PLD AL CORTE",
          "RFR-FIAMBRE YORK SANDWICH TP 300 G",
          "RFR-COC-FIAMBRE YORK MAXI 450 G",
          "RFR-COC-BARRA YORK SANDW",
          "RFR-COC-MORTADELA ACEITUNAS 100 G",
          "RFR-COC-MORTADELA-SICILIANA 250G",
          "RFR-PAVO SANDWICH 270 G",
          "RFR-COC-PECHUGA DE PAVO MINI 380 G",
          "RFR-COC-JAMÓN-EXTRA-150G",
          "RFR-COC-PECHUGA-PAVO-115G",
          "RFR-COC-MORTADELA-PAVO-90G",
          "RFR-COC-MORTADELA-SICIL-100GG",
          "RFR-JAMON COCIDO EXTRA 115 G",
          "RFR-COC-PECH-POLLO-115G",
          "RFR-CUR-JAM-GR-RVA-DESH.",
          "RFR-CUR-JAM-GR-RVA-DESH. AL CORTE",
          "RFR-CUR-PLT-IBR-CEBO-PULIDA PZ-2.5KG",
          "RFR-CUR-JAM-GR-RVA-DESH",
          "RFR-CUR-JAM-GR-RVA-DESH",
          "RFR-CUR-JAM-GR-RVA-DUROC C/PATA 8-9KG",
          "RFR-CUR-JAM-GR-RVA C/PATA 7-8 KG",
          "RFR-LACT-RULO CABRA",
          "RFR-LACT-CRM QUESO CAMEMBERT 8X125 GR RE",
          "RFR-QUESO-LONCH-FUNDIDO 150G",
          "RFR-CREMA QUESO CHEDDAR 125GR",
          "RFR-QUESO UNTAR 200GR",
          "RFR-QUESITO PORCIONES 8U",
          "RFR-LACT-RULO CABRA",
          "RFR-LACT-QUESO SEMICURADO",
          "RFR-LACT-BARRA MANCHEGA",
          "RFR-LACT-QUESO CURADO",
          "RFR-LACT-OVJA-ROMERO-1/2 VC",
          "RFR-LACT-OVEJA-CHILLI-1/2 VC",
          "RFR-LACT-CUR-OVJA",
          "RFR-LACT-OVJA-ARTESANO-LAS MAJADAS",
          "RFR-RALLADO-3 QUESOS-150GR",
          "RFR-RALLADO-POLVO-100GR",
          "RFR-MOZZAR-RALLADA-150GR",
          "SLS-SALSA ALIOLI CHOVI SUAVE 150 G",
          "RFR-ENSALADILLA RUSA C/ATUN 240GR",
          "RFR-ENSALADILLA CANGREJO 240GR",
          "RFR-HUMMUS ARGAL 220GR",
          "RFR-ESCALIVADA-500G",
          "RFR-PIMIENTOS-ASADOS-250GR",
          "RFR-TOMATE RALLADO-2X110GR",
          "RFR-PISTO-TRADICIONAL-250G",
          "RFR-POLLO ASADO FRICHEF 900 G",
          "RFR-GAZPACHO-D.SIMON-1L",
          "RFR-GAZPACHO-D.SIMON-BRICK 330ML PACK 3",
          "SLS-SALSA ALLIOLI 18GR 140 UD",
          "RFR-SALCHICHA KING QUESO 330GR",
          "RFR-SALCH-KING-PAVO 330 GR",
          "RFR-FRANKFURT PACK 3x160 G",
          "RFR-FRANKFURT QUESO PACK 2x140 G",
          "RFR-PECHUGA PAVO BIENESTAR 340GR",
          "RFR-TORTILLA-PATATA-C/CEB-500GR",
          "RFR-TACOS BACON 2X50GR",
          "RFR-SOBRASADA NATURAL 200GR",
          "RFR-BACON LONCHAS 110G+10G GRATIS",
          "HR-REDONDO CHOCOLATE(HR-DT)",
          "HR-CROISSANT MANTEQ. RECTO 60G (LG)",
          "HR-PASTEL BONIATO",
          "HR-PAN BARRAS CONGELADAS (5 UDS)",
          "HR-PAN BARRAS CONGELADAS (3 UDS)",
          "HR-CROISSANT-MRG-PLUS CACAO BLAN (HR-DT)",
          "HR-MINI PIZZA 4 QUESOS(HR-DT)",
          "HR-FARTONS 45G(HR-DT)",
          "HR-PIZZA-POLLO CHEDDAR 1150 G(HR-DT)",
          "HR-ROSCO CABELLO 180G",
          "HR-ROSCO CREMA/AVELLANA 180G",
          "HR-CROISSANT-MTQ-PLUS CREMA PAST (HR-DT)",
          "HR-MILHOJAS MERENGUE BLANCO(HR-DT)",
          "HR-DELICIAS CACAO 250 U (LG)",
          "HR-PETIT PLUS VARIADOS 156 U(HR-DT)",
          "HR-COCAS MINI SURTIDO",
          "HR-CHAPATA HORNO DE PIEDRA-(LG)",
          "HR-MONA PASCUA C/HUEVO",
          "HR-MONA PASCUA BAÑADA CHOCOLATE 120G",
          "HR-MONA PASCUA 100G",
          "HR-MONA BAÑADA CHOCOLATE 100-120 GR",
          "HR-MINI PIZZA BIKINI",
          "HR-PAN-HAMBUR-BRIOCHE-PRECOR-85GR",
          "HR-PAN-BOCADILLO RUSTIQUE 175G (HR-DT)",
          "HR-PAN PAYESA CEREALES 300gr",
          "HR-TAINERA CENTENO 275GR (HD-DT)",
          "HR-PAN DE AGUA 270G (HR-DT)",
          "HR-PAN CANDEAL 330GR (HR-DT)",
          "HR-FLAUTA DE CACAO 60GR (HR-DT)",
          "HR-FLAUTA CREMA 60GR (HR-DT)",
          "HR-PAN VIENA RUSTICA (Andaluz) 160GR",
          "HR-TORTEL CABELLO 110GR (HR-DT)",
          "HR-OREO BOOGUIE 73G(HR-DT)",
          "HR-PAN RUSTICA 285 GR (HR-DT)",
          "HR-PALMIER PETIT VITALCEREALES 30G",
          "HR-PAN MEDIA CAMPESINA 175GR",
          "HR-PAN BARRA  VIENESA 280GR",
          "HR-FOCACCIA TOMATE 100GR (HR-TD)",
          "HR- PAN PANNIER 280GR (HR-DT)",
          "HR-BAGUETTE PANNIER 280GR (HR-DT)",
          "HR-GRAN VITRIUM 250GR (HR-DT)",
          "HR-TRAINERA CEREALES 275GR (HR-DT)",
          "HR-PAN FABIOLA PICOS 275GR-(LG)",
          "HR-EMPANADILLA PISTO",
          "HR-REJILLA ESPINACAS Y RICOTTA 70G(HR-DT",
          "HR-FOCACCIA BARBACOA 205G",
          "HR-FOCACCIA BACON 210G",
          "HR-MINI CRUJIENTE POLLO/QUES/ESP/CHA 30G",
          "HR-MINI CRUJIENTE BACON/QUESO 30G",
          "HR-MINI CRUJIENTE ATUN CON TOMATE 30G",
          "HR-MINI CRUJIENTE ESPINAC/QUES CABRA 30G",
          "HR-MINI CRUJIENTE VARIADOS 30G",
          "HR-EMPANADILLA ATUN Y CEBOLLA (HR-DT)",
          "HR-MINI PIZZA-PEPERONI 16UDS(HR-DT)",
          "HR-PIZZA CHAMPIÑON/BACON 1200 G(HR-DT)",
          "HR-PIZZA CUATRO QUESOS 1200 G(HR-DT)",
          "HR-MINI CROISSANT CHOCO (HR-DT)",
          "HR-PIZZA VEGETAL 1200 G(HR-DT)",
          "HR-PIZZA YORK Y QUESO 1200 G(HR-DT)",
          "HR-CANAPES TRADICION 54X10G",
          "HR-PETIT FOUR TRADICION 48X14G",
          "HR-PASTEL DE MANZANA 175GR(HR-DT)",
          "HR-PANINI ATUN(HR-DT)",
          "HR-MINI PASTELITOS SURTIDOS 56ux30g",
          "HR-HOOPS CREMA AZUCARADO",
          "HR-PANINI 4 QUESOS(HR-DT)",
          "HR-MAXI HOOPS AZUCARADO 70GR(HR-DT)",
          "HR-PEPITO CHOCO AZUCARADO(HR-DT)",
          "HR-PANINI YORK(HR-DT)",
          "HR-PEPITO CREMA REB AZUCAR 110 GR(HR-DT)",
          "HR-TRENZA DULCE LECHE-PISTACHO 500 GR",
          "HR-TRENZA NUECES PASAS 500 GR",
          "HR-PIONONO CREMA TIENDA (20U)",
          "HR-TRENZA NARANJA-CACAO 500 GR",
          "HR-PAÑUELO FRANKFURT 140G",
          "HR-MINI CROISSANT BAÑADOS CHOCO(HR-DT)",
          "HR-PEPITO CARNE 85G(HR-DT)",
          "HR-MINI TRENZA CHOCOLATE 85 GR(HR-DT)",
          "HR-NAPOLITANA CHOCOLATE 110 GR",
          "HR-EMPANADILLA ARG QUESO CABRA (HR-DT)",
          "HR-EMPANADILLA ARG POLLO (HR-DT)",
          "HR-EMPANADA DE ATÚN (HR-DT)",
          "HR-PAN RUSTIQUE PLUS (HR-DT)",
          "HR-CROISSANT FRANKFURT (HR-DT)",
          "HR-TRIANGULO 4 QUESOS (HR-DT)",
          "HR- TRIANGULO ESPINACAS (HR-DT)",
          "HR-NAPOLITANA JAM/QUESO 110 GR",
          "HR-CROISSANT (CRV) 85 GR",
          "HR-ENSAIMADA GRANDE 90 GR(HR-DT)",
          "HR-EMPANADILLA ATUN",
          "HR-PAN ROMBO 60G.",
          "HR-PAN CAMPERA-500 GRS (HR-DT)",
          "HR-PAN BARRA INTEGRAL 240 GR.(LG)",
          "HR-PAN BARRA/GALLEGA-260/GRS",
          "HR-PAN BAGUETTE-SIN/GLUTEN 100G (HR-DT)",
          "AH-ENSALADA AHUMADOS T-500GR",
          "AH-SALMON AHUMADO S/80 GR/UND",
          "TARTAR DE SALMÓN/AGUACATE 100G",
          "AH-SALMÓN-AHUMADO-PLANCHA-PRECO",
          "PL-P-GRATEN DE PATATA 4X120G",
          "PL-P-TORT-PATT/CEB-E/800 GR",
          "PL-P-TORT-PATT/CEB-E/1500 GR",
          "PL-S/P-CODILLO COCIDO (VC)",
          "PL-P-CARRILL-TER- C/SALSA E/380 G",
          "PL-P-ALBÓNDIGAS-CASERAS-SALSA-B/300GR",
          "PL-P-SECRETO CER DUROC ROMERO B/1KG",
          "PL-P-SECRETO CER DUROC ROMERO B/250 G",
          "PL-P-CARRILL-TER-C/SALSA 700/800 G",
          "PL-P-CARRILL-CERDO-C/SALSA 220 GR",
          "PL-P-RABO DE TORO",
          "PL-P-OSSOBUCO TERNERA",
          "PL-P-POLLO-ASADO PZ-700/1200G-APROX",
          "PL-P-SECRETO CER IBERICO CONF. 200/220GR",
          "PL-P-ALITAS DE POLLO ASADAS B/1KG",
          "PL-P-CARRILL-CERDO- C/SALSA E/300 GR",
          "PL-P-CARRILL-TER- C/SALSA E/350 GR",
          "PL-P-RABO DE TORO  450 G",
          "PL-P-SOLOMILL-CERDO  C/SALSA E/300GR",
          "PL-P-ESTOFADO TERNERA VINO TINTO B/350 G",
          "PL-P-CARRILLADA CERDO FINAS HIERBAS 220G",
          "PL-P-CODILLO DE JAMON FINAS HIERBAS 240G",
          "PL-P-OSSOBUCO TERNERA VINO TINTO 425G",
          "PL-P-MANITAS DE CERDO COCINADAS 380 G",
          "PL-P-JARRETE-CORD-C/SALSA E/350 GR",
          "SIB-CANEL VEGANO XXL",
          "PL-COSTILLAS-(BBC)-(VC) 550 GR",
          "PL-P-CER-JAMONCITOS DE COCHINILLO ASADO",
          "PL-P-CALDO-MARISC-CASERO-500",
          "PL-P-MAGRO-CASERO-C/TOMATE-B/300GR",
          "FUMET DE MARISCO B/1 LITRO",
          "PL-P-CARACOL SLS. TRAD. B/300 GR",
          "VIEIRAS-RELL/RAPE Y GAMBAS 90 GR",
          "VIEIRAS-RELL/VIEIRAS-PREMIUM 90GR",
          "PL-P-TATIN DE VERDURAS 80 G",
          "PL-P-MUSELINA DE  ESPARRAGOS (2x70 G)",
          "CREMA BOGAVANTE 1L",
          "BUEY RELLENO 180 G",
          "PL-P-CORD-ROTI LECHAL ASADO",
          "PL-P-CER-ROTI COCHINILLO ASADO",
          "HR-ROLLITO DE NARANJA E/250 GR",
          "CD-MANTECADOS CASEROS B/200G",
          "CD-CORTADILLOS CABELLO DE ANGEL B/130",
          "CD-NEVADITOS AL CACAO B/180 G",
          "DC-FIGURITAS MAZAPAN 140 G",
          "DC-HOJALDRADAS B/150 G",
          "CD-ROSCOS DE VINO B/200 G",
          "DC-TRUFAS AL CACAO 100 G",
          "HV-HUEVOS-CAMPERO M/L 6UD",
          "HV-HUEVOS DE CODORNIZ 12 UND",
          "HV-HUEVOS L ESTUCHE 12 u.",
          "HV-HUEVOS L ESTUCHE 12 u.",
          "HV-HUEVOS XL ESTUCHE 12 u.",
          "HV-HUEVOS M  ESTUCHE DE 12 u.",
          "HUEVOS XL CAMPERO 6 UNIDADES",
          "APF-PISTACHO TOST S/SAL 200 G",
          "APF-COCKTAIL PICANTE 800 G",
          "APF-AVELLANA TOST. 125 G",
          "FS-MAIZ GIGANTE CHOCOLATE 90GR",
          "FS-ALMENDRA REPELADA CRUDA  250 G",
          "FS-CACAHUETE CASC/TOST 2GRA ALBUFER170G",
          "FS-KIKOS TIERNOS ALBUFERA 125G",
          "FS-ALMENDRA COMUNA FRITA ALBUFERA 125 G",
          "FS-CACAHUETE MOND FRITO PIEL ALBUF150 G",
          "FS-COCKTAIL ENSALADA ALBUFERA 150 G",
          "FS-CACAHUETE REP/FRITO ALBUFERA 150 G",
          "FS-NUECES PELADAS ALBUFERA 125 G",
          "FS-PISTACHO TOSTADO ALBUFERA 125 G",
          "FS-COCKTAIL SABROSO ALBUFERA 250 G",
          "FS-COCKTAIL PICANTE ALBUFERA 200 G",
          "FS-CACAHUETE FRITO MIEL ALBUFERA 125 G",
          "FS-PIPA TOSTADA CON SAL ALBUFERA 200 G",
          "FS-ANACARDO-CRUDO- 125 G",
          "FS-PASA SULTANA 125 GR",
          "FS-NUEZ CASCARA B/600 GR",
          "FS-COCKTAIL CRUDO NATURAL 125GR",
          "FS-COCKTAIL NATURAL SALUDABLE 125GR",
          "FS-MISTERCORN-ORIGINAL",
          "AP-MISTERCORN MIX5",
          "FS-PIPAS-G-TIJUANA B/100G",
          "FS-PIPONAZO-ORIG B/95G",
          "FS-DATILES SIN HUESO B/250 GR",
          "FS-CIRUELAS SIN HUESO B/250 GR",
          "FS-OREJONES B/250 GR",
          "FS-HIGOS NACIONALES 250 GR",
          "CF-VASO MOCAY CAFFE LATE 200 ML",
          "CF-VASO MOCAY CAPPUCINO 200 ML",
          "CD-COFFE-LATTE",
          "CD-COFFE-CAPUCCINNO",
          "CSV-P/P-COCIDO MADRID LITORAL 440 GR",
          "CSV-CALLOS C/GARBANZOS 1/2 KG",
          "CSV-CALLOS A LA MADRILEÑA 1/2 KG",
          "CSV-ALBONDIGAS C/POLLO 1/2 KG",
          "CSV-ALBONDIGAS C/GUISANTES 1/2 KG",
          "CSV-FABADA ASTURIANA 1/2 KG",
          "CSV-P/P-JUDIAS C/CHORIZO 1/2 KG",
          "CSV-P/P-LENTEJAS C/CHORIZO 1/2 KG",
          "CSV-COCIDO HUERTANO 1/2 KG",
          "CSV-P/P-FABADA ASTURIANA LITORAL 435 GR",
          "CSV-P/P-CALLOS MADRILEÑA LITORAL 380 GR",
          "CSV-P/P-LENTEJAS RIOJANA LITORAL 430 GR",
          "CSV-V-ESPAR-BLCO-PUNTAS T/212 GR.",
          "CSV-V-JUDIA VERDE ANCHA T/720",
          "SLS-PISTO CELORRIO 3K",
          "CSV-D-SIROPE FRESA",
          "CSV-V-PISTO-VERDURAS-300G",
          "CSV-V-ZANAHORIA RALLADA T/370 G.",
          "CSV-V-CEBOLLA FRITA HIDA 400 G",
          "PST-FIDEO GORDO Nº 4  ROMERO 500 G",
          "PST-FIDEO Nº 0 GALLO  250 G",
          "PST-PLUMAS Nº 5  ROMERO 500 G",
          "PST-SPAGUETTI Nº 3 GALLO 250 G.",
          "PST-FIDEUA GALLO 250 G",
          "PST-FIDEO CABELLO ROMERO 500 G",
          "PST-FIDEUA ROMERO 500 G",
          "PST-TORTA GAZPACHO TROZOS PASTOR 180 G",
          "PST-FIDEO Nº 2  GALLO 250 G",
          "PST-SEMOLA GALLO 250GR",
          "PST-LASAÑA PAVO(CASTILLO) 18 U.",
          "PST-TIBURON Nº 0 GALLO 250 G",
          "PST-FIDEOS Nº 1 GALLO 250 G",
          "PST-FIDEOS Nº 4 GALLO 250 G",
          "PST-HELICES VEGETAL  GALLO 450 G",
          "PST-PLUMAS VEGETAL GALLO 250 G",
          "PST-FIDEO-C-000 GALLO 250 G",
          "PST-TALLARIN GALLO 250 G",
          "CSV-CD- CONFITURA CIRUELA HERO 330GR",
          "CSV-CD- CONFITURA FRAMBUESA HERO 345GR",
          "CD-CONFITURA ARANDANOS",
          "CSV-CD-CONFITURA TOMATE HERO 345GR",
          "CSV-CD-CONFITURA NARANJA AMARGA HERO 345",
          "CSV-CD-CONFITURA FRESA HERO 330GR",
          "CSV-CD-CONFITURA MELOCOTON HERO 345GR",
          "SLS- BOLOÑESA GALLO 350 GR.",
          "SLS-NAPOLITANA GALLO  350G",
          "CSV-SLS-BOLOÑESA-420G",
          "SLS-KETCHUP PLUS CHOVI 450 G",
          "SLS-KETCHUP  PET/300GRS",
          "SLS-BARBACOA CHOVI 300 G",
          "SLS-BARBACOA P/300ML",
          "SLS-YOGUR CHOVI 250 G",
          "SLS-KETCHUP ALTEZA PET/340G",
          "SLS-SALSA FINA ALTEZA 450 ML",
          "SLS-ALLIOLI BOCABAJO ALTEZA 300G",
          "SLS-ALI-OLIVA T/225ML",
          "SLS-BRAVA CHOVI PET/265 ML",
          "SLS-AJONESA CHOVI PET/250 ML",
          "SLS-COCKTAIL YBARRA 250 ML",
          "SLS-SALSA FINA CASERA CALVE 430 ML",
          "SLS-MAYONESA HEINZ 480 G",
          "SLS-SALSA SOJA ALTEZA 200 ML",
          "SLS-SOJA-KIKKOMAN/1L",
          "SLS-MOSTAZA HEINZ PET 240GR",
          "SLS-KETCHUP HEINZ PET 342GR",
          "SLS-MAYONESA HEINZ PET 220G",
          "SLS-MAYONESA LIGERESA T/450GR",
          "SLS-AGRIDULCE CHOVI 285 G",
          "SLS-SALSA ALIOLI CHOVI MORTERO 180 G",
          "SLS-CESAR CHOVI 250 G",
          "SLS-MOSTAZA CHOVI AMARILLA 300 G",
          "ESP-CRMCTA-IBERIAN-MIX",
          "ESP-CRMCTA-BBQ",
          "ESP-CRMCTA-SAL-HIERBAS",
          "ESP-CRMCTA-SAL-NEGRA",
          "ESP-CRMCTA-T-PIMIENTA NEGRA 190 G",
          "ESP-CRMCTA-T-SAL CON TRUFA 360 G",
          "ESP-CRMCTA-T-SAL MARINA MEDITERRANEO 360",
          "ESP-CRMCTA-T-SAL ROSA HIMALAYA 370 G",
          "ESP-CRMCTA-T-SAL PICANTE 320 G",
          "ESP-CRMCTA-SHAKER-SOUR/CREAM",
          "ESP-CRMCTA-SHAKER-QUESO",
          "ESP-CRMCTA-SHAKER-BACON",
          "ESP-CRMCTA-SHAKER-VINEG/PAPRIKA",
          "ESP-CRMCTA-SAZ-BBQ-HORNO",
          "ESP-CRMCTA-SAZ-COSTILLAS/CURRY",
          "ESP-CRMCTA-SAZ-POLLO/TERIYAKI",
          "ESP-CRMCTA-POP-ENSALADA 7 GR",
          "ESP-CRMCTA-S-TACOS 8GR.",
          "ESP-CRMCTA-POP-POLLO ASADO 7 GR",
          "ESP-CRMCTA-POP-TACOS Y FAJITAS 15 GR",
          "ESP-CRMCTA-S-ASIA WOK 8GR.",
          "ESP-CRMCTA-SAL-ROSA-MESA",
          "ESP-CRMCTA-T-AJO EN POLVO 40 GR",
          "ESP-CRMCTA-T-ALBAHACA 10 GR",
          "ESP-CRMCTA-T-ANIS EN GRANO 20 GR",
          "ESP-CRMCTA-T-CANELA EN RAMA CEYLAN 3 UD",
          "ESP-CRMCTA-T-CANELA MOLIDA 25 GR",
          "ESP-CRMCTA-T-CAYENA GUINDILLA 10 GR",
          "ESP-CRMCTA-T-CLAVO EN GRANO 18 GR",
          "ESP-CRMCTA-T-COLORANTE ALIMENT. 40 GR",
          "ESP-CRMCTA-T-COMINO EN GRANO 20 GR",
          "ESP-CRMCTA-T-COMINO MOLIDO 30 GR",
          "ESP-CRMCTA-T-CURCUMA 31 GR",
          "ESP-CRMCTA-T-CURRY 26 GR",
          "ESP-CRMCTA-T-ENELDO 10 GR",
          "ESP-CRMCTA-T-HIERBABUENA 11 GR",
          "ESP-CRMCTA-T-HIERBAS PROVENZ. 10 GR",
          "ESP-CRMCTA-T-JENGIBRE MOLIDO 25 GR",
          "ESP-CRMCTA-T-NUEZ MOSC. MOLIDA 30 GR",
          "ESP-CRMCTA-T-OREGANO 5 GR",
          "ESP-CRMCTA-T-PEREJIL 8 GR",
          "ESP-CRMCTA-T-PIMENTON DULCE 30 GR",
          "ESP-CRMCTA-T-PIMENTON PICANTE 30 GR",
          "ESP-CRMCTA-T-PIMIENTA B. MOLIDA 32 GR",
          "ESP-CRMCTA-T-PIMIENTA N. GRANO 32 GR",
          "ESP-CRMCTA-T-PIMIENTA N. MOLIDA 32 GR",
          "ESP-CRMCTA-T-ROMERO 17 GR",
          "ESP-CRMCTA-T-TOMILLO 10 GR",
          "ESP-CRMCTA-SAZ-POLLO 47 GR",
          "ESP-CRMCTA-SAZ-AJO PEREJIL 29 GR",
          "ESP-CRMCTA-SAZ-BBQ AMERICANO 39 GR",
          "ESP-CRMCTA-MOL-PIMIENTA NEGRA 50 GR",
          "ESP-CRMCTA-MOL-MIX 4 PIMIENTAS 40 GR",
          "ESP-CRMCTA-MOL-SAL ROSA HIMALAYA 110 GR",
          "ESP-CRMCTA-MOL-PASTA TOSCANA 35 GR",
          "ESP-CRMCTA-AZAF-HEBRA 0,2 GR",
          "ESP-CRMCTA-S-CARNE 8GR.",
          "ESP-CRMCTA-AZAF-MOLIDO SOBRES 0,2 GR",
          "ESP-CRMCTA-PAELLERO R-15 20GR",
          "ESP-CRMCTA-H-LAUREL HOJAS 8 GR",
          "ESP-CRMCTA-H-ÑORAS 25 GR",
          "ESP-CRMCTA-BICARBONATO 200 GR",
          "ESP-CRMCTA-CKTL-ESPECIAS GINTONIC 16 GR",
          "ESP-CRMCTA-CKTL-GINFUSION 9S 25,5 GR",
          "ESP-CRMCTA-LATA-PIMENTON DULCE 75 GR",
          "CRP-CREMA BECHAMEL CASERA 500ML",
          "SLS-MAHONESA CB 3600",
          "SLS-KETCHUP MONODOSIS 10GR 252 UDS",
          "SLS-MAYONESA  MONODOSIS 10 GR 252 UDS",
          "VNG-VINAGRE CJ/168 UND 8ML",
          "VNG-VINAGRE DISP/150 UND 8ML",
          "ESP-AZAFRAN HEBRA CAJA B/0,25 GR",
          "ESP-PIÑONES NACIONALES T/20 GR",
          "ESP-ROMERO T/17 GR",
          "ESP-PIMIENTA NEGRA GRANO T/25 GR",
          "ESP-PIMIENTA NEGRA MOLIDA T/25 GR",
          "ESP-AJO MOLIDO T/27 GR",
          "ESP-AJO Y PEREJIL T/15 GR",
          "ESP-CANELA MOLIDA T/18 GR",
          "ESP-CANELA RAMA CEYLAN 2 UD",
          "ESP-TOMILLO HOJA T/10 GR",
          "ESP-GUINDILLAS RAMA (OJO PAJARO) T/9 GR",
          "ESP-COLORANTE ALIMENTARIO T/33 GR",
          "ESP-COMINO MOLIDO T/23 GR",
          "ESP-HIERBAS PROVENZALES T/10 GR",
          "ESP-OREGANO HOJA T/5 GR",
          "ESP-PEREJIL HOJA T/8 GR",
          "ESP-PIMENTON DULCE T/25 GR",
          "ESP-PIMENTON PICANTE T/25 GR",
          "ESP-LAUREL C/12 GR",
          "ESP-ÑORAS SECAS C/16 GR",
          "HA-HARINA REBOZAR YOLANDA 500 G",
          "LGS-LENTEJA PARDINA B/500 G.",
          "PST-FIDEO-CABELLIN Nº0 - 5 KG",
          "PST-FIDEOS-GRUESOS Nº4 - 5 KG",
          "PST-PIÑONES GALLO 250 G",
          "PST-ESTRELLITAS GALLO 250 G",
          "PST-FIDEO-ENTREFINO-Nº1-5KG",
          "PST-MACARRON 5 KG",
          "PST-ESPAGUETTI 5KG",
          "V-TT-CRZ- VALENCIA B.TURIS 75 CL",
          "V-TT-CRZ-RAMON BILBAO 75 CL",
          "V-TT-CRZ- RIOJA COTO 75 CL",
          "BA-VERMOUTH MARTINI ROJO 1 L.",
          "BA-VERMOUTH MARTINI BLANCO 1L",
          "V-TT-RSV-CASTILLO DE LIRIA 75 CL",
          "V-TT-G/RV- CARIÑENA MARQUES DE CARANO 75",
          "V-TT-RSV-LA MANCHA ESTOLA 2017 75 CL",
          "V-BLCO-EL MIRACLE Nº3 BLANCO 75 CL",
          "V-BLCO- ALICANTE MARINA ALTA 75CL",
          "V-BLCO- AVENTO 75 CL",
          "V-BLCO- NEBLA-CHARDONNAY 75CL",
          "V-BLCO-SANDARA 75CL",
          "V-BLCO-PLUVIUM 75 CL",
          "V-BLCO-TURBIO 750ML",
          "V-VINO BLANCO DON GARCIA BRICK 1L",
          "V-BLCO-BLUE BARONIA 750 ML",
          "V-BLCO- VALENCIA B.TURIS 750 ML",
          "V-BLCO- RUEDA VERDEJO 750ML",
          "V-BLCO- VALENCIA VIÑAMALATA 750 ML",
          "V-BLCO- RIBEIRO CASA DA BARCA75CL",
          "AG-AGUA FONT-VELLA 1,5 L",
          "AG-AGUA LANJARON 1,5 L",
          "AG-AGUA SOLAN DE CABRAS 1,5 L",
          "AG-AGUA BEZOYA PET 1.5 L",
          "AG-AGUA BEZOYA 5 L",
          "AG-AGUA BEZOYA SPORT BIBERON 330ML R6",
          "AG-AGUA AQUA DONNA / MONSSALUS 5L",
          "AG-AGUA AQUA DONNA / MONSSALUS 1.5L",
          "AG-AGUA AQUA DONNA 0.5L",
          "AG-AGUA MINERAL LA SERRETA 6 X1,5 L",
          "AG-AGUA MINERAL LA SERRETA 0,5 L",
          "AG-AGUA VICHY CATALAN 1 L",
          "AP-COCKTAIL SNACKS ASPIL 225 G",
          "AP-CORTEZA JAMON ALBUFERA 100 G",
          "AP-JUMPERS MANTEQUILLA B/100 GR",
          "AP-DORITOS TEX MEX 90 G",
          "AP-TORREZNO NATURAL E/140 GR",
          "AP-JUMPERS COCKTAIL MIX 100G",
          "AP-POPIPAS MICROONDAS SAL 100G",
          "AP-POMBEAR-60G",
          "STICKS-KETCHUP 120 G",
          "AP-GUBLINS-BBQ B/120G.",
          "AP-TIRAS BACON 120GR",
          "AP-GREFUTUBO MANT.95G",
          "AP-NATUCHIPS BBQ 65GR.",
          "AP-NATUCHIPS TOM-QU-OREG.65GR",
          "AP-TAKIS FUEGO B/140 GR",
          "AP-TAKIS QUESO B/140 GR",
          "LGC-LENTEJA COCIDA EXTRA T/580 G",
          "LGC-ALUBIA COCIDA EXT. CELORRIO T/580 G",
          "LGC-GARBANZO COC. EXT.CELORRIO T/580 G",
          "LGC-ALUBIA COCIDA  BCA. LUENGO T/570 G.",
          "LGC-LENTEJA COCIDA LUENGO T/570G",
          "LGC-GARBANZO COC. LUENGO T/570 G.",
          "V-RS- PEÑASCAL 75 CL",
          "V-RS- LAMBRUSCO DICAPRI 75 CL",
          "V-RS-LAMBRUSCO--75CL",
          "V-RS-SANDARA 75CL",
          "V-RS-CASTILLO DE LIRIA 75 CL",
          "V-MOSCATEL-MISTELA B.TURIS 75 CL",
          "V-TT-RSV-VIÑA ARDANZA RIOJA 2016",
          "V-TT-CRZ-MATARROMERA 2019",
          "V-TT-DON GARCIA BRICK 1L",
          "CSV-BERBERECHOS-NAT-55/60 OL-120",
          "CSV-NAVAJAS-NAT-6/8-RR-120",
          "CSV-HUEVAS-BACALAO-ROD-OL/120",
          "CSV-MELVA-CANUTERA-ANDALUCIA-RR/125",
          "CSV-P-BERBERECHOS 60/80 OL-120",
          "CSV-P- ATUN ACEITE GIRASOL RO-160",
          "CSV-P-ATUN TROZOS 70% BOLSA 1KG",
          "CSV-P-NAVAJAS CHILENAS OL-120",
          "CSV-P-PULPO TACO MARINERA OL-120",
          "CSV-P-CHIPIRONES RELL.AC/OL-120",
          "CSV-P-CHIPIRONES EN SU TINTA -120",
          "CSV-P-MEJILLON SALSA VIEIRA OL-120",
          "CSV-P-MEJILLON ESCAB.PICANTE OL-120",
          "CSV-P-PULPO TACO EN AC/OL-120",
          "CSV-P-PULPO TACOS AL AJILLO OL-120",
          "CSV-P-MEJILLON 8/12 ESCAB.ORBE OL-120",
          "CSV-P-MEJILLON 14/18 ESCAB. ORBE OL-120",
          "CSV-P-ALMEJAS AL NATURAL ORBE OL-120",
          "CSV-P-MEJILLON 6/8 ESCAB.ORBE OL-120",
          "CSV-P-ZAMBURIÑAS SALSA VIEIRA OL-120 ORB",
          "CSV-P-GULAS AJILLO OL-120 ORBE",
          "CSV-PULPO-SALSA-GALLEGA-OL/120",
          "CSV-P-CABALLA AC/VE RR-125",
          "CSV-P-MELVA AC/OL CABO PEÑAS OL120",
          "CSV-P-CABALLA FILETES TOMATE RR-125",
          "CSV-P-CABALLITAS AC/GI RR-125",
          "VNG- VINAGRE BALSAMICO ECO SIBARI",
          "DS-PAN HAMBURGUESA XL 2 UND",
          "BIMBO INTEGRAL B/480 GR",
          "REBANADA ARTESANA B/550 GR",
          "CD-PAN HAMBURGUESA CODAN 2 UND",
          "CD-PAN DE MOLDE  500G",
          "PAN BLANCO SIN CORTEZA B/450 GR (16 REB)",
          "PAN BLANCO SANDWICH B/430 GR",
          "HOT DOG 4 UD",
          "MAXI BURGUER 4 UD B/300 GR",
          "BAGELS-BLANCO-CLASICO-4U",
          "BAGELS-SEMILLAS-4U",
          "RAPIDITAS-8U",
          "PAN PITA 510GR",
          "GLL- MY COFFE BISCUIT",
          "GB-GALLETAS PARA HELADO 35 G",
          "ACT-SANSA DE OLIVA 5 L",
          "ACT-SANSA DE OLIVA 1L",
          "ACT-V/RF- FRITURA 10 LITROS",
          "AC-MANZANILLA  C/H  SABOR ANCHOA",
          "AC-ACEITUNAS VERDES C/H GAZPACHA",
          "AC-ACEITUNAS VERDES C/H ABUELA",
          "AC-RELLENA ANCHOA  GOURMET",
          "AC-RELLENAS  P-3 X50 G.",
          "AC-COCKTAIL ACEITUNAS 150 G.",
          "AC-RELLENAS ANCHOA GALON 1500 G",
          "AC-E-COCKTAIL EXTRA",
          "AC-ACEITUNAS JAEN PARTIDAS ALIÑADAS",
          "AC-RELLENA JALAPEÑO GOURMET 150G",
          "AC-RELLENA QUESO AZUL GOURMET 150G",
          "AC-RELLENA NARANJA GOURMET 150G",
          "AC-RELLENA TRUFA  GOURMET",
          "AC-RELLENA PIMIENTO GOURMET.",
          "AC-E-ACEITUNAS RELLENAS CON PEPINILLOS.",
          "AC-ACEITUNAS MORADA RAJADA ALIÑADA.",
          "AC-NEGRA DESHUESADA GOURMET",
          "AC-CHUPADEDOS DESHUESADA 160G",
          "AC-MANZANILLA CHUPADEDOS ALIÑADA",
          "CSV-V-MAIZ DULCE GRANO P-3 150 GR",
          "CSV-V-CHAMPIÑON LAMINADO T/355",
          "CSV-V-ESPAR-BLCO 6/9 T/370 GR",
          "CSV-V- ZANAHORIA RALLADA 3KG",
          "CSV-V-ESPAR-BLCO-CORTO 8/12  T/212 GR",
          "CSV-V-PIM-PIQUILLO ENTERO",
          "CSV-V-PATATA ENTERA FRASCO 425GR",
          "CSV-V-JUDIA FINA FRASCO 360GR",
          "CSV-V-JUDIA ANCHA FRASCO 360GR",
          "CSV-V-APIO RALLADO ALSUR FRASCO 180GR",
          "CSV-V-ACELGA ALSUR FRASCO 425GR",
          "CSV-V-ESPINACA ALSUR FRASCO 425GR",
          "CSV-V-CARDO ALSUR FRASCO 400GR",
          "CSV-V-HABAS FRITAS MINIBABY ALSUR T/225G",
          "LGS-ALUBIA BLANCA FERRADURA 500G",
          "LGS-LENTEJA USA RAPIDA FERRADURA 500 GR",
          "LGS-LENTEJA PARDINA FERRADURA 500 GR.",
          "LGS-GARBANZO LECHOSO SECO FERRADURA 500G",
          "PP-SODAS EL VESUBIO",
          "CF-CAFÉ MOL. DESCAFEINADO BONKA  250 G",
          "CF-CAFÉ-MOLIDO-NATURAL 250G",
          "CF-CAFÉ-DESCAF-250G",
          "CF-CAFE-MOLIDO-MEZCLA 250G",
          "CF-CAFE MOL. NATURAL BONKA 250 G",
          "CF-CAFE MOL. MEZCLA 70/30 BONKA 250 G",
          "CF- SOLUBLE NATURAL NESCAFE 200 G",
          "CF-SOLUBLE DESCAFEINADO NESCAFE 200 G",
          "CF-CAFE SOLUBLE DESCAFEINAD NESCAFE  P10",
          "INF-TILA POMPADOUR 10 U",
          "INF-MANZANILLA POMPADOUR 10 U",
          "INF-TÉ-VERDE",
          "INF-MANZANILLA",
          "INF-POLEO-MENTA",
          "INF-TILA",
          "INF-COLA-CABALLO",
          "INF-BUENAS-NOCHES",
          "TÉ-HIERBAS-NATURALES",
          "INF-POLEO MENTA POMPADOUR 10 U",
          "CVZ-ESTRELLA GAL TOSTADA 0.0-6x25CL",
          "CVZ-AMSTEL 0,0 PK-6x25 CL",
          "CVZ-SAN MIGUEL 0.0 6x25CL",
          "RF-COCA COLA ZERO L/33 CL",
          "RF-COCA COLA ZERO ZERO L/33 CL",
          "RF-COCA COLA S/CAF. L/33 CL (NC)",
          "RF-COCA COLA L/33 CL (UE)",
          "RF-PEPSI L/33 CL",
          "RF-COCA COLA L/33 CL",
          "RF-COCA COLA ZERO L/33 CL (UE)",
          "RF-FANTA LIMON L/33 CL",
          "RF-FANTA NARANJA L/33 CL",
          "RF-FANTA LIMON 2 L",
          "RF-FANTA NARANJA 2 L",
          "RF-TRINA LIMON 1.5L",
          "RF-TRINA NARANJA 1.5L",
          "RF-TROPICAL S/GAS ENJOY 1.5L",
          "RF-FRESA-S/GAS ENJOY 1.5L",
          "RF-BEBIDAS FRESCAS 0.50€",
          "RF-TONICA SCHWEPPES 1 L",
          "RF-SCHWEPPES LIMON L/33CL",
          "RF-TONICA SCHWEPPES L/33 CL",
          "RF-MONSTER GREEN ENERGETICO L/50 CL",
          "RF-RED BULL BEB. ENERGETICA 25 CL",
          "RF-AQUARIUS NARANJA L/33 CL",
          "RF-AQUARIUS LIMON 1.5 L",
          "RF-AQUARIUS NARANJA 1,5 L",
          "RF-AQUARIUS NATURAL L/33 CL",
          "V-TT- VERANO CLASICO CASERA 1.5 L",
          "V-TT- VERANO LIMON CASERA L/33CL",
          "V-TT-VERANO CLASICO LA CASERA L/33 CL",
          "V-TT-VERANO 0,0 LA CASERA L/33 CL",
          "V-TT-VERANO S/ALC CLASICO B/1.5L",
          "V-TT-VERANO S/ALC LIMON B/1.5L",
          "V-TT-VERANO CLASICO B/1,5 L",
          "V-TT-VERANO LIMON B/1,5 L",
          "V-SANGRIA D.SIMON B/1.5L",
          "CSV-P/P-GAZPACHO ANDALUZ MOLINERA 1L",
          "CSV-BONITO-FRESCO-AC/OL-225GR",
          "CSV-P-BONITO DEL NORTE AC/OL OL-120",
          "CSV-P-ATUN EN TOMATE PACK 3U",
          "CSV-P-ATUN AC/GI RO85 SAGRES P3",
          "CSV-P-ATUN CLARO VENTRESCA AC/OL120 ORBE",
          "CSV-P-ATUN CLARO CALVO AC/VE P-3",
          "CSV-P-ATUN AC/GI RO85 FENICIA P3",
          "CSV-P-ATUN CLARO B/ AC/VE DIAMI P3X80GR",
          "CSV-P-ATUN MIGAS BOLSA 1KG",
          "CH-CHOCOLATE PURO ALMNDRA VALOR S/AZ.150",
          "HUEVO CHOCOLATE ALTEZA PACK 3",
          "CH-CHOCOLATE VALOR PURO ALMENDRA 250G",
          "CH-CHOCOLATE LECHE S/AZUCAR VALOR 100 G",
          "CH-CHOCO EXTRAFINO C/LECHE NESTLE 125G",
          "CH-CHOCOLATE PURO VALOR 300 G",
          "CH-CHOCO BLANCO MILKYBAR NESTLE 100G",
          "CV-SIDRA EL GAITERO N-1",
          "CSV-V-TOMATE ENTER PELAD. LT/1/2K BELTOR",
          "CSV-V-TOMATE TRIT. BELTORO LT/1K",
          "CSV-V-TOMATE TRIT. BELTORO LT/1/2K",
          "SLS-TOMATE FRITO LT/2650Gr",
          "CSV-V-TOMATE TRIT. CELORRIO 390 GR",
          "CSV-V-TOMATE TRITURADO LT/5 KG",
          "CSV-V-TOMATE TROCEADO 1/2 KG",
          "CSV-V-TOMATE TRIT CELORRIO LT/1K",
          "CSV-V-CEBOLLA-FRITA-1KG",
          "CSV-V-TOMATE-NATURAL-700G",
          "SLS-TOMATE FRITO SOLIS 340 GR",
          "CSV-V-TOMATE-FRITO-KIKI-705G",
          "CSV-V-TOMATE-FRITO-KIKI-300G",
          "CSV-V-TOMATE-FRITO-C/CEB-350",
          "SLS-TOMATE FRITO SOLIS P-3x200G",
          "SLS-TOMATE FRITO SOLIS 360 GR",
          "SLS-TOMATE FRITO HIDA 500GRS",
          "CSV-SARDINILLA-AC/OL-RR125",
          "CSV-P-SARDINILLA EN TOMATE RR-90",
          "CSV-P-SARDINILLA  AC/OL. F.A RR-90 ORBE",
          "CSV-P-SARDINILLA AC/GI RR-90",
          "CSV-P-SARDINAS ESCAB. RR-125",
          "CSV-P-SARDINAS AC/OL RR-125",
          "CSV-P-SARDINAS EN TOMATE RR-125",
          "CSV-P-SARDINAS PICANTES RR-125",
          "CD-MERMELADA FRAMBUESAS LVF T/280 GR",
          "CD-MERMELADA ALBARICOQUE LVF T/280 GR",
          "CD-MERMELADA TOMATE LVF T/285 GR",
          "CD-MERMELADA NARANJA AMARGA LVF T/285GR",
          "CD-MERMELADA FRESA LVF T/280 GR",
          "CD-MERMELADA FRUTAS BOSQUE LVF T/280 GR",
          "CD-MERMELADA CIRUELA LVF T/280 GR",
          "CD-MERMELADA MELOCOTON LVF T/280 GR",
          "CSV-FRU-12 UVAS SUERTE 125 ML",
          "CSV-FRU-MELOCOTON ALMIBAR 4/6 500G",
          "CSV-FRU-PIÑA RODAJA JUGO 340GR PE",
          "CSV-P/P-CALDO DE VERDURAS 1 LITRO",
          "Z-MELOCOTON DON SIMON6x200 ML",
          "Z-ZUMO NARANJA DON SIMON P6X200 ML",
          "Z-PIÑA DON SIMON6x200 ML",
          "Z- MELOCOTON CRISTAL 200 ML",
          "Z- PIÑA COFRUTOS CRISTAL 200 ML",
          "Z-ZUMO TOMATE CRISTAL 200 ML",
          "Z-ZUMO MANZANA CRISTAL 200 ML",
          "AC-PEPINILLOS EN VINAGRE 340 GR",
          "AC-BANDERILLA PICANTE 340 GR",
          "AC-GUINDILLA PICANTE 340 GR",
          "AC-CEBOLLITAS EN VINAGRE 340 GR",
          "AC-MANZANILLA C/H 350 GR",
          "SLS-MAYONESA CASERA 2L",
          "SLS-BARBACOA-GP-1850 GR",
          "SLS-KETCHUP-GP-1850 GR",
          "PS-PATE TARRADELLAS PIMIENTA 125GR",
          "PS-PATE TARRADELLAS FINAS HIERBAS 125 GR",
          "CSV-PS-PATE FOIGRAS LA PIARA P-3",
          "L-YOGURT-COCO PASCUAL P-4",
          "L-YOGURT-NATURAL AZ PASCUAL P-4",
          "ARROZ EXTRA DACSA 1 K",
          "ARROZ BASMATI DACSA 1K",
          "ARROZ BOMBA DACSA 1K",
          "ARROZ VAPORIZADO DACSA 1 K",
          "ARROZ EXTRA FALLERA 1 K",
          "ARROZ BOMBA LA CARRETA 1 K",
          "ARROZ REDONDO 1 KG(DO VLC)",
          "ARROZ BOMBA LA FALLERA 1KG",
          "ARROZ INTEGRAL C/QUIN BRILLANTE VASO P2",
          "VASITO ARROZ REDONDO BRILLANTE 125 GR P2",
          "HA-HARINA FRITURAS HARICAMAN 1 K",
          "HA-MAIZENA HARINA FINA MAIZ 400 G",
          "HA-HARINA TRIGO ALTEZA 1KG",
          "HA-HARINA TRIGO HARICAMAN 1 K",
          "L-LECHE ENTERA ASTURIANA 1.5 L",
          "L-LECHE S/ LACTOSA ENTERA PASCUAL 1L",
          "L-LECHE ENTERA PASCUAL  1 L",
          "L-LECHE CALCIO ENTERA PASCUAL 1L",
          "CV-HOYA CADENAS SEMI SECO 75 CL",
          "CV-CAVA J.SERRA BRUT NATURE 750CL",
          "BT-BATIDO COLA CAO ENERGY 188 CC.",
          "BT-BATIDO VAINILLA PASCUAL 6x200 ML",
          "BT-COLA-CAO SHAKE VASO 200ML C10",
          "BT-BATIDO CHOCOLATE CHOLECK 1L",
          "BT-BATIDO VAINILLA CHOLECK 1 L",
          "BT-BATIDO CHOCOLATE CHOLECK 3X200 ML",
          "BT-BATIDO CHOCOLATE PASCUAL 3x200 ML",
          "DC-MIX-CREAMY-BOMBON-95GR",
          "DC-LINDT-STICK-CARAMELO-SAL-38GR",
          "DC-NOCCIOLA-CRISPY-BOMBON-95G",
          "DC-SURTIDO CHOCOLATES-200G",
          "NVD-BOMBON SURTIDO B/100G",
          "NVD-SURTIDO XOCOBITE B/150G",
          "BLL-CROISSANT ALTEZA 270 G",
          "BLL-LAZOS HOJALDRE NIEVE",
          "BLL-ENSAIMADA ALTEZA 230 G",
          "BLL-LAZOS HOJALDRE CEBRA",
          "BLL-FARTONS POLO B/6UND",
          "BLL-HOJALDRE-ASTORGA-180G",
          "BLL-MAGDALENAS CHOCOCHIPS",
          "BLL-MAGDALENAS MUFFINS CACAO",
          "BLL-GOFRE CON CREMA CACAO 140G",
          "BLL-TARTA TIRAMISU 200GR",
          "BLL-BRACITOS AZUCAR 175G",
          "BLL-BRACITOS CACAO 175 G",
          "BLL-BRACITOS FRESA 175 G",
          "BLL-BRAZO NATA 200GR",
          "BLL-BRAZO CACAO 200GR",
          "BLL-MIX LECHE 200GR",
          "BLL-COCA CASERA B/240 GR.ABUELA",
          "BLL-COCA CASERA MANZANA B/240 GR.",
          "BIZCOCHO ALMENDRA 350 GR",
          "BIZCOCHO BROWNIE 350 GR",
          "BIZCOCHO COLADO PEPITAS 350GR",
          "BLL-BIZCOCHO COCO PUCHOL",
          "BLL-TARTA DE ALMENDRA DOÑA LOLA",
          "BIZCOCHO PARTIDO LIMON 350GR",
          "HR-COCA CASERA E/250 GR",
          "HR-COCA MINI RELLENA SURTIDA (1U)",
          "CD-CONCHAS CODAN 3 UND",
          "CD-PALMERAS GIGANTE CACAO CODAN 3 UND",
          "CD-BOMBONIUS 2 UND",
          "CD-CROICHOCO 4 UND",
          "CD-ROBIN 4 UND",
          "CD-BOMBON 4 UND",
          "CD-MAZO 4 UND",
          "CD-BOCADITOS COCO 4 UND",
          "CD-LAZOS MOUSSE CHOCO 4 UND",
          "CD-LAZOS MOUSSE GLASS 4 UND.",
          "CD-MAGDALENA SUPREMA 490G",
          "CD-VALENCIANAS LARGAS",
          "CD-CUBANITOS VAINILLA",
          "CD-PALMERAS BANDEJA",
          "BOLLYCAO LECHE 2U PVP",
          "BOLLYCAO CACAO 2U PVP",
          "DONETTES CLASICOS 6 PVP",
          "DONUTS GLACE 2 UD",
          "DONUTS BOMBON 2 UD",
          "WEIKIS LECHE LBE 4 PVP",
          "CD-ROOLY CREMA CACAO 5 UND",
          "DONETTES RAYADOS 5 PVP",
          "CD-PALMERAS 0% AZUCAR AÑADIDO",
          "CD-MAG-SUPREMA 0% AZUCAR AÑADIDO",
          "CD-CONCHAS MINI 0% AZUCAR AÑADIDO",
          "PAPADELTA-ORIG B/65G.",
          "AP-PAPAS S/JAMON VIDAL 135 G",
          "AP-PAPAS HUEVO CON JAMON VIDAL B/135 GR",
          "AP- LAY´S ARTESANAS 120 G",
          "AP-PAPAS SLIGHT 120 GR",
          "AP-PAPAS CHIPS VIDAL 150 G.",
          "AP-PAPAS SANTA ANA B/120 GR",
          "AP-PAPAS FRITA GR. SELLECCION VIDAL 150G",
          "AP-PRINGLES ORIGINAL 70 GR",
          "AP-PRINGLES SOUR CREAM 70 GR",
          "AP-PRINGLES PAPRIKA 70 GR",
          "V-TT-JV- VALENCIA B.TURIS 75 CL",
          "V-TT-JV-RIOJA-FAUSTINO RIVERO 75 CL",
          "V-TT-VINO 1920-B/750 ML",
          "V-TT-JV-SOTILLO CORCHO 75 CL",
          "V-TT-JV-CASTILLO DE LIRIA TINTO 75 ML",
          "V-TT-JV-MIRACLE Nº1",
          "V-TT-JV-COSECHERO 750ML",
          "V-TT-JV- R.DUERO-PROTOS 75 CL",
          "CSV-P/P-CALDO PESCADO KNORR 12 P",
          "CSV-P/P-CALDO DE POLLO 1 LITRO",
          "CSV-P/P-CALDO DE COCIDO 1 LITRO",
          "CSV-P/P-CALDO DE COCIDO ALTEZA 1 L",
          "CSV-P/P-CALDO DE PESCADO ALTEZA 1 L",
          "CSV-P/P-CALDO DE PESCADO 1 LITRO",
          "CSV-P/P-CALDO DE POLLO ALTEZA 1 L",
          "CSV-P/P-CALDO PAELLA C/SOFRITO 1 LITRO",
          "CSV-P/P-CALDO CARNE KNORR 12 P",
          "ACT-SPRAY-AOV-CARBONELL-200ML",
          "ACT-SPRAY-TRUFA-200ML",
          "ACT-OLIVA-CARBONELL 0,4 -1 L",
          "ACT-OLIVA VIRGEN EXTRA PICUAL 500ML",
          "ACT-OLIVA VIRGEN EXTRA HOJIBLANCA 500ML",
          "ACT-OLIVA VIRGEN EXTRA ECO/BIO 500ML",
          "ACT-OLIVA VIRGEN-EXTRA 1 L",
          "ACT-OLIVA VIRGEN-EXTRA 2 L",
          "ACT-OLIVA VIRGEN-EXTRA 5 L",
          "ACT-OLIVA VIRGEN EXTRA SIBARIT 250ML",
          "ACT-VIRGEN EXTRA CJ/168 UND 10ML",
          "AZ-AZUCAR BLANQUILLA 1 KG",
          "AZ-EDULCORANT STEVIA  ALTEZA  60 U.",
          "RF-COCA COLA 2 L (NC)",
          "CVZ-EMDBRAU L/33CL",
          "CVZ-AMSTEL PK-12 X 330ML.",
          "CVZ-AMSTEL PACK 24x33 CL",
          "CVZ-MAHOU 5 ESTRELLAS L/33CL",
          "CVZ-CERVEZA SAN MIGUEL L/33CL",
          "CVZ-AGUILA SIN FILTRAR L/33CL",
          "CVZ-AGUILA SIN FILTRAR PACK24x33CL",
          "CVZ-MAHOU 5 ESTRELLAS PACK 24x33CL",
          "CVZ-SAN MIGUEL PACK 12X33CL",
          "CVZ-AMSTEL L/33 CL",
          "CVZ-HEINEKEN PACK 12x33 CL",
          "CVZ-HEINEKEN L/33 CL",
          "GLL-KRAMBALS-TOMATE Y MOZZ 70G",
          "GLLS-CRACKERS QUINOA Y CHIA GULLON 250 G",
          "GLL-KRAMBALS-QUESO-CREMOSO",
          "GLLS-CRACKER CON SAL 500GR",
          "GLLS-KRIT CANAPE CUETARA 100 GR",
          "P-PAN RALLADO AJO-PEREJIL 250 G",
          "P-PICATOSTES-AJO-75G",
          "P-PICATOSTE-NATURAL-75G",
          "P-PAN RALLADO  250 G",
          "P-PAN RALLADO 250 G",
          "PAN TOSTADO NORMAL B/270 GR (30 REB)",
          "PAN TOSTADO INTEGRAL B/270 GR (30 REB)",
          "P-ROSQUILLETAS ART-PIPAS VELARTE 2x67 G",
          "P-SALADITOS VELARTE 2x70 G",
          "P-ROSQUILLETAS VELARTE 2x60 G",
          "P-ROSQUILLETAS CHOCOLATE 2x67 G",
          "P-ROSQUILLETA TRADICIONAL ALBA 2x70 GR",
          "P-ROSQUILLETA PLANA PIPAS ALBA 2x70 GR",
          "CC-PURE PATATAS MAGGI NORMAL 115G",
          "CC-PURE PATATAS 230 G",
          "CRP-CREMA VERDURA MEDITERRAN KNORR 500ML",
          "CRP-CREMA CALABAZA KNORR 500 ML",
          "CC-SOPA COCIDO GALLINA BLANCA 72 G",
          "CC-SOPA POLLO C/FIDEO GALL. BLANCA 98 G",
          "CC-SOPA VERDURAS GALLINA BLANCA 57 G",
          "CC-SOPISTANT CHAM GALLINA BLANCA 3 SBRES",
          "CC-SOPISTANT POLL GALLINA BLANCA 3 SBRES",
          "CC-SOPA KNORR ESPARRAGOS",
          "CC-SOPA KNORR CHAMPIÑONES",
          "CC-SOPA KNORR CEBOLLA",
          "VNG-VINAGRE BALSA MODENA ALTEZA 250 ML",
          "VNG-VINAGRE MANZANA DARRO 1L",
          "VNG-VINAGRE DE VINO BLANCO 1L",
          "RF-NESTEA LIMON 1.5 L",
          "RF-SPRITE B/2 L",
          "RF-GASEOSA LA CASERA B/1,5 L",
          "RF-GASEOSA ALTEZA B/50 CL",
          "RF-GASEOSA ALTEZA B/1,5 L",
          "PP-GASEOSA-8/UND",
          "GE-MINI CAMPURRIANA CHOCO 145 GR",
          "GE-COQUITO BANDEJA 130GR",
          "GLL-BIG COOKIES CHOC-ASINEZ 150G",
          "GE-CHOKIS B/160 GR.",
          "GE-CORAZON CANELA M.TURIA B/220G",
          "GE-DELICIAS ALMENDRA M.TURIA B/180 G",
          "GLL-GALLETAS-MANTEQUILLA-125G",
          "GE-ROSCO ANIS M.TURIA B/205 G",
          "CD-PASTAS DE TE",
          "CC-CHOCO POLVO VALORCAO 500 G",
          "CC-CACAO INST NESQUIK 1,2 K",
          "CHT-CHOCOLATE A LA TAZA MEIVEL 250 G",
          "CHT-CHOCOLATE A LA TAZA RAM BRICK 1L",
          "CC-COLACAO ORIGINAL 760GR",
          "CC-COLACAO ORIGINAL B/383",
          "CC-COLACAO 0% B/300 GR",
          "CC-COLACAO NOIR B/300 GR",
          "CC-CACAO INSTANT NESQUIK 390G",
          "NVD-TURRON BLANDO JIJONA PICO 150G",
          "NVD-TURRON DURO ALICANTE PICO 150G",
          "DC-TURRON-IMP-DURO-CACAO-150G",
          "NVD-TURRON CHOCO CRUJIENTE 200G",
          "NVD-TRUFAS AL CACAO ALTEZA 200 G",
          "NVD-FIGURITAS MAZAPAN PICO 150 G",
          "DC-ALMENDRA RELL 100 G",
          "GLD-MARIA INTEGRAL GULLON 600 GRS.",
          "GLL-DIGEST-AVENA-CHOCO-GULL-425G",
          "GLL-FIBRA-ZERO-GULL-170G",
          "GLL-CHIP-CHOCO-ZERO-GULL-125G",
          "GLL-CHOCO-BOM-LECHE-GULL-100G",
          "GLL-CHOCO-BOM-BLCO-GULL-100G",
          "T-TORTITAS ARROZ VITALDAY P-4",
          "T-TORTITAS ARROZ CHOCO VITALDAY P-4",
          "GR-OBLEAS ALTEZA BARRA HELADO 35 G",
          "CCR-NOCILLA 0% B/180 GR",
          "CCR-CREMA 1 SABOR NOCILLA 180G",
          "CCR-CREMA 2 SABORES NOCILLA  180 G",
          "CCR-CREMA 1 SABOR NOCILLA 0% 180 G",
          "PP-LEVADURA ROYAL 5 U 80 G",
          "PP-CARAMELO LIQUIDO ROYAL 400 G",
          "PP-NATILLAS CASERAS ROYAL 100 G",
          "CSV-D-SIROPE CARAMELO",
          "CSV-D-SIROPE CHOCOLATE",
          "FLASH SIGLITOS 12 UNIDADES",
          "Z-BRFT IBIZA/PARAISO ZERO 3x330 ML",
          "Z-BIFRUTAS MEDITERRANEO ZERO  3x330 ML",
          "Z-BIFRUTAS DRCAP TROPICAL 3x330 ML",
          "H-HORXATA POLO TRADICIONAL B/1L",
          "H-HORCHATA CHUFI ORIGINAL 1 LITRO",
          "H-CHUFI MAESTRO HORXATERO LITRO",
          "L-FLAN VAINILLA PASCUAL PACK 4",
          "L-FLAN HUEVO PASCUAL PACK 4",
          "L-YOGURT-FRESA PASCUAL P-4",
          "L-YOGURT-PLATANO PASCUAL P-4",
          "L-YOGURT-MACEDONIA PASCUAL P-4",
          "L-YOGURT-LIMON PASCUAL P-4",
          "ESP-SAL YODADA BUENO B/ 1 KG",
          "S-SAL HORNEAR BUENO B/2 KG",
          "GR-BARQUILLO-TURRÓN VIENA MEIVEL 1UND",
          "GB-DINOSAURUS CHOCO LECHE ARTIACH 85 G",
          "GB-HUESITOS ORIGINAL PACK10  x 20G",
          "GB-BARQUILLO TURRON VIENA MEIVEL 6 UND",
          "GB-CORNETTI CROCCANTI AVELLANA",
          "GB-CORNETTI CROCANTTI COCO 112G",
          "GR-TUBITO RELL AVELLAN 150G",
          "GB-ARTIACH ARTICHOCO 210G",
          "GB-CORNETTI CROCANTTI BLACK COOKIES 100G",
          "GR--JAFFA CAKE FRESA 150G",
          "GR-JAFFA CAKE NARANJA 150G",
          "GR-TUBITO CACAO 150G",
          "GB-CORNETTI CROCANTTI PISTACHO 100G",
          "GB-CORNETTI CROCANTTI CACAHUETE 100G",
          "GLL-COOKIES CHIP CHOCOLATE 135 G",
          "GLL-COOKIES CHOCOLATE Y AVELLANA 135 G",
          "GB-WAFER COCO 200 G",
          "GB-WAFER CACAO 200 G",
          "GB-WAFER FRESA 200 G",
          "GB-WAFER NATA 200 G",
          "GR-TUBITO VAINILLA 150G",
          "GR-TUBITO CARAMELO SALADO 150G",
          "GLL-BOCADITOS CHOCO 150 GR",
          "GLL-BOCADITOS LIMON 150 GR.",
          "GLL-SETITAS-CHOCO 60GR",
          "GB-ARTIACH ARTINATA 210G",
          "GLL-FLAKE CACHOBARRA 90 G",
          "GR-OREO GALLETA 220GRS",
          "CSV-FRU-PIÑA TROCEADA JUGO 425 G",
          "CSV-FRU-COCKTAIL 5 FRUTAS 420 G.",
          "CSV-FRU-PIÑA JUGO PACK 3 X 227 G",
          "CSV-FRU-MELOCOTON ALMIBAR 4/6 1/2 KG",
          "CSV-FRU-COCKTAIL DE FRUTAS 500 G",
          "CSV-FRU-PIÑA RODAJAS JUGO 1 KG",
          "CSV-FRU-PIÑA JUGO PACK 3",
          "AC-E-ALTRAMUCES SALADITOS 600 G",
          "AC-E-BANDERILLAS DULCES",
          "AC-E-CEBOLLITAS EN VINAGRE",
          "AC-E-PEPINILLOS EN VINAGRE",
          "AC-E-GUINDILLAS VINAGRE",
          "AC-E-BANDERILLAS PICANTES",
          "L-NATA PASCUAL SPRAY 250 G",
          "L-NATA PASCUAL B/500 ML",
          "L-NATA LIGERA PASCUAL SLIM 200 ML",
          "CVZ-EMDBRAU S/ALC L/33 CL",
          "CVZ-MAHOU TOSTADA 0.0 L/33CL",
          "CVZ-TURIA TOSTADA 0.0 L/33CL",
          "CVZ-BUCKLER 0,0% S/ALC L/33 CL",
          "CVZ-AMSTEL ORIGINAL 1L",
          "CVZ-ALHAMBRA 1L",
          "CVZ-ESTRELLA GALICIA PK-6x20 CL",
          "CVZ-AMSTEL PK-6x25 CL",
          "CVZ-HEINEKEN PK-5+1GRATISx25CL",
          "CVZ-DESPERADOS BT/33 CL",
          "CVZ-TURIA PK-6x25 CL",
          "CVZ-MAHOU 5 EST. PK-6x25 CL",
          "CVZ-ALHAMBRA RSV.1925 PK-6x33 CL",
          "CVZ-SAN MIGUEL Pk-6x25 CL",
          "GLL-PETIT RIO 800GR",
          "GLL-MINI SIMPSONS ARLUY E/275 GR",
          "GLL-MARIA DORADA MARBU 600GR",
          "GLL-MINI CAMPURRIANA CUETARA 300 GR",
          "GLL-CHIQUILIN ARTIACH 175 GR",
          "GLL-NAPOLITANA CON CANELA 213 GRS",
          "GLL-FLORA GALLETA FIBRA 185 G",
          "C-CORN FLAKES KELLOGGS E/375 GR",
          "GLL-PRINCESA ARTIACH 90 G",
          "GLL-WAFER VAINILLA ZERO GULLON 180 G",
          "GLL-MINI MARIA DORADA 250G",
          "GLL-TOSTARICA 760 GRS",
          "LC-LECHERA SIRVEFACIL ENTERA 450 G",
          "LC-CASTILLO SIRVEFACIL ENTERA 450 GR",
          "MINI TOSTAS RECTANGULARES E/100 GR",
          "MINI TOSTAS ARANDANOS E/90 GR",
          "MINI TOSTAS REDONDAS E/100 GR",
          "CANAPES 36 REBANADAS",
          "P-PANECIILLO TOST C/ TOMATE ALTEZA 160 G",
          "P-PAN DE AJO-PEREJIL VELARTE 160 G",
          "MINI TARTALETA 84GR (12UDS)",
          "MINI VOL AU VENT 72GR (12UDS)",
          "P-BOCADITO AJO-PEREJIL ALBA 80 G",
          "P-BOCADITO TOMATE-OREGANO ALBA 80 G",
          "P-BOCADITO JAMON-TOMATE  ALBA  80 G",
          "Z-NECTAR NARANJA S/A COFRUTOS  1L",
          "Z-NECTAR PIÑA COFRUTOS S/A PRISMA 1L",
          "Z-NECTAR F.BOSQUE COFR PRISMA 1L",
          "Z-NECTAR MELOCOTON S/A COFRUTOS 1L",
          "Z-NECTAR EXOT. PIÑA DE COCO  1L",
          "Z-NECTAR MELOCOTON S/AZ 6x200ML COFRUTOS",
          "Z-NECTAR PIÑA S/AZ 6x200ML COFRUTOS",
          "Z-NECTAR PIÑA S/AZ 1L COFRUTOS",
          "Z-NECTAR MANZANA S/AZ 1L COFRUTOS",
          "Z-NECTAR NARANJA S/AZ 1L COFRUTOS",
          "Z-NECTAR MELOCOTON S/AZ 1L COFRUTOS",
          "Z-NECTAR ANTIOX.FRES,FRAMB,UVA 1L",
          "Z-NECTAR NARANJA S/AZ 6x200ML COFRUTOS",
          "Z-NECTAR MELOCOTON GRANINI 1 L",
          "Z-NECTAR NARANJA GRANINI 1L",
          "L-LECHE SEMIDESNATADA ASTURIANA 1.5 L",
          "L-LECHE CALCIO SEMI. PASCUAL 1L",
          "L-LECHE S/LACTOSA SEMI.PASCUAL 1L",
          "L-LECHE SEMIDESNATADA PASCUAL 1L",
          "L-LECHE DESNATADA PASCUAL 1 L",
          "L-LECHE S/LACTOSA DESN.PASCUAL 1L",
          "L-LECHE CALCIO DESNATADA PASCUAL 1L",
          "L-LECHE DESNATADA ASTURIANA 1.5 L",
          "L-LECHE C/OMEGA-3 PULEVA 1 L",
          "L-LECHE C/OMEGA-3 NUECES PULEVA 1 L",
          "L-LECHE S/LACTOSA SEMI. M.LIGERAS 1L.",
          "L-BEBIDA DE SOJA VIVESOY PRISMA 1L",
          "L-BEBIDA DE ALMENDRA VIVESOY 1L",
          "L-BEBIDA DE AVENA VIVESOY 1 L",
          "L-BEBIDA DE SOJA 1L",
          "L-BEBIDA DE SOJA LIGHT  1L",
          "CF-CAFE-CAPS-CORTADO  16 U",
          "CF-CAFE-CAPS-C/LECHE 16 U",
          "CF-CAPS-DOLCE GUSTO ESPRESO INT DESC.16C",
          "CF-CAFE CAPS. C/LECHE 16U",
          "CF-CAFE CAPS. ESPRESSO INT. 16 U",
          "CF-CAFE CAPS. DESCAFEINADO 16 U",
          "CF-CAFE CAPS. CORTADO 16 U",
          "CF-CAFE CAPS. CORTADO DESCAF. 16 U",
          "CF-CAFE CAPS. EXTRAINTENSO 16 U",
          "CF-CAFE-CAPS-ESPRESSO INT. 16 U",
          "CF-CAPS-DOLCE GUSTO ESPRESSO INT.16C",
          "CF-CAPS-DOLCE GUSTO CORT-DESCAFEINADO",
          "CF-CAPS-DOLCE GUSTO CAFE CON LECHE 16C",
          "CF-CAPS-DOLCE GUSTO CORTADO 16C",
          "CANEL-(GRANDCANELON)-DE MAR 140 G",
          "AU-CANEL-SETAS Y QUESO 94 GR",
          "AU-CANEL-CARNE FOIE/TRUFA 94 GR-PRIELA",
          "AU-LASAÑA-BOLOÑESA-1 RAC-E/300 GR-PRIELA",
          "AU-LASAÑA-VEGET-C/BECH B/300 G-PRICE(ND)",
          "AU-LASAÑA-ATUN-C/BECH.RAC-E/300 G-PRI(ND",
          "AU-CANELON-ATUN-C/BECH. RAC-E/300 G-(ND)",
          "AU-MUSSAKA-1RAC-E/300GR-PRIELA",
          "AU-LASAÑA-CARNE-1 RAC-E/300GR-PRICE(X)",
          "AU-LASAÑA-VEGETAL-1 RAC-E/300 GR-PRIELA",
          "CANELON SUPREMO DE CARNE- BC-360G",
          "AU-CANEL-CARNE-1 RAC-E/300 GR-PRICE(X)",
          "CANELON SUPREMO DE PATO Y FOIE- BC-360G",
          "CANELON SUPREMO DE BOLETUS- BC-360G",
          "AU-CANEL-ESPINACAS 1U (40 G/U)-PRICE(X)",
          "AU-CANEL-CARNE 4 B./25 UNIDADES- PRICE",
          "PIZZA-NS-GRAN CASA-BACON Y ATUN-600GR",
          "PIZZA-NS-GRAN CASA-4 QUESOS-500GR",
          "PIZZA-NS-GRAN CASA-JAM/QUESO-600 GR",
          "PIZZA-MT-PANCETTA E CREMA AL TARTUFO",
          "PIZZA-GP-DIAVOLA 400G",
          "PIZZA-GP-BIANCA ALLA PANCETTA 405G",
          "PIZZA-GP-VEGANA 420 G",
          "PIZZA-MT-LS-SALAMI 340 G.",
          "PIZZA-MT-LS-CAPRICIOSA E/370 GR.",
          "PIZZA-GP-PROSCIUTTO E FORMAGGIO 410G",
          "PIZZA-GP-BBQ CHICKEN 415G",
          "PIZZA-GP-PROSCIUTTO E FUNGHI 420G",
          "PIZZA-GP-TONNO 410G",
          "PIZZA-GP-HAWAI 425G",
          "PIZZA-MT-LS-JAMON Y QUESO 350 GR.",
          "PIZZA-MT-4 QUESOS E/345GR",
          "PIZZA-MT-ATUN E/370 GR.",
          "PIZZA-GP-5 FORMAGGI 400G",
          "PIZZA-NS-SUSPICOLINOS-YORK E/270GR (9 U)",
          "PIZZA-NS-SUSPICOLINOS-3-QUESOS E/270GR",
          "ALMEJA FINA MARRON 60/80-B/500G",
          "MEJILL-COCIDO-B/300GR",
          "VIEIRA/ATLANTICO-CARNE-S/CORAL-B/800 GR",
          "MEJILL-COC-EN SU JUGO-B/500 G.-(VC)(ND)",
          "OSTRA MEDIA CONCHA BRETAÑA (Nº 2)",
          "ALMEJA-FINA (JAPONICA) 40/60 B/1KG",
          "NAVAJAS LIMPIAS GRANEL",
          "VIEIRA/PACIFICO(1/2CH)25/35(B900G)-CHILE",
          "MEJILL-COC-EN SU JUGO-B/1 KG.-(VC)",
          "MEJILL-COC-VERDE M/CONCHA B/800 - 35PZ",
          "VOLANDEIRA 45/65 1/2 CONCHA B/800G N/SGL",
          "NAVAJAS LIMPIAS IQF",
          "VIEIRA/ATLANTICO-CARNE-C/CORAL-B/800 G",
          "VIEIRA/ATLANTICO-1/2 CONCHA-8/10-(IQF)",
          "VIEIRA/PACIFICO-CARNE-C/CORAL-B/400 G",
          "VIEIRA/PACÍFICO-(1/2 CH) 5/8-PZ-B/400 G.",
          "CARACOL-PREC-B/300 GR",
          "VIEIRA/PACIFICO 1/2-CH(20/40-PZ/K)PERU",
          "VIEIRA/PACIFICO 1/2-CH(10/20-PZ/K)PERU",
          "CARACOL-PREC-AVELLANÉ-B/500GR",
          "TELLINA LIMPIA (VC250 GR)",
          "TELLINA LIMPIA EXTRA/250",
          "CARACOL-PREC-B/ 1 KG",
          "ALMEJA-MARRON-80/100-(IQF)",
          "ALMEJA FINA BLANCA 90/120",
          "MEJILL-G-IQF-80/150 PZ/KG",
          "MEJILLON (M) -100/200",
          "ALMEJA FINA-G-BLANCA 60/80-B/1KG",
          "MEJILL-COC-1/2-CONCHA 50/80",
          "PREP-SOPA MARINERA-B/400 GR",
          "CN-ARROZ-BLANCO PRECOCIDO EXTRA B/1KG",
          "ARROZ-4 DELICIAS B/400 GR",
          "ARROZ-6/DELICIAS-B/400GR",
          "SALPICON-MARISCO-B/500 GR",
          "ENSAL-ESP-COCTEL L-B/300 GR",
          "ENSAL-DE PASTA B/1 KG",
          "ENSAL-CON POLLO B/300 GR",
          "FRU-AGUACATE-DADOS-15X15-B/1KG",
          "GUACAMOLE SUAVE-500G",
          "SALT-CAMPESTRE B/1 KG",
          "SALT-HABAS-AJETES-BACON B/1KG",
          "REV-ESP/AJOS/GAM.B/1KG",
          "SALT-MIXTO DE SETAS B/1 KG",
          "ARROZ-6/DELICIAS-B/1KG",
          "ENSAL-CON GAMBAS B/1KG",
          "REV-ESP/AJOS/GAM-400GR",
          "REV-CHAM/ESP/GAMB- B/400 Gr",
          "SALT-DE PATATAS B/400 GR",
          "SALT-CAMPESTRE B/400 GR",
          "SALT-HABAS-AJETES-BACON B/400 GR",
          "CN-BRASEADO VERDURAS/POLLO-B/450 GR",
          "CN-SALT-DE  QUINOA B/400GR",
          "SALT-BRAS-DE VERDURAS B/400 GR",
          "PSTR-VST-CHEESECAKE FRUTOS ROJOS-9U120GR",
          "PSTR-VST-LIMON 9U-120GR",
          "PSTR-VST-TRES CHOCOLATES 9U-120GR",
          "PSTR-VST-CHEESECAKE MARACUYA 9U-120GR",
          "FRANUI CHOC NEGRO Y BLANCO 150G",
          "FRANUI CHOC LECHE Y BLANCO 150G",
          "PSTR-CHEESECAKE 2x90 GR",
          "PSTR-TORRIJA BRIOCHE 135 GR",
          "PSTR-PLANCHA BROWNIE NUECES 30 RACIONES",
          "PSTR-TARTA CHOCO Y AVELL ARTESANA 420 GR",
          "PSTR-TARTA GALLETA OREO ARTESANA 420 GR",
          "PSTR-COULANT CHOCOLATE 100 GR",
          "PSTR-COULANT CHOCOLATE E/2X90 GR",
          "PSTR-PROFITEROLES NATA B/200 GRS",
          "PSTR-TARTA RED VELVET 1.2KG 10P",
          "PSTR-TARTA MUERTE CHOCOLATE 2KG 16P",
          "PSTR-MOUSSE DE CHOCOLATE 500 GR",
          "PSTR-MOUSSE DE LIMON 500 GR",
          "PSTR-TARTA TIRAMISU VENETO 1250GR 10P",
          "PSTR-TARTA DE LA ABUELA 1,5 KG",
          "PSTR-TARTA QUESO ESTILO VASCO 1600GR 14P",
          "BLL-CHURROS LAZO- B/500GR",
          "BLL-CHURROS LAZO-B/400GR",
          "BLL-CHURROS AZUCARADOS GOURMET(GRANEL)",
          "PSTR-TARTA-DE-MANZANA 1100 GR"
         ],
         "yaxis": "y"
        }
       ],
       "layout": {
        "legend": {
         "tracegroupgap": 0
        },
        "margin": {
         "t": 60
        },
        "template": {
         "data": {
          "bar": [
           {
            "error_x": {
             "color": "#2a3f5f"
            },
            "error_y": {
             "color": "#2a3f5f"
            },
            "marker": {
             "line": {
              "color": "#E5ECF6",
              "width": 0.5
             },
             "pattern": {
              "fillmode": "overlay",
              "size": 10,
              "solidity": 0.2
             }
            },
            "type": "bar"
           }
          ],
          "barpolar": [
           {
            "marker": {
             "line": {
              "color": "#E5ECF6",
              "width": 0.5
             },
             "pattern": {
              "fillmode": "overlay",
              "size": 10,
              "solidity": 0.2
             }
            },
            "type": "barpolar"
           }
          ],
          "carpet": [
           {
            "aaxis": {
             "endlinecolor": "#2a3f5f",
             "gridcolor": "white",
             "linecolor": "white",
             "minorgridcolor": "white",
             "startlinecolor": "#2a3f5f"
            },
            "baxis": {
             "endlinecolor": "#2a3f5f",
             "gridcolor": "white",
             "linecolor": "white",
             "minorgridcolor": "white",
             "startlinecolor": "#2a3f5f"
            },
            "type": "carpet"
           }
          ],
          "choropleth": [
           {
            "colorbar": {
             "outlinewidth": 0,
             "ticks": ""
            },
            "type": "choropleth"
           }
          ],
          "contour": [
           {
            "colorbar": {
             "outlinewidth": 0,
             "ticks": ""
            },
            "colorscale": [
             [
              0,
              "#0d0887"
             ],
             [
              0.1111111111111111,
              "#46039f"
             ],
             [
              0.2222222222222222,
              "#7201a8"
             ],
             [
              0.3333333333333333,
              "#9c179e"
             ],
             [
              0.4444444444444444,
              "#bd3786"
             ],
             [
              0.5555555555555556,
              "#d8576b"
             ],
             [
              0.6666666666666666,
              "#ed7953"
             ],
             [
              0.7777777777777778,
              "#fb9f3a"
             ],
             [
              0.8888888888888888,
              "#fdca26"
             ],
             [
              1,
              "#f0f921"
             ]
            ],
            "type": "contour"
           }
          ],
          "contourcarpet": [
           {
            "colorbar": {
             "outlinewidth": 0,
             "ticks": ""
            },
            "type": "contourcarpet"
           }
          ],
          "heatmap": [
           {
            "colorbar": {
             "outlinewidth": 0,
             "ticks": ""
            },
            "colorscale": [
             [
              0,
              "#0d0887"
             ],
             [
              0.1111111111111111,
              "#46039f"
             ],
             [
              0.2222222222222222,
              "#7201a8"
             ],
             [
              0.3333333333333333,
              "#9c179e"
             ],
             [
              0.4444444444444444,
              "#bd3786"
             ],
             [
              0.5555555555555556,
              "#d8576b"
             ],
             [
              0.6666666666666666,
              "#ed7953"
             ],
             [
              0.7777777777777778,
              "#fb9f3a"
             ],
             [
              0.8888888888888888,
              "#fdca26"
             ],
             [
              1,
              "#f0f921"
             ]
            ],
            "type": "heatmap"
           }
          ],
          "histogram": [
           {
            "marker": {
             "pattern": {
              "fillmode": "overlay",
              "size": 10,
              "solidity": 0.2
             }
            },
            "type": "histogram"
           }
          ],
          "histogram2d": [
           {
            "colorbar": {
             "outlinewidth": 0,
             "ticks": ""
            },
            "colorscale": [
             [
              0,
              "#0d0887"
             ],
             [
              0.1111111111111111,
              "#46039f"
             ],
             [
              0.2222222222222222,
              "#7201a8"
             ],
             [
              0.3333333333333333,
              "#9c179e"
             ],
             [
              0.4444444444444444,
              "#bd3786"
             ],
             [
              0.5555555555555556,
              "#d8576b"
             ],
             [
              0.6666666666666666,
              "#ed7953"
             ],
             [
              0.7777777777777778,
              "#fb9f3a"
             ],
             [
              0.8888888888888888,
              "#fdca26"
             ],
             [
              1,
              "#f0f921"
             ]
            ],
            "type": "histogram2d"
           }
          ],
          "histogram2dcontour": [
           {
            "colorbar": {
             "outlinewidth": 0,
             "ticks": ""
            },
            "colorscale": [
             [
              0,
              "#0d0887"
             ],
             [
              0.1111111111111111,
              "#46039f"
             ],
             [
              0.2222222222222222,
              "#7201a8"
             ],
             [
              0.3333333333333333,
              "#9c179e"
             ],
             [
              0.4444444444444444,
              "#bd3786"
             ],
             [
              0.5555555555555556,
              "#d8576b"
             ],
             [
              0.6666666666666666,
              "#ed7953"
             ],
             [
              0.7777777777777778,
              "#fb9f3a"
             ],
             [
              0.8888888888888888,
              "#fdca26"
             ],
             [
              1,
              "#f0f921"
             ]
            ],
            "type": "histogram2dcontour"
           }
          ],
          "mesh3d": [
           {
            "colorbar": {
             "outlinewidth": 0,
             "ticks": ""
            },
            "type": "mesh3d"
           }
          ],
          "parcoords": [
           {
            "line": {
             "colorbar": {
              "outlinewidth": 0,
              "ticks": ""
             }
            },
            "type": "parcoords"
           }
          ],
          "pie": [
           {
            "automargin": true,
            "type": "pie"
           }
          ],
          "scatter": [
           {
            "fillpattern": {
             "fillmode": "overlay",
             "size": 10,
             "solidity": 0.2
            },
            "type": "scatter"
           }
          ],
          "scatter3d": [
           {
            "line": {
             "colorbar": {
              "outlinewidth": 0,
              "ticks": ""
             }
            },
            "marker": {
             "colorbar": {
              "outlinewidth": 0,
              "ticks": ""
             }
            },
            "type": "scatter3d"
           }
          ],
          "scattercarpet": [
           {
            "marker": {
             "colorbar": {
              "outlinewidth": 0,
              "ticks": ""
             }
            },
            "type": "scattercarpet"
           }
          ],
          "scattergeo": [
           {
            "marker": {
             "colorbar": {
              "outlinewidth": 0,
              "ticks": ""
             }
            },
            "type": "scattergeo"
           }
          ],
          "scattergl": [
           {
            "marker": {
             "colorbar": {
              "outlinewidth": 0,
              "ticks": ""
             }
            },
            "type": "scattergl"
           }
          ],
          "scattermap": [
           {
            "marker": {
             "colorbar": {
              "outlinewidth": 0,
              "ticks": ""
             }
            },
            "type": "scattermap"
           }
          ],
          "scattermapbox": [
           {
            "marker": {
             "colorbar": {
              "outlinewidth": 0,
              "ticks": ""
             }
            },
            "type": "scattermapbox"
           }
          ],
          "scatterpolar": [
           {
            "marker": {
             "colorbar": {
              "outlinewidth": 0,
              "ticks": ""
             }
            },
            "type": "scatterpolar"
           }
          ],
          "scatterpolargl": [
           {
            "marker": {
             "colorbar": {
              "outlinewidth": 0,
              "ticks": ""
             }
            },
            "type": "scatterpolargl"
           }
          ],
          "scatterternary": [
           {
            "marker": {
             "colorbar": {
              "outlinewidth": 0,
              "ticks": ""
             }
            },
            "type": "scatterternary"
           }
          ],
          "surface": [
           {
            "colorbar": {
             "outlinewidth": 0,
             "ticks": ""
            },
            "colorscale": [
             [
              0,
              "#0d0887"
             ],
             [
              0.1111111111111111,
              "#46039f"
             ],
             [
              0.2222222222222222,
              "#7201a8"
             ],
             [
              0.3333333333333333,
              "#9c179e"
             ],
             [
              0.4444444444444444,
              "#bd3786"
             ],
             [
              0.5555555555555556,
              "#d8576b"
             ],
             [
              0.6666666666666666,
              "#ed7953"
             ],
             [
              0.7777777777777778,
              "#fb9f3a"
             ],
             [
              0.8888888888888888,
              "#fdca26"
             ],
             [
              1,
              "#f0f921"
             ]
            ],
            "type": "surface"
           }
          ],
          "table": [
           {
            "cells": {
             "fill": {
              "color": "#EBF0F8"
             },
             "line": {
              "color": "white"
             }
            },
            "header": {
             "fill": {
              "color": "#C8D4E3"
             },
             "line": {
              "color": "white"
             }
            },
            "type": "table"
           }
          ]
         },
         "layout": {
          "annotationdefaults": {
           "arrowcolor": "#2a3f5f",
           "arrowhead": 0,
           "arrowwidth": 1
          },
          "autotypenumbers": "strict",
          "coloraxis": {
           "colorbar": {
            "outlinewidth": 0,
            "ticks": ""
           }
          },
          "colorscale": {
           "diverging": [
            [
             0,
             "#8e0152"
            ],
            [
             0.1,
             "#c51b7d"
            ],
            [
             0.2,
             "#de77ae"
            ],
            [
             0.3,
             "#f1b6da"
            ],
            [
             0.4,
             "#fde0ef"
            ],
            [
             0.5,
             "#f7f7f7"
            ],
            [
             0.6,
             "#e6f5d0"
            ],
            [
             0.7,
             "#b8e186"
            ],
            [
             0.8,
             "#7fbc41"
            ],
            [
             0.9,
             "#4d9221"
            ],
            [
             1,
             "#276419"
            ]
           ],
           "sequential": [
            [
             0,
             "#0d0887"
            ],
            [
             0.1111111111111111,
             "#46039f"
            ],
            [
             0.2222222222222222,
             "#7201a8"
            ],
            [
             0.3333333333333333,
             "#9c179e"
            ],
            [
             0.4444444444444444,
             "#bd3786"
            ],
            [
             0.5555555555555556,
             "#d8576b"
            ],
            [
             0.6666666666666666,
             "#ed7953"
            ],
            [
             0.7777777777777778,
             "#fb9f3a"
            ],
            [
             0.8888888888888888,
             "#fdca26"
            ],
            [
             1,
             "#f0f921"
            ]
           ],
           "sequentialminus": [
            [
             0,
             "#0d0887"
            ],
            [
             0.1111111111111111,
             "#46039f"
            ],
            [
             0.2222222222222222,
             "#7201a8"
            ],
            [
             0.3333333333333333,
             "#9c179e"
            ],
            [
             0.4444444444444444,
             "#bd3786"
            ],
            [
             0.5555555555555556,
             "#d8576b"
            ],
            [
             0.6666666666666666,
             "#ed7953"
            ],
            [
             0.7777777777777778,
             "#fb9f3a"
            ],
            [
             0.8888888888888888,
             "#fdca26"
            ],
            [
             1,
             "#f0f921"
            ]
           ]
          },
          "colorway": [
           "#636efa",
           "#EF553B",
           "#00cc96",
           "#ab63fa",
           "#FFA15A",
           "#19d3f3",
           "#FF6692",
           "#B6E880",
           "#FF97FF",
           "#FECB52"
          ],
          "font": {
           "color": "#2a3f5f"
          },
          "geo": {
           "bgcolor": "white",
           "lakecolor": "white",
           "landcolor": "#E5ECF6",
           "showlakes": true,
           "showland": true,
           "subunitcolor": "white"
          },
          "hoverlabel": {
           "align": "left"
          },
          "hovermode": "closest",
          "mapbox": {
           "style": "light"
          },
          "paper_bgcolor": "white",
          "plot_bgcolor": "#E5ECF6",
          "polar": {
           "angularaxis": {
            "gridcolor": "white",
            "linecolor": "white",
            "ticks": ""
           },
           "bgcolor": "#E5ECF6",
           "radialaxis": {
            "gridcolor": "white",
            "linecolor": "white",
            "ticks": ""
           }
          },
          "scene": {
           "xaxis": {
            "backgroundcolor": "#E5ECF6",
            "gridcolor": "white",
            "gridwidth": 2,
            "linecolor": "white",
            "showbackground": true,
            "ticks": "",
            "zerolinecolor": "white"
           },
           "yaxis": {
            "backgroundcolor": "#E5ECF6",
            "gridcolor": "white",
            "gridwidth": 2,
            "linecolor": "white",
            "showbackground": true,
            "ticks": "",
            "zerolinecolor": "white"
           },
           "zaxis": {
            "backgroundcolor": "#E5ECF6",
            "gridcolor": "white",
            "gridwidth": 2,
            "linecolor": "white",
            "showbackground": true,
            "ticks": "",
            "zerolinecolor": "white"
           }
          },
          "shapedefaults": {
           "line": {
            "color": "#2a3f5f"
           }
          },
          "ternary": {
           "aaxis": {
            "gridcolor": "white",
            "linecolor": "white",
            "ticks": ""
           },
           "baxis": {
            "gridcolor": "white",
            "linecolor": "white",
            "ticks": ""
           },
           "bgcolor": "#E5ECF6",
           "caxis": {
            "gridcolor": "white",
            "linecolor": "white",
            "ticks": ""
           }
          },
          "title": {
           "x": 0.05
          },
          "xaxis": {
           "automargin": true,
           "gridcolor": "white",
           "linecolor": "white",
           "ticks": "",
           "title": {
            "standoff": 15
           },
           "zerolinecolor": "white",
           "zerolinewidth": 2
          },
          "yaxis": {
           "automargin": true,
           "gridcolor": "white",
           "linecolor": "white",
           "ticks": "",
           "title": {
            "standoff": 15
           },
           "zerolinecolor": "white",
           "zerolinewidth": 2
          }
         }
        },
        "xaxis": {
         "anchor": "y",
         "domain": [
          0,
          1
         ],
         "title": {
          "text": "Margen Beneficio (€)"
         }
        },
        "yaxis": {
         "anchor": "x",
         "domain": [
          0,
          1
         ],
         "title": {
          "text": "Producto"
         }
        }
       }
      }
     },
     "metadata": {},
     "output_type": "display_data"
    },
    {
     "data": {
      "application/vnd.plotly.v1+json": {
       "config": {
        "plotlyServerURL": "https://plot.ly"
       },
       "data": [
        {
         "bingroup": "y",
         "histfunc": "sum",
         "hovertemplate": "sum of Margen Beneficio (€)=%{x}<br>Producto=%{y}<extra></extra>",
         "legendgroup": "",
         "marker": {
          "color": "#636efa",
          "pattern": {
           "shape": ""
          }
         },
         "name": "",
         "orientation": "h",
         "showlegend": false,
         "type": "histogram",
         "x": {
          "bdata": "zczMzMzMLkCPwvUoXK9CQAAAAAAAAAxAzczMzMzMKUA9CtejcL1BQHoUrkfheixA16NwPQrXIUAAAAAAAAAMQAAAAAAAAAxApHA9CtejLEC4HoXrUbg4QHI9CtejcCpArkfhehQORUD+//////8LQHsUrkfhukhA",
          "dtype": "f8"
         },
         "xaxis": "x",
         "y": [
          "ZANAHORIA DADOS B/2,5KG",
          "ZANAHORIA BABY-8/14-(IQF)",
          "ZANAHORIA BABY-400 GR",
          "Z-ZUMO TOMATE CRISTAL 200 ML",
          "Z-ZUMO NARANJA DON SIMON P6X200 ML",
          "Z-ZUMO MANZANA CRISTAL 200 ML",
          "Z-PIÑA DON SIMON6x200 ML",
          "Z-NECTAR PIÑA S/AZ 6x200ML COFRUTOS",
          "Z-NECTAR PIÑA S/AZ 1L COFRUTOS",
          "Z-NECTAR PIÑA COFRUTOS S/A PRISMA 1L",
          "Z-NECTAR NARANJA S/AZ 6x200ML COFRUTOS",
          "Z-NECTAR NARANJA S/AZ 1L COFRUTOS",
          "Z-NECTAR NARANJA S/A COFRUTOS  1L",
          "Z-NECTAR NARANJA GRANINI 1L",
          "Z-NECTAR MELOCOTON S/AZ 6x200ML COFRUTOS"
         ],
         "yaxis": "y"
        }
       ],
       "layout": {
        "barmode": "relative",
        "legend": {
         "tracegroupgap": 0
        },
        "margin": {
         "t": 60
        },
        "template": {
         "data": {
          "bar": [
           {
            "error_x": {
             "color": "#2a3f5f"
            },
            "error_y": {
             "color": "#2a3f5f"
            },
            "marker": {
             "line": {
              "color": "#E5ECF6",
              "width": 0.5
             },
             "pattern": {
              "fillmode": "overlay",
              "size": 10,
              "solidity": 0.2
             }
            },
            "type": "bar"
           }
          ],
          "barpolar": [
           {
            "marker": {
             "line": {
              "color": "#E5ECF6",
              "width": 0.5
             },
             "pattern": {
              "fillmode": "overlay",
              "size": 10,
              "solidity": 0.2
             }
            },
            "type": "barpolar"
           }
          ],
          "carpet": [
           {
            "aaxis": {
             "endlinecolor": "#2a3f5f",
             "gridcolor": "white",
             "linecolor": "white",
             "minorgridcolor": "white",
             "startlinecolor": "#2a3f5f"
            },
            "baxis": {
             "endlinecolor": "#2a3f5f",
             "gridcolor": "white",
             "linecolor": "white",
             "minorgridcolor": "white",
             "startlinecolor": "#2a3f5f"
            },
            "type": "carpet"
           }
          ],
          "choropleth": [
           {
            "colorbar": {
             "outlinewidth": 0,
             "ticks": ""
            },
            "type": "choropleth"
           }
          ],
          "contour": [
           {
            "colorbar": {
             "outlinewidth": 0,
             "ticks": ""
            },
            "colorscale": [
             [
              0,
              "#0d0887"
             ],
             [
              0.1111111111111111,
              "#46039f"
             ],
             [
              0.2222222222222222,
              "#7201a8"
             ],
             [
              0.3333333333333333,
              "#9c179e"
             ],
             [
              0.4444444444444444,
              "#bd3786"
             ],
             [
              0.5555555555555556,
              "#d8576b"
             ],
             [
              0.6666666666666666,
              "#ed7953"
             ],
             [
              0.7777777777777778,
              "#fb9f3a"
             ],
             [
              0.8888888888888888,
              "#fdca26"
             ],
             [
              1,
              "#f0f921"
             ]
            ],
            "type": "contour"
           }
          ],
          "contourcarpet": [
           {
            "colorbar": {
             "outlinewidth": 0,
             "ticks": ""
            },
            "type": "contourcarpet"
           }
          ],
          "heatmap": [
           {
            "colorbar": {
             "outlinewidth": 0,
             "ticks": ""
            },
            "colorscale": [
             [
              0,
              "#0d0887"
             ],
             [
              0.1111111111111111,
              "#46039f"
             ],
             [
              0.2222222222222222,
              "#7201a8"
             ],
             [
              0.3333333333333333,
              "#9c179e"
             ],
             [
              0.4444444444444444,
              "#bd3786"
             ],
             [
              0.5555555555555556,
              "#d8576b"
             ],
             [
              0.6666666666666666,
              "#ed7953"
             ],
             [
              0.7777777777777778,
              "#fb9f3a"
             ],
             [
              0.8888888888888888,
              "#fdca26"
             ],
             [
              1,
              "#f0f921"
             ]
            ],
            "type": "heatmap"
           }
          ],
          "histogram": [
           {
            "marker": {
             "pattern": {
              "fillmode": "overlay",
              "size": 10,
              "solidity": 0.2
             }
            },
            "type": "histogram"
           }
          ],
          "histogram2d": [
           {
            "colorbar": {
             "outlinewidth": 0,
             "ticks": ""
            },
            "colorscale": [
             [
              0,
              "#0d0887"
             ],
             [
              0.1111111111111111,
              "#46039f"
             ],
             [
              0.2222222222222222,
              "#7201a8"
             ],
             [
              0.3333333333333333,
              "#9c179e"
             ],
             [
              0.4444444444444444,
              "#bd3786"
             ],
             [
              0.5555555555555556,
              "#d8576b"
             ],
             [
              0.6666666666666666,
              "#ed7953"
             ],
             [
              0.7777777777777778,
              "#fb9f3a"
             ],
             [
              0.8888888888888888,
              "#fdca26"
             ],
             [
              1,
              "#f0f921"
             ]
            ],
            "type": "histogram2d"
           }
          ],
          "histogram2dcontour": [
           {
            "colorbar": {
             "outlinewidth": 0,
             "ticks": ""
            },
            "colorscale": [
             [
              0,
              "#0d0887"
             ],
             [
              0.1111111111111111,
              "#46039f"
             ],
             [
              0.2222222222222222,
              "#7201a8"
             ],
             [
              0.3333333333333333,
              "#9c179e"
             ],
             [
              0.4444444444444444,
              "#bd3786"
             ],
             [
              0.5555555555555556,
              "#d8576b"
             ],
             [
              0.6666666666666666,
              "#ed7953"
             ],
             [
              0.7777777777777778,
              "#fb9f3a"
             ],
             [
              0.8888888888888888,
              "#fdca26"
             ],
             [
              1,
              "#f0f921"
             ]
            ],
            "type": "histogram2dcontour"
           }
          ],
          "mesh3d": [
           {
            "colorbar": {
             "outlinewidth": 0,
             "ticks": ""
            },
            "type": "mesh3d"
           }
          ],
          "parcoords": [
           {
            "line": {
             "colorbar": {
              "outlinewidth": 0,
              "ticks": ""
             }
            },
            "type": "parcoords"
           }
          ],
          "pie": [
           {
            "automargin": true,
            "type": "pie"
           }
          ],
          "scatter": [
           {
            "fillpattern": {
             "fillmode": "overlay",
             "size": 10,
             "solidity": 0.2
            },
            "type": "scatter"
           }
          ],
          "scatter3d": [
           {
            "line": {
             "colorbar": {
              "outlinewidth": 0,
              "ticks": ""
             }
            },
            "marker": {
             "colorbar": {
              "outlinewidth": 0,
              "ticks": ""
             }
            },
            "type": "scatter3d"
           }
          ],
          "scattercarpet": [
           {
            "marker": {
             "colorbar": {
              "outlinewidth": 0,
              "ticks": ""
             }
            },
            "type": "scattercarpet"
           }
          ],
          "scattergeo": [
           {
            "marker": {
             "colorbar": {
              "outlinewidth": 0,
              "ticks": ""
             }
            },
            "type": "scattergeo"
           }
          ],
          "scattergl": [
           {
            "marker": {
             "colorbar": {
              "outlinewidth": 0,
              "ticks": ""
             }
            },
            "type": "scattergl"
           }
          ],
          "scattermap": [
           {
            "marker": {
             "colorbar": {
              "outlinewidth": 0,
              "ticks": ""
             }
            },
            "type": "scattermap"
           }
          ],
          "scattermapbox": [
           {
            "marker": {
             "colorbar": {
              "outlinewidth": 0,
              "ticks": ""
             }
            },
            "type": "scattermapbox"
           }
          ],
          "scatterpolar": [
           {
            "marker": {
             "colorbar": {
              "outlinewidth": 0,
              "ticks": ""
             }
            },
            "type": "scatterpolar"
           }
          ],
          "scatterpolargl": [
           {
            "marker": {
             "colorbar": {
              "outlinewidth": 0,
              "ticks": ""
             }
            },
            "type": "scatterpolargl"
           }
          ],
          "scatterternary": [
           {
            "marker": {
             "colorbar": {
              "outlinewidth": 0,
              "ticks": ""
             }
            },
            "type": "scatterternary"
           }
          ],
          "surface": [
           {
            "colorbar": {
             "outlinewidth": 0,
             "ticks": ""
            },
            "colorscale": [
             [
              0,
              "#0d0887"
             ],
             [
              0.1111111111111111,
              "#46039f"
             ],
             [
              0.2222222222222222,
              "#7201a8"
             ],
             [
              0.3333333333333333,
              "#9c179e"
             ],
             [
              0.4444444444444444,
              "#bd3786"
             ],
             [
              0.5555555555555556,
              "#d8576b"
             ],
             [
              0.6666666666666666,
              "#ed7953"
             ],
             [
              0.7777777777777778,
              "#fb9f3a"
             ],
             [
              0.8888888888888888,
              "#fdca26"
             ],
             [
              1,
              "#f0f921"
             ]
            ],
            "type": "surface"
           }
          ],
          "table": [
           {
            "cells": {
             "fill": {
              "color": "#EBF0F8"
             },
             "line": {
              "color": "white"
             }
            },
            "header": {
             "fill": {
              "color": "#C8D4E3"
             },
             "line": {
              "color": "white"
             }
            },
            "type": "table"
           }
          ]
         },
         "layout": {
          "annotationdefaults": {
           "arrowcolor": "#2a3f5f",
           "arrowhead": 0,
           "arrowwidth": 1
          },
          "autotypenumbers": "strict",
          "coloraxis": {
           "colorbar": {
            "outlinewidth": 0,
            "ticks": ""
           }
          },
          "colorscale": {
           "diverging": [
            [
             0,
             "#8e0152"
            ],
            [
             0.1,
             "#c51b7d"
            ],
            [
             0.2,
             "#de77ae"
            ],
            [
             0.3,
             "#f1b6da"
            ],
            [
             0.4,
             "#fde0ef"
            ],
            [
             0.5,
             "#f7f7f7"
            ],
            [
             0.6,
             "#e6f5d0"
            ],
            [
             0.7,
             "#b8e186"
            ],
            [
             0.8,
             "#7fbc41"
            ],
            [
             0.9,
             "#4d9221"
            ],
            [
             1,
             "#276419"
            ]
           ],
           "sequential": [
            [
             0,
             "#0d0887"
            ],
            [
             0.1111111111111111,
             "#46039f"
            ],
            [
             0.2222222222222222,
             "#7201a8"
            ],
            [
             0.3333333333333333,
             "#9c179e"
            ],
            [
             0.4444444444444444,
             "#bd3786"
            ],
            [
             0.5555555555555556,
             "#d8576b"
            ],
            [
             0.6666666666666666,
             "#ed7953"
            ],
            [
             0.7777777777777778,
             "#fb9f3a"
            ],
            [
             0.8888888888888888,
             "#fdca26"
            ],
            [
             1,
             "#f0f921"
            ]
           ],
           "sequentialminus": [
            [
             0,
             "#0d0887"
            ],
            [
             0.1111111111111111,
             "#46039f"
            ],
            [
             0.2222222222222222,
             "#7201a8"
            ],
            [
             0.3333333333333333,
             "#9c179e"
            ],
            [
             0.4444444444444444,
             "#bd3786"
            ],
            [
             0.5555555555555556,
             "#d8576b"
            ],
            [
             0.6666666666666666,
             "#ed7953"
            ],
            [
             0.7777777777777778,
             "#fb9f3a"
            ],
            [
             0.8888888888888888,
             "#fdca26"
            ],
            [
             1,
             "#f0f921"
            ]
           ]
          },
          "colorway": [
           "#636efa",
           "#EF553B",
           "#00cc96",
           "#ab63fa",
           "#FFA15A",
           "#19d3f3",
           "#FF6692",
           "#B6E880",
           "#FF97FF",
           "#FECB52"
          ],
          "font": {
           "color": "#2a3f5f"
          },
          "geo": {
           "bgcolor": "white",
           "lakecolor": "white",
           "landcolor": "#E5ECF6",
           "showlakes": true,
           "showland": true,
           "subunitcolor": "white"
          },
          "hoverlabel": {
           "align": "left"
          },
          "hovermode": "closest",
          "mapbox": {
           "style": "light"
          },
          "paper_bgcolor": "white",
          "plot_bgcolor": "#E5ECF6",
          "polar": {
           "angularaxis": {
            "gridcolor": "white",
            "linecolor": "white",
            "ticks": ""
           },
           "bgcolor": "#E5ECF6",
           "radialaxis": {
            "gridcolor": "white",
            "linecolor": "white",
            "ticks": ""
           }
          },
          "scene": {
           "xaxis": {
            "backgroundcolor": "#E5ECF6",
            "gridcolor": "white",
            "gridwidth": 2,
            "linecolor": "white",
            "showbackground": true,
            "ticks": "",
            "zerolinecolor": "white"
           },
           "yaxis": {
            "backgroundcolor": "#E5ECF6",
            "gridcolor": "white",
            "gridwidth": 2,
            "linecolor": "white",
            "showbackground": true,
            "ticks": "",
            "zerolinecolor": "white"
           },
           "zaxis": {
            "backgroundcolor": "#E5ECF6",
            "gridcolor": "white",
            "gridwidth": 2,
            "linecolor": "white",
            "showbackground": true,
            "ticks": "",
            "zerolinecolor": "white"
           }
          },
          "shapedefaults": {
           "line": {
            "color": "#2a3f5f"
           }
          },
          "ternary": {
           "aaxis": {
            "gridcolor": "white",
            "linecolor": "white",
            "ticks": ""
           },
           "baxis": {
            "gridcolor": "white",
            "linecolor": "white",
            "ticks": ""
           },
           "bgcolor": "#E5ECF6",
           "caxis": {
            "gridcolor": "white",
            "linecolor": "white",
            "ticks": ""
           }
          },
          "title": {
           "x": 0.05
          },
          "xaxis": {
           "automargin": true,
           "gridcolor": "white",
           "linecolor": "white",
           "ticks": "",
           "title": {
            "standoff": 15
           },
           "zerolinecolor": "white",
           "zerolinewidth": 2
          },
          "yaxis": {
           "automargin": true,
           "gridcolor": "white",
           "linecolor": "white",
           "ticks": "",
           "title": {
            "standoff": 15
           },
           "zerolinecolor": "white",
           "zerolinewidth": 2
          }
         }
        },
        "xaxis": {
         "anchor": "y",
         "domain": [
          0,
          1
         ],
         "title": {
          "text": "sum of Margen Beneficio (€)"
         }
        },
        "yaxis": {
         "anchor": "x",
         "domain": [
          0,
          1
         ],
         "title": {
          "text": "Producto"
         }
        }
       }
      }
     },
     "metadata": {},
     "output_type": "display_data"
    }
   ],
   "source": [
    "abordo.loc[:,\"Margen Beneficio (€)\"] = abordo.loc[:,\"Precio de venta (€)\"] - abordo.loc[:,\"Coste (€)\"]\n",
    "\n",
    "abordo_ord = abordo.sort_values(by=\"Producto\", ascending=False)\n",
    "top_15_producto = abordo_ord.head(15)\n",
    "\n",
    "scater_grupo = px.scatter(abordo,\n",
    "                    x=\"Margen Beneficio (€)\",\n",
    "                    y=\"Grupo\")\n",
    "hist_margen = px.histogram(top_15_producto,\n",
    "                        x=\"Margen Beneficio (€)\",\n",
    "                        y=\"Producto\")\n",
    "scater_producto = px.scatter(abordo,\n",
    "                            x= \"Margen Beneficio (€)\",\n",
    "                            y=\"Producto\")\n",
    "scater_grupo.show()\n",
    "scater_producto.show()\n",
    "hist_margen.show()"
   ]
  },
  {
   "cell_type": "markdown",
   "id": "f141f09c",
   "metadata": {},
   "source": [
    "### Comparación de Costes y Precios por Grupo y Producto:\n",
    "Gráfico de Barras Agrupadas o Gráfico de Barras Apiladas: Comparar el coste y el precio de venta para cada Grupo o Producto para visualizar directamente la diferencia (margen)."
   ]
  },
  {
   "cell_type": "code",
   "execution_count": 18,
   "id": "02d30ddf",
   "metadata": {},
   "outputs": [
    {
     "data": {
      "application/vnd.plotly.v1+json": {
       "config": {
        "plotlyServerURL": "https://plot.ly"
       },
       "data": [
        {
         "hovertemplate": "% Beneficio=%{x}<br>Grupo=%{y}<extra></extra>",
         "legendgroup": "",
         "marker": {
          "color": "#636efa",
          "pattern": {
           "shape": ""
          }
         },
         "name": "",
         "orientation": "h",
         "showlegend": false,
         "textposition": "auto",
         "type": "bar",
         "x": {
          "bdata": "AAAAAAD4pkAAAAAAAPihQAAAAAAA+KFAAAAAAACooUAAAAAAAFihQAAAAAAAuKBAAAAAAABUoEAAAAAAACygQP//////359A//////8Xn0AAAAAAAPCeQAEAAAAA2J1A//////+HnUAAAAAAADidQP//////v5xA",
          "dtype": "f8"
         },
         "xaxis": "x",
         "y": [
          "Pan Tostado y Bollería Industrial",
          "Helados - Tarrinas y Vasitos",
          "Bollería - Pasteles Horno Artesano",
          "Quesos",
          "Curados",
          "Pan Tostado y Bollería Industrial",
          "Aceitunas",
          "A - Chocolate - CHR - Tabletas",
          "Calamares - Loligo",
          "Pescados - Enteros y HG",
          "L - Leche - L - Entera",
          "Albóndigas y Croquetas",
          "A - Conservas - SLS- Salsas",
          "A - Condiment - ESP- Carmencita",
          "Pulpos Crudos / Cocidos / Troceados"
         ],
         "yaxis": "y"
        }
       ],
       "layout": {
        "barmode": "relative",
        "legend": {
         "tracegroupgap": 0
        },
        "template": {
         "data": {
          "bar": [
           {
            "error_x": {
             "color": "#2a3f5f"
            },
            "error_y": {
             "color": "#2a3f5f"
            },
            "marker": {
             "line": {
              "color": "#E5ECF6",
              "width": 0.5
             },
             "pattern": {
              "fillmode": "overlay",
              "size": 10,
              "solidity": 0.2
             }
            },
            "type": "bar"
           }
          ],
          "barpolar": [
           {
            "marker": {
             "line": {
              "color": "#E5ECF6",
              "width": 0.5
             },
             "pattern": {
              "fillmode": "overlay",
              "size": 10,
              "solidity": 0.2
             }
            },
            "type": "barpolar"
           }
          ],
          "carpet": [
           {
            "aaxis": {
             "endlinecolor": "#2a3f5f",
             "gridcolor": "white",
             "linecolor": "white",
             "minorgridcolor": "white",
             "startlinecolor": "#2a3f5f"
            },
            "baxis": {
             "endlinecolor": "#2a3f5f",
             "gridcolor": "white",
             "linecolor": "white",
             "minorgridcolor": "white",
             "startlinecolor": "#2a3f5f"
            },
            "type": "carpet"
           }
          ],
          "choropleth": [
           {
            "colorbar": {
             "outlinewidth": 0,
             "ticks": ""
            },
            "type": "choropleth"
           }
          ],
          "contour": [
           {
            "colorbar": {
             "outlinewidth": 0,
             "ticks": ""
            },
            "colorscale": [
             [
              0,
              "#0d0887"
             ],
             [
              0.1111111111111111,
              "#46039f"
             ],
             [
              0.2222222222222222,
              "#7201a8"
             ],
             [
              0.3333333333333333,
              "#9c179e"
             ],
             [
              0.4444444444444444,
              "#bd3786"
             ],
             [
              0.5555555555555556,
              "#d8576b"
             ],
             [
              0.6666666666666666,
              "#ed7953"
             ],
             [
              0.7777777777777778,
              "#fb9f3a"
             ],
             [
              0.8888888888888888,
              "#fdca26"
             ],
             [
              1,
              "#f0f921"
             ]
            ],
            "type": "contour"
           }
          ],
          "contourcarpet": [
           {
            "colorbar": {
             "outlinewidth": 0,
             "ticks": ""
            },
            "type": "contourcarpet"
           }
          ],
          "heatmap": [
           {
            "colorbar": {
             "outlinewidth": 0,
             "ticks": ""
            },
            "colorscale": [
             [
              0,
              "#0d0887"
             ],
             [
              0.1111111111111111,
              "#46039f"
             ],
             [
              0.2222222222222222,
              "#7201a8"
             ],
             [
              0.3333333333333333,
              "#9c179e"
             ],
             [
              0.4444444444444444,
              "#bd3786"
             ],
             [
              0.5555555555555556,
              "#d8576b"
             ],
             [
              0.6666666666666666,
              "#ed7953"
             ],
             [
              0.7777777777777778,
              "#fb9f3a"
             ],
             [
              0.8888888888888888,
              "#fdca26"
             ],
             [
              1,
              "#f0f921"
             ]
            ],
            "type": "heatmap"
           }
          ],
          "histogram": [
           {
            "marker": {
             "pattern": {
              "fillmode": "overlay",
              "size": 10,
              "solidity": 0.2
             }
            },
            "type": "histogram"
           }
          ],
          "histogram2d": [
           {
            "colorbar": {
             "outlinewidth": 0,
             "ticks": ""
            },
            "colorscale": [
             [
              0,
              "#0d0887"
             ],
             [
              0.1111111111111111,
              "#46039f"
             ],
             [
              0.2222222222222222,
              "#7201a8"
             ],
             [
              0.3333333333333333,
              "#9c179e"
             ],
             [
              0.4444444444444444,
              "#bd3786"
             ],
             [
              0.5555555555555556,
              "#d8576b"
             ],
             [
              0.6666666666666666,
              "#ed7953"
             ],
             [
              0.7777777777777778,
              "#fb9f3a"
             ],
             [
              0.8888888888888888,
              "#fdca26"
             ],
             [
              1,
              "#f0f921"
             ]
            ],
            "type": "histogram2d"
           }
          ],
          "histogram2dcontour": [
           {
            "colorbar": {
             "outlinewidth": 0,
             "ticks": ""
            },
            "colorscale": [
             [
              0,
              "#0d0887"
             ],
             [
              0.1111111111111111,
              "#46039f"
             ],
             [
              0.2222222222222222,
              "#7201a8"
             ],
             [
              0.3333333333333333,
              "#9c179e"
             ],
             [
              0.4444444444444444,
              "#bd3786"
             ],
             [
              0.5555555555555556,
              "#d8576b"
             ],
             [
              0.6666666666666666,
              "#ed7953"
             ],
             [
              0.7777777777777778,
              "#fb9f3a"
             ],
             [
              0.8888888888888888,
              "#fdca26"
             ],
             [
              1,
              "#f0f921"
             ]
            ],
            "type": "histogram2dcontour"
           }
          ],
          "mesh3d": [
           {
            "colorbar": {
             "outlinewidth": 0,
             "ticks": ""
            },
            "type": "mesh3d"
           }
          ],
          "parcoords": [
           {
            "line": {
             "colorbar": {
              "outlinewidth": 0,
              "ticks": ""
             }
            },
            "type": "parcoords"
           }
          ],
          "pie": [
           {
            "automargin": true,
            "type": "pie"
           }
          ],
          "scatter": [
           {
            "fillpattern": {
             "fillmode": "overlay",
             "size": 10,
             "solidity": 0.2
            },
            "type": "scatter"
           }
          ],
          "scatter3d": [
           {
            "line": {
             "colorbar": {
              "outlinewidth": 0,
              "ticks": ""
             }
            },
            "marker": {
             "colorbar": {
              "outlinewidth": 0,
              "ticks": ""
             }
            },
            "type": "scatter3d"
           }
          ],
          "scattercarpet": [
           {
            "marker": {
             "colorbar": {
              "outlinewidth": 0,
              "ticks": ""
             }
            },
            "type": "scattercarpet"
           }
          ],
          "scattergeo": [
           {
            "marker": {
             "colorbar": {
              "outlinewidth": 0,
              "ticks": ""
             }
            },
            "type": "scattergeo"
           }
          ],
          "scattergl": [
           {
            "marker": {
             "colorbar": {
              "outlinewidth": 0,
              "ticks": ""
             }
            },
            "type": "scattergl"
           }
          ],
          "scattermap": [
           {
            "marker": {
             "colorbar": {
              "outlinewidth": 0,
              "ticks": ""
             }
            },
            "type": "scattermap"
           }
          ],
          "scattermapbox": [
           {
            "marker": {
             "colorbar": {
              "outlinewidth": 0,
              "ticks": ""
             }
            },
            "type": "scattermapbox"
           }
          ],
          "scatterpolar": [
           {
            "marker": {
             "colorbar": {
              "outlinewidth": 0,
              "ticks": ""
             }
            },
            "type": "scatterpolar"
           }
          ],
          "scatterpolargl": [
           {
            "marker": {
             "colorbar": {
              "outlinewidth": 0,
              "ticks": ""
             }
            },
            "type": "scatterpolargl"
           }
          ],
          "scatterternary": [
           {
            "marker": {
             "colorbar": {
              "outlinewidth": 0,
              "ticks": ""
             }
            },
            "type": "scatterternary"
           }
          ],
          "surface": [
           {
            "colorbar": {
             "outlinewidth": 0,
             "ticks": ""
            },
            "colorscale": [
             [
              0,
              "#0d0887"
             ],
             [
              0.1111111111111111,
              "#46039f"
             ],
             [
              0.2222222222222222,
              "#7201a8"
             ],
             [
              0.3333333333333333,
              "#9c179e"
             ],
             [
              0.4444444444444444,
              "#bd3786"
             ],
             [
              0.5555555555555556,
              "#d8576b"
             ],
             [
              0.6666666666666666,
              "#ed7953"
             ],
             [
              0.7777777777777778,
              "#fb9f3a"
             ],
             [
              0.8888888888888888,
              "#fdca26"
             ],
             [
              1,
              "#f0f921"
             ]
            ],
            "type": "surface"
           }
          ],
          "table": [
           {
            "cells": {
             "fill": {
              "color": "#EBF0F8"
             },
             "line": {
              "color": "white"
             }
            },
            "header": {
             "fill": {
              "color": "#C8D4E3"
             },
             "line": {
              "color": "white"
             }
            },
            "type": "table"
           }
          ]
         },
         "layout": {
          "annotationdefaults": {
           "arrowcolor": "#2a3f5f",
           "arrowhead": 0,
           "arrowwidth": 1
          },
          "autotypenumbers": "strict",
          "coloraxis": {
           "colorbar": {
            "outlinewidth": 0,
            "ticks": ""
           }
          },
          "colorscale": {
           "diverging": [
            [
             0,
             "#8e0152"
            ],
            [
             0.1,
             "#c51b7d"
            ],
            [
             0.2,
             "#de77ae"
            ],
            [
             0.3,
             "#f1b6da"
            ],
            [
             0.4,
             "#fde0ef"
            ],
            [
             0.5,
             "#f7f7f7"
            ],
            [
             0.6,
             "#e6f5d0"
            ],
            [
             0.7,
             "#b8e186"
            ],
            [
             0.8,
             "#7fbc41"
            ],
            [
             0.9,
             "#4d9221"
            ],
            [
             1,
             "#276419"
            ]
           ],
           "sequential": [
            [
             0,
             "#0d0887"
            ],
            [
             0.1111111111111111,
             "#46039f"
            ],
            [
             0.2222222222222222,
             "#7201a8"
            ],
            [
             0.3333333333333333,
             "#9c179e"
            ],
            [
             0.4444444444444444,
             "#bd3786"
            ],
            [
             0.5555555555555556,
             "#d8576b"
            ],
            [
             0.6666666666666666,
             "#ed7953"
            ],
            [
             0.7777777777777778,
             "#fb9f3a"
            ],
            [
             0.8888888888888888,
             "#fdca26"
            ],
            [
             1,
             "#f0f921"
            ]
           ],
           "sequentialminus": [
            [
             0,
             "#0d0887"
            ],
            [
             0.1111111111111111,
             "#46039f"
            ],
            [
             0.2222222222222222,
             "#7201a8"
            ],
            [
             0.3333333333333333,
             "#9c179e"
            ],
            [
             0.4444444444444444,
             "#bd3786"
            ],
            [
             0.5555555555555556,
             "#d8576b"
            ],
            [
             0.6666666666666666,
             "#ed7953"
            ],
            [
             0.7777777777777778,
             "#fb9f3a"
            ],
            [
             0.8888888888888888,
             "#fdca26"
            ],
            [
             1,
             "#f0f921"
            ]
           ]
          },
          "colorway": [
           "#636efa",
           "#EF553B",
           "#00cc96",
           "#ab63fa",
           "#FFA15A",
           "#19d3f3",
           "#FF6692",
           "#B6E880",
           "#FF97FF",
           "#FECB52"
          ],
          "font": {
           "color": "#2a3f5f"
          },
          "geo": {
           "bgcolor": "white",
           "lakecolor": "white",
           "landcolor": "#E5ECF6",
           "showlakes": true,
           "showland": true,
           "subunitcolor": "white"
          },
          "hoverlabel": {
           "align": "left"
          },
          "hovermode": "closest",
          "mapbox": {
           "style": "light"
          },
          "paper_bgcolor": "white",
          "plot_bgcolor": "#E5ECF6",
          "polar": {
           "angularaxis": {
            "gridcolor": "white",
            "linecolor": "white",
            "ticks": ""
           },
           "bgcolor": "#E5ECF6",
           "radialaxis": {
            "gridcolor": "white",
            "linecolor": "white",
            "ticks": ""
           }
          },
          "scene": {
           "xaxis": {
            "backgroundcolor": "#E5ECF6",
            "gridcolor": "white",
            "gridwidth": 2,
            "linecolor": "white",
            "showbackground": true,
            "ticks": "",
            "zerolinecolor": "white"
           },
           "yaxis": {
            "backgroundcolor": "#E5ECF6",
            "gridcolor": "white",
            "gridwidth": 2,
            "linecolor": "white",
            "showbackground": true,
            "ticks": "",
            "zerolinecolor": "white"
           },
           "zaxis": {
            "backgroundcolor": "#E5ECF6",
            "gridcolor": "white",
            "gridwidth": 2,
            "linecolor": "white",
            "showbackground": true,
            "ticks": "",
            "zerolinecolor": "white"
           }
          },
          "shapedefaults": {
           "line": {
            "color": "#2a3f5f"
           }
          },
          "ternary": {
           "aaxis": {
            "gridcolor": "white",
            "linecolor": "white",
            "ticks": ""
           },
           "baxis": {
            "gridcolor": "white",
            "linecolor": "white",
            "ticks": ""
           },
           "bgcolor": "#E5ECF6",
           "caxis": {
            "gridcolor": "white",
            "linecolor": "white",
            "ticks": ""
           }
          },
          "title": {
           "x": 0.05
          },
          "xaxis": {
           "automargin": true,
           "gridcolor": "white",
           "linecolor": "white",
           "ticks": "",
           "title": {
            "standoff": 15
           },
           "zerolinecolor": "white",
           "zerolinewidth": 2
          },
          "yaxis": {
           "automargin": true,
           "gridcolor": "white",
           "linecolor": "white",
           "ticks": "",
           "title": {
            "standoff": 15
           },
           "zerolinecolor": "white",
           "zerolinewidth": 2
          }
         }
        },
        "title": {
         "text": "Top 15 Productos por % Beneficio"
        },
        "xaxis": {
         "anchor": "y",
         "domain": [
          0,
          1
         ],
         "title": {
          "text": "% Beneficio"
         }
        },
        "yaxis": {
         "anchor": "x",
         "domain": [
          0,
          1
         ],
         "title": {
          "text": "Grupo"
         }
        }
       }
      }
     },
     "metadata": {},
     "output_type": "display_data"
    },
    {
     "data": {
      "application/vnd.plotly.v1+json": {
       "config": {
        "plotlyServerURL": "https://plot.ly"
       },
       "data": [
        {
         "hovertemplate": "% Beneficio=%{x}<br>Producto=%{y}<extra></extra>",
         "legendgroup": "",
         "marker": {
          "color": "#636efa",
          "pattern": {
           "shape": ""
          }
         },
         "name": "",
         "orientation": "h",
         "showlegend": false,
         "textposition": "auto",
         "type": "bar",
         "x": {
          "bdata": "AAAAAAD4pkAAAAAAAPihQAAAAAAA+KFAAAAAAACooUAAAAAAAFihQAAAAAAAuKBAAAAAAABUoEAAAAAAACygQP//////359A//////8Xn0AAAAAAAPCeQAEAAAAA2J1A//////+HnUAAAAAAADidQP//////v5xA",
          "dtype": "f8"
         },
         "xaxis": "x",
         "y": [
          "CD-ROSCOS DE VINO B/200 G",
          "H-HRC-TRR-CHOCOLAT 2.5L",
          "HR-EMPANADILLA ARG POLLO (HR-DT)",
          "RFR-LACT-RULO CABRA",
          "RFR-CODILLO DE JAMON PRECORTADO",
          "HR-PAN BARRAS CONGELADAS (5 UDS)",
          "AC-PEPINILLOS EN VINAGRE 340 GR",
          "CH-CHOCOLATE PURO ALMNDRA VALOR S/AZ.150",
          "CAL-LOLIGO/VLG-FAO-34 +1000-IWP-(GG/B)",
          "PESCA-S/C-TRQ/IQF-200/300-(HUBBSI))-(IQF",
          "L-LECHE ENTERA PASCUAL  1 L",
          "AU-CROQ-POLLO-LA ABUELA-B/1 KG-PRIELA",
          "SLS-MAYONESA HEINZ PET 220G",
          "ESP-CRMCTA-MOL-PIMIENTA NEGRA 50 GR",
          "PULPO COC-MITADES 300/500 GR"
         ],
         "yaxis": "y"
        }
       ],
       "layout": {
        "barmode": "relative",
        "legend": {
         "tracegroupgap": 0
        },
        "template": {
         "data": {
          "bar": [
           {
            "error_x": {
             "color": "#2a3f5f"
            },
            "error_y": {
             "color": "#2a3f5f"
            },
            "marker": {
             "line": {
              "color": "#E5ECF6",
              "width": 0.5
             },
             "pattern": {
              "fillmode": "overlay",
              "size": 10,
              "solidity": 0.2
             }
            },
            "type": "bar"
           }
          ],
          "barpolar": [
           {
            "marker": {
             "line": {
              "color": "#E5ECF6",
              "width": 0.5
             },
             "pattern": {
              "fillmode": "overlay",
              "size": 10,
              "solidity": 0.2
             }
            },
            "type": "barpolar"
           }
          ],
          "carpet": [
           {
            "aaxis": {
             "endlinecolor": "#2a3f5f",
             "gridcolor": "white",
             "linecolor": "white",
             "minorgridcolor": "white",
             "startlinecolor": "#2a3f5f"
            },
            "baxis": {
             "endlinecolor": "#2a3f5f",
             "gridcolor": "white",
             "linecolor": "white",
             "minorgridcolor": "white",
             "startlinecolor": "#2a3f5f"
            },
            "type": "carpet"
           }
          ],
          "choropleth": [
           {
            "colorbar": {
             "outlinewidth": 0,
             "ticks": ""
            },
            "type": "choropleth"
           }
          ],
          "contour": [
           {
            "colorbar": {
             "outlinewidth": 0,
             "ticks": ""
            },
            "colorscale": [
             [
              0,
              "#0d0887"
             ],
             [
              0.1111111111111111,
              "#46039f"
             ],
             [
              0.2222222222222222,
              "#7201a8"
             ],
             [
              0.3333333333333333,
              "#9c179e"
             ],
             [
              0.4444444444444444,
              "#bd3786"
             ],
             [
              0.5555555555555556,
              "#d8576b"
             ],
             [
              0.6666666666666666,
              "#ed7953"
             ],
             [
              0.7777777777777778,
              "#fb9f3a"
             ],
             [
              0.8888888888888888,
              "#fdca26"
             ],
             [
              1,
              "#f0f921"
             ]
            ],
            "type": "contour"
           }
          ],
          "contourcarpet": [
           {
            "colorbar": {
             "outlinewidth": 0,
             "ticks": ""
            },
            "type": "contourcarpet"
           }
          ],
          "heatmap": [
           {
            "colorbar": {
             "outlinewidth": 0,
             "ticks": ""
            },
            "colorscale": [
             [
              0,
              "#0d0887"
             ],
             [
              0.1111111111111111,
              "#46039f"
             ],
             [
              0.2222222222222222,
              "#7201a8"
             ],
             [
              0.3333333333333333,
              "#9c179e"
             ],
             [
              0.4444444444444444,
              "#bd3786"
             ],
             [
              0.5555555555555556,
              "#d8576b"
             ],
             [
              0.6666666666666666,
              "#ed7953"
             ],
             [
              0.7777777777777778,
              "#fb9f3a"
             ],
             [
              0.8888888888888888,
              "#fdca26"
             ],
             [
              1,
              "#f0f921"
             ]
            ],
            "type": "heatmap"
           }
          ],
          "histogram": [
           {
            "marker": {
             "pattern": {
              "fillmode": "overlay",
              "size": 10,
              "solidity": 0.2
             }
            },
            "type": "histogram"
           }
          ],
          "histogram2d": [
           {
            "colorbar": {
             "outlinewidth": 0,
             "ticks": ""
            },
            "colorscale": [
             [
              0,
              "#0d0887"
             ],
             [
              0.1111111111111111,
              "#46039f"
             ],
             [
              0.2222222222222222,
              "#7201a8"
             ],
             [
              0.3333333333333333,
              "#9c179e"
             ],
             [
              0.4444444444444444,
              "#bd3786"
             ],
             [
              0.5555555555555556,
              "#d8576b"
             ],
             [
              0.6666666666666666,
              "#ed7953"
             ],
             [
              0.7777777777777778,
              "#fb9f3a"
             ],
             [
              0.8888888888888888,
              "#fdca26"
             ],
             [
              1,
              "#f0f921"
             ]
            ],
            "type": "histogram2d"
           }
          ],
          "histogram2dcontour": [
           {
            "colorbar": {
             "outlinewidth": 0,
             "ticks": ""
            },
            "colorscale": [
             [
              0,
              "#0d0887"
             ],
             [
              0.1111111111111111,
              "#46039f"
             ],
             [
              0.2222222222222222,
              "#7201a8"
             ],
             [
              0.3333333333333333,
              "#9c179e"
             ],
             [
              0.4444444444444444,
              "#bd3786"
             ],
             [
              0.5555555555555556,
              "#d8576b"
             ],
             [
              0.6666666666666666,
              "#ed7953"
             ],
             [
              0.7777777777777778,
              "#fb9f3a"
             ],
             [
              0.8888888888888888,
              "#fdca26"
             ],
             [
              1,
              "#f0f921"
             ]
            ],
            "type": "histogram2dcontour"
           }
          ],
          "mesh3d": [
           {
            "colorbar": {
             "outlinewidth": 0,
             "ticks": ""
            },
            "type": "mesh3d"
           }
          ],
          "parcoords": [
           {
            "line": {
             "colorbar": {
              "outlinewidth": 0,
              "ticks": ""
             }
            },
            "type": "parcoords"
           }
          ],
          "pie": [
           {
            "automargin": true,
            "type": "pie"
           }
          ],
          "scatter": [
           {
            "fillpattern": {
             "fillmode": "overlay",
             "size": 10,
             "solidity": 0.2
            },
            "type": "scatter"
           }
          ],
          "scatter3d": [
           {
            "line": {
             "colorbar": {
              "outlinewidth": 0,
              "ticks": ""
             }
            },
            "marker": {
             "colorbar": {
              "outlinewidth": 0,
              "ticks": ""
             }
            },
            "type": "scatter3d"
           }
          ],
          "scattercarpet": [
           {
            "marker": {
             "colorbar": {
              "outlinewidth": 0,
              "ticks": ""
             }
            },
            "type": "scattercarpet"
           }
          ],
          "scattergeo": [
           {
            "marker": {
             "colorbar": {
              "outlinewidth": 0,
              "ticks": ""
             }
            },
            "type": "scattergeo"
           }
          ],
          "scattergl": [
           {
            "marker": {
             "colorbar": {
              "outlinewidth": 0,
              "ticks": ""
             }
            },
            "type": "scattergl"
           }
          ],
          "scattermap": [
           {
            "marker": {
             "colorbar": {
              "outlinewidth": 0,
              "ticks": ""
             }
            },
            "type": "scattermap"
           }
          ],
          "scattermapbox": [
           {
            "marker": {
             "colorbar": {
              "outlinewidth": 0,
              "ticks": ""
             }
            },
            "type": "scattermapbox"
           }
          ],
          "scatterpolar": [
           {
            "marker": {
             "colorbar": {
              "outlinewidth": 0,
              "ticks": ""
             }
            },
            "type": "scatterpolar"
           }
          ],
          "scatterpolargl": [
           {
            "marker": {
             "colorbar": {
              "outlinewidth": 0,
              "ticks": ""
             }
            },
            "type": "scatterpolargl"
           }
          ],
          "scatterternary": [
           {
            "marker": {
             "colorbar": {
              "outlinewidth": 0,
              "ticks": ""
             }
            },
            "type": "scatterternary"
           }
          ],
          "surface": [
           {
            "colorbar": {
             "outlinewidth": 0,
             "ticks": ""
            },
            "colorscale": [
             [
              0,
              "#0d0887"
             ],
             [
              0.1111111111111111,
              "#46039f"
             ],
             [
              0.2222222222222222,
              "#7201a8"
             ],
             [
              0.3333333333333333,
              "#9c179e"
             ],
             [
              0.4444444444444444,
              "#bd3786"
             ],
             [
              0.5555555555555556,
              "#d8576b"
             ],
             [
              0.6666666666666666,
              "#ed7953"
             ],
             [
              0.7777777777777778,
              "#fb9f3a"
             ],
             [
              0.8888888888888888,
              "#fdca26"
             ],
             [
              1,
              "#f0f921"
             ]
            ],
            "type": "surface"
           }
          ],
          "table": [
           {
            "cells": {
             "fill": {
              "color": "#EBF0F8"
             },
             "line": {
              "color": "white"
             }
            },
            "header": {
             "fill": {
              "color": "#C8D4E3"
             },
             "line": {
              "color": "white"
             }
            },
            "type": "table"
           }
          ]
         },
         "layout": {
          "annotationdefaults": {
           "arrowcolor": "#2a3f5f",
           "arrowhead": 0,
           "arrowwidth": 1
          },
          "autotypenumbers": "strict",
          "coloraxis": {
           "colorbar": {
            "outlinewidth": 0,
            "ticks": ""
           }
          },
          "colorscale": {
           "diverging": [
            [
             0,
             "#8e0152"
            ],
            [
             0.1,
             "#c51b7d"
            ],
            [
             0.2,
             "#de77ae"
            ],
            [
             0.3,
             "#f1b6da"
            ],
            [
             0.4,
             "#fde0ef"
            ],
            [
             0.5,
             "#f7f7f7"
            ],
            [
             0.6,
             "#e6f5d0"
            ],
            [
             0.7,
             "#b8e186"
            ],
            [
             0.8,
             "#7fbc41"
            ],
            [
             0.9,
             "#4d9221"
            ],
            [
             1,
             "#276419"
            ]
           ],
           "sequential": [
            [
             0,
             "#0d0887"
            ],
            [
             0.1111111111111111,
             "#46039f"
            ],
            [
             0.2222222222222222,
             "#7201a8"
            ],
            [
             0.3333333333333333,
             "#9c179e"
            ],
            [
             0.4444444444444444,
             "#bd3786"
            ],
            [
             0.5555555555555556,
             "#d8576b"
            ],
            [
             0.6666666666666666,
             "#ed7953"
            ],
            [
             0.7777777777777778,
             "#fb9f3a"
            ],
            [
             0.8888888888888888,
             "#fdca26"
            ],
            [
             1,
             "#f0f921"
            ]
           ],
           "sequentialminus": [
            [
             0,
             "#0d0887"
            ],
            [
             0.1111111111111111,
             "#46039f"
            ],
            [
             0.2222222222222222,
             "#7201a8"
            ],
            [
             0.3333333333333333,
             "#9c179e"
            ],
            [
             0.4444444444444444,
             "#bd3786"
            ],
            [
             0.5555555555555556,
             "#d8576b"
            ],
            [
             0.6666666666666666,
             "#ed7953"
            ],
            [
             0.7777777777777778,
             "#fb9f3a"
            ],
            [
             0.8888888888888888,
             "#fdca26"
            ],
            [
             1,
             "#f0f921"
            ]
           ]
          },
          "colorway": [
           "#636efa",
           "#EF553B",
           "#00cc96",
           "#ab63fa",
           "#FFA15A",
           "#19d3f3",
           "#FF6692",
           "#B6E880",
           "#FF97FF",
           "#FECB52"
          ],
          "font": {
           "color": "#2a3f5f"
          },
          "geo": {
           "bgcolor": "white",
           "lakecolor": "white",
           "landcolor": "#E5ECF6",
           "showlakes": true,
           "showland": true,
           "subunitcolor": "white"
          },
          "hoverlabel": {
           "align": "left"
          },
          "hovermode": "closest",
          "mapbox": {
           "style": "light"
          },
          "paper_bgcolor": "white",
          "plot_bgcolor": "#E5ECF6",
          "polar": {
           "angularaxis": {
            "gridcolor": "white",
            "linecolor": "white",
            "ticks": ""
           },
           "bgcolor": "#E5ECF6",
           "radialaxis": {
            "gridcolor": "white",
            "linecolor": "white",
            "ticks": ""
           }
          },
          "scene": {
           "xaxis": {
            "backgroundcolor": "#E5ECF6",
            "gridcolor": "white",
            "gridwidth": 2,
            "linecolor": "white",
            "showbackground": true,
            "ticks": "",
            "zerolinecolor": "white"
           },
           "yaxis": {
            "backgroundcolor": "#E5ECF6",
            "gridcolor": "white",
            "gridwidth": 2,
            "linecolor": "white",
            "showbackground": true,
            "ticks": "",
            "zerolinecolor": "white"
           },
           "zaxis": {
            "backgroundcolor": "#E5ECF6",
            "gridcolor": "white",
            "gridwidth": 2,
            "linecolor": "white",
            "showbackground": true,
            "ticks": "",
            "zerolinecolor": "white"
           }
          },
          "shapedefaults": {
           "line": {
            "color": "#2a3f5f"
           }
          },
          "ternary": {
           "aaxis": {
            "gridcolor": "white",
            "linecolor": "white",
            "ticks": ""
           },
           "baxis": {
            "gridcolor": "white",
            "linecolor": "white",
            "ticks": ""
           },
           "bgcolor": "#E5ECF6",
           "caxis": {
            "gridcolor": "white",
            "linecolor": "white",
            "ticks": ""
           }
          },
          "title": {
           "x": 0.05
          },
          "xaxis": {
           "automargin": true,
           "gridcolor": "white",
           "linecolor": "white",
           "ticks": "",
           "title": {
            "standoff": 15
           },
           "zerolinecolor": "white",
           "zerolinewidth": 2
          },
          "yaxis": {
           "automargin": true,
           "gridcolor": "white",
           "linecolor": "white",
           "ticks": "",
           "title": {
            "standoff": 15
           },
           "zerolinecolor": "white",
           "zerolinewidth": 2
          }
         }
        },
        "title": {
         "text": "Top 15 Grupos por % Beneficio"
        },
        "xaxis": {
         "anchor": "y",
         "domain": [
          0,
          1
         ],
         "title": {
          "text": "% Beneficio"
         }
        },
        "yaxis": {
         "anchor": "x",
         "domain": [
          0,
          1
         ],
         "title": {
          "text": "Producto"
         }
        }
       }
      }
     },
     "metadata": {},
     "output_type": "display_data"
    },
    {
     "data": {
      "application/vnd.plotly.v1+json": {
       "config": {
        "plotlyServerURL": "https://plot.ly"
       },
       "data": [
        {
         "bingroup": "x",
         "hovertemplate": "% Beneficio=%{x}<br>count=%{y}<extra></extra>",
         "legendgroup": "",
         "marker": {
          "color": "#636efa",
          "pattern": {
           "shape": ""
          }
         },
         "name": "",
         "orientation": "v",
         "showlegend": false,
         "type": "histogram",
         "x": {
          "bdata": "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",
          "dtype": "f8"
         },
         "xaxis": "x",
         "yaxis": "y"
        }
       ],
       "layout": {
        "barmode": "relative",
        "legend": {
         "tracegroupgap": 0
        },
        "margin": {
         "t": 60
        },
        "template": {
         "data": {
          "bar": [
           {
            "error_x": {
             "color": "#2a3f5f"
            },
            "error_y": {
             "color": "#2a3f5f"
            },
            "marker": {
             "line": {
              "color": "#E5ECF6",
              "width": 0.5
             },
             "pattern": {
              "fillmode": "overlay",
              "size": 10,
              "solidity": 0.2
             }
            },
            "type": "bar"
           }
          ],
          "barpolar": [
           {
            "marker": {
             "line": {
              "color": "#E5ECF6",
              "width": 0.5
             },
             "pattern": {
              "fillmode": "overlay",
              "size": 10,
              "solidity": 0.2
             }
            },
            "type": "barpolar"
           }
          ],
          "carpet": [
           {
            "aaxis": {
             "endlinecolor": "#2a3f5f",
             "gridcolor": "white",
             "linecolor": "white",
             "minorgridcolor": "white",
             "startlinecolor": "#2a3f5f"
            },
            "baxis": {
             "endlinecolor": "#2a3f5f",
             "gridcolor": "white",
             "linecolor": "white",
             "minorgridcolor": "white",
             "startlinecolor": "#2a3f5f"
            },
            "type": "carpet"
           }
          ],
          "choropleth": [
           {
            "colorbar": {
             "outlinewidth": 0,
             "ticks": ""
            },
            "type": "choropleth"
           }
          ],
          "contour": [
           {
            "colorbar": {
             "outlinewidth": 0,
             "ticks": ""
            },
            "colorscale": [
             [
              0,
              "#0d0887"
             ],
             [
              0.1111111111111111,
              "#46039f"
             ],
             [
              0.2222222222222222,
              "#7201a8"
             ],
             [
              0.3333333333333333,
              "#9c179e"
             ],
             [
              0.4444444444444444,
              "#bd3786"
             ],
             [
              0.5555555555555556,
              "#d8576b"
             ],
             [
              0.6666666666666666,
              "#ed7953"
             ],
             [
              0.7777777777777778,
              "#fb9f3a"
             ],
             [
              0.8888888888888888,
              "#fdca26"
             ],
             [
              1,
              "#f0f921"
             ]
            ],
            "type": "contour"
           }
          ],
          "contourcarpet": [
           {
            "colorbar": {
             "outlinewidth": 0,
             "ticks": ""
            },
            "type": "contourcarpet"
           }
          ],
          "heatmap": [
           {
            "colorbar": {
             "outlinewidth": 0,
             "ticks": ""
            },
            "colorscale": [
             [
              0,
              "#0d0887"
             ],
             [
              0.1111111111111111,
              "#46039f"
             ],
             [
              0.2222222222222222,
              "#7201a8"
             ],
             [
              0.3333333333333333,
              "#9c179e"
             ],
             [
              0.4444444444444444,
              "#bd3786"
             ],
             [
              0.5555555555555556,
              "#d8576b"
             ],
             [
              0.6666666666666666,
              "#ed7953"
             ],
             [
              0.7777777777777778,
              "#fb9f3a"
             ],
             [
              0.8888888888888888,
              "#fdca26"
             ],
             [
              1,
              "#f0f921"
             ]
            ],
            "type": "heatmap"
           }
          ],
          "histogram": [
           {
            "marker": {
             "pattern": {
              "fillmode": "overlay",
              "size": 10,
              "solidity": 0.2
             }
            },
            "type": "histogram"
           }
          ],
          "histogram2d": [
           {
            "colorbar": {
             "outlinewidth": 0,
             "ticks": ""
            },
            "colorscale": [
             [
              0,
              "#0d0887"
             ],
             [
              0.1111111111111111,
              "#46039f"
             ],
             [
              0.2222222222222222,
              "#7201a8"
             ],
             [
              0.3333333333333333,
              "#9c179e"
             ],
             [
              0.4444444444444444,
              "#bd3786"
             ],
             [
              0.5555555555555556,
              "#d8576b"
             ],
             [
              0.6666666666666666,
              "#ed7953"
             ],
             [
              0.7777777777777778,
              "#fb9f3a"
             ],
             [
              0.8888888888888888,
              "#fdca26"
             ],
             [
              1,
              "#f0f921"
             ]
            ],
            "type": "histogram2d"
           }
          ],
          "histogram2dcontour": [
           {
            "colorbar": {
             "outlinewidth": 0,
             "ticks": ""
            },
            "colorscale": [
             [
              0,
              "#0d0887"
             ],
             [
              0.1111111111111111,
              "#46039f"
             ],
             [
              0.2222222222222222,
              "#7201a8"
             ],
             [
              0.3333333333333333,
              "#9c179e"
             ],
             [
              0.4444444444444444,
              "#bd3786"
             ],
             [
              0.5555555555555556,
              "#d8576b"
             ],
             [
              0.6666666666666666,
              "#ed7953"
             ],
             [
              0.7777777777777778,
              "#fb9f3a"
             ],
             [
              0.8888888888888888,
              "#fdca26"
             ],
             [
              1,
              "#f0f921"
             ]
            ],
            "type": "histogram2dcontour"
           }
          ],
          "mesh3d": [
           {
            "colorbar": {
             "outlinewidth": 0,
             "ticks": ""
            },
            "type": "mesh3d"
           }
          ],
          "parcoords": [
           {
            "line": {
             "colorbar": {
              "outlinewidth": 0,
              "ticks": ""
             }
            },
            "type": "parcoords"
           }
          ],
          "pie": [
           {
            "automargin": true,
            "type": "pie"
           }
          ],
          "scatter": [
           {
            "fillpattern": {
             "fillmode": "overlay",
             "size": 10,
             "solidity": 0.2
            },
            "type": "scatter"
           }
          ],
          "scatter3d": [
           {
            "line": {
             "colorbar": {
              "outlinewidth": 0,
              "ticks": ""
             }
            },
            "marker": {
             "colorbar": {
              "outlinewidth": 0,
              "ticks": ""
             }
            },
            "type": "scatter3d"
           }
          ],
          "scattercarpet": [
           {
            "marker": {
             "colorbar": {
              "outlinewidth": 0,
              "ticks": ""
             }
            },
            "type": "scattercarpet"
           }
          ],
          "scattergeo": [
           {
            "marker": {
             "colorbar": {
              "outlinewidth": 0,
              "ticks": ""
             }
            },
            "type": "scattergeo"
           }
          ],
          "scattergl": [
           {
            "marker": {
             "colorbar": {
              "outlinewidth": 0,
              "ticks": ""
             }
            },
            "type": "scattergl"
           }
          ],
          "scattermap": [
           {
            "marker": {
             "colorbar": {
              "outlinewidth": 0,
              "ticks": ""
             }
            },
            "type": "scattermap"
           }
          ],
          "scattermapbox": [
           {
            "marker": {
             "colorbar": {
              "outlinewidth": 0,
              "ticks": ""
             }
            },
            "type": "scattermapbox"
           }
          ],
          "scatterpolar": [
           {
            "marker": {
             "colorbar": {
              "outlinewidth": 0,
              "ticks": ""
             }
            },
            "type": "scatterpolar"
           }
          ],
          "scatterpolargl": [
           {
            "marker": {
             "colorbar": {
              "outlinewidth": 0,
              "ticks": ""
             }
            },
            "type": "scatterpolargl"
           }
          ],
          "scatterternary": [
           {
            "marker": {
             "colorbar": {
              "outlinewidth": 0,
              "ticks": ""
             }
            },
            "type": "scatterternary"
           }
          ],
          "surface": [
           {
            "colorbar": {
             "outlinewidth": 0,
             "ticks": ""
            },
            "colorscale": [
             [
              0,
              "#0d0887"
             ],
             [
              0.1111111111111111,
              "#46039f"
             ],
             [
              0.2222222222222222,
              "#7201a8"
             ],
             [
              0.3333333333333333,
              "#9c179e"
             ],
             [
              0.4444444444444444,
              "#bd3786"
             ],
             [
              0.5555555555555556,
              "#d8576b"
             ],
             [
              0.6666666666666666,
              "#ed7953"
             ],
             [
              0.7777777777777778,
              "#fb9f3a"
             ],
             [
              0.8888888888888888,
              "#fdca26"
             ],
             [
              1,
              "#f0f921"
             ]
            ],
            "type": "surface"
           }
          ],
          "table": [
           {
            "cells": {
             "fill": {
              "color": "#EBF0F8"
             },
             "line": {
              "color": "white"
             }
            },
            "header": {
             "fill": {
              "color": "#C8D4E3"
             },
             "line": {
              "color": "white"
             }
            },
            "type": "table"
           }
          ]
         },
         "layout": {
          "annotationdefaults": {
           "arrowcolor": "#2a3f5f",
           "arrowhead": 0,
           "arrowwidth": 1
          },
          "autotypenumbers": "strict",
          "coloraxis": {
           "colorbar": {
            "outlinewidth": 0,
            "ticks": ""
           }
          },
          "colorscale": {
           "diverging": [
            [
             0,
             "#8e0152"
            ],
            [
             0.1,
             "#c51b7d"
            ],
            [
             0.2,
             "#de77ae"
            ],
            [
             0.3,
             "#f1b6da"
            ],
            [
             0.4,
             "#fde0ef"
            ],
            [
             0.5,
             "#f7f7f7"
            ],
            [
             0.6,
             "#e6f5d0"
            ],
            [
             0.7,
             "#b8e186"
            ],
            [
             0.8,
             "#7fbc41"
            ],
            [
             0.9,
             "#4d9221"
            ],
            [
             1,
             "#276419"
            ]
           ],
           "sequential": [
            [
             0,
             "#0d0887"
            ],
            [
             0.1111111111111111,
             "#46039f"
            ],
            [
             0.2222222222222222,
             "#7201a8"
            ],
            [
             0.3333333333333333,
             "#9c179e"
            ],
            [
             0.4444444444444444,
             "#bd3786"
            ],
            [
             0.5555555555555556,
             "#d8576b"
            ],
            [
             0.6666666666666666,
             "#ed7953"
            ],
            [
             0.7777777777777778,
             "#fb9f3a"
            ],
            [
             0.8888888888888888,
             "#fdca26"
            ],
            [
             1,
             "#f0f921"
            ]
           ],
           "sequentialminus": [
            [
             0,
             "#0d0887"
            ],
            [
             0.1111111111111111,
             "#46039f"
            ],
            [
             0.2222222222222222,
             "#7201a8"
            ],
            [
             0.3333333333333333,
             "#9c179e"
            ],
            [
             0.4444444444444444,
             "#bd3786"
            ],
            [
             0.5555555555555556,
             "#d8576b"
            ],
            [
             0.6666666666666666,
             "#ed7953"
            ],
            [
             0.7777777777777778,
             "#fb9f3a"
            ],
            [
             0.8888888888888888,
             "#fdca26"
            ],
            [
             1,
             "#f0f921"
            ]
           ]
          },
          "colorway": [
           "#636efa",
           "#EF553B",
           "#00cc96",
           "#ab63fa",
           "#FFA15A",
           "#19d3f3",
           "#FF6692",
           "#B6E880",
           "#FF97FF",
           "#FECB52"
          ],
          "font": {
           "color": "#2a3f5f"
          },
          "geo": {
           "bgcolor": "white",
           "lakecolor": "white",
           "landcolor": "#E5ECF6",
           "showlakes": true,
           "showland": true,
           "subunitcolor": "white"
          },
          "hoverlabel": {
           "align": "left"
          },
          "hovermode": "closest",
          "mapbox": {
           "style": "light"
          },
          "paper_bgcolor": "white",
          "plot_bgcolor": "#E5ECF6",
          "polar": {
           "angularaxis": {
            "gridcolor": "white",
            "linecolor": "white",
            "ticks": ""
           },
           "bgcolor": "#E5ECF6",
           "radialaxis": {
            "gridcolor": "white",
            "linecolor": "white",
            "ticks": ""
           }
          },
          "scene": {
           "xaxis": {
            "backgroundcolor": "#E5ECF6",
            "gridcolor": "white",
            "gridwidth": 2,
            "linecolor": "white",
            "showbackground": true,
            "ticks": "",
            "zerolinecolor": "white"
           },
           "yaxis": {
            "backgroundcolor": "#E5ECF6",
            "gridcolor": "white",
            "gridwidth": 2,
            "linecolor": "white",
            "showbackground": true,
            "ticks": "",
            "zerolinecolor": "white"
           },
           "zaxis": {
            "backgroundcolor": "#E5ECF6",
            "gridcolor": "white",
            "gridwidth": 2,
            "linecolor": "white",
            "showbackground": true,
            "ticks": "",
            "zerolinecolor": "white"
           }
          },
          "shapedefaults": {
           "line": {
            "color": "#2a3f5f"
           }
          },
          "ternary": {
           "aaxis": {
            "gridcolor": "white",
            "linecolor": "white",
            "ticks": ""
           },
           "baxis": {
            "gridcolor": "white",
            "linecolor": "white",
            "ticks": ""
           },
           "bgcolor": "#E5ECF6",
           "caxis": {
            "gridcolor": "white",
            "linecolor": "white",
            "ticks": ""
           }
          },
          "title": {
           "x": 0.05
          },
          "xaxis": {
           "automargin": true,
           "gridcolor": "white",
           "linecolor": "white",
           "ticks": "",
           "title": {
            "standoff": 15
           },
           "zerolinecolor": "white",
           "zerolinewidth": 2
          },
          "yaxis": {
           "automargin": true,
           "gridcolor": "white",
           "linecolor": "white",
           "ticks": "",
           "title": {
            "standoff": 15
           },
           "zerolinecolor": "white",
           "zerolinewidth": 2
          }
         }
        },
        "xaxis": {
         "anchor": "y",
         "domain": [
          0,
          1
         ],
         "title": {
          "text": "% Beneficio"
         }
        },
        "yaxis": {
         "anchor": "x",
         "domain": [
          0,
          1
         ],
         "title": {
          "text": "count"
         }
        }
       }
      }
     },
     "metadata": {},
     "output_type": "display_data"
    }
   ],
   "source": [
    "abordo.loc[:,\"% Beneficio\"] = np.round(abordo.loc[:,\"Margen Beneficio (€)\"] / abordo.loc[:,\"Coste (€)\"],1) * 100\n",
    "\n",
    "\n",
    "abordo_ordenado = abordo.sort_values(by=\"% Beneficio\", ascending=False)\n",
    "top_15_grupo = abordo_ordenado.head(15)\n",
    "\n",
    "hist2= px.histogram(abordo,\n",
    "                    x=\"% Beneficio\")\n",
    "                    \n",
    "bar_grupo = px.bar(top_15_grupo,\n",
    "            x= \"% Beneficio\",\n",
    "            y=\"Producto\",\n",
    "            title='Top 15 Grupos por % Beneficio')\n",
    "bar_producto = px.bar(top_15_grupo,\n",
    "                        x=\"% Beneficio\",\n",
    "                        y=\"Grupo\",\n",
    "                        title='Top 15 Productos por % Beneficio')\n",
    "\n",
    "bar_producto.show()\n",
    "bar_grupo.show()\n",
    "hist2.show()"
   ]
  },
  {
   "cell_type": "code",
   "execution_count": 32,
   "id": "c501c5cf",
   "metadata": {},
   "outputs": [
    {
     "data": {
      "text/plain": [
       "1       9.384615\n",
       "2       2.647549\n",
       "3       1.265152\n",
       "4       5.198630\n",
       "5       5.830189\n",
       "          ...   \n",
       "2035    1.525526\n",
       "2036    2.797267\n",
       "2037    3.934996\n",
       "2038    3.968635\n",
       "2039    1.241213\n",
       "Name: Ratio Precio/Costo, Length: 2039, dtype: float64"
      ]
     },
     "execution_count": 32,
     "metadata": {},
     "output_type": "execute_result"
    }
   ],
   "source": [
    "abordo.loc[:,\"Ratio Precio/Costo\"] = abordo.loc[:,\"Precio de venta (€)\"] / abordo.loc[:,\"Coste (€)\"] \n",
    "abordo.loc[:,\"Ratio Precio/Costo\"]\n"
   ]
  },
  {
   "cell_type": "code",
   "execution_count": 20,
   "id": "ca5f0222",
   "metadata": {},
   "outputs": [
    {
     "data": {
      "application/vnd.plotly.v1+json": {
       "config": {
        "plotlyServerURL": "https://plot.ly"
       },
       "data": [
        {
         "hovertemplate": "Grupo=%{x}<br>Suma del Margen de Beneficio (€)=%{y}<extra></extra>",
         "legendgroup": "",
         "marker": {
          "color": "#636efa",
          "pattern": {
           "shape": ""
          }
         },
         "name": "",
         "orientation": "v",
         "showlegend": false,
         "textposition": "auto",
         "type": "bar",
         "x": [
          "A - Condiment - ESP- Carmencita",
          "A - BLL - Bollería Industrial",
          "Salazones",
          "Carnes - Cerdo y mixtas",
          "Bollería - Pasteles Horno Artesano",
          "Mariscos Crudos - Cigalas y similares",
          "MONOPRODUCTO - Formato Horeca",
          "A - Galletas -Rellenas",
          "Platos Preparados - Carnes",
          "A - Aperitivos - APF- Frutos Secos"
         ],
         "xaxis": "x",
         "y": {
          "bdata": "KVyPwvW/mEDsUbgehUWRQM3MzMzMCo9Aj8L1KFwHhUC4HoXrUa6EQBSuR+F6pIRA4XoUrkfvg0AzMzMzMz2DQEjhehSu+YFAexSuR+HUgUA=",
          "dtype": "f8"
         },
         "yaxis": "y"
        }
       ],
       "layout": {
        "barmode": "relative",
        "legend": {
         "tracegroupgap": 0
        },
        "template": {
         "data": {
          "bar": [
           {
            "error_x": {
             "color": "#2a3f5f"
            },
            "error_y": {
             "color": "#2a3f5f"
            },
            "marker": {
             "line": {
              "color": "#E5ECF6",
              "width": 0.5
             },
             "pattern": {
              "fillmode": "overlay",
              "size": 10,
              "solidity": 0.2
             }
            },
            "type": "bar"
           }
          ],
          "barpolar": [
           {
            "marker": {
             "line": {
              "color": "#E5ECF6",
              "width": 0.5
             },
             "pattern": {
              "fillmode": "overlay",
              "size": 10,
              "solidity": 0.2
             }
            },
            "type": "barpolar"
           }
          ],
          "carpet": [
           {
            "aaxis": {
             "endlinecolor": "#2a3f5f",
             "gridcolor": "white",
             "linecolor": "white",
             "minorgridcolor": "white",
             "startlinecolor": "#2a3f5f"
            },
            "baxis": {
             "endlinecolor": "#2a3f5f",
             "gridcolor": "white",
             "linecolor": "white",
             "minorgridcolor": "white",
             "startlinecolor": "#2a3f5f"
            },
            "type": "carpet"
           }
          ],
          "choropleth": [
           {
            "colorbar": {
             "outlinewidth": 0,
             "ticks": ""
            },
            "type": "choropleth"
           }
          ],
          "contour": [
           {
            "colorbar": {
             "outlinewidth": 0,
             "ticks": ""
            },
            "colorscale": [
             [
              0,
              "#0d0887"
             ],
             [
              0.1111111111111111,
              "#46039f"
             ],
             [
              0.2222222222222222,
              "#7201a8"
             ],
             [
              0.3333333333333333,
              "#9c179e"
             ],
             [
              0.4444444444444444,
              "#bd3786"
             ],
             [
              0.5555555555555556,
              "#d8576b"
             ],
             [
              0.6666666666666666,
              "#ed7953"
             ],
             [
              0.7777777777777778,
              "#fb9f3a"
             ],
             [
              0.8888888888888888,
              "#fdca26"
             ],
             [
              1,
              "#f0f921"
             ]
            ],
            "type": "contour"
           }
          ],
          "contourcarpet": [
           {
            "colorbar": {
             "outlinewidth": 0,
             "ticks": ""
            },
            "type": "contourcarpet"
           }
          ],
          "heatmap": [
           {
            "colorbar": {
             "outlinewidth": 0,
             "ticks": ""
            },
            "colorscale": [
             [
              0,
              "#0d0887"
             ],
             [
              0.1111111111111111,
              "#46039f"
             ],
             [
              0.2222222222222222,
              "#7201a8"
             ],
             [
              0.3333333333333333,
              "#9c179e"
             ],
             [
              0.4444444444444444,
              "#bd3786"
             ],
             [
              0.5555555555555556,
              "#d8576b"
             ],
             [
              0.6666666666666666,
              "#ed7953"
             ],
             [
              0.7777777777777778,
              "#fb9f3a"
             ],
             [
              0.8888888888888888,
              "#fdca26"
             ],
             [
              1,
              "#f0f921"
             ]
            ],
            "type": "heatmap"
           }
          ],
          "histogram": [
           {
            "marker": {
             "pattern": {
              "fillmode": "overlay",
              "size": 10,
              "solidity": 0.2
             }
            },
            "type": "histogram"
           }
          ],
          "histogram2d": [
           {
            "colorbar": {
             "outlinewidth": 0,
             "ticks": ""
            },
            "colorscale": [
             [
              0,
              "#0d0887"
             ],
             [
              0.1111111111111111,
              "#46039f"
             ],
             [
              0.2222222222222222,
              "#7201a8"
             ],
             [
              0.3333333333333333,
              "#9c179e"
             ],
             [
              0.4444444444444444,
              "#bd3786"
             ],
             [
              0.5555555555555556,
              "#d8576b"
             ],
             [
              0.6666666666666666,
              "#ed7953"
             ],
             [
              0.7777777777777778,
              "#fb9f3a"
             ],
             [
              0.8888888888888888,
              "#fdca26"
             ],
             [
              1,
              "#f0f921"
             ]
            ],
            "type": "histogram2d"
           }
          ],
          "histogram2dcontour": [
           {
            "colorbar": {
             "outlinewidth": 0,
             "ticks": ""
            },
            "colorscale": [
             [
              0,
              "#0d0887"
             ],
             [
              0.1111111111111111,
              "#46039f"
             ],
             [
              0.2222222222222222,
              "#7201a8"
             ],
             [
              0.3333333333333333,
              "#9c179e"
             ],
             [
              0.4444444444444444,
              "#bd3786"
             ],
             [
              0.5555555555555556,
              "#d8576b"
             ],
             [
              0.6666666666666666,
              "#ed7953"
             ],
             [
              0.7777777777777778,
              "#fb9f3a"
             ],
             [
              0.8888888888888888,
              "#fdca26"
             ],
             [
              1,
              "#f0f921"
             ]
            ],
            "type": "histogram2dcontour"
           }
          ],
          "mesh3d": [
           {
            "colorbar": {
             "outlinewidth": 0,
             "ticks": ""
            },
            "type": "mesh3d"
           }
          ],
          "parcoords": [
           {
            "line": {
             "colorbar": {
              "outlinewidth": 0,
              "ticks": ""
             }
            },
            "type": "parcoords"
           }
          ],
          "pie": [
           {
            "automargin": true,
            "type": "pie"
           }
          ],
          "scatter": [
           {
            "fillpattern": {
             "fillmode": "overlay",
             "size": 10,
             "solidity": 0.2
            },
            "type": "scatter"
           }
          ],
          "scatter3d": [
           {
            "line": {
             "colorbar": {
              "outlinewidth": 0,
              "ticks": ""
             }
            },
            "marker": {
             "colorbar": {
              "outlinewidth": 0,
              "ticks": ""
             }
            },
            "type": "scatter3d"
           }
          ],
          "scattercarpet": [
           {
            "marker": {
             "colorbar": {
              "outlinewidth": 0,
              "ticks": ""
             }
            },
            "type": "scattercarpet"
           }
          ],
          "scattergeo": [
           {
            "marker": {
             "colorbar": {
              "outlinewidth": 0,
              "ticks": ""
             }
            },
            "type": "scattergeo"
           }
          ],
          "scattergl": [
           {
            "marker": {
             "colorbar": {
              "outlinewidth": 0,
              "ticks": ""
             }
            },
            "type": "scattergl"
           }
          ],
          "scattermap": [
           {
            "marker": {
             "colorbar": {
              "outlinewidth": 0,
              "ticks": ""
             }
            },
            "type": "scattermap"
           }
          ],
          "scattermapbox": [
           {
            "marker": {
             "colorbar": {
              "outlinewidth": 0,
              "ticks": ""
             }
            },
            "type": "scattermapbox"
           }
          ],
          "scatterpolar": [
           {
            "marker": {
             "colorbar": {
              "outlinewidth": 0,
              "ticks": ""
             }
            },
            "type": "scatterpolar"
           }
          ],
          "scatterpolargl": [
           {
            "marker": {
             "colorbar": {
              "outlinewidth": 0,
              "ticks": ""
             }
            },
            "type": "scatterpolargl"
           }
          ],
          "scatterternary": [
           {
            "marker": {
             "colorbar": {
              "outlinewidth": 0,
              "ticks": ""
             }
            },
            "type": "scatterternary"
           }
          ],
          "surface": [
           {
            "colorbar": {
             "outlinewidth": 0,
             "ticks": ""
            },
            "colorscale": [
             [
              0,
              "#0d0887"
             ],
             [
              0.1111111111111111,
              "#46039f"
             ],
             [
              0.2222222222222222,
              "#7201a8"
             ],
             [
              0.3333333333333333,
              "#9c179e"
             ],
             [
              0.4444444444444444,
              "#bd3786"
             ],
             [
              0.5555555555555556,
              "#d8576b"
             ],
             [
              0.6666666666666666,
              "#ed7953"
             ],
             [
              0.7777777777777778,
              "#fb9f3a"
             ],
             [
              0.8888888888888888,
              "#fdca26"
             ],
             [
              1,
              "#f0f921"
             ]
            ],
            "type": "surface"
           }
          ],
          "table": [
           {
            "cells": {
             "fill": {
              "color": "#EBF0F8"
             },
             "line": {
              "color": "white"
             }
            },
            "header": {
             "fill": {
              "color": "#C8D4E3"
             },
             "line": {
              "color": "white"
             }
            },
            "type": "table"
           }
          ]
         },
         "layout": {
          "annotationdefaults": {
           "arrowcolor": "#2a3f5f",
           "arrowhead": 0,
           "arrowwidth": 1
          },
          "autotypenumbers": "strict",
          "coloraxis": {
           "colorbar": {
            "outlinewidth": 0,
            "ticks": ""
           }
          },
          "colorscale": {
           "diverging": [
            [
             0,
             "#8e0152"
            ],
            [
             0.1,
             "#c51b7d"
            ],
            [
             0.2,
             "#de77ae"
            ],
            [
             0.3,
             "#f1b6da"
            ],
            [
             0.4,
             "#fde0ef"
            ],
            [
             0.5,
             "#f7f7f7"
            ],
            [
             0.6,
             "#e6f5d0"
            ],
            [
             0.7,
             "#b8e186"
            ],
            [
             0.8,
             "#7fbc41"
            ],
            [
             0.9,
             "#4d9221"
            ],
            [
             1,
             "#276419"
            ]
           ],
           "sequential": [
            [
             0,
             "#0d0887"
            ],
            [
             0.1111111111111111,
             "#46039f"
            ],
            [
             0.2222222222222222,
             "#7201a8"
            ],
            [
             0.3333333333333333,
             "#9c179e"
            ],
            [
             0.4444444444444444,
             "#bd3786"
            ],
            [
             0.5555555555555556,
             "#d8576b"
            ],
            [
             0.6666666666666666,
             "#ed7953"
            ],
            [
             0.7777777777777778,
             "#fb9f3a"
            ],
            [
             0.8888888888888888,
             "#fdca26"
            ],
            [
             1,
             "#f0f921"
            ]
           ],
           "sequentialminus": [
            [
             0,
             "#0d0887"
            ],
            [
             0.1111111111111111,
             "#46039f"
            ],
            [
             0.2222222222222222,
             "#7201a8"
            ],
            [
             0.3333333333333333,
             "#9c179e"
            ],
            [
             0.4444444444444444,
             "#bd3786"
            ],
            [
             0.5555555555555556,
             "#d8576b"
            ],
            [
             0.6666666666666666,
             "#ed7953"
            ],
            [
             0.7777777777777778,
             "#fb9f3a"
            ],
            [
             0.8888888888888888,
             "#fdca26"
            ],
            [
             1,
             "#f0f921"
            ]
           ]
          },
          "colorway": [
           "#636efa",
           "#EF553B",
           "#00cc96",
           "#ab63fa",
           "#FFA15A",
           "#19d3f3",
           "#FF6692",
           "#B6E880",
           "#FF97FF",
           "#FECB52"
          ],
          "font": {
           "color": "#2a3f5f"
          },
          "geo": {
           "bgcolor": "white",
           "lakecolor": "white",
           "landcolor": "#E5ECF6",
           "showlakes": true,
           "showland": true,
           "subunitcolor": "white"
          },
          "hoverlabel": {
           "align": "left"
          },
          "hovermode": "closest",
          "mapbox": {
           "style": "light"
          },
          "paper_bgcolor": "white",
          "plot_bgcolor": "#E5ECF6",
          "polar": {
           "angularaxis": {
            "gridcolor": "white",
            "linecolor": "white",
            "ticks": ""
           },
           "bgcolor": "#E5ECF6",
           "radialaxis": {
            "gridcolor": "white",
            "linecolor": "white",
            "ticks": ""
           }
          },
          "scene": {
           "xaxis": {
            "backgroundcolor": "#E5ECF6",
            "gridcolor": "white",
            "gridwidth": 2,
            "linecolor": "white",
            "showbackground": true,
            "ticks": "",
            "zerolinecolor": "white"
           },
           "yaxis": {
            "backgroundcolor": "#E5ECF6",
            "gridcolor": "white",
            "gridwidth": 2,
            "linecolor": "white",
            "showbackground": true,
            "ticks": "",
            "zerolinecolor": "white"
           },
           "zaxis": {
            "backgroundcolor": "#E5ECF6",
            "gridcolor": "white",
            "gridwidth": 2,
            "linecolor": "white",
            "showbackground": true,
            "ticks": "",
            "zerolinecolor": "white"
           }
          },
          "shapedefaults": {
           "line": {
            "color": "#2a3f5f"
           }
          },
          "ternary": {
           "aaxis": {
            "gridcolor": "white",
            "linecolor": "white",
            "ticks": ""
           },
           "baxis": {
            "gridcolor": "white",
            "linecolor": "white",
            "ticks": ""
           },
           "bgcolor": "#E5ECF6",
           "caxis": {
            "gridcolor": "white",
            "linecolor": "white",
            "ticks": ""
           }
          },
          "title": {
           "x": 0.05
          },
          "xaxis": {
           "automargin": true,
           "gridcolor": "white",
           "linecolor": "white",
           "ticks": "",
           "title": {
            "standoff": 15
           },
           "zerolinecolor": "white",
           "zerolinewidth": 2
          },
          "yaxis": {
           "automargin": true,
           "gridcolor": "white",
           "linecolor": "white",
           "ticks": "",
           "title": {
            "standoff": 15
           },
           "zerolinecolor": "white",
           "zerolinewidth": 2
          }
         }
        },
        "title": {
         "text": "Suma del Margen de Beneficio (€) por Grupo (Top 10 por beneficio)"
        },
        "xaxis": {
         "anchor": "y",
         "domain": [
          0,
          1
         ],
         "tickangle": -45,
         "title": {
          "text": "Grupo"
         }
        },
        "yaxis": {
         "anchor": "x",
         "domain": [
          0,
          1
         ],
         "title": {
          "text": "Suma del Margen de Beneficio (€)"
         }
        }
       }
      }
     },
     "metadata": {},
     "output_type": "display_data"
    }
   ],
   "source": [
    "\n",
    "beneficio_por_grupo = abordo.groupby('Grupo')['Margen Beneficio (€)'].sum().sort_values(ascending=False)\n",
    "\n",
    "beneficio_df = beneficio_por_grupo.reset_index()\n",
    "beneficio_df.columns = ['Grupo', 'Suma Margen Beneficio (€)']\n",
    "\n",
    "\n",
    "# Mostrar los 15 primeros por suma de margen para una mejor visualización de los líderes.\n",
    "top_beneficio_df = beneficio_df.head(10)\n",
    "\n",
    "fig1 = px.bar(top_beneficio_df,\n",
    "            x='Grupo',\n",
    "            y='Suma Margen Beneficio (€)',\n",
    "            title='Suma del Margen de Beneficio (€) por Grupo (Top 10 por beneficio)',\n",
    "            labels={'Suma Margen Beneficio (€)': 'Suma del Margen de Beneficio (€)'})\n",
    "fig1.update_layout(xaxis_tickangle=-45) # Rotar etiquetas del eje X para mejor legibilidad\n",
    "fig1.show()"
   ]
  },
  {
   "cell_type": "markdown",
   "id": "2904a567",
   "metadata": {},
   "source": [
    "### DataFrame sobre el precio de la luz según la tarifa contratada, en la zona donde se encuentra el almacen central:"
   ]
  },
  {
   "cell_type": "code",
   "execution_count": 21,
   "id": "7dbb9767",
   "metadata": {},
   "outputs": [
    {
     "data": {
      "application/vnd.plotly.v1+json": {
       "config": {
        "plotlyServerURL": "https://plot.ly"
       },
       "data": [
        {
         "hovertemplate": "Mes=%{x}<br>Coste Total (€)=%{y}<extra></extra>",
         "legendgroup": "",
         "line": {
          "color": "#E68027",
          "dash": "solid",
          "shape": "linear"
         },
         "marker": {
          "symbol": "circle"
         },
         "mode": "lines+markers",
         "name": "",
         "orientation": "v",
         "showlegend": false,
         "type": "scatter",
         "x": [
          "2024-01-01T00:00:00.000000000",
          "2024-02-01T00:00:00.000000000",
          "2024-03-01T00:00:00.000000000",
          "2024-04-01T00:00:00.000000000",
          "2024-05-01T00:00:00.000000000",
          "2024-06-01T00:00:00.000000000",
          "2024-07-01T00:00:00.000000000",
          "2024-08-01T00:00:00.000000000",
          "2024-09-01T00:00:00.000000000",
          "2024-10-01T00:00:00.000000000",
          "2024-11-01T00:00:00.000000000",
          "2024-12-01T00:00:00.000000000",
          "2025-01-01T00:00:00.000000000",
          "2025-02-01T00:00:00.000000000",
          "2025-03-01T00:00:00.000000000",
          "2025-04-01T00:00:00.000000000",
          "2025-05-01T00:00:00.000000000"
         ],
         "xaxis": "x",
         "y": {
          "bdata": "iBO0FNQXqBY4GGQZkBrIGSwaLBoAGV4aTB0gHOgcQB+kHw==",
          "dtype": "i2"
         },
         "yaxis": "y"
        }
       ],
       "layout": {
        "font": {
         "color": "#4C87AF",
         "family": "Arial, sans-serif",
         "size": 12
        },
        "hovermode": "x unified",
        "legend": {
         "tracegroupgap": 0
        },
        "paper_bgcolor": "white",
        "plot_bgcolor": "white",
        "template": {
         "data": {
          "bar": [
           {
            "error_x": {
             "color": "#2a3f5f"
            },
            "error_y": {
             "color": "#2a3f5f"
            },
            "marker": {
             "line": {
              "color": "#E5ECF6",
              "width": 0.5
             },
             "pattern": {
              "fillmode": "overlay",
              "size": 10,
              "solidity": 0.2
             }
            },
            "type": "bar"
           }
          ],
          "barpolar": [
           {
            "marker": {
             "line": {
              "color": "#E5ECF6",
              "width": 0.5
             },
             "pattern": {
              "fillmode": "overlay",
              "size": 10,
              "solidity": 0.2
             }
            },
            "type": "barpolar"
           }
          ],
          "carpet": [
           {
            "aaxis": {
             "endlinecolor": "#2a3f5f",
             "gridcolor": "white",
             "linecolor": "white",
             "minorgridcolor": "white",
             "startlinecolor": "#2a3f5f"
            },
            "baxis": {
             "endlinecolor": "#2a3f5f",
             "gridcolor": "white",
             "linecolor": "white",
             "minorgridcolor": "white",
             "startlinecolor": "#2a3f5f"
            },
            "type": "carpet"
           }
          ],
          "choropleth": [
           {
            "colorbar": {
             "outlinewidth": 0,
             "ticks": ""
            },
            "type": "choropleth"
           }
          ],
          "contour": [
           {
            "colorbar": {
             "outlinewidth": 0,
             "ticks": ""
            },
            "colorscale": [
             [
              0,
              "#0d0887"
             ],
             [
              0.1111111111111111,
              "#46039f"
             ],
             [
              0.2222222222222222,
              "#7201a8"
             ],
             [
              0.3333333333333333,
              "#9c179e"
             ],
             [
              0.4444444444444444,
              "#bd3786"
             ],
             [
              0.5555555555555556,
              "#d8576b"
             ],
             [
              0.6666666666666666,
              "#ed7953"
             ],
             [
              0.7777777777777778,
              "#fb9f3a"
             ],
             [
              0.8888888888888888,
              "#fdca26"
             ],
             [
              1,
              "#f0f921"
             ]
            ],
            "type": "contour"
           }
          ],
          "contourcarpet": [
           {
            "colorbar": {
             "outlinewidth": 0,
             "ticks": ""
            },
            "type": "contourcarpet"
           }
          ],
          "heatmap": [
           {
            "colorbar": {
             "outlinewidth": 0,
             "ticks": ""
            },
            "colorscale": [
             [
              0,
              "#0d0887"
             ],
             [
              0.1111111111111111,
              "#46039f"
             ],
             [
              0.2222222222222222,
              "#7201a8"
             ],
             [
              0.3333333333333333,
              "#9c179e"
             ],
             [
              0.4444444444444444,
              "#bd3786"
             ],
             [
              0.5555555555555556,
              "#d8576b"
             ],
             [
              0.6666666666666666,
              "#ed7953"
             ],
             [
              0.7777777777777778,
              "#fb9f3a"
             ],
             [
              0.8888888888888888,
              "#fdca26"
             ],
             [
              1,
              "#f0f921"
             ]
            ],
            "type": "heatmap"
           }
          ],
          "histogram": [
           {
            "marker": {
             "pattern": {
              "fillmode": "overlay",
              "size": 10,
              "solidity": 0.2
             }
            },
            "type": "histogram"
           }
          ],
          "histogram2d": [
           {
            "colorbar": {
             "outlinewidth": 0,
             "ticks": ""
            },
            "colorscale": [
             [
              0,
              "#0d0887"
             ],
             [
              0.1111111111111111,
              "#46039f"
             ],
             [
              0.2222222222222222,
              "#7201a8"
             ],
             [
              0.3333333333333333,
              "#9c179e"
             ],
             [
              0.4444444444444444,
              "#bd3786"
             ],
             [
              0.5555555555555556,
              "#d8576b"
             ],
             [
              0.6666666666666666,
              "#ed7953"
             ],
             [
              0.7777777777777778,
              "#fb9f3a"
             ],
             [
              0.8888888888888888,
              "#fdca26"
             ],
             [
              1,
              "#f0f921"
             ]
            ],
            "type": "histogram2d"
           }
          ],
          "histogram2dcontour": [
           {
            "colorbar": {
             "outlinewidth": 0,
             "ticks": ""
            },
            "colorscale": [
             [
              0,
              "#0d0887"
             ],
             [
              0.1111111111111111,
              "#46039f"
             ],
             [
              0.2222222222222222,
              "#7201a8"
             ],
             [
              0.3333333333333333,
              "#9c179e"
             ],
             [
              0.4444444444444444,
              "#bd3786"
             ],
             [
              0.5555555555555556,
              "#d8576b"
             ],
             [
              0.6666666666666666,
              "#ed7953"
             ],
             [
              0.7777777777777778,
              "#fb9f3a"
             ],
             [
              0.8888888888888888,
              "#fdca26"
             ],
             [
              1,
              "#f0f921"
             ]
            ],
            "type": "histogram2dcontour"
           }
          ],
          "mesh3d": [
           {
            "colorbar": {
             "outlinewidth": 0,
             "ticks": ""
            },
            "type": "mesh3d"
           }
          ],
          "parcoords": [
           {
            "line": {
             "colorbar": {
              "outlinewidth": 0,
              "ticks": ""
             }
            },
            "type": "parcoords"
           }
          ],
          "pie": [
           {
            "automargin": true,
            "type": "pie"
           }
          ],
          "scatter": [
           {
            "fillpattern": {
             "fillmode": "overlay",
             "size": 10,
             "solidity": 0.2
            },
            "type": "scatter"
           }
          ],
          "scatter3d": [
           {
            "line": {
             "colorbar": {
              "outlinewidth": 0,
              "ticks": ""
             }
            },
            "marker": {
             "colorbar": {
              "outlinewidth": 0,
              "ticks": ""
             }
            },
            "type": "scatter3d"
           }
          ],
          "scattercarpet": [
           {
            "marker": {
             "colorbar": {
              "outlinewidth": 0,
              "ticks": ""
             }
            },
            "type": "scattercarpet"
           }
          ],
          "scattergeo": [
           {
            "marker": {
             "colorbar": {
              "outlinewidth": 0,
              "ticks": ""
             }
            },
            "type": "scattergeo"
           }
          ],
          "scattergl": [
           {
            "marker": {
             "colorbar": {
              "outlinewidth": 0,
              "ticks": ""
             }
            },
            "type": "scattergl"
           }
          ],
          "scattermap": [
           {
            "marker": {
             "colorbar": {
              "outlinewidth": 0,
              "ticks": ""
             }
            },
            "type": "scattermap"
           }
          ],
          "scattermapbox": [
           {
            "marker": {
             "colorbar": {
              "outlinewidth": 0,
              "ticks": ""
             }
            },
            "type": "scattermapbox"
           }
          ],
          "scatterpolar": [
           {
            "marker": {
             "colorbar": {
              "outlinewidth": 0,
              "ticks": ""
             }
            },
            "type": "scatterpolar"
           }
          ],
          "scatterpolargl": [
           {
            "marker": {
             "colorbar": {
              "outlinewidth": 0,
              "ticks": ""
             }
            },
            "type": "scatterpolargl"
           }
          ],
          "scatterternary": [
           {
            "marker": {
             "colorbar": {
              "outlinewidth": 0,
              "ticks": ""
             }
            },
            "type": "scatterternary"
           }
          ],
          "surface": [
           {
            "colorbar": {
             "outlinewidth": 0,
             "ticks": ""
            },
            "colorscale": [
             [
              0,
              "#0d0887"
             ],
             [
              0.1111111111111111,
              "#46039f"
             ],
             [
              0.2222222222222222,
              "#7201a8"
             ],
             [
              0.3333333333333333,
              "#9c179e"
             ],
             [
              0.4444444444444444,
              "#bd3786"
             ],
             [
              0.5555555555555556,
              "#d8576b"
             ],
             [
              0.6666666666666666,
              "#ed7953"
             ],
             [
              0.7777777777777778,
              "#fb9f3a"
             ],
             [
              0.8888888888888888,
              "#fdca26"
             ],
             [
              1,
              "#f0f921"
             ]
            ],
            "type": "surface"
           }
          ],
          "table": [
           {
            "cells": {
             "fill": {
              "color": "#EBF0F8"
             },
             "line": {
              "color": "white"
             }
            },
            "header": {
             "fill": {
              "color": "#C8D4E3"
             },
             "line": {
              "color": "white"
             }
            },
            "type": "table"
           }
          ]
         },
         "layout": {
          "annotationdefaults": {
           "arrowcolor": "#2a3f5f",
           "arrowhead": 0,
           "arrowwidth": 1
          },
          "autotypenumbers": "strict",
          "coloraxis": {
           "colorbar": {
            "outlinewidth": 0,
            "ticks": ""
           }
          },
          "colorscale": {
           "diverging": [
            [
             0,
             "#8e0152"
            ],
            [
             0.1,
             "#c51b7d"
            ],
            [
             0.2,
             "#de77ae"
            ],
            [
             0.3,
             "#f1b6da"
            ],
            [
             0.4,
             "#fde0ef"
            ],
            [
             0.5,
             "#f7f7f7"
            ],
            [
             0.6,
             "#e6f5d0"
            ],
            [
             0.7,
             "#b8e186"
            ],
            [
             0.8,
             "#7fbc41"
            ],
            [
             0.9,
             "#4d9221"
            ],
            [
             1,
             "#276419"
            ]
           ],
           "sequential": [
            [
             0,
             "#0d0887"
            ],
            [
             0.1111111111111111,
             "#46039f"
            ],
            [
             0.2222222222222222,
             "#7201a8"
            ],
            [
             0.3333333333333333,
             "#9c179e"
            ],
            [
             0.4444444444444444,
             "#bd3786"
            ],
            [
             0.5555555555555556,
             "#d8576b"
            ],
            [
             0.6666666666666666,
             "#ed7953"
            ],
            [
             0.7777777777777778,
             "#fb9f3a"
            ],
            [
             0.8888888888888888,
             "#fdca26"
            ],
            [
             1,
             "#f0f921"
            ]
           ],
           "sequentialminus": [
            [
             0,
             "#0d0887"
            ],
            [
             0.1111111111111111,
             "#46039f"
            ],
            [
             0.2222222222222222,
             "#7201a8"
            ],
            [
             0.3333333333333333,
             "#9c179e"
            ],
            [
             0.4444444444444444,
             "#bd3786"
            ],
            [
             0.5555555555555556,
             "#d8576b"
            ],
            [
             0.6666666666666666,
             "#ed7953"
            ],
            [
             0.7777777777777778,
             "#fb9f3a"
            ],
            [
             0.8888888888888888,
             "#fdca26"
            ],
            [
             1,
             "#f0f921"
            ]
           ]
          },
          "colorway": [
           "#636efa",
           "#EF553B",
           "#00cc96",
           "#ab63fa",
           "#FFA15A",
           "#19d3f3",
           "#FF6692",
           "#B6E880",
           "#FF97FF",
           "#FECB52"
          ],
          "font": {
           "color": "#2a3f5f"
          },
          "geo": {
           "bgcolor": "white",
           "lakecolor": "white",
           "landcolor": "#E5ECF6",
           "showlakes": true,
           "showland": true,
           "subunitcolor": "white"
          },
          "hoverlabel": {
           "align": "left"
          },
          "hovermode": "closest",
          "mapbox": {
           "style": "light"
          },
          "paper_bgcolor": "white",
          "plot_bgcolor": "#E5ECF6",
          "polar": {
           "angularaxis": {
            "gridcolor": "white",
            "linecolor": "white",
            "ticks": ""
           },
           "bgcolor": "#E5ECF6",
           "radialaxis": {
            "gridcolor": "white",
            "linecolor": "white",
            "ticks": ""
           }
          },
          "scene": {
           "xaxis": {
            "backgroundcolor": "#E5ECF6",
            "gridcolor": "white",
            "gridwidth": 2,
            "linecolor": "white",
            "showbackground": true,
            "ticks": "",
            "zerolinecolor": "white"
           },
           "yaxis": {
            "backgroundcolor": "#E5ECF6",
            "gridcolor": "white",
            "gridwidth": 2,
            "linecolor": "white",
            "showbackground": true,
            "ticks": "",
            "zerolinecolor": "white"
           },
           "zaxis": {
            "backgroundcolor": "#E5ECF6",
            "gridcolor": "white",
            "gridwidth": 2,
            "linecolor": "white",
            "showbackground": true,
            "ticks": "",
            "zerolinecolor": "white"
           }
          },
          "shapedefaults": {
           "line": {
            "color": "#2a3f5f"
           }
          },
          "ternary": {
           "aaxis": {
            "gridcolor": "white",
            "linecolor": "white",
            "ticks": ""
           },
           "baxis": {
            "gridcolor": "white",
            "linecolor": "white",
            "ticks": ""
           },
           "bgcolor": "#E5ECF6",
           "caxis": {
            "gridcolor": "white",
            "linecolor": "white",
            "ticks": ""
           }
          },
          "title": {
           "x": 0.05
          },
          "xaxis": {
           "automargin": true,
           "gridcolor": "white",
           "linecolor": "white",
           "ticks": "",
           "title": {
            "standoff": 15
           },
           "zerolinecolor": "white",
           "zerolinewidth": 2
          },
          "yaxis": {
           "automargin": true,
           "gridcolor": "white",
           "linecolor": "white",
           "ticks": "",
           "title": {
            "standoff": 15
           },
           "zerolinecolor": "white",
           "zerolinewidth": 2
          }
         }
        },
        "title": {
         "text": "Coste Mensual de la Energía Eléctrica (Tarifa 6.1TD) en Paiporta en los Últimos 14 meses",
         "x": 0.5
        },
        "xaxis": {
         "anchor": "y",
         "domain": [
          0,
          1
         ],
         "dtick": "M1",
         "gridcolor": "lightgray",
         "rangeselector": {
          "buttons": [
           {
            "count": 1,
            "label": "1m",
            "step": "month",
            "stepmode": "backward"
           },
           {
            "count": 6,
            "label": "6m",
            "step": "month",
            "stepmode": "backward"
           },
           {
            "count": 1,
            "label": "YTD",
            "step": "year",
            "stepmode": "todate"
           },
           {
            "count": 1,
            "label": "1y",
            "step": "year",
            "stepmode": "backward"
           },
           {
            "step": "all"
           }
          ]
         },
         "rangeslider": {
          "visible": false
         },
         "showgrid": true,
         "tickformat": "%Y-%m",
         "title": {
          "text": "Mes"
         }
        },
        "yaxis": {
         "anchor": "x",
         "domain": [
          0,
          1
         ],
         "gridcolor": "lightgray",
         "rangemode": "tozero",
         "showgrid": true,
         "tickprefix": "€",
         "title": {
          "text": "Coste Total (€)"
         }
        }
       }
      }
     },
     "metadata": {},
     "output_type": "display_data"
    }
   ],
   "source": [
    "\n",
    "\n",
    "data_coste_luz = {\n",
    "    'Fecha': pd.to_datetime(['2024-01-01', '2024-02-01', '2024-03-01', '2024-04-01', '2024-05-01',\n",
    "                                '2024-06-01', '2024-07-01', '2024-08-01', '2024-09-01', '2024-10-01',\n",
    "                                '2024-11-01', '2024-12-01', '2025-01-01', '2025-02-01', '2025-03-01',\n",
    "                                '2025-04-01', '2025-05-01']), # Fechas de inicio de mes\n",
    "    'Coste Total (€)': [5000, 5300, 6100, 5800, 6200, 6500, 6800, 6600, 6700, 6700, 6400, 6750,\n",
    "                        7500, 7200, 7400, 8000, 8100] # Coste total de la factura mensual\n",
    "}\n",
    "\n",
    "df_coste_luz = pd.DataFrame(data_coste_luz)\n",
    "\n",
    "\n",
    "fig = px.line(df_coste_luz,\n",
    "            x='Fecha',          \n",
    "            y='Coste Total (€)', \n",
    "            title='Coste Mensual de la Energía Eléctrica (Tarifa 6.1TD) en Paiporta en los Últimos 14 meses',\n",
    "            labels={'Fecha': 'Mes', 'Coste Total (€)': 'Coste Total (€)'},\n",
    "            markers=True,       \n",
    "            line_shape='linear', \n",
    "            color_discrete_sequence=[\"#E68027\"] \n",
    "            )\n",
    "\n",
    "\n",
    "fig.update_layout(\n",
    "    plot_bgcolor='white',        \n",
    "    paper_bgcolor='white',       \n",
    "    font=dict(\n",
    "        family=\"Arial, sans-serif\",\n",
    "        size=12,\n",
    "        color=\"#4C87AF\"\n",
    "    ),\n",
    "    title_x=0.5,\n",
    "    hovermode=\"x unified\" \n",
    ")\n",
    "\n",
    "fig.update_xaxes(\n",
    "    showgrid=True,               \n",
    "    gridcolor='lightgray',      \n",
    "    tickformat=\"%Y-%m\",          # Formato de las etiquetas del eje X (Año-Mes)\n",
    "    dtick=\"M1\",                  # Mostrar ticks cada mes\n",
    "    rangeslider_visible=False,   \n",
    "    rangeselector=dict(\n",
    "        buttons=list([\n",
    "            dict(count=1, label=\"1m\", step=\"month\", stepmode=\"backward\"),\n",
    "            dict(count=6, label=\"6m\", step=\"month\", stepmode=\"backward\"),\n",
    "            dict(count=1, label=\"YTD\", step=\"year\", stepmode=\"todate\"),\n",
    "            dict(count=1, label=\"1y\", step=\"year\", stepmode=\"backward\"),\n",
    "            dict(step=\"all\")\n",
    "        ])\n",
    "    )\n",
    ")\n",
    "\n",
    "fig.update_yaxes(\n",
    "    showgrid=True,               \n",
    "    gridcolor='lightgray',      \n",
    "    tickprefix=\"€\",              \n",
    "    rangemode=\"tozero\"           \n",
    ")\n",
    "\n",
    "\n",
    "fig.show()"
   ]
  },
  {
   "cell_type": "markdown",
   "id": "4b4c1fb3",
   "metadata": {},
   "source": [
    "DATOS Gastos elec. Instalaciones"
   ]
  },
  {
   "cell_type": "code",
   "execution_count": 22,
   "id": "dd564784",
   "metadata": {},
   "outputs": [
    {
     "data": {
      "text/html": [
       "<div>\n",
       "<style scoped>\n",
       "    .dataframe tbody tr th:only-of-type {\n",
       "        vertical-align: middle;\n",
       "    }\n",
       "\n",
       "    .dataframe tbody tr th {\n",
       "        vertical-align: top;\n",
       "    }\n",
       "\n",
       "    .dataframe thead th {\n",
       "        text-align: right;\n",
       "    }\n",
       "</style>\n",
       "<table border=\"1\" class=\"dataframe\">\n",
       "  <thead>\n",
       "    <tr style=\"text-align: right;\">\n",
       "      <th></th>\n",
       "      <th>Tipo de Congelador Industrial</th>\n",
       "      <th>Capacidad</th>\n",
       "      <th>Consumo Estimado</th>\n",
       "      <th>Consideraciones</th>\n",
       "    </tr>\n",
       "  </thead>\n",
       "  <tbody>\n",
       "    <tr>\n",
       "      <th>0</th>\n",
       "      <td>Cámara Frigorífica Grandes Superficies</td>\n",
       "      <td>50 - 200+ m³</td>\n",
       "      <td>150 - 500+ kWh/día</td>\n",
       "      <td>Almacenes centrales, centros logísticos</td>\n",
       "    </tr>\n",
       "  </tbody>\n",
       "</table>\n",
       "</div>"
      ],
      "text/plain": [
       "            Tipo de Congelador Industrial     Capacidad    Consumo Estimado  \\\n",
       "0  Cámara Frigorífica Grandes Superficies  50 - 200+ m³  150 - 500+ kWh/día   \n",
       "\n",
       "                           Consideraciones  \n",
       "0  Almacenes centrales, centros logísticos  "
      ]
     },
     "execution_count": 22,
     "metadata": {},
     "output_type": "execute_result"
    }
   ],
   "source": [
    "df_congeladores = pd.DataFrame({\n",
    "    \"Tipo de Congelador Industrial\": [\"Cámara Frigorífica Grandes Superficies\"],\n",
    "    \"Capacidad\": [\"50 - 200+ m³\"],\n",
    "    \"Consumo Estimado\": [\"150 - 500+ kWh/día\"],\n",
    "    \"Consideraciones\": [\"Almacenes centrales, centros logísticos\"]\n",
    "})\n",
    "\n",
    "df_congeladores"
   ]
  },
  {
   "cell_type": "markdown",
   "id": "674818c9",
   "metadata": {},
   "source": [
    "### Calculos atendiendo a la hipótesis:\n"
   ]
  },
  {
   "cell_type": "code",
   "execution_count": 23,
   "id": "ffaa6225",
   "metadata": {},
   "outputs": [
    {
     "name": "stdout",
     "output_type": "stream",
     "text": [
      "DataFrame con productos de la familia 'PRODUCTOS AMBIENTE':\n",
      "                 Familia                              Grupo    ID  \\\n",
      "1065  PRODUCTOS AMBIENTE             Precocinados del Mundo  1526   \n",
      "1066  PRODUCTOS AMBIENTE  Pan Tostado y Bollería Industrial  1825   \n",
      "1067  PRODUCTOS AMBIENTE  Pan Tostado y Bollería Industrial  1832   \n",
      "1068  PRODUCTOS AMBIENTE  Pan Tostado y Bollería Industrial  1834   \n",
      "1069  PRODUCTOS AMBIENTE  Pan Tostado y Bollería Industrial  5620   \n",
      "...                  ...                                ...   ...   \n",
      "1921  PRODUCTOS AMBIENTE               A - Cafés - Cápsulas  9053   \n",
      "1922  PRODUCTOS AMBIENTE               A - Cafés - Cápsulas  9377   \n",
      "1923  PRODUCTOS AMBIENTE               A - Cafés - Cápsulas  5062   \n",
      "1924  PRODUCTOS AMBIENTE               A - Cafés - Cápsulas  5027   \n",
      "1925  PRODUCTOS AMBIENTE               A - Cafés - Cápsulas  3462   \n",
      "\n",
      "                                    Producto Formato_Venta  Coste (€)  \\\n",
      "1065          HR-ROLLITO DE NARANJA E/250 GR           UND       1.29   \n",
      "1066            CD-MANTECADOS CASEROS B/200G           UND       3.82   \n",
      "1067   CD-CORTADILLOS CABELLO DE ANGEL B/130           UND      12.80   \n",
      "1068           CD-NEVADITOS AL CACAO B/180 G           UND      13.84   \n",
      "1069              DC-FIGURITAS MAZAPAN 140 G           UND      12.45   \n",
      "...                                      ...           ...        ...   \n",
      "1921         CF-CAFE-CAPS-ESPRESSO INT. 16 U           UND       1.21   \n",
      "1922    CF-CAPS-DOLCE GUSTO ESPRESSO INT.16C           UND      14.68   \n",
      "1923   CF-CAPS-DOLCE GUSTO CORT-DESCAFEINADO           UND       3.99   \n",
      "1924  CF-CAPS-DOLCE GUSTO CAFE CON LECHE 16C           UND       5.87   \n",
      "1925         CF-CAPS-DOLCE GUSTO CORTADO 16C           UND      12.19   \n",
      "\n",
      "      Precio de venta (€)  Margen Beneficio (€)  % Beneficio  \\\n",
      "1065                 9.58                  8.29        640.0   \n",
      "1066                14.64                 10.82        280.0   \n",
      "1067                32.60                 19.80        150.0   \n",
      "1068                17.34                  3.50         30.0   \n",
      "1069                15.95                  3.50         30.0   \n",
      "...                   ...                   ...          ...   \n",
      "1921                18.84                 17.63       1460.0   \n",
      "1922                54.54                 39.86        270.0   \n",
      "1923                14.98                 10.99        280.0   \n",
      "1924                18.74                 12.87        220.0   \n",
      "1925                47.07                 34.88        290.0   \n",
      "\n",
      "      Ratio Precio/Costo  \n",
      "1065            7.426357  \n",
      "1066            3.832461  \n",
      "1067            2.546875  \n",
      "1068            1.252890  \n",
      "1069            1.281124  \n",
      "...                  ...  \n",
      "1921           15.570248  \n",
      "1922            3.715259  \n",
      "1923            3.754386  \n",
      "1924            3.192504  \n",
      "1925            3.861362  \n",
      "\n",
      "[861 rows x 10 columns]\n",
      "\n",
      "Tabla de familias (excluyendo 'PRODUCTOS AMBIENTE'), ordenada por cantidad:\n",
      "                               Familia  count\n",
      "14                           SALAZONES      4\n",
      "13                ENTRANTES Y PRIMEROS     24\n",
      "12                             POSTRES     25\n",
      "11                            MOLUSCOS     29\n",
      "10                     PIZZAS Y PASTAS     36\n",
      "9                    PLATOS PREPARADOS     40\n",
      "8                             VERDURAS     70\n",
      "7                              HELADOS     74\n",
      "6                         PRECOCINADOS     93\n",
      "5   CARNES Y EMBUTIDOS ULTRACONGELADOS     94\n",
      "4           HORNO BOLLERÍA Y PANADERÍA     95\n",
      "3                             MARISCOS    146\n",
      "2                         REFRIGERADOS    184\n",
      "1             PESCADOS ULTRACONGELADOS    264\n"
     ]
    },
    {
     "data": {
      "application/vnd.plotly.v1+json": {
       "config": {
        "plotlyServerURL": "https://plot.ly"
       },
       "data": [
        {
         "bingroup": "y",
         "histfunc": "sum",
         "hovertemplate": "sum of Cantidad=%{x}<br>Familia=%{y}<extra></extra>",
         "legendgroup": "",
         "marker": {
          "color": "#636efa",
          "pattern": {
           "shape": ""
          }
         },
         "name": "",
         "nbinsy": 15,
         "orientation": "h",
         "showlegend": false,
         "type": "histogram",
         "x": {
          "bdata": "BAAYABkAHQAkACgARgBKAF0AXgBfAJIAuAAIAQ==",
          "dtype": "i2"
         },
         "xaxis": "x",
         "y": [
          "SALAZONES",
          "ENTRANTES Y PRIMEROS",
          "POSTRES",
          "MOLUSCOS",
          "PIZZAS Y PASTAS",
          "PLATOS PREPARADOS",
          "VERDURAS",
          "HELADOS",
          "PRECOCINADOS",
          "CARNES Y EMBUTIDOS ULTRACONGELADOS",
          "HORNO BOLLERÍA Y PANADERÍA",
          "MARISCOS",
          "REFRIGERADOS",
          "PESCADOS ULTRACONGELADOS"
         ],
         "yaxis": "y"
        }
       ],
       "layout": {
        "barmode": "relative",
        "legend": {
         "tracegroupgap": 0
        },
        "template": {
         "data": {
          "bar": [
           {
            "error_x": {
             "color": "#2a3f5f"
            },
            "error_y": {
             "color": "#2a3f5f"
            },
            "marker": {
             "line": {
              "color": "#E5ECF6",
              "width": 0.5
             },
             "pattern": {
              "fillmode": "overlay",
              "size": 10,
              "solidity": 0.2
             }
            },
            "type": "bar"
           }
          ],
          "barpolar": [
           {
            "marker": {
             "line": {
              "color": "#E5ECF6",
              "width": 0.5
             },
             "pattern": {
              "fillmode": "overlay",
              "size": 10,
              "solidity": 0.2
             }
            },
            "type": "barpolar"
           }
          ],
          "carpet": [
           {
            "aaxis": {
             "endlinecolor": "#2a3f5f",
             "gridcolor": "white",
             "linecolor": "white",
             "minorgridcolor": "white",
             "startlinecolor": "#2a3f5f"
            },
            "baxis": {
             "endlinecolor": "#2a3f5f",
             "gridcolor": "white",
             "linecolor": "white",
             "minorgridcolor": "white",
             "startlinecolor": "#2a3f5f"
            },
            "type": "carpet"
           }
          ],
          "choropleth": [
           {
            "colorbar": {
             "outlinewidth": 0,
             "ticks": ""
            },
            "type": "choropleth"
           }
          ],
          "contour": [
           {
            "colorbar": {
             "outlinewidth": 0,
             "ticks": ""
            },
            "colorscale": [
             [
              0,
              "#0d0887"
             ],
             [
              0.1111111111111111,
              "#46039f"
             ],
             [
              0.2222222222222222,
              "#7201a8"
             ],
             [
              0.3333333333333333,
              "#9c179e"
             ],
             [
              0.4444444444444444,
              "#bd3786"
             ],
             [
              0.5555555555555556,
              "#d8576b"
             ],
             [
              0.6666666666666666,
              "#ed7953"
             ],
             [
              0.7777777777777778,
              "#fb9f3a"
             ],
             [
              0.8888888888888888,
              "#fdca26"
             ],
             [
              1,
              "#f0f921"
             ]
            ],
            "type": "contour"
           }
          ],
          "contourcarpet": [
           {
            "colorbar": {
             "outlinewidth": 0,
             "ticks": ""
            },
            "type": "contourcarpet"
           }
          ],
          "heatmap": [
           {
            "colorbar": {
             "outlinewidth": 0,
             "ticks": ""
            },
            "colorscale": [
             [
              0,
              "#0d0887"
             ],
             [
              0.1111111111111111,
              "#46039f"
             ],
             [
              0.2222222222222222,
              "#7201a8"
             ],
             [
              0.3333333333333333,
              "#9c179e"
             ],
             [
              0.4444444444444444,
              "#bd3786"
             ],
             [
              0.5555555555555556,
              "#d8576b"
             ],
             [
              0.6666666666666666,
              "#ed7953"
             ],
             [
              0.7777777777777778,
              "#fb9f3a"
             ],
             [
              0.8888888888888888,
              "#fdca26"
             ],
             [
              1,
              "#f0f921"
             ]
            ],
            "type": "heatmap"
           }
          ],
          "histogram": [
           {
            "marker": {
             "pattern": {
              "fillmode": "overlay",
              "size": 10,
              "solidity": 0.2
             }
            },
            "type": "histogram"
           }
          ],
          "histogram2d": [
           {
            "colorbar": {
             "outlinewidth": 0,
             "ticks": ""
            },
            "colorscale": [
             [
              0,
              "#0d0887"
             ],
             [
              0.1111111111111111,
              "#46039f"
             ],
             [
              0.2222222222222222,
              "#7201a8"
             ],
             [
              0.3333333333333333,
              "#9c179e"
             ],
             [
              0.4444444444444444,
              "#bd3786"
             ],
             [
              0.5555555555555556,
              "#d8576b"
             ],
             [
              0.6666666666666666,
              "#ed7953"
             ],
             [
              0.7777777777777778,
              "#fb9f3a"
             ],
             [
              0.8888888888888888,
              "#fdca26"
             ],
             [
              1,
              "#f0f921"
             ]
            ],
            "type": "histogram2d"
           }
          ],
          "histogram2dcontour": [
           {
            "colorbar": {
             "outlinewidth": 0,
             "ticks": ""
            },
            "colorscale": [
             [
              0,
              "#0d0887"
             ],
             [
              0.1111111111111111,
              "#46039f"
             ],
             [
              0.2222222222222222,
              "#7201a8"
             ],
             [
              0.3333333333333333,
              "#9c179e"
             ],
             [
              0.4444444444444444,
              "#bd3786"
             ],
             [
              0.5555555555555556,
              "#d8576b"
             ],
             [
              0.6666666666666666,
              "#ed7953"
             ],
             [
              0.7777777777777778,
              "#fb9f3a"
             ],
             [
              0.8888888888888888,
              "#fdca26"
             ],
             [
              1,
              "#f0f921"
             ]
            ],
            "type": "histogram2dcontour"
           }
          ],
          "mesh3d": [
           {
            "colorbar": {
             "outlinewidth": 0,
             "ticks": ""
            },
            "type": "mesh3d"
           }
          ],
          "parcoords": [
           {
            "line": {
             "colorbar": {
              "outlinewidth": 0,
              "ticks": ""
             }
            },
            "type": "parcoords"
           }
          ],
          "pie": [
           {
            "automargin": true,
            "type": "pie"
           }
          ],
          "scatter": [
           {
            "fillpattern": {
             "fillmode": "overlay",
             "size": 10,
             "solidity": 0.2
            },
            "type": "scatter"
           }
          ],
          "scatter3d": [
           {
            "line": {
             "colorbar": {
              "outlinewidth": 0,
              "ticks": ""
             }
            },
            "marker": {
             "colorbar": {
              "outlinewidth": 0,
              "ticks": ""
             }
            },
            "type": "scatter3d"
           }
          ],
          "scattercarpet": [
           {
            "marker": {
             "colorbar": {
              "outlinewidth": 0,
              "ticks": ""
             }
            },
            "type": "scattercarpet"
           }
          ],
          "scattergeo": [
           {
            "marker": {
             "colorbar": {
              "outlinewidth": 0,
              "ticks": ""
             }
            },
            "type": "scattergeo"
           }
          ],
          "scattergl": [
           {
            "marker": {
             "colorbar": {
              "outlinewidth": 0,
              "ticks": ""
             }
            },
            "type": "scattergl"
           }
          ],
          "scattermap": [
           {
            "marker": {
             "colorbar": {
              "outlinewidth": 0,
              "ticks": ""
             }
            },
            "type": "scattermap"
           }
          ],
          "scattermapbox": [
           {
            "marker": {
             "colorbar": {
              "outlinewidth": 0,
              "ticks": ""
             }
            },
            "type": "scattermapbox"
           }
          ],
          "scatterpolar": [
           {
            "marker": {
             "colorbar": {
              "outlinewidth": 0,
              "ticks": ""
             }
            },
            "type": "scatterpolar"
           }
          ],
          "scatterpolargl": [
           {
            "marker": {
             "colorbar": {
              "outlinewidth": 0,
              "ticks": ""
             }
            },
            "type": "scatterpolargl"
           }
          ],
          "scatterternary": [
           {
            "marker": {
             "colorbar": {
              "outlinewidth": 0,
              "ticks": ""
             }
            },
            "type": "scatterternary"
           }
          ],
          "surface": [
           {
            "colorbar": {
             "outlinewidth": 0,
             "ticks": ""
            },
            "colorscale": [
             [
              0,
              "#0d0887"
             ],
             [
              0.1111111111111111,
              "#46039f"
             ],
             [
              0.2222222222222222,
              "#7201a8"
             ],
             [
              0.3333333333333333,
              "#9c179e"
             ],
             [
              0.4444444444444444,
              "#bd3786"
             ],
             [
              0.5555555555555556,
              "#d8576b"
             ],
             [
              0.6666666666666666,
              "#ed7953"
             ],
             [
              0.7777777777777778,
              "#fb9f3a"
             ],
             [
              0.8888888888888888,
              "#fdca26"
             ],
             [
              1,
              "#f0f921"
             ]
            ],
            "type": "surface"
           }
          ],
          "table": [
           {
            "cells": {
             "fill": {
              "color": "#EBF0F8"
             },
             "line": {
              "color": "white"
             }
            },
            "header": {
             "fill": {
              "color": "#C8D4E3"
             },
             "line": {
              "color": "white"
             }
            },
            "type": "table"
           }
          ]
         },
         "layout": {
          "annotationdefaults": {
           "arrowcolor": "#2a3f5f",
           "arrowhead": 0,
           "arrowwidth": 1
          },
          "autotypenumbers": "strict",
          "coloraxis": {
           "colorbar": {
            "outlinewidth": 0,
            "ticks": ""
           }
          },
          "colorscale": {
           "diverging": [
            [
             0,
             "#8e0152"
            ],
            [
             0.1,
             "#c51b7d"
            ],
            [
             0.2,
             "#de77ae"
            ],
            [
             0.3,
             "#f1b6da"
            ],
            [
             0.4,
             "#fde0ef"
            ],
            [
             0.5,
             "#f7f7f7"
            ],
            [
             0.6,
             "#e6f5d0"
            ],
            [
             0.7,
             "#b8e186"
            ],
            [
             0.8,
             "#7fbc41"
            ],
            [
             0.9,
             "#4d9221"
            ],
            [
             1,
             "#276419"
            ]
           ],
           "sequential": [
            [
             0,
             "#0d0887"
            ],
            [
             0.1111111111111111,
             "#46039f"
            ],
            [
             0.2222222222222222,
             "#7201a8"
            ],
            [
             0.3333333333333333,
             "#9c179e"
            ],
            [
             0.4444444444444444,
             "#bd3786"
            ],
            [
             0.5555555555555556,
             "#d8576b"
            ],
            [
             0.6666666666666666,
             "#ed7953"
            ],
            [
             0.7777777777777778,
             "#fb9f3a"
            ],
            [
             0.8888888888888888,
             "#fdca26"
            ],
            [
             1,
             "#f0f921"
            ]
           ],
           "sequentialminus": [
            [
             0,
             "#0d0887"
            ],
            [
             0.1111111111111111,
             "#46039f"
            ],
            [
             0.2222222222222222,
             "#7201a8"
            ],
            [
             0.3333333333333333,
             "#9c179e"
            ],
            [
             0.4444444444444444,
             "#bd3786"
            ],
            [
             0.5555555555555556,
             "#d8576b"
            ],
            [
             0.6666666666666666,
             "#ed7953"
            ],
            [
             0.7777777777777778,
             "#fb9f3a"
            ],
            [
             0.8888888888888888,
             "#fdca26"
            ],
            [
             1,
             "#f0f921"
            ]
           ]
          },
          "colorway": [
           "#636efa",
           "#EF553B",
           "#00cc96",
           "#ab63fa",
           "#FFA15A",
           "#19d3f3",
           "#FF6692",
           "#B6E880",
           "#FF97FF",
           "#FECB52"
          ],
          "font": {
           "color": "#2a3f5f"
          },
          "geo": {
           "bgcolor": "white",
           "lakecolor": "white",
           "landcolor": "#E5ECF6",
           "showlakes": true,
           "showland": true,
           "subunitcolor": "white"
          },
          "hoverlabel": {
           "align": "left"
          },
          "hovermode": "closest",
          "mapbox": {
           "style": "light"
          },
          "paper_bgcolor": "white",
          "plot_bgcolor": "#E5ECF6",
          "polar": {
           "angularaxis": {
            "gridcolor": "white",
            "linecolor": "white",
            "ticks": ""
           },
           "bgcolor": "#E5ECF6",
           "radialaxis": {
            "gridcolor": "white",
            "linecolor": "white",
            "ticks": ""
           }
          },
          "scene": {
           "xaxis": {
            "backgroundcolor": "#E5ECF6",
            "gridcolor": "white",
            "gridwidth": 2,
            "linecolor": "white",
            "showbackground": true,
            "ticks": "",
            "zerolinecolor": "white"
           },
           "yaxis": {
            "backgroundcolor": "#E5ECF6",
            "gridcolor": "white",
            "gridwidth": 2,
            "linecolor": "white",
            "showbackground": true,
            "ticks": "",
            "zerolinecolor": "white"
           },
           "zaxis": {
            "backgroundcolor": "#E5ECF6",
            "gridcolor": "white",
            "gridwidth": 2,
            "linecolor": "white",
            "showbackground": true,
            "ticks": "",
            "zerolinecolor": "white"
           }
          },
          "shapedefaults": {
           "line": {
            "color": "#2a3f5f"
           }
          },
          "ternary": {
           "aaxis": {
            "gridcolor": "white",
            "linecolor": "white",
            "ticks": ""
           },
           "baxis": {
            "gridcolor": "white",
            "linecolor": "white",
            "ticks": ""
           },
           "bgcolor": "#E5ECF6",
           "caxis": {
            "gridcolor": "white",
            "linecolor": "white",
            "ticks": ""
           }
          },
          "title": {
           "x": 0.05
          },
          "xaxis": {
           "automargin": true,
           "gridcolor": "white",
           "linecolor": "white",
           "ticks": "",
           "title": {
            "standoff": 15
           },
           "zerolinecolor": "white",
           "zerolinewidth": 2
          },
          "yaxis": {
           "automargin": true,
           "gridcolor": "white",
           "linecolor": "white",
           "ticks": "",
           "title": {
            "standoff": 15
           },
           "zerolinecolor": "white",
           "zerolinewidth": 2
          }
         }
        },
        "title": {
         "text": "Familias (Excluyendo Productos Ambiente)"
        },
        "xaxis": {
         "anchor": "y",
         "domain": [
          0,
          1
         ],
         "title": {
          "text": "sum of Cantidad"
         }
        },
        "yaxis": {
         "anchor": "x",
         "domain": [
          0,
          1
         ],
         "title": {
          "text": "Familia"
         }
        }
       }
      }
     },
     "metadata": {},
     "output_type": "display_data"
    }
   ],
   "source": [
    "productos_ambiente_df = abordo[abordo['Familia'] == 'PRODUCTOS AMBIENTE'].copy()\n",
    "\n",
    "print(\"DataFrame con productos de la familia 'PRODUCTOS AMBIENTE':\")\n",
    "print(productos_ambiente_df)\n",
    "\n",
    "# Comprobamos que pese a ser una gran fuente de ingresos para la empresa, los \"productos ambiente\" no forman parte del conflicto puesto que no necesitan de refrigeración para su almacenaje.\n",
    "\n",
    "\n",
    "conteo_familias = abordo['Familia'].value_counts().reset_index()\n",
    "conteo_familias.columns = ['Familia', 'count']\n",
    "conteo_familias_ordenado = conteo_familias.sort_values(by='count', ascending=True)\n",
    "\n",
    "conteo_familias_sin_ambiente = conteo_familias_ordenado[conteo_familias_ordenado['Familia'] != 'PRODUCTOS AMBIENTE']\n",
    "\n",
    "print(\"\\nTabla de familias (excluyendo 'PRODUCTOS AMBIENTE'), ordenada por cantidad:\")\n",
    "print(conteo_familias_sin_ambiente)\n",
    "\n",
    "hist1_sin_ambiente = px.histogram(conteo_familias_sin_ambiente,\n",
    "                                x=\"count\",\n",
    "                                y=\"Familia\",\n",
    "                                nbins=15,\n",
    "                                title=\"Familias (Excluyendo Productos Ambiente)\",\n",
    "                                width=None,\n",
    "                                height=None,\n",
    "                                orientation='h',\n",
    "                                labels={'Familia': 'Familia', 'count': 'Cantidad'})\n",
    "\n",
    "hist1_sin_ambiente.show()\n"
   ]
  },
  {
   "cell_type": "code",
   "execution_count": 24,
   "id": "d90df312",
   "metadata": {},
   "outputs": [
    {
     "data": {
      "application/vnd.plotly.v1+json": {
       "config": {
        "plotlyServerURL": "https://plot.ly"
       },
       "data": [
        {
         "hovertemplate": "Cantidad de Incidencias=%{x}<br>Familia de Producto=%{y}<extra></extra>",
         "legendgroup": "",
         "marker": {
          "color": "#636EFA",
          "pattern": {
           "shape": ""
          }
         },
         "name": "",
         "orientation": "h",
         "showlegend": false,
         "textposition": "auto",
         "type": "bar",
         "x": {
          "bdata": "CAG4AJIAXwBeAF0ASgBGAA==",
          "dtype": "i2"
         },
         "xaxis": "x",
         "y": [
          "PESCADOS ULTRACONGELADOS",
          "REFRIGERADOS",
          "MARISCOS",
          "HORNO BOLLERÍA Y PANADERÍA",
          "CARNES Y EMBUTIDOS ULTRACONGELADOS",
          "PRECOCINADOS",
          "HELADOS",
          "VERDURAS"
         ],
         "yaxis": "y"
        }
       ],
       "layout": {
        "barmode": "relative",
        "legend": {
         "tracegroupgap": 0
        },
        "template": {
         "data": {
          "bar": [
           {
            "error_x": {
             "color": "#2a3f5f"
            },
            "error_y": {
             "color": "#2a3f5f"
            },
            "marker": {
             "line": {
              "color": "#E5ECF6",
              "width": 0.5
             },
             "pattern": {
              "fillmode": "overlay",
              "size": 10,
              "solidity": 0.2
             }
            },
            "type": "bar"
           }
          ],
          "barpolar": [
           {
            "marker": {
             "line": {
              "color": "#E5ECF6",
              "width": 0.5
             },
             "pattern": {
              "fillmode": "overlay",
              "size": 10,
              "solidity": 0.2
             }
            },
            "type": "barpolar"
           }
          ],
          "carpet": [
           {
            "aaxis": {
             "endlinecolor": "#2a3f5f",
             "gridcolor": "white",
             "linecolor": "white",
             "minorgridcolor": "white",
             "startlinecolor": "#2a3f5f"
            },
            "baxis": {
             "endlinecolor": "#2a3f5f",
             "gridcolor": "white",
             "linecolor": "white",
             "minorgridcolor": "white",
             "startlinecolor": "#2a3f5f"
            },
            "type": "carpet"
           }
          ],
          "choropleth": [
           {
            "colorbar": {
             "outlinewidth": 0,
             "ticks": ""
            },
            "type": "choropleth"
           }
          ],
          "contour": [
           {
            "colorbar": {
             "outlinewidth": 0,
             "ticks": ""
            },
            "colorscale": [
             [
              0,
              "#0d0887"
             ],
             [
              0.1111111111111111,
              "#46039f"
             ],
             [
              0.2222222222222222,
              "#7201a8"
             ],
             [
              0.3333333333333333,
              "#9c179e"
             ],
             [
              0.4444444444444444,
              "#bd3786"
             ],
             [
              0.5555555555555556,
              "#d8576b"
             ],
             [
              0.6666666666666666,
              "#ed7953"
             ],
             [
              0.7777777777777778,
              "#fb9f3a"
             ],
             [
              0.8888888888888888,
              "#fdca26"
             ],
             [
              1,
              "#f0f921"
             ]
            ],
            "type": "contour"
           }
          ],
          "contourcarpet": [
           {
            "colorbar": {
             "outlinewidth": 0,
             "ticks": ""
            },
            "type": "contourcarpet"
           }
          ],
          "heatmap": [
           {
            "colorbar": {
             "outlinewidth": 0,
             "ticks": ""
            },
            "colorscale": [
             [
              0,
              "#0d0887"
             ],
             [
              0.1111111111111111,
              "#46039f"
             ],
             [
              0.2222222222222222,
              "#7201a8"
             ],
             [
              0.3333333333333333,
              "#9c179e"
             ],
             [
              0.4444444444444444,
              "#bd3786"
             ],
             [
              0.5555555555555556,
              "#d8576b"
             ],
             [
              0.6666666666666666,
              "#ed7953"
             ],
             [
              0.7777777777777778,
              "#fb9f3a"
             ],
             [
              0.8888888888888888,
              "#fdca26"
             ],
             [
              1,
              "#f0f921"
             ]
            ],
            "type": "heatmap"
           }
          ],
          "histogram": [
           {
            "marker": {
             "pattern": {
              "fillmode": "overlay",
              "size": 10,
              "solidity": 0.2
             }
            },
            "type": "histogram"
           }
          ],
          "histogram2d": [
           {
            "colorbar": {
             "outlinewidth": 0,
             "ticks": ""
            },
            "colorscale": [
             [
              0,
              "#0d0887"
             ],
             [
              0.1111111111111111,
              "#46039f"
             ],
             [
              0.2222222222222222,
              "#7201a8"
             ],
             [
              0.3333333333333333,
              "#9c179e"
             ],
             [
              0.4444444444444444,
              "#bd3786"
             ],
             [
              0.5555555555555556,
              "#d8576b"
             ],
             [
              0.6666666666666666,
              "#ed7953"
             ],
             [
              0.7777777777777778,
              "#fb9f3a"
             ],
             [
              0.8888888888888888,
              "#fdca26"
             ],
             [
              1,
              "#f0f921"
             ]
            ],
            "type": "histogram2d"
           }
          ],
          "histogram2dcontour": [
           {
            "colorbar": {
             "outlinewidth": 0,
             "ticks": ""
            },
            "colorscale": [
             [
              0,
              "#0d0887"
             ],
             [
              0.1111111111111111,
              "#46039f"
             ],
             [
              0.2222222222222222,
              "#7201a8"
             ],
             [
              0.3333333333333333,
              "#9c179e"
             ],
             [
              0.4444444444444444,
              "#bd3786"
             ],
             [
              0.5555555555555556,
              "#d8576b"
             ],
             [
              0.6666666666666666,
              "#ed7953"
             ],
             [
              0.7777777777777778,
              "#fb9f3a"
             ],
             [
              0.8888888888888888,
              "#fdca26"
             ],
             [
              1,
              "#f0f921"
             ]
            ],
            "type": "histogram2dcontour"
           }
          ],
          "mesh3d": [
           {
            "colorbar": {
             "outlinewidth": 0,
             "ticks": ""
            },
            "type": "mesh3d"
           }
          ],
          "parcoords": [
           {
            "line": {
             "colorbar": {
              "outlinewidth": 0,
              "ticks": ""
             }
            },
            "type": "parcoords"
           }
          ],
          "pie": [
           {
            "automargin": true,
            "type": "pie"
           }
          ],
          "scatter": [
           {
            "fillpattern": {
             "fillmode": "overlay",
             "size": 10,
             "solidity": 0.2
            },
            "type": "scatter"
           }
          ],
          "scatter3d": [
           {
            "line": {
             "colorbar": {
              "outlinewidth": 0,
              "ticks": ""
             }
            },
            "marker": {
             "colorbar": {
              "outlinewidth": 0,
              "ticks": ""
             }
            },
            "type": "scatter3d"
           }
          ],
          "scattercarpet": [
           {
            "marker": {
             "colorbar": {
              "outlinewidth": 0,
              "ticks": ""
             }
            },
            "type": "scattercarpet"
           }
          ],
          "scattergeo": [
           {
            "marker": {
             "colorbar": {
              "outlinewidth": 0,
              "ticks": ""
             }
            },
            "type": "scattergeo"
           }
          ],
          "scattergl": [
           {
            "marker": {
             "colorbar": {
              "outlinewidth": 0,
              "ticks": ""
             }
            },
            "type": "scattergl"
           }
          ],
          "scattermap": [
           {
            "marker": {
             "colorbar": {
              "outlinewidth": 0,
              "ticks": ""
             }
            },
            "type": "scattermap"
           }
          ],
          "scattermapbox": [
           {
            "marker": {
             "colorbar": {
              "outlinewidth": 0,
              "ticks": ""
             }
            },
            "type": "scattermapbox"
           }
          ],
          "scatterpolar": [
           {
            "marker": {
             "colorbar": {
              "outlinewidth": 0,
              "ticks": ""
             }
            },
            "type": "scatterpolar"
           }
          ],
          "scatterpolargl": [
           {
            "marker": {
             "colorbar": {
              "outlinewidth": 0,
              "ticks": ""
             }
            },
            "type": "scatterpolargl"
           }
          ],
          "scatterternary": [
           {
            "marker": {
             "colorbar": {
              "outlinewidth": 0,
              "ticks": ""
             }
            },
            "type": "scatterternary"
           }
          ],
          "surface": [
           {
            "colorbar": {
             "outlinewidth": 0,
             "ticks": ""
            },
            "colorscale": [
             [
              0,
              "#0d0887"
             ],
             [
              0.1111111111111111,
              "#46039f"
             ],
             [
              0.2222222222222222,
              "#7201a8"
             ],
             [
              0.3333333333333333,
              "#9c179e"
             ],
             [
              0.4444444444444444,
              "#bd3786"
             ],
             [
              0.5555555555555556,
              "#d8576b"
             ],
             [
              0.6666666666666666,
              "#ed7953"
             ],
             [
              0.7777777777777778,
              "#fb9f3a"
             ],
             [
              0.8888888888888888,
              "#fdca26"
             ],
             [
              1,
              "#f0f921"
             ]
            ],
            "type": "surface"
           }
          ],
          "table": [
           {
            "cells": {
             "fill": {
              "color": "#EBF0F8"
             },
             "line": {
              "color": "white"
             }
            },
            "header": {
             "fill": {
              "color": "#C8D4E3"
             },
             "line": {
              "color": "white"
             }
            },
            "type": "table"
           }
          ]
         },
         "layout": {
          "annotationdefaults": {
           "arrowcolor": "#2a3f5f",
           "arrowhead": 0,
           "arrowwidth": 1
          },
          "autotypenumbers": "strict",
          "coloraxis": {
           "colorbar": {
            "outlinewidth": 0,
            "ticks": ""
           }
          },
          "colorscale": {
           "diverging": [
            [
             0,
             "#8e0152"
            ],
            [
             0.1,
             "#c51b7d"
            ],
            [
             0.2,
             "#de77ae"
            ],
            [
             0.3,
             "#f1b6da"
            ],
            [
             0.4,
             "#fde0ef"
            ],
            [
             0.5,
             "#f7f7f7"
            ],
            [
             0.6,
             "#e6f5d0"
            ],
            [
             0.7,
             "#b8e186"
            ],
            [
             0.8,
             "#7fbc41"
            ],
            [
             0.9,
             "#4d9221"
            ],
            [
             1,
             "#276419"
            ]
           ],
           "sequential": [
            [
             0,
             "#0d0887"
            ],
            [
             0.1111111111111111,
             "#46039f"
            ],
            [
             0.2222222222222222,
             "#7201a8"
            ],
            [
             0.3333333333333333,
             "#9c179e"
            ],
            [
             0.4444444444444444,
             "#bd3786"
            ],
            [
             0.5555555555555556,
             "#d8576b"
            ],
            [
             0.6666666666666666,
             "#ed7953"
            ],
            [
             0.7777777777777778,
             "#fb9f3a"
            ],
            [
             0.8888888888888888,
             "#fdca26"
            ],
            [
             1,
             "#f0f921"
            ]
           ],
           "sequentialminus": [
            [
             0,
             "#0d0887"
            ],
            [
             0.1111111111111111,
             "#46039f"
            ],
            [
             0.2222222222222222,
             "#7201a8"
            ],
            [
             0.3333333333333333,
             "#9c179e"
            ],
            [
             0.4444444444444444,
             "#bd3786"
            ],
            [
             0.5555555555555556,
             "#d8576b"
            ],
            [
             0.6666666666666666,
             "#ed7953"
            ],
            [
             0.7777777777777778,
             "#fb9f3a"
            ],
            [
             0.8888888888888888,
             "#fdca26"
            ],
            [
             1,
             "#f0f921"
            ]
           ]
          },
          "colorway": [
           "#636efa",
           "#EF553B",
           "#00cc96",
           "#ab63fa",
           "#FFA15A",
           "#19d3f3",
           "#FF6692",
           "#B6E880",
           "#FF97FF",
           "#FECB52"
          ],
          "font": {
           "color": "#2a3f5f"
          },
          "geo": {
           "bgcolor": "white",
           "lakecolor": "white",
           "landcolor": "#E5ECF6",
           "showlakes": true,
           "showland": true,
           "subunitcolor": "white"
          },
          "hoverlabel": {
           "align": "left"
          },
          "hovermode": "closest",
          "mapbox": {
           "style": "light"
          },
          "paper_bgcolor": "white",
          "plot_bgcolor": "#E5ECF6",
          "polar": {
           "angularaxis": {
            "gridcolor": "white",
            "linecolor": "white",
            "ticks": ""
           },
           "bgcolor": "#E5ECF6",
           "radialaxis": {
            "gridcolor": "white",
            "linecolor": "white",
            "ticks": ""
           }
          },
          "scene": {
           "xaxis": {
            "backgroundcolor": "#E5ECF6",
            "gridcolor": "white",
            "gridwidth": 2,
            "linecolor": "white",
            "showbackground": true,
            "ticks": "",
            "zerolinecolor": "white"
           },
           "yaxis": {
            "backgroundcolor": "#E5ECF6",
            "gridcolor": "white",
            "gridwidth": 2,
            "linecolor": "white",
            "showbackground": true,
            "ticks": "",
            "zerolinecolor": "white"
           },
           "zaxis": {
            "backgroundcolor": "#E5ECF6",
            "gridcolor": "white",
            "gridwidth": 2,
            "linecolor": "white",
            "showbackground": true,
            "ticks": "",
            "zerolinecolor": "white"
           }
          },
          "shapedefaults": {
           "line": {
            "color": "#2a3f5f"
           }
          },
          "ternary": {
           "aaxis": {
            "gridcolor": "white",
            "linecolor": "white",
            "ticks": ""
           },
           "baxis": {
            "gridcolor": "white",
            "linecolor": "white",
            "ticks": ""
           },
           "bgcolor": "#E5ECF6",
           "caxis": {
            "gridcolor": "white",
            "linecolor": "white",
            "ticks": ""
           }
          },
          "title": {
           "x": 0.05
          },
          "xaxis": {
           "automargin": true,
           "gridcolor": "white",
           "linecolor": "white",
           "ticks": "",
           "title": {
            "standoff": 15
           },
           "zerolinecolor": "white",
           "zerolinewidth": 2
          },
          "yaxis": {
           "automargin": true,
           "gridcolor": "white",
           "linecolor": "white",
           "ticks": "",
           "title": {
            "standoff": 15
           },
           "zerolinecolor": "white",
           "zerolinewidth": 2
          }
         }
        },
        "title": {
         "text": "Top 8 Familias Más Incidentes (Excluyendo Productos Ambiente)",
         "x": 0.5
        },
        "xaxis": {
         "anchor": "y",
         "domain": [
          0,
          1
         ],
         "title": {
          "text": "Cantidad de Incidencias"
         }
        },
        "yaxis": {
         "anchor": "x",
         "categoryorder": "total ascending",
         "domain": [
          0,
          1
         ],
         "title": {
          "text": "Familia de Producto"
         }
        }
       }
      }
     },
     "metadata": {},
     "output_type": "display_data"
    }
   ],
   "source": [
    "top_8_familias_restantes = conteo_familias_sin_ambiente.sort_values(by='count', ascending=False).head(8)\n",
    "\n",
    "hist_top8_familias = px.bar(top_8_familias_restantes,\n",
    "                            x=\"count\",\n",
    "                            y=\"Familia\",\n",
    "                            title=\"Top 8 Familias Más Incidentes (Excluyendo Productos Ambiente)\",\n",
    "                            orientation='h', # Horizontal bars for better readability\n",
    "                            labels={'Familia': 'Familia de Producto', 'count': 'Cantidad de Incidencias'},\n",
    "                            color_discrete_sequence=px.colors.qualitative.Plotly)\n",
    "\n",
    "\n",
    "hist_top8_familias.update_yaxes(categoryorder='total ascending')\n",
    "hist_top8_familias.update_layout(title_x=0.5) \n",
    "\n",
    "hist_top8_familias.show()"
   ]
  },
  {
   "cell_type": "code",
   "execution_count": 25,
   "id": "923356ea",
   "metadata": {},
   "outputs": [
    {
     "data": {
      "text/plain": [
       "np.float64(24637.11)"
      ]
     },
     "execution_count": 25,
     "metadata": {},
     "output_type": "execute_result"
    }
   ],
   "source": [
    "productos_ambiente_df = abordo[abordo['Familia'] == 'PRODUCTOS AMBIENTE']\n",
    "suma_precios_venta_productos_ambiente = productos_ambiente_df['Precio de venta (€)'].sum()\n",
    "\n",
    "suma_precios_venta_productos_ambiente"
   ]
  },
  {
   "cell_type": "markdown",
   "id": "65357148",
   "metadata": {},
   "source": [
    "#### Los productos de la familia \"Productos Ambiente\" los cuales no necesitan de refrigeración, suponen un **42%** del total de ingresos mensuales de la empresa."
   ]
  },
  {
   "cell_type": "code",
   "execution_count": 26,
   "id": "d412c07d",
   "metadata": {},
   "outputs": [
    {
     "name": "stdout",
     "output_type": "stream",
     "text": [
      "Las 8 familias más incidentes son: ['PESCADOS ULTRACONGELADOS', 'REFRIGERADOS', 'MARISCOS', 'HORNO BOLLERÍA Y PANADERÍA', 'CARNES Y EMBUTIDOS ULTRACONGELADOS', 'PRECOCINADOS', 'HELADOS', 'VERDURAS']\n",
      "La suma total de los 'Precio de venta (€)' de los productos de estas 8 familias es: 29649.21 €\n",
      "Y el total facturado por abordo es de 58663.2€, por lo que los productos que necesitan de conservación en un congelador industrial suponen un 50.54% del beneficio mensaul de la empresa\n"
     ]
    }
   ],
   "source": [
    "top_8_familias_df = conteo_familias_sin_ambiente.sort_values(by='count', ascending=False).head(8)\n",
    "top_8_familias_list = top_8_familias_df['Familia'].tolist()\n",
    "\n",
    "\n",
    "productos_de_top_8_familias = abordo[abordo['Familia'].isin(top_8_familias_list)].copy()\n",
    "total_precios_venta_top_8_familias = productos_de_top_8_familias['Precio de venta (€)'].sum()\n",
    "\n",
    "print(f\"Las 8 familias más incidentes son: {top_8_familias_list}\")\n",
    "print(f\"La suma total de los 'Precio de venta (€)' de los productos de estas 8 familias es: {total_precios_venta_top_8_familias:.2f} €\")\n",
    "print(f\"Y el total facturado por abordo es de {abordo['Precio de venta (€)'].sum()}€, por lo que los productos que necesitan de conservación en un congelador industrial suponen un 50.54% del beneficio mensaul de la empresa\")"
   ]
  },
  {
   "cell_type": "code",
   "execution_count": null,
   "id": "c3cb3130",
   "metadata": {},
   "outputs": [],
   "source": []
  },
  {
   "cell_type": "code",
   "execution_count": null,
   "id": "e49eaba9",
   "metadata": {},
   "outputs": [],
   "source": []
  },
  {
   "cell_type": "code",
   "execution_count": null,
   "id": "43c8a8f0",
   "metadata": {},
   "outputs": [],
   "source": []
  },
  {
   "cell_type": "markdown",
   "id": "9a09afff",
   "metadata": {},
   "source": [
    "### Parámetros de Entrada"
   ]
  },
  {
   "cell_type": "code",
   "execution_count": 27,
   "id": "dd42ca44",
   "metadata": {},
   "outputs": [],
   "source": [
    "\n",
    "superficie_techo_m2 = 250  \n",
    "porcentaje_util_techo = 0.8  # Porcentaje del techo que se puede usar para paneles (80%)\n",
    "watios_pico_por_m2 = 200  # Wp/m² (eficiencia estimada de los paneles)\n",
    "consumo_diario_camara_kwh = 300  # kWh/día \n",
    "horas_sol_pico = 5  # Horas de Sol Pico Equivalentes (HSP) promedio diario en España\n",
    "\n",
    "# Coste por kWp para paneles (instalados en cubierta)\n",
    "coste_por_kwp_paneles_min = 900\n",
    "coste_por_kwp_paneles_max = 1200\n",
    "coste_medio_por_kwp_paneles = (coste_por_kwp_paneles_min + coste_por_kwp_paneles_max) / 2\n",
    "\n",
    "# Otros costes de componentes y mano de obra (como porcentaje del coste de paneles o fijo)\n",
    "porcentaje_coste_inversores = 0.20  # 20% del coste de paneles (aprox. 0.20€/Wp)\n",
    "porcentaje_coste_estructura = 0.12  # 12% del coste de paneles (aprox. 0.12€/Wp)\n",
    "porcentaje_coste_cableado_protecciones = 0.10  # 10% del coste de paneles (aprox. 0.10€/Wp)\n",
    "porcentaje_coste_mano_obra = 0.20  # 20% del coste de paneles (aprox. 0.20€/Wp)\n",
    "coste_fijo_ingenieria_licencias = 5000  # Coste fijo para permisos y proyectos\n",
    "\n",
    "# Costes específicos de las baterías\n",
    "capacidad_bateria_kwh = 50  # kWh para autonomía (~4-6 horas de alto consumo)\n",
    "coste_por_kwh_bateria_min = 800\n",
    "coste_por_kwh_bateria_max = 1200\n",
    "coste_medio_por_kwh_bateria = (coste_por_kwh_bateria_min + coste_por_kwh_bateria_max) / 2\n",
    "\n",
    "# Parámetros de la electricidad\n",
    "precio_electricidad_por_kwh = 0.20  # €/kWh (precio promedio para el consumo industrial en España, con impuestos/cargos)\n",
    "incremento_anual_precio_electricidad = 0.03  # 3% de incremento anual del precio de la electricidad\n",
    "compensacion_excedentes_anual = 800  # Ingreso anual estimado por la venta de excedentes\n",
    "\n",
    "\n",
    "\n",
    "\n"
   ]
  },
  {
   "cell_type": "markdown",
   "id": "97aad520",
   "metadata": {},
   "source": [
    "### Cálculos "
   ]
  },
  {
   "cell_type": "code",
   "execution_count": 28,
   "id": "c6a5b328",
   "metadata": {},
   "outputs": [],
   "source": [
    "\n",
    "\n",
    "# Dimensionamiento del Sistema\n",
    "superficie_util_m2 = superficie_techo_m2 * porcentaje_util_techo\n",
    "potencia_pico_watios = superficie_util_m2 * watios_pico_por_m2\n",
    "potencia_pico_kwp = potencia_pico_watios / 1000\n",
    "\n",
    "# Producción Estimada\n",
    "produccion_diaria_solar_kwh = potencia_pico_kwp * horas_sol_pico\n",
    "produccion_anual_solar_kwh = produccion_diaria_solar_kwh * 365\n",
    "\n",
    "# Cálculo de Costes - Escenario A: Sin Baterías\n",
    "coste_paneles_A = potencia_pico_kwp * coste_medio_por_kwp_paneles\n",
    "coste_inversores_A = coste_paneles_A * porcentaje_coste_inversores\n",
    "coste_estructura_A = coste_paneles_A * porcentaje_coste_estructura\n",
    "coste_cableado_A = coste_paneles_A * porcentaje_coste_cableado_protecciones\n",
    "coste_mano_obra_A = coste_paneles_A * porcentaje_coste_mano_obra\n",
    "coste_ingenieria_A = coste_fijo_ingenieria_licencias\n",
    "\n",
    "coste_total_A = sum([coste_paneles_A, coste_inversores_A, coste_estructura_A,\n",
    "                    coste_cableado_A, coste_mano_obra_A, coste_ingenieria_A])\n",
    "\n",
    "# Cálculo de Costes - Escenario B: Con Baterías\n",
    "coste_baterias_B = capacidad_bateria_kwh * coste_medio_por_kwh_bateria\n",
    "coste_total_B = coste_total_A + coste_baterias_B\n",
    "\n",
    "# Ahorro Anual\n",
    "ahorro_anual_electricidad = produccion_anual_solar_kwh * precio_electricidad_por_kwh\n",
    "ahorro_anual_total_A = ahorro_anual_electricidad + compensacion_excedentes_anual\n",
    "\n",
    "# Para el escenario con baterías, asumimos un ahorro efectivo ligeramente superior por el máximo autoconsumo\n",
    "ahorro_anual_total_B = ahorro_anual_total_A * 1.05 # 5% más de ahorro por mayor autoconsumo\n",
    "\n",
    "# Periodo de Amortización\n",
    "amortizacion_A = coste_total_A / ahorro_anual_total_A\n",
    "amortizacion_B = coste_total_B / ahorro_anual_total_B"
   ]
  },
  {
   "cell_type": "markdown",
   "id": "33efb975",
   "metadata": {},
   "source": [
    "### Datos para Gráficas"
   ]
  },
  {
   "cell_type": "code",
   "execution_count": 29,
   "id": "ee9b0dc1",
   "metadata": {},
   "outputs": [],
   "source": [
    "\n",
    "# Datos para Desglose de Costes\n",
    "desglose_costes_A = {\n",
    "    'Componente': ['Paneles Solares', 'Inversores', 'Estructura', 'Cableado y Protecciones', 'Mano de Obra', 'Ingeniería y Licencias'],\n",
    "    'Coste (€)': [coste_paneles_A, coste_inversores_A, coste_estructura_A, coste_cableado_A, coste_mano_obra_A, coste_ingenieria_A]\n",
    "}\n",
    "df_desglose_A = pd.DataFrame(desglose_costes_A)\n",
    "\n",
    "desglose_costes_B = desglose_costes_A.copy()\n",
    "desglose_costes_B['Componente'].append('Baterías')\n",
    "desglose_costes_B['Coste (€)'].append(coste_baterias_B)\n",
    "df_desglose_B = pd.DataFrame(desglose_costes_B)\n",
    "\n",
    "# Datos para Gráfica de Amortización\n",
    "# Extendemos unos años más allá de la amortización para mejor visualización\n",
    "anios = list(range(int(max(amortizacion_A, amortizacion_B)) + 3 + 1))\n",
    "ahorros_acumulados_A = []\n",
    "ahorros_acumulados_B = []\n",
    "\n",
    "coste_inicial_A_lista = [coste_total_A] * len(anios)\n",
    "coste_inicial_B_lista = [coste_total_B] * len(anios)\n",
    "\n",
    "ahorro_acumulado_temp_A = 0\n",
    "ahorro_acumulado_temp_B = 0\n",
    "for i in anios:\n",
    "    if i == 0:\n",
    "        ahorros_acumulados_A.append(0)\n",
    "        ahorros_acumulados_B.append(0)\n",
    "    else:\n",
    "        ahorro_anual_actual_A = ahorro_anual_total_A * ((1 + incremento_anual_precio_electricidad)**(i-1))\n",
    "        ahorro_acumulado_temp_A += ahorro_anual_actual_A\n",
    "        ahorros_acumulados_A.append(ahorro_acumulado_temp_A)\n",
    "\n",
    "        ahorro_anual_actual_B = ahorro_anual_total_B * ((1 + incremento_anual_precio_electricidad)**(i-1))\n",
    "        ahorro_acumulado_temp_B += ahorro_anual_actual_B\n",
    "        ahorros_acumulados_B.append(ahorro_acumulado_temp_B)\n",
    "\n",
    "\n",
    "df_amortizacion = pd.DataFrame({\n",
    "    'Año': anios,\n",
    "    'Ahorro Acumulado (Sin Baterías)': ahorros_acumulados_A,\n",
    "    'Ahorro Acumulado (Con Baterías)': ahorros_acumulados_B,\n",
    "    'Costo Inicial (Sin Baterías)': coste_inicial_A_lista,\n",
    "    'Costo Inicial (Con Baterías)': coste_inicial_B_lista\n",
    "})\n",
    "\n"
   ]
  },
  {
   "cell_type": "markdown",
   "id": "b6c8a1e2",
   "metadata": {},
   "source": [
    "### Impresión de Resultados "
   ]
  },
  {
   "cell_type": "code",
   "execution_count": 33,
   "id": "6547d1e2",
   "metadata": {},
   "outputs": [
    {
     "name": "stdout",
     "output_type": "stream",
     "text": [
      "Análisis del Sistema Solar para Almacén (250 m² de techo)\n",
      "Superficie útil estimada para paneles: 200.00 m²\n",
      "**Potencia pico instalable (Kilovatios pico, potencia máxima): 40.00 kWp**\n",
      "Producción diaria estimada: 200.00 kWh/día\n",
      "**Producción anual estimada: 73,000.00 kWh/año**\n",
      "\n",
      "Consumo Diario de la Cámara Frigorífica: 300 kWh/día\n",
      "**Porcentaje de Consumo de Cámara Cubierto por Energía Solar: 66.67%**\n",
      "\n",
      "ESCENARIO A: Instalación SIN BATERÍAS\n",
      "  Coste de Paneles: 42,000.00 €\n",
      "  Coste de Inversores: 8,400.00 €\n",
      "  Coste de Estructura: 5,040.00 €\n",
      "  Coste de Cableado y Protecciones: 4,200.00 €\n",
      "  Coste de Mano de Obra: 8,400.00 €\n",
      "  Coste de Ingeniería y Licencias: 5,000.00 €\n",
      "**Coste Total Estimado (Sin Baterías): 73,040.00 €**\n",
      "**Ahorro Anual Estimado (Sin Baterías): 15,400.00 €**\n",
      "**Tiempo de Amortización (Sin Baterías): 4.74 años**\n",
      "\n",
      "ESCENARIO B: Instalación CON BATERÍAS\n",
      "  Coste de Paneles: 42,000.00 €\n",
      "  Coste de Inversores: 8,400.00 €\n",
      "  Coste de Estructura: 5,040.00 €\n",
      "  Coste de Cableado y Protecciones: 4,200.00 €\n",
      "  Coste de Mano de Obra: 8,400.00 €\n",
      "  Coste de Ingeniería y Licencias: 5,000.00 €\n",
      "  Coste de Baterías (50 kWh): 50,000.00 €\n",
      "**Coste Total Estimado (Con Baterías): 123,040.00 €**\n",
      "**Ahorro Anual Estimado (Con Baterías, mayor autoconsumo): 16,170.00 €**\n",
      "**Tiempo de Amortización (Con Baterías): 7.61 años**\n",
      "\n"
     ]
    }
   ],
   "source": [
    "\n",
    "print(f\"Análisis del Sistema Solar para Almacén ({superficie_techo_m2} m² de techo)\")\n",
    "print(f\"Superficie útil estimada para paneles: {superficie_util_m2:.2f} m²\")\n",
    "print(f\"**Potencia pico instalable (Kilovatios pico, potencia máxima): {potencia_pico_kwp:.2f} kWp**\")\n",
    "print(f\"Producción diaria estimada: {produccion_diaria_solar_kwh:.2f} kWh/día\")\n",
    "print(f\"**Producción anual estimada: {produccion_anual_solar_kwh:,.2f} kWh/año**\\n\")\n",
    "\n",
    "print(f\"Consumo Diario de la Cámara Frigorífica: {consumo_diario_camara_kwh} kWh/día\")\n",
    "print(f\"**Porcentaje de Consumo de Cámara Cubierto por Energía Solar: {min(100, (produccion_diaria_solar_kwh / consumo_diario_camara_kwh) * 100):.2f}%**\\n\")\n",
    "\n",
    "print(\"ESCENARIO A: Instalación SIN BATERÍAS\")\n",
    "print(f\"  Coste de Paneles: {coste_paneles_A:,.2f} €\")\n",
    "print(f\"  Coste de Inversores: {coste_inversores_A:,.2f} €\")\n",
    "print(f\"  Coste de Estructura: {coste_estructura_A:,.2f} €\")\n",
    "print(f\"  Coste de Cableado y Protecciones: {coste_cableado_A:,.2f} €\")\n",
    "print(f\"  Coste de Mano de Obra: {coste_mano_obra_A:,.2f} €\")\n",
    "print(f\"  Coste de Ingeniería y Licencias: {coste_ingenieria_A:,.2f} €\")\n",
    "print(f\"**Coste Total Estimado (Sin Baterías): {coste_total_A:,.2f} €**\")\n",
    "print(f\"**Ahorro Anual Estimado (Sin Baterías): {ahorro_anual_total_A:,.2f} €**\")\n",
    "print(f\"**Tiempo de Amortización (Sin Baterías): {amortizacion_A:.2f} años**\\n\")\n",
    "\n",
    "print(\"ESCENARIO B: Instalación CON BATERÍAS\")\n",
    "print(f\"  Coste de Paneles: {coste_paneles_A:,.2f} €\")\n",
    "print(f\"  Coste de Inversores: {coste_inversores_A:,.2f} €\")\n",
    "print(f\"  Coste de Estructura: {coste_estructura_A:,.2f} €\")\n",
    "print(f\"  Coste de Cableado y Protecciones: {coste_cableado_A:,.2f} €\")\n",
    "print(f\"  Coste de Mano de Obra: {coste_mano_obra_A:,.2f} €\")\n",
    "print(f\"  Coste de Ingeniería y Licencias: {coste_ingenieria_A:,.2f} €\")\n",
    "print(f\"  Coste de Baterías ({capacidad_bateria_kwh} kWh): {coste_baterias_B:,.2f} €\")\n",
    "print(f\"**Coste Total Estimado (Con Baterías): {coste_total_B:,.2f} €**\")\n",
    "print(f\"**Ahorro Anual Estimado (Con Baterías, mayor autoconsumo): {ahorro_anual_total_B:,.2f} €**\")\n",
    "print(f\"**Tiempo de Amortización (Con Baterías): {amortizacion_B:.2f} años**\\n\")"
   ]
  },
  {
   "cell_type": "markdown",
   "id": "9fef09ee",
   "metadata": {},
   "source": [
    "### Generación de Gráficas con Plotly Express"
   ]
  },
  {
   "cell_type": "code",
   "execution_count": 31,
   "id": "c14fb161",
   "metadata": {},
   "outputs": [
    {
     "data": {
      "application/vnd.plotly.v1+json": {
       "config": {
        "plotlyServerURL": "https://plot.ly"
       },
       "data": [
        {
         "domain": {
          "x": [
           0,
           1
          ],
          "y": [
           0,
           1
          ]
         },
         "hole": 0.3,
         "hovertemplate": "Componente=%{label}<br>Coste (€)=%{value}<extra></extra>",
         "labels": [
          "Paneles Solares",
          "Inversores",
          "Estructura",
          "Cableado y Protecciones",
          "Mano de Obra",
          "Ingeniería y Licencias"
         ],
         "legendgroup": "",
         "name": "",
         "showlegend": true,
         "textinfo": "percent+label",
         "textposition": "inside",
         "type": "pie",
         "values": {
          "bdata": "AAAAAACC5EAAAAAAAGjAQAAAAAAAsLNAAAAAAABosEAAAAAAAGjAQAAAAAAAiLNA",
          "dtype": "f8"
         }
        }
       ],
       "layout": {
        "legend": {
         "tracegroupgap": 0
        },
        "template": {
         "data": {
          "bar": [
           {
            "error_x": {
             "color": "#2a3f5f"
            },
            "error_y": {
             "color": "#2a3f5f"
            },
            "marker": {
             "line": {
              "color": "#E5ECF6",
              "width": 0.5
             },
             "pattern": {
              "fillmode": "overlay",
              "size": 10,
              "solidity": 0.2
             }
            },
            "type": "bar"
           }
          ],
          "barpolar": [
           {
            "marker": {
             "line": {
              "color": "#E5ECF6",
              "width": 0.5
             },
             "pattern": {
              "fillmode": "overlay",
              "size": 10,
              "solidity": 0.2
             }
            },
            "type": "barpolar"
           }
          ],
          "carpet": [
           {
            "aaxis": {
             "endlinecolor": "#2a3f5f",
             "gridcolor": "white",
             "linecolor": "white",
             "minorgridcolor": "white",
             "startlinecolor": "#2a3f5f"
            },
            "baxis": {
             "endlinecolor": "#2a3f5f",
             "gridcolor": "white",
             "linecolor": "white",
             "minorgridcolor": "white",
             "startlinecolor": "#2a3f5f"
            },
            "type": "carpet"
           }
          ],
          "choropleth": [
           {
            "colorbar": {
             "outlinewidth": 0,
             "ticks": ""
            },
            "type": "choropleth"
           }
          ],
          "contour": [
           {
            "colorbar": {
             "outlinewidth": 0,
             "ticks": ""
            },
            "colorscale": [
             [
              0,
              "#0d0887"
             ],
             [
              0.1111111111111111,
              "#46039f"
             ],
             [
              0.2222222222222222,
              "#7201a8"
             ],
             [
              0.3333333333333333,
              "#9c179e"
             ],
             [
              0.4444444444444444,
              "#bd3786"
             ],
             [
              0.5555555555555556,
              "#d8576b"
             ],
             [
              0.6666666666666666,
              "#ed7953"
             ],
             [
              0.7777777777777778,
              "#fb9f3a"
             ],
             [
              0.8888888888888888,
              "#fdca26"
             ],
             [
              1,
              "#f0f921"
             ]
            ],
            "type": "contour"
           }
          ],
          "contourcarpet": [
           {
            "colorbar": {
             "outlinewidth": 0,
             "ticks": ""
            },
            "type": "contourcarpet"
           }
          ],
          "heatmap": [
           {
            "colorbar": {
             "outlinewidth": 0,
             "ticks": ""
            },
            "colorscale": [
             [
              0,
              "#0d0887"
             ],
             [
              0.1111111111111111,
              "#46039f"
             ],
             [
              0.2222222222222222,
              "#7201a8"
             ],
             [
              0.3333333333333333,
              "#9c179e"
             ],
             [
              0.4444444444444444,
              "#bd3786"
             ],
             [
              0.5555555555555556,
              "#d8576b"
             ],
             [
              0.6666666666666666,
              "#ed7953"
             ],
             [
              0.7777777777777778,
              "#fb9f3a"
             ],
             [
              0.8888888888888888,
              "#fdca26"
             ],
             [
              1,
              "#f0f921"
             ]
            ],
            "type": "heatmap"
           }
          ],
          "histogram": [
           {
            "marker": {
             "pattern": {
              "fillmode": "overlay",
              "size": 10,
              "solidity": 0.2
             }
            },
            "type": "histogram"
           }
          ],
          "histogram2d": [
           {
            "colorbar": {
             "outlinewidth": 0,
             "ticks": ""
            },
            "colorscale": [
             [
              0,
              "#0d0887"
             ],
             [
              0.1111111111111111,
              "#46039f"
             ],
             [
              0.2222222222222222,
              "#7201a8"
             ],
             [
              0.3333333333333333,
              "#9c179e"
             ],
             [
              0.4444444444444444,
              "#bd3786"
             ],
             [
              0.5555555555555556,
              "#d8576b"
             ],
             [
              0.6666666666666666,
              "#ed7953"
             ],
             [
              0.7777777777777778,
              "#fb9f3a"
             ],
             [
              0.8888888888888888,
              "#fdca26"
             ],
             [
              1,
              "#f0f921"
             ]
            ],
            "type": "histogram2d"
           }
          ],
          "histogram2dcontour": [
           {
            "colorbar": {
             "outlinewidth": 0,
             "ticks": ""
            },
            "colorscale": [
             [
              0,
              "#0d0887"
             ],
             [
              0.1111111111111111,
              "#46039f"
             ],
             [
              0.2222222222222222,
              "#7201a8"
             ],
             [
              0.3333333333333333,
              "#9c179e"
             ],
             [
              0.4444444444444444,
              "#bd3786"
             ],
             [
              0.5555555555555556,
              "#d8576b"
             ],
             [
              0.6666666666666666,
              "#ed7953"
             ],
             [
              0.7777777777777778,
              "#fb9f3a"
             ],
             [
              0.8888888888888888,
              "#fdca26"
             ],
             [
              1,
              "#f0f921"
             ]
            ],
            "type": "histogram2dcontour"
           }
          ],
          "mesh3d": [
           {
            "colorbar": {
             "outlinewidth": 0,
             "ticks": ""
            },
            "type": "mesh3d"
           }
          ],
          "parcoords": [
           {
            "line": {
             "colorbar": {
              "outlinewidth": 0,
              "ticks": ""
             }
            },
            "type": "parcoords"
           }
          ],
          "pie": [
           {
            "automargin": true,
            "type": "pie"
           }
          ],
          "scatter": [
           {
            "fillpattern": {
             "fillmode": "overlay",
             "size": 10,
             "solidity": 0.2
            },
            "type": "scatter"
           }
          ],
          "scatter3d": [
           {
            "line": {
             "colorbar": {
              "outlinewidth": 0,
              "ticks": ""
             }
            },
            "marker": {
             "colorbar": {
              "outlinewidth": 0,
              "ticks": ""
             }
            },
            "type": "scatter3d"
           }
          ],
          "scattercarpet": [
           {
            "marker": {
             "colorbar": {
              "outlinewidth": 0,
              "ticks": ""
             }
            },
            "type": "scattercarpet"
           }
          ],
          "scattergeo": [
           {
            "marker": {
             "colorbar": {
              "outlinewidth": 0,
              "ticks": ""
             }
            },
            "type": "scattergeo"
           }
          ],
          "scattergl": [
           {
            "marker": {
             "colorbar": {
              "outlinewidth": 0,
              "ticks": ""
             }
            },
            "type": "scattergl"
           }
          ],
          "scattermap": [
           {
            "marker": {
             "colorbar": {
              "outlinewidth": 0,
              "ticks": ""
             }
            },
            "type": "scattermap"
           }
          ],
          "scattermapbox": [
           {
            "marker": {
             "colorbar": {
              "outlinewidth": 0,
              "ticks": ""
             }
            },
            "type": "scattermapbox"
           }
          ],
          "scatterpolar": [
           {
            "marker": {
             "colorbar": {
              "outlinewidth": 0,
              "ticks": ""
             }
            },
            "type": "scatterpolar"
           }
          ],
          "scatterpolargl": [
           {
            "marker": {
             "colorbar": {
              "outlinewidth": 0,
              "ticks": ""
             }
            },
            "type": "scatterpolargl"
           }
          ],
          "scatterternary": [
           {
            "marker": {
             "colorbar": {
              "outlinewidth": 0,
              "ticks": ""
             }
            },
            "type": "scatterternary"
           }
          ],
          "surface": [
           {
            "colorbar": {
             "outlinewidth": 0,
             "ticks": ""
            },
            "colorscale": [
             [
              0,
              "#0d0887"
             ],
             [
              0.1111111111111111,
              "#46039f"
             ],
             [
              0.2222222222222222,
              "#7201a8"
             ],
             [
              0.3333333333333333,
              "#9c179e"
             ],
             [
              0.4444444444444444,
              "#bd3786"
             ],
             [
              0.5555555555555556,
              "#d8576b"
             ],
             [
              0.6666666666666666,
              "#ed7953"
             ],
             [
              0.7777777777777778,
              "#fb9f3a"
             ],
             [
              0.8888888888888888,
              "#fdca26"
             ],
             [
              1,
              "#f0f921"
             ]
            ],
            "type": "surface"
           }
          ],
          "table": [
           {
            "cells": {
             "fill": {
              "color": "#EBF0F8"
             },
             "line": {
              "color": "white"
             }
            },
            "header": {
             "fill": {
              "color": "#C8D4E3"
             },
             "line": {
              "color": "white"
             }
            },
            "type": "table"
           }
          ]
         },
         "layout": {
          "annotationdefaults": {
           "arrowcolor": "#2a3f5f",
           "arrowhead": 0,
           "arrowwidth": 1
          },
          "autotypenumbers": "strict",
          "coloraxis": {
           "colorbar": {
            "outlinewidth": 0,
            "ticks": ""
           }
          },
          "colorscale": {
           "diverging": [
            [
             0,
             "#8e0152"
            ],
            [
             0.1,
             "#c51b7d"
            ],
            [
             0.2,
             "#de77ae"
            ],
            [
             0.3,
             "#f1b6da"
            ],
            [
             0.4,
             "#fde0ef"
            ],
            [
             0.5,
             "#f7f7f7"
            ],
            [
             0.6,
             "#e6f5d0"
            ],
            [
             0.7,
             "#b8e186"
            ],
            [
             0.8,
             "#7fbc41"
            ],
            [
             0.9,
             "#4d9221"
            ],
            [
             1,
             "#276419"
            ]
           ],
           "sequential": [
            [
             0,
             "#0d0887"
            ],
            [
             0.1111111111111111,
             "#46039f"
            ],
            [
             0.2222222222222222,
             "#7201a8"
            ],
            [
             0.3333333333333333,
             "#9c179e"
            ],
            [
             0.4444444444444444,
             "#bd3786"
            ],
            [
             0.5555555555555556,
             "#d8576b"
            ],
            [
             0.6666666666666666,
             "#ed7953"
            ],
            [
             0.7777777777777778,
             "#fb9f3a"
            ],
            [
             0.8888888888888888,
             "#fdca26"
            ],
            [
             1,
             "#f0f921"
            ]
           ],
           "sequentialminus": [
            [
             0,
             "#0d0887"
            ],
            [
             0.1111111111111111,
             "#46039f"
            ],
            [
             0.2222222222222222,
             "#7201a8"
            ],
            [
             0.3333333333333333,
             "#9c179e"
            ],
            [
             0.4444444444444444,
             "#bd3786"
            ],
            [
             0.5555555555555556,
             "#d8576b"
            ],
            [
             0.6666666666666666,
             "#ed7953"
            ],
            [
             0.7777777777777778,
             "#fb9f3a"
            ],
            [
             0.8888888888888888,
             "#fdca26"
            ],
            [
             1,
             "#f0f921"
            ]
           ]
          },
          "colorway": [
           "#636efa",
           "#EF553B",
           "#00cc96",
           "#ab63fa",
           "#FFA15A",
           "#19d3f3",
           "#FF6692",
           "#B6E880",
           "#FF97FF",
           "#FECB52"
          ],
          "font": {
           "color": "#2a3f5f"
          },
          "geo": {
           "bgcolor": "white",
           "lakecolor": "white",
           "landcolor": "#E5ECF6",
           "showlakes": true,
           "showland": true,
           "subunitcolor": "white"
          },
          "hoverlabel": {
           "align": "left"
          },
          "hovermode": "closest",
          "mapbox": {
           "style": "light"
          },
          "paper_bgcolor": "white",
          "plot_bgcolor": "#E5ECF6",
          "polar": {
           "angularaxis": {
            "gridcolor": "white",
            "linecolor": "white",
            "ticks": ""
           },
           "bgcolor": "#E5ECF6",
           "radialaxis": {
            "gridcolor": "white",
            "linecolor": "white",
            "ticks": ""
           }
          },
          "scene": {
           "xaxis": {
            "backgroundcolor": "#E5ECF6",
            "gridcolor": "white",
            "gridwidth": 2,
            "linecolor": "white",
            "showbackground": true,
            "ticks": "",
            "zerolinecolor": "white"
           },
           "yaxis": {
            "backgroundcolor": "#E5ECF6",
            "gridcolor": "white",
            "gridwidth": 2,
            "linecolor": "white",
            "showbackground": true,
            "ticks": "",
            "zerolinecolor": "white"
           },
           "zaxis": {
            "backgroundcolor": "#E5ECF6",
            "gridcolor": "white",
            "gridwidth": 2,
            "linecolor": "white",
            "showbackground": true,
            "ticks": "",
            "zerolinecolor": "white"
           }
          },
          "shapedefaults": {
           "line": {
            "color": "#2a3f5f"
           }
          },
          "ternary": {
           "aaxis": {
            "gridcolor": "white",
            "linecolor": "white",
            "ticks": ""
           },
           "baxis": {
            "gridcolor": "white",
            "linecolor": "white",
            "ticks": ""
           },
           "bgcolor": "#E5ECF6",
           "caxis": {
            "gridcolor": "white",
            "linecolor": "white",
            "ticks": ""
           }
          },
          "title": {
           "x": 0.05
          },
          "xaxis": {
           "automargin": true,
           "gridcolor": "white",
           "linecolor": "white",
           "ticks": "",
           "title": {
            "standoff": 15
           },
           "zerolinecolor": "white",
           "zerolinewidth": 2
          },
          "yaxis": {
           "automargin": true,
           "gridcolor": "white",
           "linecolor": "white",
           "ticks": "",
           "title": {
            "standoff": 15
           },
           "zerolinecolor": "white",
           "zerolinewidth": 2
          }
         }
        },
        "title": {
         "text": "Desglose de Costes de la Instalación sin Baterías (Estimado: 73,040 €):"
        }
       }
      }
     },
     "metadata": {},
     "output_type": "display_data"
    },
    {
     "data": {
      "application/vnd.plotly.v1+json": {
       "config": {
        "plotlyServerURL": "https://plot.ly"
       },
       "data": [
        {
         "domain": {
          "x": [
           0,
           1
          ],
          "y": [
           0,
           1
          ]
         },
         "hole": 0.3,
         "hovertemplate": "Componente=%{label}<br>Coste (€)=%{value}<extra></extra>",
         "labels": [
          "Paneles Solares",
          "Inversores",
          "Estructura",
          "Cableado y Protecciones",
          "Mano de Obra",
          "Ingeniería y Licencias",
          "Baterías"
         ],
         "legendgroup": "",
         "name": "",
         "showlegend": true,
         "textinfo": "percent+label",
         "textposition": "inside",
         "type": "pie",
         "values": {
          "bdata": "AAAAAACC5EAAAAAAAGjAQAAAAAAAsLNAAAAAAABosEAAAAAAAGjAQAAAAAAAiLNAAAAAAABq6EA=",
          "dtype": "f8"
         }
        }
       ],
       "layout": {
        "legend": {
         "tracegroupgap": 0
        },
        "template": {
         "data": {
          "bar": [
           {
            "error_x": {
             "color": "#2a3f5f"
            },
            "error_y": {
             "color": "#2a3f5f"
            },
            "marker": {
             "line": {
              "color": "#E5ECF6",
              "width": 0.5
             },
             "pattern": {
              "fillmode": "overlay",
              "size": 10,
              "solidity": 0.2
             }
            },
            "type": "bar"
           }
          ],
          "barpolar": [
           {
            "marker": {
             "line": {
              "color": "#E5ECF6",
              "width": 0.5
             },
             "pattern": {
              "fillmode": "overlay",
              "size": 10,
              "solidity": 0.2
             }
            },
            "type": "barpolar"
           }
          ],
          "carpet": [
           {
            "aaxis": {
             "endlinecolor": "#2a3f5f",
             "gridcolor": "white",
             "linecolor": "white",
             "minorgridcolor": "white",
             "startlinecolor": "#2a3f5f"
            },
            "baxis": {
             "endlinecolor": "#2a3f5f",
             "gridcolor": "white",
             "linecolor": "white",
             "minorgridcolor": "white",
             "startlinecolor": "#2a3f5f"
            },
            "type": "carpet"
           }
          ],
          "choropleth": [
           {
            "colorbar": {
             "outlinewidth": 0,
             "ticks": ""
            },
            "type": "choropleth"
           }
          ],
          "contour": [
           {
            "colorbar": {
             "outlinewidth": 0,
             "ticks": ""
            },
            "colorscale": [
             [
              0,
              "#0d0887"
             ],
             [
              0.1111111111111111,
              "#46039f"
             ],
             [
              0.2222222222222222,
              "#7201a8"
             ],
             [
              0.3333333333333333,
              "#9c179e"
             ],
             [
              0.4444444444444444,
              "#bd3786"
             ],
             [
              0.5555555555555556,
              "#d8576b"
             ],
             [
              0.6666666666666666,
              "#ed7953"
             ],
             [
              0.7777777777777778,
              "#fb9f3a"
             ],
             [
              0.8888888888888888,
              "#fdca26"
             ],
             [
              1,
              "#f0f921"
             ]
            ],
            "type": "contour"
           }
          ],
          "contourcarpet": [
           {
            "colorbar": {
             "outlinewidth": 0,
             "ticks": ""
            },
            "type": "contourcarpet"
           }
          ],
          "heatmap": [
           {
            "colorbar": {
             "outlinewidth": 0,
             "ticks": ""
            },
            "colorscale": [
             [
              0,
              "#0d0887"
             ],
             [
              0.1111111111111111,
              "#46039f"
             ],
             [
              0.2222222222222222,
              "#7201a8"
             ],
             [
              0.3333333333333333,
              "#9c179e"
             ],
             [
              0.4444444444444444,
              "#bd3786"
             ],
             [
              0.5555555555555556,
              "#d8576b"
             ],
             [
              0.6666666666666666,
              "#ed7953"
             ],
             [
              0.7777777777777778,
              "#fb9f3a"
             ],
             [
              0.8888888888888888,
              "#fdca26"
             ],
             [
              1,
              "#f0f921"
             ]
            ],
            "type": "heatmap"
           }
          ],
          "histogram": [
           {
            "marker": {
             "pattern": {
              "fillmode": "overlay",
              "size": 10,
              "solidity": 0.2
             }
            },
            "type": "histogram"
           }
          ],
          "histogram2d": [
           {
            "colorbar": {
             "outlinewidth": 0,
             "ticks": ""
            },
            "colorscale": [
             [
              0,
              "#0d0887"
             ],
             [
              0.1111111111111111,
              "#46039f"
             ],
             [
              0.2222222222222222,
              "#7201a8"
             ],
             [
              0.3333333333333333,
              "#9c179e"
             ],
             [
              0.4444444444444444,
              "#bd3786"
             ],
             [
              0.5555555555555556,
              "#d8576b"
             ],
             [
              0.6666666666666666,
              "#ed7953"
             ],
             [
              0.7777777777777778,
              "#fb9f3a"
             ],
             [
              0.8888888888888888,
              "#fdca26"
             ],
             [
              1,
              "#f0f921"
             ]
            ],
            "type": "histogram2d"
           }
          ],
          "histogram2dcontour": [
           {
            "colorbar": {
             "outlinewidth": 0,
             "ticks": ""
            },
            "colorscale": [
             [
              0,
              "#0d0887"
             ],
             [
              0.1111111111111111,
              "#46039f"
             ],
             [
              0.2222222222222222,
              "#7201a8"
             ],
             [
              0.3333333333333333,
              "#9c179e"
             ],
             [
              0.4444444444444444,
              "#bd3786"
             ],
             [
              0.5555555555555556,
              "#d8576b"
             ],
             [
              0.6666666666666666,
              "#ed7953"
             ],
             [
              0.7777777777777778,
              "#fb9f3a"
             ],
             [
              0.8888888888888888,
              "#fdca26"
             ],
             [
              1,
              "#f0f921"
             ]
            ],
            "type": "histogram2dcontour"
           }
          ],
          "mesh3d": [
           {
            "colorbar": {
             "outlinewidth": 0,
             "ticks": ""
            },
            "type": "mesh3d"
           }
          ],
          "parcoords": [
           {
            "line": {
             "colorbar": {
              "outlinewidth": 0,
              "ticks": ""
             }
            },
            "type": "parcoords"
           }
          ],
          "pie": [
           {
            "automargin": true,
            "type": "pie"
           }
          ],
          "scatter": [
           {
            "fillpattern": {
             "fillmode": "overlay",
             "size": 10,
             "solidity": 0.2
            },
            "type": "scatter"
           }
          ],
          "scatter3d": [
           {
            "line": {
             "colorbar": {
              "outlinewidth": 0,
              "ticks": ""
             }
            },
            "marker": {
             "colorbar": {
              "outlinewidth": 0,
              "ticks": ""
             }
            },
            "type": "scatter3d"
           }
          ],
          "scattercarpet": [
           {
            "marker": {
             "colorbar": {
              "outlinewidth": 0,
              "ticks": ""
             }
            },
            "type": "scattercarpet"
           }
          ],
          "scattergeo": [
           {
            "marker": {
             "colorbar": {
              "outlinewidth": 0,
              "ticks": ""
             }
            },
            "type": "scattergeo"
           }
          ],
          "scattergl": [
           {
            "marker": {
             "colorbar": {
              "outlinewidth": 0,
              "ticks": ""
             }
            },
            "type": "scattergl"
           }
          ],
          "scattermap": [
           {
            "marker": {
             "colorbar": {
              "outlinewidth": 0,
              "ticks": ""
             }
            },
            "type": "scattermap"
           }
          ],
          "scattermapbox": [
           {
            "marker": {
             "colorbar": {
              "outlinewidth": 0,
              "ticks": ""
             }
            },
            "type": "scattermapbox"
           }
          ],
          "scatterpolar": [
           {
            "marker": {
             "colorbar": {
              "outlinewidth": 0,
              "ticks": ""
             }
            },
            "type": "scatterpolar"
           }
          ],
          "scatterpolargl": [
           {
            "marker": {
             "colorbar": {
              "outlinewidth": 0,
              "ticks": ""
             }
            },
            "type": "scatterpolargl"
           }
          ],
          "scatterternary": [
           {
            "marker": {
             "colorbar": {
              "outlinewidth": 0,
              "ticks": ""
             }
            },
            "type": "scatterternary"
           }
          ],
          "surface": [
           {
            "colorbar": {
             "outlinewidth": 0,
             "ticks": ""
            },
            "colorscale": [
             [
              0,
              "#0d0887"
             ],
             [
              0.1111111111111111,
              "#46039f"
             ],
             [
              0.2222222222222222,
              "#7201a8"
             ],
             [
              0.3333333333333333,
              "#9c179e"
             ],
             [
              0.4444444444444444,
              "#bd3786"
             ],
             [
              0.5555555555555556,
              "#d8576b"
             ],
             [
              0.6666666666666666,
              "#ed7953"
             ],
             [
              0.7777777777777778,
              "#fb9f3a"
             ],
             [
              0.8888888888888888,
              "#fdca26"
             ],
             [
              1,
              "#f0f921"
             ]
            ],
            "type": "surface"
           }
          ],
          "table": [
           {
            "cells": {
             "fill": {
              "color": "#EBF0F8"
             },
             "line": {
              "color": "white"
             }
            },
            "header": {
             "fill": {
              "color": "#C8D4E3"
             },
             "line": {
              "color": "white"
             }
            },
            "type": "table"
           }
          ]
         },
         "layout": {
          "annotationdefaults": {
           "arrowcolor": "#2a3f5f",
           "arrowhead": 0,
           "arrowwidth": 1
          },
          "autotypenumbers": "strict",
          "coloraxis": {
           "colorbar": {
            "outlinewidth": 0,
            "ticks": ""
           }
          },
          "colorscale": {
           "diverging": [
            [
             0,
             "#8e0152"
            ],
            [
             0.1,
             "#c51b7d"
            ],
            [
             0.2,
             "#de77ae"
            ],
            [
             0.3,
             "#f1b6da"
            ],
            [
             0.4,
             "#fde0ef"
            ],
            [
             0.5,
             "#f7f7f7"
            ],
            [
             0.6,
             "#e6f5d0"
            ],
            [
             0.7,
             "#b8e186"
            ],
            [
             0.8,
             "#7fbc41"
            ],
            [
             0.9,
             "#4d9221"
            ],
            [
             1,
             "#276419"
            ]
           ],
           "sequential": [
            [
             0,
             "#0d0887"
            ],
            [
             0.1111111111111111,
             "#46039f"
            ],
            [
             0.2222222222222222,
             "#7201a8"
            ],
            [
             0.3333333333333333,
             "#9c179e"
            ],
            [
             0.4444444444444444,
             "#bd3786"
            ],
            [
             0.5555555555555556,
             "#d8576b"
            ],
            [
             0.6666666666666666,
             "#ed7953"
            ],
            [
             0.7777777777777778,
             "#fb9f3a"
            ],
            [
             0.8888888888888888,
             "#fdca26"
            ],
            [
             1,
             "#f0f921"
            ]
           ],
           "sequentialminus": [
            [
             0,
             "#0d0887"
            ],
            [
             0.1111111111111111,
             "#46039f"
            ],
            [
             0.2222222222222222,
             "#7201a8"
            ],
            [
             0.3333333333333333,
             "#9c179e"
            ],
            [
             0.4444444444444444,
             "#bd3786"
            ],
            [
             0.5555555555555556,
             "#d8576b"
            ],
            [
             0.6666666666666666,
             "#ed7953"
            ],
            [
             0.7777777777777778,
             "#fb9f3a"
            ],
            [
             0.8888888888888888,
             "#fdca26"
            ],
            [
             1,
             "#f0f921"
            ]
           ]
          },
          "colorway": [
           "#636efa",
           "#EF553B",
           "#00cc96",
           "#ab63fa",
           "#FFA15A",
           "#19d3f3",
           "#FF6692",
           "#B6E880",
           "#FF97FF",
           "#FECB52"
          ],
          "font": {
           "color": "#2a3f5f"
          },
          "geo": {
           "bgcolor": "white",
           "lakecolor": "white",
           "landcolor": "#E5ECF6",
           "showlakes": true,
           "showland": true,
           "subunitcolor": "white"
          },
          "hoverlabel": {
           "align": "left"
          },
          "hovermode": "closest",
          "mapbox": {
           "style": "light"
          },
          "paper_bgcolor": "white",
          "plot_bgcolor": "#E5ECF6",
          "polar": {
           "angularaxis": {
            "gridcolor": "white",
            "linecolor": "white",
            "ticks": ""
           },
           "bgcolor": "#E5ECF6",
           "radialaxis": {
            "gridcolor": "white",
            "linecolor": "white",
            "ticks": ""
           }
          },
          "scene": {
           "xaxis": {
            "backgroundcolor": "#E5ECF6",
            "gridcolor": "white",
            "gridwidth": 2,
            "linecolor": "white",
            "showbackground": true,
            "ticks": "",
            "zerolinecolor": "white"
           },
           "yaxis": {
            "backgroundcolor": "#E5ECF6",
            "gridcolor": "white",
            "gridwidth": 2,
            "linecolor": "white",
            "showbackground": true,
            "ticks": "",
            "zerolinecolor": "white"
           },
           "zaxis": {
            "backgroundcolor": "#E5ECF6",
            "gridcolor": "white",
            "gridwidth": 2,
            "linecolor": "white",
            "showbackground": true,
            "ticks": "",
            "zerolinecolor": "white"
           }
          },
          "shapedefaults": {
           "line": {
            "color": "#2a3f5f"
           }
          },
          "ternary": {
           "aaxis": {
            "gridcolor": "white",
            "linecolor": "white",
            "ticks": ""
           },
           "baxis": {
            "gridcolor": "white",
            "linecolor": "white",
            "ticks": ""
           },
           "bgcolor": "#E5ECF6",
           "caxis": {
            "gridcolor": "white",
            "linecolor": "white",
            "ticks": ""
           }
          },
          "title": {
           "x": 0.05
          },
          "xaxis": {
           "automargin": true,
           "gridcolor": "white",
           "linecolor": "white",
           "ticks": "",
           "title": {
            "standoff": 15
           },
           "zerolinecolor": "white",
           "zerolinewidth": 2
          },
          "yaxis": {
           "automargin": true,
           "gridcolor": "white",
           "linecolor": "white",
           "ticks": "",
           "title": {
            "standoff": 15
           },
           "zerolinecolor": "white",
           "zerolinewidth": 2
          }
         }
        },
        "title": {
         "text": "Desglose de Costes de la Instalación con Baterías (Estimado: 123,040 €):"
        }
       }
      }
     },
     "metadata": {},
     "output_type": "display_data"
    },
    {
     "data": {
      "application/vnd.plotly.v1+json": {
       "config": {
        "plotlyServerURL": "https://plot.ly"
       },
       "data": [
        {
         "line": {
          "color": "green",
          "width": 2
         },
         "mode": "lines",
         "name": "Ahorro Acumulado (Sin Baterías)",
         "type": "scatter",
         "x": {
          "bdata": "AAECAwQFBgcICQo=",
          "dtype": "i1"
         },
         "y": {
          "bdata": "AAAAAAAAAAAAAAAAABTOQAAAAACAh95AUrgehfs950B+rrZie3XvQIEKRxAL9vNAdrsLMthR+EA/XW2uHs/8QL6uB81vtwBB8hz73xEZA0HQXWHu/YwFQQ==",
          "dtype": "f8"
         }
        },
        {
         "line": {
          "color": "red",
          "dash": "dash",
          "width": 2
         },
         "mode": "lines",
         "name": "Costo Inicial (Sin Baterías)",
         "type": "scatter",
         "x": {
          "bdata": "AAECAwQFBgcICQo=",
          "dtype": "i1"
         },
         "y": {
          "bdata": "AAAAAADV8UAAAAAAANXxQAAAAAAA1fFAAAAAAADV8UAAAAAAANXxQAAAAAAA1fFAAAAAAADV8UAAAAAAANXxQAAAAAAA1fFAAAAAAADV8UAAAAAAANXxQA==",
          "dtype": "f8"
         }
        },
        {
         "line": {
          "color": "blue",
          "width": 2
         },
         "mode": "lines",
         "name": "Ahorro Acumulado (Con Baterías)",
         "type": "scatter",
         "x": {
          "bdata": "AAECAwQFBgcICQo=",
          "dtype": "i1"
         },
         "y": {
          "bdata": "AAAAAAAAAAAAAAAAAJXPQDQzMzMjB+BA8KfGS3tn6EACgjn6E4TwQG4x5J2L9fRAbx5ZASOJ+UBOCCY34D/+QBQRSJdojQFBZN7694UNBEG01X9t16AGQQ==",
          "dtype": "f8"
         }
        },
        {
         "line": {
          "color": "orange",
          "dash": "dash",
          "width": 2
         },
         "mode": "lines",
         "name": "Costo Inicial (Con Baterías)",
         "type": "scatter",
         "x": {
          "bdata": "AAECAwQFBgcICQo=",
          "dtype": "i1"
         },
         "y": {
          "bdata": "AAAAAAAK/kAAAAAAAAr+QAAAAAAACv5AAAAAAAAK/kAAAAAAAAr+QAAAAAAACv5AAAAAAAAK/kAAAAAAAAr+QAAAAAAACv5AAAAAAAAK/kAAAAAAAAr+QA==",
          "dtype": "f8"
         }
        },
        {
         "marker": {
          "color": "green",
          "size": 10
         },
         "mode": "markers",
         "name": "Punto Amort. Sin Baterías",
         "type": "scatter",
         "x": [
          4.742857142857143
         ],
         "y": [
          73040
         ]
        },
        {
         "marker": {
          "color": "blue",
          "size": 10
         },
         "mode": "markers",
         "name": "Punto Amort. Con Baterías",
         "type": "scatter",
         "x": [
          7.609152752009895
         ],
         "y": [
          123040
         ]
        }
       ],
       "layout": {
        "annotations": [
         {
          "arrowhead": 2,
          "ax": 0,
          "ay": -40,
          "font": {
           "color": "green"
          },
          "showarrow": true,
          "text": "Amort. Sin Baterías: 4.7 años",
          "x": 4.742857142857143,
          "y": 73040
         },
         {
          "arrowhead": 2,
          "ax": 0,
          "ay": 40,
          "font": {
           "color": "blue"
          },
          "showarrow": true,
          "text": "Amort. Con Baterías: 7.6 años",
          "x": 7.609152752009895,
          "y": 123040
         }
        ],
        "hovermode": "x unified",
        "template": {
         "data": {
          "bar": [
           {
            "error_x": {
             "color": "#2a3f5f"
            },
            "error_y": {
             "color": "#2a3f5f"
            },
            "marker": {
             "line": {
              "color": "white",
              "width": 0.5
             },
             "pattern": {
              "fillmode": "overlay",
              "size": 10,
              "solidity": 0.2
             }
            },
            "type": "bar"
           }
          ],
          "barpolar": [
           {
            "marker": {
             "line": {
              "color": "white",
              "width": 0.5
             },
             "pattern": {
              "fillmode": "overlay",
              "size": 10,
              "solidity": 0.2
             }
            },
            "type": "barpolar"
           }
          ],
          "carpet": [
           {
            "aaxis": {
             "endlinecolor": "#2a3f5f",
             "gridcolor": "#C8D4E3",
             "linecolor": "#C8D4E3",
             "minorgridcolor": "#C8D4E3",
             "startlinecolor": "#2a3f5f"
            },
            "baxis": {
             "endlinecolor": "#2a3f5f",
             "gridcolor": "#C8D4E3",
             "linecolor": "#C8D4E3",
             "minorgridcolor": "#C8D4E3",
             "startlinecolor": "#2a3f5f"
            },
            "type": "carpet"
           }
          ],
          "choropleth": [
           {
            "colorbar": {
             "outlinewidth": 0,
             "ticks": ""
            },
            "type": "choropleth"
           }
          ],
          "contour": [
           {
            "colorbar": {
             "outlinewidth": 0,
             "ticks": ""
            },
            "colorscale": [
             [
              0,
              "#0d0887"
             ],
             [
              0.1111111111111111,
              "#46039f"
             ],
             [
              0.2222222222222222,
              "#7201a8"
             ],
             [
              0.3333333333333333,
              "#9c179e"
             ],
             [
              0.4444444444444444,
              "#bd3786"
             ],
             [
              0.5555555555555556,
              "#d8576b"
             ],
             [
              0.6666666666666666,
              "#ed7953"
             ],
             [
              0.7777777777777778,
              "#fb9f3a"
             ],
             [
              0.8888888888888888,
              "#fdca26"
             ],
             [
              1,
              "#f0f921"
             ]
            ],
            "type": "contour"
           }
          ],
          "contourcarpet": [
           {
            "colorbar": {
             "outlinewidth": 0,
             "ticks": ""
            },
            "type": "contourcarpet"
           }
          ],
          "heatmap": [
           {
            "colorbar": {
             "outlinewidth": 0,
             "ticks": ""
            },
            "colorscale": [
             [
              0,
              "#0d0887"
             ],
             [
              0.1111111111111111,
              "#46039f"
             ],
             [
              0.2222222222222222,
              "#7201a8"
             ],
             [
              0.3333333333333333,
              "#9c179e"
             ],
             [
              0.4444444444444444,
              "#bd3786"
             ],
             [
              0.5555555555555556,
              "#d8576b"
             ],
             [
              0.6666666666666666,
              "#ed7953"
             ],
             [
              0.7777777777777778,
              "#fb9f3a"
             ],
             [
              0.8888888888888888,
              "#fdca26"
             ],
             [
              1,
              "#f0f921"
             ]
            ],
            "type": "heatmap"
           }
          ],
          "histogram": [
           {
            "marker": {
             "pattern": {
              "fillmode": "overlay",
              "size": 10,
              "solidity": 0.2
             }
            },
            "type": "histogram"
           }
          ],
          "histogram2d": [
           {
            "colorbar": {
             "outlinewidth": 0,
             "ticks": ""
            },
            "colorscale": [
             [
              0,
              "#0d0887"
             ],
             [
              0.1111111111111111,
              "#46039f"
             ],
             [
              0.2222222222222222,
              "#7201a8"
             ],
             [
              0.3333333333333333,
              "#9c179e"
             ],
             [
              0.4444444444444444,
              "#bd3786"
             ],
             [
              0.5555555555555556,
              "#d8576b"
             ],
             [
              0.6666666666666666,
              "#ed7953"
             ],
             [
              0.7777777777777778,
              "#fb9f3a"
             ],
             [
              0.8888888888888888,
              "#fdca26"
             ],
             [
              1,
              "#f0f921"
             ]
            ],
            "type": "histogram2d"
           }
          ],
          "histogram2dcontour": [
           {
            "colorbar": {
             "outlinewidth": 0,
             "ticks": ""
            },
            "colorscale": [
             [
              0,
              "#0d0887"
             ],
             [
              0.1111111111111111,
              "#46039f"
             ],
             [
              0.2222222222222222,
              "#7201a8"
             ],
             [
              0.3333333333333333,
              "#9c179e"
             ],
             [
              0.4444444444444444,
              "#bd3786"
             ],
             [
              0.5555555555555556,
              "#d8576b"
             ],
             [
              0.6666666666666666,
              "#ed7953"
             ],
             [
              0.7777777777777778,
              "#fb9f3a"
             ],
             [
              0.8888888888888888,
              "#fdca26"
             ],
             [
              1,
              "#f0f921"
             ]
            ],
            "type": "histogram2dcontour"
           }
          ],
          "mesh3d": [
           {
            "colorbar": {
             "outlinewidth": 0,
             "ticks": ""
            },
            "type": "mesh3d"
           }
          ],
          "parcoords": [
           {
            "line": {
             "colorbar": {
              "outlinewidth": 0,
              "ticks": ""
             }
            },
            "type": "parcoords"
           }
          ],
          "pie": [
           {
            "automargin": true,
            "type": "pie"
           }
          ],
          "scatter": [
           {
            "fillpattern": {
             "fillmode": "overlay",
             "size": 10,
             "solidity": 0.2
            },
            "type": "scatter"
           }
          ],
          "scatter3d": [
           {
            "line": {
             "colorbar": {
              "outlinewidth": 0,
              "ticks": ""
             }
            },
            "marker": {
             "colorbar": {
              "outlinewidth": 0,
              "ticks": ""
             }
            },
            "type": "scatter3d"
           }
          ],
          "scattercarpet": [
           {
            "marker": {
             "colorbar": {
              "outlinewidth": 0,
              "ticks": ""
             }
            },
            "type": "scattercarpet"
           }
          ],
          "scattergeo": [
           {
            "marker": {
             "colorbar": {
              "outlinewidth": 0,
              "ticks": ""
             }
            },
            "type": "scattergeo"
           }
          ],
          "scattergl": [
           {
            "marker": {
             "colorbar": {
              "outlinewidth": 0,
              "ticks": ""
             }
            },
            "type": "scattergl"
           }
          ],
          "scattermap": [
           {
            "marker": {
             "colorbar": {
              "outlinewidth": 0,
              "ticks": ""
             }
            },
            "type": "scattermap"
           }
          ],
          "scattermapbox": [
           {
            "marker": {
             "colorbar": {
              "outlinewidth": 0,
              "ticks": ""
             }
            },
            "type": "scattermapbox"
           }
          ],
          "scatterpolar": [
           {
            "marker": {
             "colorbar": {
              "outlinewidth": 0,
              "ticks": ""
             }
            },
            "type": "scatterpolar"
           }
          ],
          "scatterpolargl": [
           {
            "marker": {
             "colorbar": {
              "outlinewidth": 0,
              "ticks": ""
             }
            },
            "type": "scatterpolargl"
           }
          ],
          "scatterternary": [
           {
            "marker": {
             "colorbar": {
              "outlinewidth": 0,
              "ticks": ""
             }
            },
            "type": "scatterternary"
           }
          ],
          "surface": [
           {
            "colorbar": {
             "outlinewidth": 0,
             "ticks": ""
            },
            "colorscale": [
             [
              0,
              "#0d0887"
             ],
             [
              0.1111111111111111,
              "#46039f"
             ],
             [
              0.2222222222222222,
              "#7201a8"
             ],
             [
              0.3333333333333333,
              "#9c179e"
             ],
             [
              0.4444444444444444,
              "#bd3786"
             ],
             [
              0.5555555555555556,
              "#d8576b"
             ],
             [
              0.6666666666666666,
              "#ed7953"
             ],
             [
              0.7777777777777778,
              "#fb9f3a"
             ],
             [
              0.8888888888888888,
              "#fdca26"
             ],
             [
              1,
              "#f0f921"
             ]
            ],
            "type": "surface"
           }
          ],
          "table": [
           {
            "cells": {
             "fill": {
              "color": "#EBF0F8"
             },
             "line": {
              "color": "white"
             }
            },
            "header": {
             "fill": {
              "color": "#C8D4E3"
             },
             "line": {
              "color": "white"
             }
            },
            "type": "table"
           }
          ]
         },
         "layout": {
          "annotationdefaults": {
           "arrowcolor": "#2a3f5f",
           "arrowhead": 0,
           "arrowwidth": 1
          },
          "autotypenumbers": "strict",
          "coloraxis": {
           "colorbar": {
            "outlinewidth": 0,
            "ticks": ""
           }
          },
          "colorscale": {
           "diverging": [
            [
             0,
             "#8e0152"
            ],
            [
             0.1,
             "#c51b7d"
            ],
            [
             0.2,
             "#de77ae"
            ],
            [
             0.3,
             "#f1b6da"
            ],
            [
             0.4,
             "#fde0ef"
            ],
            [
             0.5,
             "#f7f7f7"
            ],
            [
             0.6,
             "#e6f5d0"
            ],
            [
             0.7,
             "#b8e186"
            ],
            [
             0.8,
             "#7fbc41"
            ],
            [
             0.9,
             "#4d9221"
            ],
            [
             1,
             "#276419"
            ]
           ],
           "sequential": [
            [
             0,
             "#0d0887"
            ],
            [
             0.1111111111111111,
             "#46039f"
            ],
            [
             0.2222222222222222,
             "#7201a8"
            ],
            [
             0.3333333333333333,
             "#9c179e"
            ],
            [
             0.4444444444444444,
             "#bd3786"
            ],
            [
             0.5555555555555556,
             "#d8576b"
            ],
            [
             0.6666666666666666,
             "#ed7953"
            ],
            [
             0.7777777777777778,
             "#fb9f3a"
            ],
            [
             0.8888888888888888,
             "#fdca26"
            ],
            [
             1,
             "#f0f921"
            ]
           ],
           "sequentialminus": [
            [
             0,
             "#0d0887"
            ],
            [
             0.1111111111111111,
             "#46039f"
            ],
            [
             0.2222222222222222,
             "#7201a8"
            ],
            [
             0.3333333333333333,
             "#9c179e"
            ],
            [
             0.4444444444444444,
             "#bd3786"
            ],
            [
             0.5555555555555556,
             "#d8576b"
            ],
            [
             0.6666666666666666,
             "#ed7953"
            ],
            [
             0.7777777777777778,
             "#fb9f3a"
            ],
            [
             0.8888888888888888,
             "#fdca26"
            ],
            [
             1,
             "#f0f921"
            ]
           ]
          },
          "colorway": [
           "#636efa",
           "#EF553B",
           "#00cc96",
           "#ab63fa",
           "#FFA15A",
           "#19d3f3",
           "#FF6692",
           "#B6E880",
           "#FF97FF",
           "#FECB52"
          ],
          "font": {
           "color": "#2a3f5f"
          },
          "geo": {
           "bgcolor": "white",
           "lakecolor": "white",
           "landcolor": "white",
           "showlakes": true,
           "showland": true,
           "subunitcolor": "#C8D4E3"
          },
          "hoverlabel": {
           "align": "left"
          },
          "hovermode": "closest",
          "mapbox": {
           "style": "light"
          },
          "paper_bgcolor": "white",
          "plot_bgcolor": "white",
          "polar": {
           "angularaxis": {
            "gridcolor": "#EBF0F8",
            "linecolor": "#EBF0F8",
            "ticks": ""
           },
           "bgcolor": "white",
           "radialaxis": {
            "gridcolor": "#EBF0F8",
            "linecolor": "#EBF0F8",
            "ticks": ""
           }
          },
          "scene": {
           "xaxis": {
            "backgroundcolor": "white",
            "gridcolor": "#DFE8F3",
            "gridwidth": 2,
            "linecolor": "#EBF0F8",
            "showbackground": true,
            "ticks": "",
            "zerolinecolor": "#EBF0F8"
           },
           "yaxis": {
            "backgroundcolor": "white",
            "gridcolor": "#DFE8F3",
            "gridwidth": 2,
            "linecolor": "#EBF0F8",
            "showbackground": true,
            "ticks": "",
            "zerolinecolor": "#EBF0F8"
           },
           "zaxis": {
            "backgroundcolor": "white",
            "gridcolor": "#DFE8F3",
            "gridwidth": 2,
            "linecolor": "#EBF0F8",
            "showbackground": true,
            "ticks": "",
            "zerolinecolor": "#EBF0F8"
           }
          },
          "shapedefaults": {
           "line": {
            "color": "#2a3f5f"
           }
          },
          "ternary": {
           "aaxis": {
            "gridcolor": "#DFE8F3",
            "linecolor": "#A2B1C6",
            "ticks": ""
           },
           "baxis": {
            "gridcolor": "#DFE8F3",
            "linecolor": "#A2B1C6",
            "ticks": ""
           },
           "bgcolor": "white",
           "caxis": {
            "gridcolor": "#DFE8F3",
            "linecolor": "#A2B1C6",
            "ticks": ""
           }
          },
          "title": {
           "x": 0.05
          },
          "xaxis": {
           "automargin": true,
           "gridcolor": "#EBF0F8",
           "linecolor": "#EBF0F8",
           "ticks": "",
           "title": {
            "standoff": 15
           },
           "zerolinecolor": "#EBF0F8",
           "zerolinewidth": 2
          },
          "yaxis": {
           "automargin": true,
           "gridcolor": "#EBF0F8",
           "linecolor": "#EBF0F8",
           "ticks": "",
           "title": {
            "standoff": 15
           },
           "zerolinecolor": "#EBF0F8",
           "zerolinewidth": 2
          }
         }
        },
        "title": {
         "text": "Línea de Tiempo de Amortización de la Inversión Solar"
        },
        "xaxis": {
         "title": {
          "text": "Año"
         }
        },
        "yaxis": {
         "title": {
          "text": "Coste/Ahorro Acumulado (€)"
         }
        }
       }
      }
     },
     "metadata": {},
     "output_type": "display_data"
    }
   ],
   "source": [
    "\n",
    "# Gráfica 1: Desglose de Costes Sin Baterías\n",
    "fig_coste_A = px.pie(df_desglose_A, values='Coste (€)', names='Componente',\n",
    "                    title='Desglose de Costes de la Instalación sin Baterías (Estimado: 73,040 €):',\n",
    "                    hole=0.3)\n",
    "fig_coste_A.update_traces(textposition='inside', textinfo='percent+label')\n",
    "fig_coste_A.show()\n",
    "\n",
    "# Gráfica 2: Desglose de Costes Con Baterías\n",
    "fig_coste_B = px.pie(df_desglose_B, values='Coste (€)', names='Componente',\n",
    "                    title='Desglose de Costes de la Instalación con Baterías (Estimado: 123,040 €):',\n",
    "                    hole=0.3)\n",
    "fig_coste_B.update_traces(textposition='inside', textinfo='percent+label')\n",
    "fig_coste_B.show()\n",
    "\n",
    "# Gráfica 3: Línea de Tiempo de Amortización\n",
    "fig_amortizacion = go.Figure()\n",
    "\n",
    "# Escenario A\n",
    "fig_amortizacion.add_trace(go.Scatter(x=df_amortizacion['Año'], y=df_amortizacion['Ahorro Acumulado (Sin Baterías)'],\n",
    "                                        mode='lines', name='Ahorro Acumulado (Sin Baterías)',\n",
    "                                        line=dict(color='green', width=2)))\n",
    "fig_amortizacion.add_trace(go.Scatter(x=df_amortizacion['Año'], y=df_amortizacion['Costo Inicial (Sin Baterías)'],\n",
    "                                        mode='lines', name='Costo Inicial (Sin Baterías)',\n",
    "                                        line=dict(color='red', dash='dash', width=2)))\n",
    "\n",
    "# Escenario B\n",
    "fig_amortizacion.add_trace(go.Scatter(x=df_amortizacion['Año'], y=df_amortizacion['Ahorro Acumulado (Con Baterías)'],\n",
    "                                        mode='lines', name='Ahorro Acumulado (Con Baterías)',\n",
    "                                        line=dict(color='blue', width=2)))\n",
    "fig_amortizacion.add_trace(go.Scatter(x=df_amortizacion['Año'], y=df_amortizacion['Costo Inicial (Con Baterías)'],\n",
    "                                        mode='lines', name='Costo Inicial (Con Baterías)',\n",
    "                                        line=dict(color='orange', dash='dash', width=2)))\n",
    "\n",
    "# Añadir puntos y anotaciones de amortización\n",
    "# Anotación para Escenario A\n",
    "fig_amortizacion.add_annotation(\n",
    "    x=amortizacion_A,\n",
    "    y=coste_total_A,\n",
    "    text=f'Amort. Sin Baterías: {amortizacion_A:.1f} años',\n",
    "    showarrow=True,\n",
    "    arrowhead=2,\n",
    "    ax=0,\n",
    "    ay=-40,\n",
    "    font=dict(color=\"green\")\n",
    ")\n",
    "fig_amortizacion.add_trace(go.Scatter(x=[amortizacion_A], y=[coste_total_A],\n",
    "                                        mode='markers', name='Punto Amort. Sin Baterías',\n",
    "                                        marker=dict(color='green', size=10)))\n",
    "\n",
    "# Anotación para Escenario B\n",
    "fig_amortizacion.add_annotation(\n",
    "    x=amortizacion_B,\n",
    "    y=coste_total_B,\n",
    "    text=f'Amort. Con Baterías: {amortizacion_B:.1f} años',\n",
    "    showarrow=True,\n",
    "    arrowhead=2,\n",
    "    ax=0,\n",
    "    ay=40,\n",
    "    font=dict(color=\"blue\")\n",
    ")\n",
    "fig_amortizacion.add_trace(go.Scatter(x=[amortizacion_B], y=[coste_total_B],\n",
    "                                        mode='markers', name='Punto Amort. Con Baterías',\n",
    "                                        marker=dict(color='blue', size=10)))\n",
    "\n",
    "\n",
    "fig_amortizacion.update_layout(\n",
    "    title='Línea de Tiempo de Amortización de la Inversión Solar',\n",
    "    xaxis_title='Año',\n",
    "    yaxis_title='Coste/Ahorro Acumulado (€)',\n",
    "    hovermode='x unified',\n",
    "    template='plotly_white'\n",
    ")\n",
    "fig_amortizacion.show()"
   ]
  },
  {
   "cell_type": "markdown",
   "id": "200f0aab",
   "metadata": {},
   "source": [
    "##### La suma total de los 'Precio de venta (€)' de los productos de estas 8 familias es: ***29649.21€.***\n",
    "##### El total facturado por abordo es de ***58663.2€***, por lo que los productos que necesitan de conservación en un congelador industrial suponen un **50.54%** del beneficio mensual de la empresa."
   ]
  },
  {
   "cell_type": "markdown",
   "id": "48e1b983",
   "metadata": {},
   "source": [
    "# Conclusiones:"
   ]
  },
  {
   "cell_type": "markdown",
   "id": "0f571243",
   "metadata": {},
   "source": [
    "\n",
    "\n",
    "Basado en el análisis de beneficios y la consideración del consumo energético, se proponen las siguientes recomendaciones:\n",
    "\n",
    "En vista de los resultados, si ahorrasemos todo el dinero invertido en cualquier familia de productos que no sea de las 9 con más % de Beneficios y ese mismo dinero se invirtiera en comprar los productos más rentables de la familia \"Productos Ambiente\", habría ganáncias, pero insignificantes frente al problema con el precio del consumo eléctico.\n",
    " Se podría plantear una reducción de Gastos Energéticos (Congeladores):\n",
    "\n",
    "* **Tecnología y Eficiencia:** Evaluar la inversión en nuevos equipos de mayor eficiencia energética (clasificación A+++/A++) para reemplazar a los más antiguos y menos eficientes, especialmente los de mayor consumo. Aunque la inversión inicial es alta, el retorno en ahorro energético puede ser significativo.\n",
    "* **Análisis Tarifario:** Revisar periódicamente el contrato de la tarifa 6.1TD con el proveedor de energía para asegurar que se ajusta a los patrones de consumo de la empresa y buscar optimizaciones (potencia contratada, tarifas indexadas, etc.).\n",
    "\n"
   ]
  },
  {
   "cell_type": "markdown",
   "id": "03270c24",
   "metadata": {},
   "source": [
    "La opción más viable es la siguiente:\n",
    "\n",
    "La instalación de placas solares con baterías en el almacén central de ABORDO, con una potencia de 40 kWp y capacidad de 50 kWh de batería, representa la inversión más inteligente y robusta. Aunque el coste inicial estimado de 120.000€ es superior al sistema sin baterías, su amortización en aproximadamente 7.5 años ofrece un retorno de inversión muy atractivo.\n",
    "\n",
    "Esta opción no solo permitirá ahorrar significativamente en la factura eléctrica (gracias a una producción anual de 73.000 kWh que cubre el 66.67% del consumo de la cámara), sino que también proporcionará independencia energética y seguridad crítica para la cámara frigorífica ante posibles cortes de suministro. Las baterías maximizan el autoconsumo, asegurando que la energía generada de día se aproveche también de noche, optimizando el ahorro y la operatividad constante de la cámara.\n",
    "\n",
    "Considerando las subvenciones disponibles en España para el autoconsumo industrial y el almacenamiento, el periodo de amortización real podría reducirse considerablemente, haciendo esta inversión aún más rentable y estratégica para la sostenibilidad y resiliencia del negocio."
   ]
  },
  {
   "cell_type": "markdown",
   "id": "1d764a21",
   "metadata": {},
   "source": []
  }
 ],
 "metadata": {
  "kernelspec": {
   "display_name": "data_analysis_env",
   "language": "python",
   "name": "python3"
  },
  "language_info": {
   "codemirror_mode": {
    "name": "ipython",
    "version": 3
   },
   "file_extension": ".py",
   "mimetype": "text/x-python",
   "name": "python",
   "nbconvert_exporter": "python",
   "pygments_lexer": "ipython3",
   "version": "3.11.11"
  }
 },
 "nbformat": 4,
 "nbformat_minor": 5
}
